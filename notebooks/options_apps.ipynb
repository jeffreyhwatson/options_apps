{
 "cells": [
  {
   "cell_type": "code",
   "execution_count": 1,
   "id": "042caaf9-1515-4cd6-8ea5-fc8c1686ca4a",
   "metadata": {
    "execution": {
     "iopub.execute_input": "2021-11-23T05:59:09.089733Z",
     "iopub.status.busy": "2021-11-23T05:59:09.089339Z",
     "iopub.status.idle": "2021-11-23T05:59:09.152118Z",
     "shell.execute_reply": "2021-11-23T05:59:09.151345Z",
     "shell.execute_reply.started": "2021-11-23T05:59:09.089647Z"
    },
    "tags": []
   },
   "outputs": [
    {
     "name": "stdout",
     "output_type": "stream",
     "text": [
      "time: 689 µs (started: 2021-11-22 21:59:09 -08:00)\n"
     ]
    }
   ],
   "source": [
    "%load_ext autoreload\n",
    "%load_ext autotime\n",
    "%autoreload 2"
   ]
  },
  {
   "cell_type": "markdown",
   "id": "446e454b-cd4a-41e0-8227-2b27ca1dfb4c",
   "metadata": {},
   "source": [
    "# Options Apps Project\n",
    "\n",
    "## Goal\n",
    "Creating a suite of equity option web apps which expands on, and was inspired by, [Harshit Tyagi’s](https://www.linkedin.com/in/tyagiharshit/) [article](https://www.kdnuggets.com/2021/09/-structured-financial-newsfeed-using-python-spacy-and-streamlit.html) on building a financial newsfeed app.\n",
    "\n",
    "## Skills Involved\n",
    "Web scraping, NLP, options price modeling, predictive modeling of volitility, and building apps with Streamlit."
   ]
  },
  {
   "cell_type": "markdown",
   "id": "042a446a-6853-49a6-9f33-b0b6e5303dc3",
   "metadata": {},
   "source": [
    "## Imports"
   ]
  },
  {
   "cell_type": "code",
   "execution_count": 2,
   "id": "87110252-c97b-4947-b2f4-a75ed8c1298b",
   "metadata": {
    "execution": {
     "iopub.execute_input": "2021-11-23T05:59:09.154704Z",
     "iopub.status.busy": "2021-11-23T05:59:09.154422Z",
     "iopub.status.idle": "2021-11-23T05:59:24.097899Z",
     "shell.execute_reply": "2021-11-23T05:59:24.096959Z",
     "shell.execute_reply.started": "2021-11-23T05:59:09.154678Z"
    },
    "tags": []
   },
   "outputs": [
    {
     "name": "stdout",
     "output_type": "stream",
     "text": [
      "time: 14.9 s (started: 2021-11-22 21:59:09 -08:00)\n"
     ]
    }
   ],
   "source": [
    "import sys, os, math\n",
    "import requests\n",
    "from bs4 import BeautifulSoup\n",
    "import spacy\n",
    "from spacy import displacy\n",
    "import yfinance as yf\n",
    "import pandas as pd\n",
    "import numpy as np\n",
    "import seaborn as sns\n",
    "from datetime import datetime\n",
    "import time\n",
    "\n",
    "#  setting path\n",
    "gparent = os.path.join(os.pardir)\n",
    "sys.path.append(gparent)\n",
    "\n",
    "from src import helper_functions as h"
   ]
  },
  {
   "cell_type": "markdown",
   "id": "d2e9c009-c318-40b4-9b1c-6e963146587a",
   "metadata": {},
   "source": [
    "## requests: Grabbing Headlines"
   ]
  },
  {
   "cell_type": "code",
   "execution_count": 3,
   "id": "28eee855-23ef-4248-a7b1-a83a0f897418",
   "metadata": {
    "execution": {
     "iopub.execute_input": "2021-11-23T05:59:24.099660Z",
     "iopub.status.busy": "2021-11-23T05:59:24.099265Z",
     "iopub.status.idle": "2021-11-23T05:59:24.370658Z",
     "shell.execute_reply": "2021-11-23T05:59:24.369729Z",
     "shell.execute_reply.started": "2021-11-23T05:59:24.099619Z"
    },
    "tags": []
   },
   "outputs": [
    {
     "data": {
      "text/plain": [
       "<Response [200]>"
      ]
     },
     "execution_count": 3,
     "metadata": {},
     "output_type": "execute_result"
    },
    {
     "name": "stdout",
     "output_type": "stream",
     "text": [
      "time: 226 ms (started: 2021-11-22 21:59:24 -08:00)\n"
     ]
    }
   ],
   "source": [
    "# grabbing headlines\n",
    "r = requests.get(\"http://feeds.marketwatch.com/marketwatch/topstories/\")\n",
    "r"
   ]
  },
  {
   "cell_type": "markdown",
   "id": "24e85d1d-a838-41c9-91d7-c4570d8240ec",
   "metadata": {
    "execution": {
     "iopub.execute_input": "2021-10-02T04:19:19.925337Z",
     "iopub.status.busy": "2021-10-02T04:19:19.924939Z",
     "iopub.status.idle": "2021-10-02T04:19:19.932717Z",
     "shell.execute_reply": "2021-10-02T04:19:19.930662Z",
     "shell.execute_reply.started": "2021-10-02T04:19:19.925295Z"
    }
   },
   "source": [
    "## bs4: Saving Headlines"
   ]
  },
  {
   "cell_type": "code",
   "execution_count": 4,
   "id": "37fbf4e8-471b-4f06-b7a4-8be588bfa4ce",
   "metadata": {
    "execution": {
     "iopub.execute_input": "2021-11-23T05:59:24.375969Z",
     "iopub.status.busy": "2021-11-23T05:59:24.375594Z",
     "iopub.status.idle": "2021-11-23T05:59:24.446485Z",
     "shell.execute_reply": "2021-11-23T05:59:24.446078Z",
     "shell.execute_reply.started": "2021-11-23T05:59:24.375928Z"
    },
    "tags": []
   },
   "outputs": [
    {
     "name": "stdout",
     "output_type": "stream",
     "text": [
      "<class 'bs4.element.ResultSet'>\n",
      "\n",
      "[<title>MarketWatch.com - Top Stories</title>, <title>MarketWatch.com - Top Stories</title>, <title>The Moneyist: ‘I’d prefer the money never hits our account’: My in-laws live with my wife and I. They want to use their 401(k) to pay off our mortgage. What should we do?</title>, <title>: Americans increasingly say they don’t plan to have kids — this is the No. 1 reason why</title>, <title>: Don’t expect U.S. to follow Europe with new COVID lockdowns</title>, <title>The Wall Street Journal: Samsung set to announce $17 billion chip plant in Texas</title>, <title>Bond Report: Treasury yields see sharpest one-day rise in nearly 2 weeks as Biden picks Powell for second Fed term, named Brainard No. 2</title>, <title>The Fed: Fed’s Bostic says good arguments can be made to consider a faster taper</title>, <title>The Fed: After letting suspense build, Biden taps Powell for second term</title>, <title>: 5 things NOT to buy on Black Friday</title>, <title>: What a Fed led by Powell and Brainard means for Americans’ bank accounts</title>, <title>: Walt Disney World pauses sales of most annual passes — what travelers need to know</title>]\n",
      "time: 6.17 ms (started: 2021-11-22 21:59:24 -08:00)\n"
     ]
    }
   ],
   "source": [
    "# saving headlines to a list\n",
    "soup = BeautifulSoup(r.content, features='lxml')\n",
    "headlines = soup.findAll('title')\n",
    "print(f'{type(headlines)}\\n')\n",
    "print(headlines)"
   ]
  },
  {
   "cell_type": "markdown",
   "id": "ecbc497a-1907-4df3-b811-8d737816f2a9",
   "metadata": {
    "tags": []
   },
   "source": [
    "### Grabbing Headline String\n",
    "Grabbing headline and printing headline and isolated text."
   ]
  },
  {
   "cell_type": "code",
   "execution_count": 5,
   "id": "e4bf1fcd-e4c7-4242-80a4-74fe2a801af1",
   "metadata": {
    "execution": {
     "iopub.execute_input": "2021-11-23T05:59:24.447587Z",
     "iopub.status.busy": "2021-11-23T05:59:24.447437Z",
     "iopub.status.idle": "2021-11-23T05:59:24.491586Z",
     "shell.execute_reply": "2021-11-23T05:59:24.490417Z",
     "shell.execute_reply.started": "2021-11-23T05:59:24.447570Z"
    },
    "tags": []
   },
   "outputs": [
    {
     "name": "stdout",
     "output_type": "stream",
     "text": [
      "<title>The Moneyist: ‘I’d prefer the money never hits our account’: My in-laws live with my wife and I. They want to use their 401(k) to pay off our mortgage. What should we do?</title>\n",
      "\n",
      "The Moneyist: ‘I’d prefer the money never hits our account’: My in-laws live with my wife and I. They want to use their 401(k) to pay off our mortgage. What should we do?\n",
      "time: 921 µs (started: 2021-11-22 21:59:24 -08:00)\n"
     ]
    }
   ],
   "source": [
    "# grabbing test headline\n",
    "test_headline = headlines[2]\n",
    "print(f'{test_headline}\\n')\n",
    "print(test_headline.text)"
   ]
  },
  {
   "cell_type": "markdown",
   "id": "64a103b5-d156-4a63-a420-edf19d1425f4",
   "metadata": {},
   "source": [
    "## spaCy: Tests\n",
    "Testing tokenization and name extraction on a single string."
   ]
  },
  {
   "cell_type": "markdown",
   "id": "8b5e37e8-ad08-43cb-bd0c-316b1ae687ae",
   "metadata": {},
   "source": [
    "### Loading Model"
   ]
  },
  {
   "cell_type": "code",
   "execution_count": 6,
   "id": "40c1bf45-66b6-4e0d-8096-2fa953b31232",
   "metadata": {
    "execution": {
     "iopub.execute_input": "2021-11-23T05:59:24.493205Z",
     "iopub.status.busy": "2021-11-23T05:59:24.493056Z",
     "iopub.status.idle": "2021-11-23T05:59:25.233002Z",
     "shell.execute_reply": "2021-11-23T05:59:25.232202Z",
     "shell.execute_reply.started": "2021-11-23T05:59:24.493188Z"
    },
    "tags": []
   },
   "outputs": [
    {
     "name": "stdout",
     "output_type": "stream",
     "text": [
      "time: 701 ms (started: 2021-11-22 21:59:24 -08:00)\n"
     ]
    }
   ],
   "source": [
    "# loading spacy model\n",
    "nlp = spacy.load('en_core_web_sm')"
   ]
  },
  {
   "cell_type": "markdown",
   "id": "b22eff8c-4013-46ba-9c4c-bdf8f026329d",
   "metadata": {},
   "source": [
    "### Tokenizing String\n",
    "Tokenizing the test headline."
   ]
  },
  {
   "cell_type": "code",
   "execution_count": 7,
   "id": "e3a0b3dd-c716-4edf-a5f0-d77504a32e17",
   "metadata": {
    "execution": {
     "iopub.execute_input": "2021-11-23T05:59:25.234922Z",
     "iopub.status.busy": "2021-11-23T05:59:25.234663Z",
     "iopub.status.idle": "2021-11-23T05:59:25.300090Z",
     "shell.execute_reply": "2021-11-23T05:59:25.299355Z",
     "shell.execute_reply.started": "2021-11-23T05:59:25.234890Z"
    },
    "tags": []
   },
   "outputs": [
    {
     "name": "stdout",
     "output_type": "stream",
     "text": [
      "<title>The Moneyist: ‘I’d prefer the money never hits our account’: My in-laws live with my wife and I. They want to use their 401(k) to pay off our mortgage. What should we do?</title>\n",
      "\n",
      "The\n",
      "Moneyist\n",
      ":\n",
      "‘\n",
      "I\n",
      "’d\n",
      "prefer\n",
      "the\n",
      "money\n",
      "never\n",
      "hits\n",
      "our\n",
      "account\n",
      "’\n",
      ":\n",
      "My\n",
      "in\n",
      "-\n",
      "laws\n",
      "live\n",
      "with\n",
      "my\n",
      "wife\n",
      "and\n",
      "I.\n",
      "They\n",
      "want\n",
      "to\n",
      "use\n",
      "their\n",
      "401(k\n",
      ")\n",
      "to\n",
      "pay\n",
      "off\n",
      "our\n",
      "mortgage\n",
      ".\n",
      "What\n",
      "should\n",
      "we\n",
      "do\n",
      "?\n",
      "time: 16 ms (started: 2021-11-22 21:59:25 -08:00)\n"
     ]
    }
   ],
   "source": [
    "# checking the test case\n",
    "processed_hline = nlp(test_headline.text)\n",
    "print(f'{test_headline}\\n')\n",
    "for token in processed_hline:\n",
    "  print(token)"
   ]
  },
  {
   "cell_type": "markdown",
   "id": "344b7bb2-4936-4938-8ef5-44a2d8989203",
   "metadata": {},
   "source": [
    "## Saving List of Tokenized Headlines"
   ]
  },
  {
   "cell_type": "code",
   "execution_count": 8,
   "id": "0326da95-c8b5-49e5-9207-93ae94714d1b",
   "metadata": {
    "execution": {
     "iopub.execute_input": "2021-11-23T05:59:25.300987Z",
     "iopub.status.busy": "2021-11-23T05:59:25.300843Z",
     "iopub.status.idle": "2021-11-23T05:59:25.432496Z",
     "shell.execute_reply": "2021-11-23T05:59:25.431181Z",
     "shell.execute_reply.started": "2021-11-23T05:59:25.300969Z"
    },
    "tags": []
   },
   "outputs": [
    {
     "name": "stdout",
     "output_type": "stream",
     "text": [
      "MarketWatch.com - Top Stories\n",
      "MarketWatch.com - Top Stories\n",
      "The Moneyist: ‘I’d prefer the money never hits our account’: My in-laws live with my wife and I. They want to use their 401(k) to pay off our mortgage. What should we do?\n",
      ": Americans increasingly say they don’t plan to have kids — this is the No. 1 reason why\n",
      ": Don’t expect U.S. to follow Europe with new COVID lockdowns\n",
      "The Wall Street Journal: Samsung set to announce $17 billion chip plant in Texas\n",
      "Bond Report: Treasury yields see sharpest one-day rise in nearly 2 weeks as Biden picks Powell for second Fed term, named Brainard No. 2\n",
      "The Fed: Fed’s Bostic says good arguments can be made to consider a faster taper\n",
      "The Fed: After letting suspense build, Biden taps Powell for second term\n",
      ": 5 things NOT to buy on Black Friday\n",
      ": What a Fed led by Powell and Brainard means for Americans’ bank accounts\n",
      ": Walt Disney World pauses sales of most annual passes — what travelers need to know\n",
      "time: 85.4 ms (started: 2021-11-22 21:59:25 -08:00)\n"
     ]
    }
   ],
   "source": [
    "processed_hlines = [nlp(headlines[i].text) for i in range(len(headlines))]\n",
    "for line in processed_hlines:\n",
    "    print(line)"
   ]
  },
  {
   "cell_type": "markdown",
   "id": "fc53aa4f-c5a8-4fa3-9c1b-ea850c32a9db",
   "metadata": {},
   "source": [
    "## Getting Org Names From Headlines\n",
    "Visualizing named entities (real world objects) in the headlines and creating a set of organiziations."
   ]
  },
  {
   "cell_type": "code",
   "execution_count": 9,
   "id": "53e9fd0b-a896-4434-976d-5e98355705f8",
   "metadata": {
    "execution": {
     "iopub.execute_input": "2021-11-23T05:59:25.433855Z",
     "iopub.status.busy": "2021-11-23T05:59:25.433707Z",
     "iopub.status.idle": "2021-11-23T05:59:25.589336Z",
     "shell.execute_reply": "2021-11-23T05:59:25.588866Z",
     "shell.execute_reply.started": "2021-11-23T05:59:25.433820Z"
    },
    "tags": []
   },
   "outputs": [
    {
     "data": {
      "text/html": [
       "<span class=\"tex2jax_ignore\"><div class=\"entities\" style=\"line-height: 2.5; direction: ltr\">\n",
       "<mark class=\"entity\" style=\"background: #aa9cfc; padding: 0.45em 0.6em; margin: 0 0.25em; line-height: 1; border-radius: 0.35em;\">\n",
       "    MarketWatch.com - Top Stories\n",
       "    <span style=\"font-size: 0.8em; font-weight: bold; line-height: 1; border-radius: 0.35em; text-transform: uppercase; vertical-align: middle; margin-left: 0.5rem\">PERSON</span>\n",
       "</mark>\n",
       "</div></span>"
      ],
      "text/plain": [
       "<IPython.core.display.HTML object>"
      ]
     },
     "metadata": {},
     "output_type": "display_data"
    },
    {
     "data": {
      "text/html": [
       "<span class=\"tex2jax_ignore\"><div class=\"entities\" style=\"line-height: 2.5; direction: ltr\">\n",
       "<mark class=\"entity\" style=\"background: #aa9cfc; padding: 0.45em 0.6em; margin: 0 0.25em; line-height: 1; border-radius: 0.35em;\">\n",
       "    MarketWatch.com - Top Stories\n",
       "    <span style=\"font-size: 0.8em; font-weight: bold; line-height: 1; border-radius: 0.35em; text-transform: uppercase; vertical-align: middle; margin-left: 0.5rem\">PERSON</span>\n",
       "</mark>\n",
       "</div></span>"
      ],
      "text/plain": [
       "<IPython.core.display.HTML object>"
      ]
     },
     "metadata": {},
     "output_type": "display_data"
    },
    {
     "data": {
      "text/html": [
       "<span class=\"tex2jax_ignore\"><div class=\"entities\" style=\"line-height: 2.5; direction: ltr\">: \n",
       "<mark class=\"entity\" style=\"background: #c887fb; padding: 0.45em 0.6em; margin: 0 0.25em; line-height: 1; border-radius: 0.35em;\">\n",
       "    Americans\n",
       "    <span style=\"font-size: 0.8em; font-weight: bold; line-height: 1; border-radius: 0.35em; text-transform: uppercase; vertical-align: middle; margin-left: 0.5rem\">NORP</span>\n",
       "</mark>\n",
       " increasingly say they don’t plan to have kids — this is the No. \n",
       "<mark class=\"entity\" style=\"background: #e4e7d2; padding: 0.45em 0.6em; margin: 0 0.25em; line-height: 1; border-radius: 0.35em;\">\n",
       "    1\n",
       "    <span style=\"font-size: 0.8em; font-weight: bold; line-height: 1; border-radius: 0.35em; text-transform: uppercase; vertical-align: middle; margin-left: 0.5rem\">CARDINAL</span>\n",
       "</mark>\n",
       " reason why</div></span>"
      ],
      "text/plain": [
       "<IPython.core.display.HTML object>"
      ]
     },
     "metadata": {},
     "output_type": "display_data"
    },
    {
     "data": {
      "text/html": [
       "<span class=\"tex2jax_ignore\"><div class=\"entities\" style=\"line-height: 2.5; direction: ltr\">: Don’t expect \n",
       "<mark class=\"entity\" style=\"background: #feca74; padding: 0.45em 0.6em; margin: 0 0.25em; line-height: 1; border-radius: 0.35em;\">\n",
       "    U.S.\n",
       "    <span style=\"font-size: 0.8em; font-weight: bold; line-height: 1; border-radius: 0.35em; text-transform: uppercase; vertical-align: middle; margin-left: 0.5rem\">GPE</span>\n",
       "</mark>\n",
       " to follow \n",
       "<mark class=\"entity\" style=\"background: #ff9561; padding: 0.45em 0.6em; margin: 0 0.25em; line-height: 1; border-radius: 0.35em;\">\n",
       "    Europe\n",
       "    <span style=\"font-size: 0.8em; font-weight: bold; line-height: 1; border-radius: 0.35em; text-transform: uppercase; vertical-align: middle; margin-left: 0.5rem\">LOC</span>\n",
       "</mark>\n",
       " with new \n",
       "<mark class=\"entity\" style=\"background: #7aecec; padding: 0.45em 0.6em; margin: 0 0.25em; line-height: 1; border-radius: 0.35em;\">\n",
       "    COVID\n",
       "    <span style=\"font-size: 0.8em; font-weight: bold; line-height: 1; border-radius: 0.35em; text-transform: uppercase; vertical-align: middle; margin-left: 0.5rem\">ORG</span>\n",
       "</mark>\n",
       " lockdowns</div></span>"
      ],
      "text/plain": [
       "<IPython.core.display.HTML object>"
      ]
     },
     "metadata": {},
     "output_type": "display_data"
    },
    {
     "data": {
      "text/html": [
       "<span class=\"tex2jax_ignore\"><div class=\"entities\" style=\"line-height: 2.5; direction: ltr\">\n",
       "<mark class=\"entity\" style=\"background: #7aecec; padding: 0.45em 0.6em; margin: 0 0.25em; line-height: 1; border-radius: 0.35em;\">\n",
       "    The Wall Street Journal\n",
       "    <span style=\"font-size: 0.8em; font-weight: bold; line-height: 1; border-radius: 0.35em; text-transform: uppercase; vertical-align: middle; margin-left: 0.5rem\">ORG</span>\n",
       "</mark>\n",
       ": \n",
       "<mark class=\"entity\" style=\"background: #7aecec; padding: 0.45em 0.6em; margin: 0 0.25em; line-height: 1; border-radius: 0.35em;\">\n",
       "    Samsung\n",
       "    <span style=\"font-size: 0.8em; font-weight: bold; line-height: 1; border-radius: 0.35em; text-transform: uppercase; vertical-align: middle; margin-left: 0.5rem\">ORG</span>\n",
       "</mark>\n",
       " set to announce \n",
       "<mark class=\"entity\" style=\"background: #e4e7d2; padding: 0.45em 0.6em; margin: 0 0.25em; line-height: 1; border-radius: 0.35em;\">\n",
       "    $17 billion\n",
       "    <span style=\"font-size: 0.8em; font-weight: bold; line-height: 1; border-radius: 0.35em; text-transform: uppercase; vertical-align: middle; margin-left: 0.5rem\">MONEY</span>\n",
       "</mark>\n",
       " chip plant in \n",
       "<mark class=\"entity\" style=\"background: #feca74; padding: 0.45em 0.6em; margin: 0 0.25em; line-height: 1; border-radius: 0.35em;\">\n",
       "    Texas\n",
       "    <span style=\"font-size: 0.8em; font-weight: bold; line-height: 1; border-radius: 0.35em; text-transform: uppercase; vertical-align: middle; margin-left: 0.5rem\">GPE</span>\n",
       "</mark>\n",
       "</div></span>"
      ],
      "text/plain": [
       "<IPython.core.display.HTML object>"
      ]
     },
     "metadata": {},
     "output_type": "display_data"
    },
    {
     "data": {
      "text/html": [
       "<span class=\"tex2jax_ignore\"><div class=\"entities\" style=\"line-height: 2.5; direction: ltr\">Bond Report: \n",
       "<mark class=\"entity\" style=\"background: #7aecec; padding: 0.45em 0.6em; margin: 0 0.25em; line-height: 1; border-radius: 0.35em;\">\n",
       "    Treasury\n",
       "    <span style=\"font-size: 0.8em; font-weight: bold; line-height: 1; border-radius: 0.35em; text-transform: uppercase; vertical-align: middle; margin-left: 0.5rem\">ORG</span>\n",
       "</mark>\n",
       " yields see sharpest \n",
       "<mark class=\"entity\" style=\"background: #bfe1d9; padding: 0.45em 0.6em; margin: 0 0.25em; line-height: 1; border-radius: 0.35em;\">\n",
       "    one-day\n",
       "    <span style=\"font-size: 0.8em; font-weight: bold; line-height: 1; border-radius: 0.35em; text-transform: uppercase; vertical-align: middle; margin-left: 0.5rem\">DATE</span>\n",
       "</mark>\n",
       " rise in \n",
       "<mark class=\"entity\" style=\"background: #bfe1d9; padding: 0.45em 0.6em; margin: 0 0.25em; line-height: 1; border-radius: 0.35em;\">\n",
       "    nearly 2 weeks\n",
       "    <span style=\"font-size: 0.8em; font-weight: bold; line-height: 1; border-radius: 0.35em; text-transform: uppercase; vertical-align: middle; margin-left: 0.5rem\">DATE</span>\n",
       "</mark>\n",
       " as \n",
       "<mark class=\"entity\" style=\"background: #ff9561; padding: 0.45em 0.6em; margin: 0 0.25em; line-height: 1; border-radius: 0.35em;\">\n",
       "    Biden\n",
       "    <span style=\"font-size: 0.8em; font-weight: bold; line-height: 1; border-radius: 0.35em; text-transform: uppercase; vertical-align: middle; margin-left: 0.5rem\">LOC</span>\n",
       "</mark>\n",
       " picks \n",
       "<mark class=\"entity\" style=\"background: #aa9cfc; padding: 0.45em 0.6em; margin: 0 0.25em; line-height: 1; border-radius: 0.35em;\">\n",
       "    Powell\n",
       "    <span style=\"font-size: 0.8em; font-weight: bold; line-height: 1; border-radius: 0.35em; text-transform: uppercase; vertical-align: middle; margin-left: 0.5rem\">PERSON</span>\n",
       "</mark>\n",
       " for \n",
       "<mark class=\"entity\" style=\"background: #e4e7d2; padding: 0.45em 0.6em; margin: 0 0.25em; line-height: 1; border-radius: 0.35em;\">\n",
       "    second\n",
       "    <span style=\"font-size: 0.8em; font-weight: bold; line-height: 1; border-radius: 0.35em; text-transform: uppercase; vertical-align: middle; margin-left: 0.5rem\">ORDINAL</span>\n",
       "</mark>\n",
       " \n",
       "<mark class=\"entity\" style=\"background: #7aecec; padding: 0.45em 0.6em; margin: 0 0.25em; line-height: 1; border-radius: 0.35em;\">\n",
       "    Fed\n",
       "    <span style=\"font-size: 0.8em; font-weight: bold; line-height: 1; border-radius: 0.35em; text-transform: uppercase; vertical-align: middle; margin-left: 0.5rem\">ORG</span>\n",
       "</mark>\n",
       " term, named \n",
       "<mark class=\"entity\" style=\"background: #aa9cfc; padding: 0.45em 0.6em; margin: 0 0.25em; line-height: 1; border-radius: 0.35em;\">\n",
       "    Brainard No\n",
       "    <span style=\"font-size: 0.8em; font-weight: bold; line-height: 1; border-radius: 0.35em; text-transform: uppercase; vertical-align: middle; margin-left: 0.5rem\">PERSON</span>\n",
       "</mark>\n",
       ". 2</div></span>"
      ],
      "text/plain": [
       "<IPython.core.display.HTML object>"
      ]
     },
     "metadata": {},
     "output_type": "display_data"
    },
    {
     "data": {
      "text/html": [
       "<span class=\"tex2jax_ignore\"><div class=\"entities\" style=\"line-height: 2.5; direction: ltr\">The \n",
       "<mark class=\"entity\" style=\"background: #7aecec; padding: 0.45em 0.6em; margin: 0 0.25em; line-height: 1; border-radius: 0.35em;\">\n",
       "    Fed\n",
       "    <span style=\"font-size: 0.8em; font-weight: bold; line-height: 1; border-radius: 0.35em; text-transform: uppercase; vertical-align: middle; margin-left: 0.5rem\">ORG</span>\n",
       "</mark>\n",
       ": \n",
       "<mark class=\"entity\" style=\"background: #7aecec; padding: 0.45em 0.6em; margin: 0 0.25em; line-height: 1; border-radius: 0.35em;\">\n",
       "    Fed\n",
       "    <span style=\"font-size: 0.8em; font-weight: bold; line-height: 1; border-radius: 0.35em; text-transform: uppercase; vertical-align: middle; margin-left: 0.5rem\">ORG</span>\n",
       "</mark>\n",
       "’s \n",
       "<mark class=\"entity\" style=\"background: #7aecec; padding: 0.45em 0.6em; margin: 0 0.25em; line-height: 1; border-radius: 0.35em;\">\n",
       "    Bostic\n",
       "    <span style=\"font-size: 0.8em; font-weight: bold; line-height: 1; border-radius: 0.35em; text-transform: uppercase; vertical-align: middle; margin-left: 0.5rem\">ORG</span>\n",
       "</mark>\n",
       " says good arguments can be made to consider a faster taper</div></span>"
      ],
      "text/plain": [
       "<IPython.core.display.HTML object>"
      ]
     },
     "metadata": {},
     "output_type": "display_data"
    },
    {
     "data": {
      "text/html": [
       "<span class=\"tex2jax_ignore\"><div class=\"entities\" style=\"line-height: 2.5; direction: ltr\">The \n",
       "<mark class=\"entity\" style=\"background: #7aecec; padding: 0.45em 0.6em; margin: 0 0.25em; line-height: 1; border-radius: 0.35em;\">\n",
       "    Fed\n",
       "    <span style=\"font-size: 0.8em; font-weight: bold; line-height: 1; border-radius: 0.35em; text-transform: uppercase; vertical-align: middle; margin-left: 0.5rem\">ORG</span>\n",
       "</mark>\n",
       ": After letting suspense build, \n",
       "<mark class=\"entity\" style=\"background: #feca74; padding: 0.45em 0.6em; margin: 0 0.25em; line-height: 1; border-radius: 0.35em;\">\n",
       "    Biden\n",
       "    <span style=\"font-size: 0.8em; font-weight: bold; line-height: 1; border-radius: 0.35em; text-transform: uppercase; vertical-align: middle; margin-left: 0.5rem\">GPE</span>\n",
       "</mark>\n",
       " taps \n",
       "<mark class=\"entity\" style=\"background: #aa9cfc; padding: 0.45em 0.6em; margin: 0 0.25em; line-height: 1; border-radius: 0.35em;\">\n",
       "    Powell\n",
       "    <span style=\"font-size: 0.8em; font-weight: bold; line-height: 1; border-radius: 0.35em; text-transform: uppercase; vertical-align: middle; margin-left: 0.5rem\">PERSON</span>\n",
       "</mark>\n",
       " for \n",
       "<mark class=\"entity\" style=\"background: #e4e7d2; padding: 0.45em 0.6em; margin: 0 0.25em; line-height: 1; border-radius: 0.35em;\">\n",
       "    second\n",
       "    <span style=\"font-size: 0.8em; font-weight: bold; line-height: 1; border-radius: 0.35em; text-transform: uppercase; vertical-align: middle; margin-left: 0.5rem\">ORDINAL</span>\n",
       "</mark>\n",
       " term</div></span>"
      ],
      "text/plain": [
       "<IPython.core.display.HTML object>"
      ]
     },
     "metadata": {},
     "output_type": "display_data"
    },
    {
     "data": {
      "text/html": [
       "<span class=\"tex2jax_ignore\"><div class=\"entities\" style=\"line-height: 2.5; direction: ltr\">: \n",
       "<mark class=\"entity\" style=\"background: #e4e7d2; padding: 0.45em 0.6em; margin: 0 0.25em; line-height: 1; border-radius: 0.35em;\">\n",
       "    5\n",
       "    <span style=\"font-size: 0.8em; font-weight: bold; line-height: 1; border-radius: 0.35em; text-transform: uppercase; vertical-align: middle; margin-left: 0.5rem\">CARDINAL</span>\n",
       "</mark>\n",
       " things NOT to buy on \n",
       "<mark class=\"entity\" style=\"background: #ffeb80; padding: 0.45em 0.6em; margin: 0 0.25em; line-height: 1; border-radius: 0.35em;\">\n",
       "    Black Friday\n",
       "    <span style=\"font-size: 0.8em; font-weight: bold; line-height: 1; border-radius: 0.35em; text-transform: uppercase; vertical-align: middle; margin-left: 0.5rem\">EVENT</span>\n",
       "</mark>\n",
       "</div></span>"
      ],
      "text/plain": [
       "<IPython.core.display.HTML object>"
      ]
     },
     "metadata": {},
     "output_type": "display_data"
    },
    {
     "data": {
      "text/html": [
       "<span class=\"tex2jax_ignore\"><div class=\"entities\" style=\"line-height: 2.5; direction: ltr\">: What a \n",
       "<mark class=\"entity\" style=\"background: #7aecec; padding: 0.45em 0.6em; margin: 0 0.25em; line-height: 1; border-radius: 0.35em;\">\n",
       "    Fed\n",
       "    <span style=\"font-size: 0.8em; font-weight: bold; line-height: 1; border-radius: 0.35em; text-transform: uppercase; vertical-align: middle; margin-left: 0.5rem\">ORG</span>\n",
       "</mark>\n",
       " led by \n",
       "<mark class=\"entity\" style=\"background: #aa9cfc; padding: 0.45em 0.6em; margin: 0 0.25em; line-height: 1; border-radius: 0.35em;\">\n",
       "    Powell\n",
       "    <span style=\"font-size: 0.8em; font-weight: bold; line-height: 1; border-radius: 0.35em; text-transform: uppercase; vertical-align: middle; margin-left: 0.5rem\">PERSON</span>\n",
       "</mark>\n",
       " and \n",
       "<mark class=\"entity\" style=\"background: #aa9cfc; padding: 0.45em 0.6em; margin: 0 0.25em; line-height: 1; border-radius: 0.35em;\">\n",
       "    Brainard\n",
       "    <span style=\"font-size: 0.8em; font-weight: bold; line-height: 1; border-radius: 0.35em; text-transform: uppercase; vertical-align: middle; margin-left: 0.5rem\">PERSON</span>\n",
       "</mark>\n",
       " means for \n",
       "<mark class=\"entity\" style=\"background: #c887fb; padding: 0.45em 0.6em; margin: 0 0.25em; line-height: 1; border-radius: 0.35em;\">\n",
       "    Americans\n",
       "    <span style=\"font-size: 0.8em; font-weight: bold; line-height: 1; border-radius: 0.35em; text-transform: uppercase; vertical-align: middle; margin-left: 0.5rem\">NORP</span>\n",
       "</mark>\n",
       "’ bank accounts</div></span>"
      ],
      "text/plain": [
       "<IPython.core.display.HTML object>"
      ]
     },
     "metadata": {},
     "output_type": "display_data"
    },
    {
     "data": {
      "text/html": [
       "<span class=\"tex2jax_ignore\"><div class=\"entities\" style=\"line-height: 2.5; direction: ltr\">: \n",
       "<mark class=\"entity\" style=\"background: #7aecec; padding: 0.45em 0.6em; margin: 0 0.25em; line-height: 1; border-radius: 0.35em;\">\n",
       "    Walt Disney World\n",
       "    <span style=\"font-size: 0.8em; font-weight: bold; line-height: 1; border-radius: 0.35em; text-transform: uppercase; vertical-align: middle; margin-left: 0.5rem\">ORG</span>\n",
       "</mark>\n",
       " pauses sales of most \n",
       "<mark class=\"entity\" style=\"background: #bfe1d9; padding: 0.45em 0.6em; margin: 0 0.25em; line-height: 1; border-radius: 0.35em;\">\n",
       "    annual\n",
       "    <span style=\"font-size: 0.8em; font-weight: bold; line-height: 1; border-radius: 0.35em; text-transform: uppercase; vertical-align: middle; margin-left: 0.5rem\">DATE</span>\n",
       "</mark>\n",
       " passes — what travelers need to know</div></span>"
      ],
      "text/plain": [
       "<IPython.core.display.HTML object>"
      ]
     },
     "metadata": {},
     "output_type": "display_data"
    },
    {
     "name": "stdout",
     "output_type": "stream",
     "text": [
      "{'Bostic', 'COVID', 'Walt Disney World', 'Fed', 'The Wall Street Journal', 'Treasury', 'Samsung'}\n",
      "time: 114 ms (started: 2021-11-22 21:59:25 -08:00)\n"
     ]
    }
   ],
   "source": [
    "# pulling company name tokens from headlines\n",
    "companies = []\n",
    "for title in processed_hlines:\n",
    "    doc = nlp(title.text)\n",
    "    if len(doc.ents) != 0:\n",
    "        displacy.render(doc, style='ent')\n",
    "    else:\n",
    "        pass\n",
    "    for token in doc.ents:\n",
    "        if token.label_ == 'ORG':\n",
    "            companies.append(token.text)\n",
    "        else:\n",
    "            pass\n",
    "companies = set(companies)\n",
    "print(companies)"
   ]
  },
  {
   "cell_type": "markdown",
   "id": "90e46e54-cd0e-4d1b-bfdb-39c3f5b23032",
   "metadata": {},
   "source": [
    "## Scraping S&P 500 Stock Table w/Requests & BeautifulSoup"
   ]
  },
  {
   "cell_type": "code",
   "execution_count": 10,
   "id": "dc3866e6-298d-4e2e-beda-5c4baad44ba8",
   "metadata": {
    "execution": {
     "iopub.execute_input": "2021-11-23T05:59:25.593086Z",
     "iopub.status.busy": "2021-11-23T05:59:25.592849Z",
     "iopub.status.idle": "2021-11-23T05:59:26.227392Z",
     "shell.execute_reply": "2021-11-23T05:59:26.226203Z",
     "shell.execute_reply.started": "2021-11-23T05:59:25.593066Z"
    },
    "tags": []
   },
   "outputs": [
    {
     "name": "stdout",
     "output_type": "stream",
     "text": [
      "[<tr>\n",
      "<td><a class=\"external text\" href=\"https://www.nyse.com/quote/XNYS:MMM\" rel=\"nofollow\">MMM</a>\n",
      "</td>\n",
      "<td><a href=\"/wiki/3M\" title=\"3M\">3M</a></td>\n",
      "<td><a class=\"external text\" href=\"https://www.sec.gov/edgar/browse/?CIK=66740\" rel=\"nofollow\">reports</a></td>\n",
      "<td>Industrials</td>\n",
      "<td>Industrial Conglomerates</td>\n",
      "<td><a href=\"/wiki/Saint_Paul,_Minnesota\" title=\"Saint Paul, Minnesota\">Saint Paul, Minnesota</a></td>\n",
      "<td>1976-08-09</td>\n",
      "<td>0000066740</td>\n",
      "<td>1902\n",
      "</td></tr>]\n",
      "time: 591 ms (started: 2021-11-22 21:59:25 -08:00)\n"
     ]
    }
   ],
   "source": [
    "# scraping S&P wikipedia page\n",
    "r = requests.get('https://en.wikipedia.org/wiki/List_of_S%26P_500_companies')\n",
    "\n",
    "# parsing the html\n",
    "soup = BeautifulSoup(r.text, 'lxml')\n",
    "\n",
    "# extracting the table\n",
    "table = soup.find('table', {'class': 'wikitable sortable'})\n",
    "\n",
    "# printing row with first stock\n",
    "print(table.findAll('tr')[1:2])"
   ]
  },
  {
   "cell_type": "markdown",
   "id": "a95b9b49-5ab4-4bf8-aff7-6b7c3fad5c4d",
   "metadata": {},
   "source": [
    "### Ticker Symbols\n",
    "Grabbing the ticker symbol from the first cell of each row."
   ]
  },
  {
   "cell_type": "code",
   "execution_count": 11,
   "id": "f5f74629-2adb-44dc-93fd-9f50f5fe65ba",
   "metadata": {
    "execution": {
     "iopub.execute_input": "2021-11-23T05:59:26.228635Z",
     "iopub.status.busy": "2021-11-23T05:59:26.228489Z",
     "iopub.status.idle": "2021-11-23T05:59:26.290396Z",
     "shell.execute_reply": "2021-11-23T05:59:26.289451Z",
     "shell.execute_reply.started": "2021-11-23T05:59:26.228620Z"
    },
    "tags": []
   },
   "outputs": [
    {
     "name": "stdout",
     "output_type": "stream",
     "text": [
      "List Length: 505 \n",
      "\n",
      "First five symbols: ['MMM\\n', 'ABT\\n', 'ABBV\\n', 'ABMD\\n', 'ACN\\n']\n",
      "time: 14.9 ms (started: 2021-11-22 21:59:26 -08:00)\n"
     ]
    }
   ],
   "source": [
    "# making list of symbols\n",
    "symbols = [row.findAll('td')[0].text for row in table.findAll('tr')[1:]]\n",
    "\n",
    "# checking length\n",
    "print(f'List Length: {len(symbols)} \\n')\n",
    "\n",
    "# checking first 5 symbols\n",
    "print(f'First five symbols: {symbols[:5]}')"
   ]
  },
  {
   "cell_type": "markdown",
   "id": "fa76b04c-b9b9-4232-986d-6ee28b49a6a4",
   "metadata": {},
   "source": [
    "The length of the list looks good, but we have extra characters we need to strip from the symbols."
   ]
  },
  {
   "cell_type": "code",
   "execution_count": 12,
   "id": "b77d668d-6376-4a48-9545-d8a90258cf0b",
   "metadata": {
    "execution": {
     "iopub.execute_input": "2021-11-23T05:59:26.291652Z",
     "iopub.status.busy": "2021-11-23T05:59:26.291496Z",
     "iopub.status.idle": "2021-11-23T05:59:26.334166Z",
     "shell.execute_reply": "2021-11-23T05:59:26.333118Z",
     "shell.execute_reply.started": "2021-11-23T05:59:26.291634Z"
    },
    "tags": []
   },
   "outputs": [
    {
     "name": "stdout",
     "output_type": "stream",
     "text": [
      "['MMM', 'ABT', 'ABBV', 'ABMD', 'ACN']\n",
      "time: 948 µs (started: 2021-11-22 21:59:26 -08:00)\n"
     ]
    }
   ],
   "source": [
    "# stripping new line character from the strings \n",
    "symbols = list(map(lambda s: s.strip(), symbols))\n",
    "\n",
    "# checking first 5 symbols\n",
    "print(symbols[:5])"
   ]
  },
  {
   "cell_type": "markdown",
   "id": "20a11a7f-608d-4581-9436-1ec790eceee5",
   "metadata": {},
   "source": [
    "Looks good. We can apply the same technique to the second cell of the row to scrape and save the company name, and to the fifth cell to grab the company industry. "
   ]
  },
  {
   "cell_type": "markdown",
   "id": "00b559c3-162e-4815-8469-e769568cbbb9",
   "metadata": {},
   "source": [
    "### Names\n",
    "Grabbing the company name from the second cell of each row."
   ]
  },
  {
   "cell_type": "code",
   "execution_count": 13,
   "id": "acea8f4e-07ad-4192-bf5b-058473a22780",
   "metadata": {
    "execution": {
     "iopub.execute_input": "2021-11-23T05:59:26.335348Z",
     "iopub.status.busy": "2021-11-23T05:59:26.335126Z",
     "iopub.status.idle": "2021-11-23T05:59:26.388743Z",
     "shell.execute_reply": "2021-11-23T05:59:26.387937Z",
     "shell.execute_reply.started": "2021-11-23T05:59:26.335306Z"
    },
    "tags": []
   },
   "outputs": [
    {
     "name": "stdout",
     "output_type": "stream",
     "text": [
      "['3M', 'Abbott Laboratories', 'AbbVie', 'Abiomed', 'Accenture']\n",
      "time: 14.1 ms (started: 2021-11-22 21:59:26 -08:00)\n"
     ]
    }
   ],
   "source": [
    "# making list of names\n",
    "names = [row.findAll('td')[1].text for row in table.findAll('tr')[1:]]\n",
    "\n",
    "# checking first five names\n",
    "print(names[:5])"
   ]
  },
  {
   "cell_type": "markdown",
   "id": "6365495f-2364-4b54-85e2-5bbfae172dd0",
   "metadata": {},
   "source": [
    "## S&P 500 Dataframe\n",
    "Creating a data frame of stocks in the S&P 500 index."
   ]
  },
  {
   "cell_type": "code",
   "execution_count": 14,
   "id": "20e47c1d-d75b-424c-9a57-1075d4b5bf12",
   "metadata": {
    "execution": {
     "iopub.execute_input": "2021-11-23T05:59:26.390195Z",
     "iopub.status.busy": "2021-11-23T05:59:26.390046Z",
     "iopub.status.idle": "2021-11-23T05:59:26.449021Z",
     "shell.execute_reply": "2021-11-23T05:59:26.448494Z",
     "shell.execute_reply.started": "2021-11-23T05:59:26.390177Z"
    },
    "tags": []
   },
   "outputs": [
    {
     "name": "stdout",
     "output_type": "stream",
     "text": [
      "(505, 2)\n"
     ]
    },
    {
     "data": {
      "text/html": [
       "<div>\n",
       "<style scoped>\n",
       "    .dataframe tbody tr th:only-of-type {\n",
       "        vertical-align: middle;\n",
       "    }\n",
       "\n",
       "    .dataframe tbody tr th {\n",
       "        vertical-align: top;\n",
       "    }\n",
       "\n",
       "    .dataframe thead th {\n",
       "        text-align: right;\n",
       "    }\n",
       "</style>\n",
       "<table border=\"1\" class=\"dataframe\">\n",
       "  <thead>\n",
       "    <tr style=\"text-align: right;\">\n",
       "      <th></th>\n",
       "      <th>Company Name</th>\n",
       "      <th>Symbol</th>\n",
       "    </tr>\n",
       "  </thead>\n",
       "  <tbody>\n",
       "    <tr>\n",
       "      <th>0</th>\n",
       "      <td>3M</td>\n",
       "      <td>MMM</td>\n",
       "    </tr>\n",
       "    <tr>\n",
       "      <th>1</th>\n",
       "      <td>Abbott Laboratories</td>\n",
       "      <td>ABT</td>\n",
       "    </tr>\n",
       "    <tr>\n",
       "      <th>2</th>\n",
       "      <td>AbbVie</td>\n",
       "      <td>ABBV</td>\n",
       "    </tr>\n",
       "    <tr>\n",
       "      <th>3</th>\n",
       "      <td>Abiomed</td>\n",
       "      <td>ABMD</td>\n",
       "    </tr>\n",
       "    <tr>\n",
       "      <th>4</th>\n",
       "      <td>Accenture</td>\n",
       "      <td>ACN</td>\n",
       "    </tr>\n",
       "  </tbody>\n",
       "</table>\n",
       "</div>"
      ],
      "text/plain": [
       "          Company Name Symbol\n",
       "0                   3M    MMM\n",
       "1  Abbott Laboratories    ABT\n",
       "2               AbbVie   ABBV\n",
       "3              Abiomed   ABMD\n",
       "4            Accenture    ACN"
      ]
     },
     "execution_count": 14,
     "metadata": {},
     "output_type": "execute_result"
    },
    {
     "name": "stdout",
     "output_type": "stream",
     "text": [
      "time: 16 ms (started: 2021-11-22 21:59:26 -08:00)\n"
     ]
    }
   ],
   "source": [
    "# making a data dictionary\n",
    "data = {'Company Name': names, 'Symbol': symbols}\n",
    "\n",
    "# creating data frame from the data\n",
    "stocks_df = pd.DataFrame.from_dict(data)\n",
    "\n",
    "# checking shape and first five rows\n",
    "print(stocks_df.shape)\n",
    "stocks_df.head()"
   ]
  },
  {
   "cell_type": "markdown",
   "id": "7e8eb610-65e8-4f68-9296-e8971071f5dc",
   "metadata": {},
   "source": [
    "### Checking yf Stock Info Dictionary Keys\n",
    "Checking the dictionary keys available for pulling stock information."
   ]
  },
  {
   "cell_type": "code",
   "execution_count": 15,
   "id": "6a0d5f31-6176-4772-973f-d3f8dc331cdf",
   "metadata": {
    "execution": {
     "iopub.execute_input": "2021-11-23T05:59:26.450088Z",
     "iopub.status.busy": "2021-11-23T05:59:26.449941Z",
     "iopub.status.idle": "2021-11-23T05:59:26.493705Z",
     "shell.execute_reply": "2021-11-23T05:59:26.492953Z",
     "shell.execute_reply.started": "2021-11-23T05:59:26.450072Z"
    },
    "tags": []
   },
   "outputs": [
    {
     "name": "stdout",
     "output_type": "stream",
     "text": [
      "time: 2.96 ms (started: 2021-11-22 21:59:26 -08:00)\n"
     ]
    }
   ],
   "source": [
    "# instantiating a ticker object\n",
    "ACN = yf.Ticker('ACN')"
   ]
  },
  {
   "cell_type": "code",
   "execution_count": 16,
   "id": "2a8a9f7b-5358-4cb6-b0d3-4adda8696933",
   "metadata": {
    "execution": {
     "iopub.execute_input": "2021-11-23T05:59:26.495100Z",
     "iopub.status.busy": "2021-11-23T05:59:26.494927Z",
     "iopub.status.idle": "2021-11-23T05:59:29.364134Z",
     "shell.execute_reply": "2021-11-23T05:59:29.363452Z",
     "shell.execute_reply.started": "2021-11-23T05:59:26.495077Z"
    },
    "tags": []
   },
   "outputs": [
    {
     "data": {
      "text/plain": [
       "dict_keys(['zip', 'sector', 'fullTimeEmployees', 'longBusinessSummary', 'city', 'phone', 'country', 'companyOfficers', 'website', 'maxAge', 'address1', 'fax', 'industry', 'address2', 'ebitdaMargins', 'profitMargins', 'grossMargins', 'operatingCashflow', 'revenueGrowth', 'operatingMargins', 'ebitda', 'targetLowPrice', 'recommendationKey', 'grossProfits', 'freeCashflow', 'targetMedianPrice', 'currentPrice', 'earningsGrowth', 'currentRatio', 'returnOnAssets', 'numberOfAnalystOpinions', 'targetMeanPrice', 'debtToEquity', 'returnOnEquity', 'targetHighPrice', 'totalCash', 'totalDebt', 'totalRevenue', 'totalCashPerShare', 'financialCurrency', 'revenuePerShare', 'quickRatio', 'recommendationMean', 'exchange', 'shortName', 'longName', 'exchangeTimezoneName', 'exchangeTimezoneShortName', 'isEsgPopulated', 'gmtOffSetMilliseconds', 'quoteType', 'symbol', 'messageBoardId', 'market', 'annualHoldingsTurnover', 'enterpriseToRevenue', 'beta3Year', 'enterpriseToEbitda', '52WeekChange', 'morningStarRiskRating', 'forwardEps', 'revenueQuarterlyGrowth', 'sharesOutstanding', 'fundInceptionDate', 'annualReportExpenseRatio', 'totalAssets', 'bookValue', 'sharesShort', 'sharesPercentSharesOut', 'fundFamily', 'lastFiscalYearEnd', 'heldPercentInstitutions', 'netIncomeToCommon', 'trailingEps', 'lastDividendValue', 'SandP52WeekChange', 'priceToBook', 'heldPercentInsiders', 'nextFiscalYearEnd', 'yield', 'mostRecentQuarter', 'shortRatio', 'sharesShortPreviousMonthDate', 'floatShares', 'beta', 'enterpriseValue', 'priceHint', 'threeYearAverageReturn', 'lastSplitDate', 'lastSplitFactor', 'legalType', 'lastDividendDate', 'morningStarOverallRating', 'earningsQuarterlyGrowth', 'priceToSalesTrailing12Months', 'dateShortInterest', 'pegRatio', 'ytdReturn', 'forwardPE', 'lastCapGain', 'shortPercentOfFloat', 'sharesShortPriorMonth', 'impliedSharesOutstanding', 'category', 'fiveYearAverageReturn', 'previousClose', 'regularMarketOpen', 'twoHundredDayAverage', 'trailingAnnualDividendYield', 'payoutRatio', 'volume24Hr', 'regularMarketDayHigh', 'navPrice', 'averageDailyVolume10Day', 'regularMarketPreviousClose', 'fiftyDayAverage', 'trailingAnnualDividendRate', 'open', 'toCurrency', 'averageVolume10days', 'expireDate', 'algorithm', 'dividendRate', 'exDividendDate', 'circulatingSupply', 'startDate', 'regularMarketDayLow', 'currency', 'trailingPE', 'regularMarketVolume', 'lastMarket', 'maxSupply', 'openInterest', 'marketCap', 'volumeAllCurrencies', 'strikePrice', 'averageVolume', 'dayLow', 'ask', 'askSize', 'volume', 'fiftyTwoWeekHigh', 'fromCurrency', 'fiveYearAvgDividendYield', 'fiftyTwoWeekLow', 'bid', 'tradeable', 'dividendYield', 'bidSize', 'dayHigh', 'regularMarketPrice', 'logo_url'])"
      ]
     },
     "execution_count": 16,
     "metadata": {},
     "output_type": "execute_result"
    },
    {
     "name": "stdout",
     "output_type": "stream",
     "text": [
      "time: 2.83 s (started: 2021-11-22 21:59:26 -08:00)\n"
     ]
    }
   ],
   "source": [
    "# checking keys\n",
    "ACN.info.keys()"
   ]
  },
  {
   "cell_type": "markdown",
   "id": "f5ac7667-150a-4a9b-a20b-f142e3a84eef",
   "metadata": {},
   "source": [
    "### Data for Stocks in the News\n",
    "Creating a data frame of price and dividend information for S&P 500 stocks in the news in the following steps:\n",
    "\n",
    "- Create a data dictionary from the list of companies in the headlines.\n",
    "\n",
    "- Create a data frame from data dictionary."
   ]
  },
  {
   "cell_type": "code",
   "execution_count": 17,
   "id": "75714472-48d2-4d1a-8839-cb2a373be809",
   "metadata": {
    "execution": {
     "iopub.execute_input": "2021-11-23T05:59:29.365475Z",
     "iopub.status.busy": "2021-11-23T05:59:29.365267Z",
     "iopub.status.idle": "2021-11-23T05:59:32.956155Z",
     "shell.execute_reply": "2021-11-23T05:59:32.955346Z",
     "shell.execute_reply.started": "2021-11-23T05:59:29.365418Z"
    },
    "tags": []
   },
   "outputs": [
    {
     "name": "stdout",
     "output_type": "stream",
     "text": [
      "time: 3.54 s (started: 2021-11-22 21:59:29 -08:00)\n"
     ]
    }
   ],
   "source": [
    "# creating empty stock info dictionary\n",
    "stock_data = {\n",
    "    'Company': [],\n",
    "    'Symbol': [],\n",
    "    'currentPrice': [],\n",
    "    'dayHigh': [],\n",
    "    'dayLow': [],\n",
    "    '52wkHigh': [],\n",
    "    '52wkLow': [],\n",
    "    'dividendRate': []\n",
    "    \n",
    "}\n",
    "\n",
    "# loading stocks from s&p dataframe and appending data from yf\n",
    "for company in companies:\n",
    "\n",
    "    try:\n",
    "        if stocks_df['Company Name'].str.contains(company).sum():\n",
    "            symbol = stocks_df[stocks_df['Company Name'].\\\n",
    "                                str.contains(company)]['Symbol'].values[0]\n",
    "            org_name = stocks_df[stocks_df['Company Name'].\\\n",
    "                                str.contains(company)]['Company Name'].values[0]\n",
    "            stock_data['Company'].append(org_name)\n",
    "            stock_data['Symbol'].append(symbol)\n",
    "            stock_info = yf.Ticker(symbol).info\n",
    "            stock_data['currentPrice'].append(stock_info['currentPrice'])\n",
    "            stock_data['dayHigh'].append(stock_info['dayHigh'])\n",
    "            stock_data['dayLow'].append(stock_info['dayLow'])\n",
    "            stock_data['52wkHigh'].append(stock_info['fiftyTwoWeekHigh'])\n",
    "            stock_data['52wkLow'].append(stock_info['fiftyTwoWeekLow'])            \n",
    "            \n",
    "            # converting dividend None types to floats\n",
    "            dividend = stock_info['dividendRate']\n",
    "            if dividend != None:\n",
    "                dividend = dividend\n",
    "            else:\n",
    "                dividend = 0\n",
    "            stock_data['dividendRate'].append(dividend)\n",
    "        else:\n",
    "            pass\n",
    "    except:\n",
    "        pass"
   ]
  },
  {
   "cell_type": "code",
   "execution_count": 18,
   "id": "5775a08d-a060-4407-ad69-8bc0ba6222ec",
   "metadata": {
    "execution": {
     "iopub.execute_input": "2021-11-23T05:59:32.957656Z",
     "iopub.status.busy": "2021-11-23T05:59:32.957419Z",
     "iopub.status.idle": "2021-11-23T05:59:33.000045Z",
     "shell.execute_reply": "2021-11-23T05:59:32.999022Z",
     "shell.execute_reply.started": "2021-11-23T05:59:32.957638Z"
    },
    "tags": []
   },
   "outputs": [
    {
     "data": {
      "text/plain": [
       "{'Company': ['Federal Realty Investment Trust'],\n",
       " 'Symbol': ['FRT'],\n",
       " 'currentPrice': [129.85],\n",
       " 'dayHigh': [130.765],\n",
       " 'dayLow': [128.29],\n",
       " '52wkHigh': [135.56],\n",
       " '52wkLow': [81.85],\n",
       " 'dividendRate': [4.28]}"
      ]
     },
     "execution_count": 18,
     "metadata": {},
     "output_type": "execute_result"
    },
    {
     "name": "stdout",
     "output_type": "stream",
     "text": [
      "time: 2.03 ms (started: 2021-11-22 21:59:32 -08:00)\n"
     ]
    }
   ],
   "source": [
    "# checking dict\n",
    "stock_data"
   ]
  },
  {
   "cell_type": "markdown",
   "id": "0405069b-2119-4a58-9abd-367967bf4f31",
   "metadata": {},
   "source": [
    "### Data Frame of S&P 500 Stocks in the News"
   ]
  },
  {
   "cell_type": "code",
   "execution_count": 19,
   "id": "61e25bba-2b56-4eec-9072-12b69b6fd94c",
   "metadata": {
    "execution": {
     "iopub.execute_input": "2021-11-23T05:59:33.001679Z",
     "iopub.status.busy": "2021-11-23T05:59:33.001485Z",
     "iopub.status.idle": "2021-11-23T05:59:33.045289Z",
     "shell.execute_reply": "2021-11-23T05:59:33.044808Z",
     "shell.execute_reply.started": "2021-11-23T05:59:33.001658Z"
    },
    "tags": []
   },
   "outputs": [
    {
     "data": {
      "text/html": [
       "<div>\n",
       "<style scoped>\n",
       "    .dataframe tbody tr th:only-of-type {\n",
       "        vertical-align: middle;\n",
       "    }\n",
       "\n",
       "    .dataframe tbody tr th {\n",
       "        vertical-align: top;\n",
       "    }\n",
       "\n",
       "    .dataframe thead th {\n",
       "        text-align: right;\n",
       "    }\n",
       "</style>\n",
       "<table border=\"1\" class=\"dataframe\">\n",
       "  <thead>\n",
       "    <tr style=\"text-align: right;\">\n",
       "      <th></th>\n",
       "      <th>Company</th>\n",
       "      <th>Symbol</th>\n",
       "      <th>currentPrice</th>\n",
       "      <th>dayHigh</th>\n",
       "      <th>dayLow</th>\n",
       "      <th>52wkHigh</th>\n",
       "      <th>52wkLow</th>\n",
       "      <th>dividendRate</th>\n",
       "    </tr>\n",
       "  </thead>\n",
       "  <tbody>\n",
       "    <tr>\n",
       "      <th>0</th>\n",
       "      <td>Federal Realty Investment Trust</td>\n",
       "      <td>FRT</td>\n",
       "      <td>129.85</td>\n",
       "      <td>130.765</td>\n",
       "      <td>128.29</td>\n",
       "      <td>135.56</td>\n",
       "      <td>81.85</td>\n",
       "      <td>4.28</td>\n",
       "    </tr>\n",
       "  </tbody>\n",
       "</table>\n",
       "</div>"
      ],
      "text/plain": [
       "                           Company Symbol  currentPrice  dayHigh  dayLow  \\\n",
       "0  Federal Realty Investment Trust    FRT        129.85  130.765  128.29   \n",
       "\n",
       "   52wkHigh  52wkLow  dividendRate  \n",
       "0    135.56    81.85          4.28  "
      ]
     },
     "execution_count": 19,
     "metadata": {},
     "output_type": "execute_result"
    },
    {
     "name": "stdout",
     "output_type": "stream",
     "text": [
      "time: 6.75 ms (started: 2021-11-22 21:59:33 -08:00)\n"
     ]
    }
   ],
   "source": [
    "in_the_news = pd.DataFrame(stock_data)\n",
    "in_the_news.head()"
   ]
  },
  {
   "cell_type": "code",
   "execution_count": 20,
   "id": "84fcb1ec-5d31-43d0-988f-a3eabe80c558",
   "metadata": {
    "execution": {
     "iopub.execute_input": "2021-11-23T05:59:33.046605Z",
     "iopub.status.busy": "2021-11-23T05:59:33.046384Z",
     "iopub.status.idle": "2021-11-23T05:59:33.092206Z",
     "shell.execute_reply": "2021-11-23T05:59:33.091581Z",
     "shell.execute_reply.started": "2021-11-23T05:59:33.046586Z"
    },
    "tags": []
   },
   "outputs": [
    {
     "name": "stdout",
     "output_type": "stream",
     "text": [
      "<class 'pandas.core.frame.DataFrame'>\n",
      "RangeIndex: 1 entries, 0 to 0\n",
      "Data columns (total 8 columns):\n",
      " #   Column        Non-Null Count  Dtype  \n",
      "---  ------        --------------  -----  \n",
      " 0   Company       1 non-null      object \n",
      " 1   Symbol        1 non-null      object \n",
      " 2   currentPrice  1 non-null      float64\n",
      " 3   dayHigh       1 non-null      float64\n",
      " 4   dayLow        1 non-null      float64\n",
      " 5   52wkHigh      1 non-null      float64\n",
      " 6   52wkLow       1 non-null      float64\n",
      " 7   dividendRate  1 non-null      float64\n",
      "dtypes: float64(6), object(2)\n",
      "memory usage: 192.0+ bytes\n",
      "time: 5.14 ms (started: 2021-11-22 21:59:33 -08:00)\n"
     ]
    }
   ],
   "source": [
    "# checking Dtypes\n",
    "in_the_news.info()"
   ]
  },
  {
   "cell_type": "markdown",
   "id": "278593a1-e249-4fbb-ab2b-0c2e2d5e7f5d",
   "metadata": {},
   "source": [
    "## Individual Stock Price Helper Function\n",
    "Checking the helper function."
   ]
  },
  {
   "cell_type": "code",
   "execution_count": 21,
   "id": "d19f4da9-ae51-4818-80d8-692090419d81",
   "metadata": {
    "execution": {
     "iopub.execute_input": "2021-11-23T05:59:33.093675Z",
     "iopub.status.busy": "2021-11-23T05:59:33.093428Z",
     "iopub.status.idle": "2021-11-23T05:59:35.571048Z",
     "shell.execute_reply": "2021-11-23T05:59:35.570283Z",
     "shell.execute_reply.started": "2021-11-23T05:59:33.093651Z"
    },
    "tags": []
   },
   "outputs": [
    {
     "data": {
      "text/html": [
       "<div>\n",
       "<style scoped>\n",
       "    .dataframe tbody tr th:only-of-type {\n",
       "        vertical-align: middle;\n",
       "    }\n",
       "\n",
       "    .dataframe tbody tr th {\n",
       "        vertical-align: top;\n",
       "    }\n",
       "\n",
       "    .dataframe thead th {\n",
       "        text-align: right;\n",
       "    }\n",
       "</style>\n",
       "<table border=\"1\" class=\"dataframe\">\n",
       "  <thead>\n",
       "    <tr style=\"text-align: right;\">\n",
       "      <th></th>\n",
       "      <th>Company</th>\n",
       "      <th>Symbol</th>\n",
       "      <th>Current Price</th>\n",
       "      <th>Intraday High</th>\n",
       "      <th>Intraday Low</th>\n",
       "      <th>52wkHigh</th>\n",
       "      <th>52wkLow</th>\n",
       "      <th>Dividend</th>\n",
       "    </tr>\n",
       "  </thead>\n",
       "  <tbody>\n",
       "    <tr>\n",
       "      <th>0</th>\n",
       "      <td>3M Company</td>\n",
       "      <td>MMM</td>\n",
       "      <td>179.66</td>\n",
       "      <td>182.28</td>\n",
       "      <td>178.78</td>\n",
       "      <td>208.95</td>\n",
       "      <td>163.38</td>\n",
       "      <td>5.92</td>\n",
       "    </tr>\n",
       "  </tbody>\n",
       "</table>\n",
       "</div>"
      ],
      "text/plain": [
       "      Company Symbol  Current Price  Intraday High  Intraday Low  52wkHigh  \\\n",
       "0  3M Company    MMM         179.66         182.28        178.78    208.95   \n",
       "\n",
       "   52wkLow  Dividend  \n",
       "0   163.38      5.92  "
      ]
     },
     "execution_count": 21,
     "metadata": {},
     "output_type": "execute_result"
    },
    {
     "name": "stdout",
     "output_type": "stream",
     "text": [
      "time: 2.44 s (started: 2021-11-22 21:59:33 -08:00)\n"
     ]
    }
   ],
   "source": [
    "h.get_prices('MMM')"
   ]
  },
  {
   "cell_type": "code",
   "execution_count": 22,
   "id": "49ab1a6c-6d6e-40a7-868a-f364653333e0",
   "metadata": {
    "execution": {
     "iopub.execute_input": "2021-11-23T05:59:35.572454Z",
     "iopub.status.busy": "2021-11-23T05:59:35.572010Z",
     "iopub.status.idle": "2021-11-23T05:59:40.414383Z",
     "shell.execute_reply": "2021-11-23T05:59:40.413200Z",
     "shell.execute_reply.started": "2021-11-23T05:59:35.572407Z"
    }
   },
   "outputs": [
    {
     "data": {
      "text/html": [
       "<div>\n",
       "<style scoped>\n",
       "    .dataframe tbody tr th:only-of-type {\n",
       "        vertical-align: middle;\n",
       "    }\n",
       "\n",
       "    .dataframe tbody tr th {\n",
       "        vertical-align: top;\n",
       "    }\n",
       "\n",
       "    .dataframe thead th {\n",
       "        text-align: right;\n",
       "    }\n",
       "</style>\n",
       "<table border=\"1\" class=\"dataframe\">\n",
       "  <thead>\n",
       "    <tr style=\"text-align: right;\">\n",
       "      <th></th>\n",
       "      <th>Company</th>\n",
       "      <th>Symbol</th>\n",
       "      <th>Current Price</th>\n",
       "      <th>Intraday High</th>\n",
       "      <th>Intraday Low</th>\n",
       "      <th>52wkHigh</th>\n",
       "      <th>52wkLow</th>\n",
       "      <th>Dividend</th>\n",
       "    </tr>\n",
       "  </thead>\n",
       "  <tbody>\n",
       "    <tr>\n",
       "      <th>0</th>\n",
       "      <td>Apple Inc.</td>\n",
       "      <td>AAPL</td>\n",
       "      <td>161.02</td>\n",
       "      <td>165.7</td>\n",
       "      <td>161</td>\n",
       "      <td>165.7</td>\n",
       "      <td>112.59</td>\n",
       "      <td>0.88</td>\n",
       "    </tr>\n",
       "  </tbody>\n",
       "</table>\n",
       "</div>"
      ],
      "text/plain": [
       "      Company Symbol  Current Price  Intraday High  Intraday Low  52wkHigh  \\\n",
       "0  Apple Inc.   AAPL         161.02          165.7           161     165.7   \n",
       "\n",
       "   52wkLow  Dividend  \n",
       "0   112.59      0.88  "
      ]
     },
     "execution_count": 22,
     "metadata": {},
     "output_type": "execute_result"
    },
    {
     "name": "stdout",
     "output_type": "stream",
     "text": [
      "time: 4.8 s (started: 2021-11-22 21:59:35 -08:00)\n"
     ]
    }
   ],
   "source": [
    "h.get_prices('AAPL')"
   ]
  },
  {
   "cell_type": "markdown",
   "id": "9dd6617c-a330-44cb-a6aa-41f2993c474e",
   "metadata": {
    "tags": []
   },
   "source": [
    "## Options Markets Tests"
   ]
  },
  {
   "cell_type": "code",
   "execution_count": 23,
   "id": "be332aa0-96c1-4923-81f9-ee12e85aa9ea",
   "metadata": {
    "execution": {
     "iopub.execute_input": "2021-11-23T05:59:40.415707Z",
     "iopub.status.busy": "2021-11-23T05:59:40.415541Z",
     "iopub.status.idle": "2021-11-23T05:59:40.458403Z",
     "shell.execute_reply": "2021-11-23T05:59:40.457784Z",
     "shell.execute_reply.started": "2021-11-23T05:59:40.415689Z"
    }
   },
   "outputs": [
    {
     "name": "stdout",
     "output_type": "stream",
     "text": [
      "time: 838 µs (started: 2021-11-22 21:59:40 -08:00)\n"
     ]
    }
   ],
   "source": [
    "# creating a fuction to display available expirations\n",
    "def get_expirations(symbol : str):\n",
    "    stock = yf.Ticker(symbol)\n",
    "    return stock.options"
   ]
  },
  {
   "cell_type": "code",
   "execution_count": 24,
   "id": "76962ce7-c4f8-4164-bfa3-2cef17dd4371",
   "metadata": {
    "execution": {
     "iopub.execute_input": "2021-11-23T05:59:40.460109Z",
     "iopub.status.busy": "2021-11-23T05:59:40.459758Z",
     "iopub.status.idle": "2021-11-23T05:59:40.670125Z",
     "shell.execute_reply": "2021-11-23T05:59:40.669143Z",
     "shell.execute_reply.started": "2021-11-23T05:59:40.460085Z"
    }
   },
   "outputs": [
    {
     "data": {
      "text/plain": [
       "('2021-11-26',\n",
       " '2021-12-03',\n",
       " '2021-12-10',\n",
       " '2021-12-17',\n",
       " '2021-12-23',\n",
       " '2021-12-31',\n",
       " '2022-01-21',\n",
       " '2022-02-18',\n",
       " '2022-03-18',\n",
       " '2022-04-14',\n",
       " '2022-05-20',\n",
       " '2022-06-17',\n",
       " '2022-07-15',\n",
       " '2022-09-16',\n",
       " '2023-01-20',\n",
       " '2023-03-17',\n",
       " '2023-06-16',\n",
       " '2023-09-15',\n",
       " '2024-01-19')"
      ]
     },
     "execution_count": 24,
     "metadata": {},
     "output_type": "execute_result"
    },
    {
     "name": "stdout",
     "output_type": "stream",
     "text": [
      "time: 169 ms (started: 2021-11-22 21:59:40 -08:00)\n"
     ]
    }
   ],
   "source": [
    "get_expirations('AAPL')"
   ]
  },
  {
   "cell_type": "code",
   "execution_count": 25,
   "id": "39c4c635-7763-4419-bc00-53f1e155a4bd",
   "metadata": {
    "execution": {
     "iopub.execute_input": "2021-11-23T05:59:40.673003Z",
     "iopub.status.busy": "2021-11-23T05:59:40.671985Z",
     "iopub.status.idle": "2021-11-23T05:59:40.869173Z",
     "shell.execute_reply": "2021-11-23T05:59:40.868032Z",
     "shell.execute_reply.started": "2021-11-23T05:59:40.672964Z"
    },
    "tags": []
   },
   "outputs": [
    {
     "data": {
      "text/plain": [
       "('2021-11-26',\n",
       " '2021-12-03',\n",
       " '2021-12-10',\n",
       " '2021-12-17',\n",
       " '2021-12-23',\n",
       " '2021-12-31',\n",
       " '2022-01-21',\n",
       " '2022-04-14',\n",
       " '2022-06-17',\n",
       " '2022-07-15',\n",
       " '2023-01-20',\n",
       " '2024-01-19')"
      ]
     },
     "execution_count": 25,
     "metadata": {},
     "output_type": "execute_result"
    },
    {
     "name": "stdout",
     "output_type": "stream",
     "text": [
      "time: 130 ms (started: 2021-11-22 21:59:40 -08:00)\n"
     ]
    }
   ],
   "source": [
    "get_expirations('MMM')"
   ]
  },
  {
   "cell_type": "code",
   "execution_count": 26,
   "id": "bdf74dcf-964b-4e4f-b0f6-5e67b9d4bc38",
   "metadata": {
    "execution": {
     "iopub.execute_input": "2021-11-23T05:59:40.872613Z",
     "iopub.status.busy": "2021-11-23T05:59:40.871819Z",
     "iopub.status.idle": "2021-11-23T05:59:40.941675Z",
     "shell.execute_reply": "2021-11-23T05:59:40.940771Z",
     "shell.execute_reply.started": "2021-11-23T05:59:40.872558Z"
    },
    "tags": []
   },
   "outputs": [
    {
     "name": "stdout",
     "output_type": "stream",
     "text": [
      "time: 1.17 ms (started: 2021-11-22 21:59:40 -08:00)\n"
     ]
    }
   ],
   "source": [
    "def options_mrkt_test(symbol : str, expiration : str, option : str):\n",
    "    stock = yf.Ticker(symbol)\n",
    "    current_price = stock.info['currentPrice']\n",
    "    dividend = stock.info['dividendRate']\n",
    "    url = ('https://www.treasury.gov/resource-center/'\n",
    "    'data-chart-center/interest-rates/Pages/TextView.aspx?data=yield')\n",
    "    rates = pd.read_html(url)\n",
    "    risk_free_rate = rates[1]['3 mo']\n",
    "    print(f\"Current Price: ${current_price}\")\n",
    "    print(f\"Dividend: ${dividend}\")\n",
    "    print(f\"3 Month TBill Rate: {risk_free_rate.to_string().split()[1]}%\")\n",
    "    opt = stock.option_chain(expiration)\n",
    "    if option == 'calls':\n",
    "        return opt.calls.sort_values(by='strike')\n",
    "    elif option == 'puts':\n",
    "        return opt.puts.sort_values(by='strike')"
   ]
  },
  {
   "cell_type": "code",
   "execution_count": 28,
   "id": "c2b137bf-5db1-44f9-a331-862c108e9536",
   "metadata": {
    "execution": {
     "iopub.execute_input": "2021-11-23T06:00:15.313470Z",
     "iopub.status.busy": "2021-11-23T06:00:15.313030Z",
     "iopub.status.idle": "2021-11-23T06:00:19.491813Z",
     "shell.execute_reply": "2021-11-23T06:00:19.490760Z",
     "shell.execute_reply.started": "2021-11-23T06:00:15.313427Z"
    },
    "tags": []
   },
   "outputs": [
    {
     "name": "stdout",
     "output_type": "stream",
     "text": [
      "Current Price: $179.66\n",
      "Dividend: $5.92\n",
      "3 Month TBill Rate: 0.05%\n"
     ]
    },
    {
     "data": {
      "text/html": [
       "<div>\n",
       "<style scoped>\n",
       "    .dataframe tbody tr th:only-of-type {\n",
       "        vertical-align: middle;\n",
       "    }\n",
       "\n",
       "    .dataframe tbody tr th {\n",
       "        vertical-align: top;\n",
       "    }\n",
       "\n",
       "    .dataframe thead th {\n",
       "        text-align: right;\n",
       "    }\n",
       "</style>\n",
       "<table border=\"1\" class=\"dataframe\">\n",
       "  <thead>\n",
       "    <tr style=\"text-align: right;\">\n",
       "      <th></th>\n",
       "      <th>contractSymbol</th>\n",
       "      <th>lastTradeDate</th>\n",
       "      <th>strike</th>\n",
       "      <th>lastPrice</th>\n",
       "      <th>bid</th>\n",
       "      <th>ask</th>\n",
       "      <th>change</th>\n",
       "      <th>percentChange</th>\n",
       "      <th>volume</th>\n",
       "      <th>openInterest</th>\n",
       "      <th>impliedVolatility</th>\n",
       "      <th>inTheMoney</th>\n",
       "      <th>contractSize</th>\n",
       "      <th>currency</th>\n",
       "    </tr>\n",
       "  </thead>\n",
       "  <tbody>\n",
       "    <tr>\n",
       "      <th>0</th>\n",
       "      <td>MMM211126C00170000</td>\n",
       "      <td>2021-11-22 19:11:08</td>\n",
       "      <td>170.0</td>\n",
       "      <td>11.96</td>\n",
       "      <td>0.0</td>\n",
       "      <td>0.0</td>\n",
       "      <td>0.0</td>\n",
       "      <td>0.0</td>\n",
       "      <td>1.0</td>\n",
       "      <td>0</td>\n",
       "      <td>0.000010</td>\n",
       "      <td>True</td>\n",
       "      <td>REGULAR</td>\n",
       "      <td>USD</td>\n",
       "    </tr>\n",
       "    <tr>\n",
       "      <th>1</th>\n",
       "      <td>MMM211126C00175000</td>\n",
       "      <td>2021-11-22 17:54:25</td>\n",
       "      <td>175.0</td>\n",
       "      <td>6.25</td>\n",
       "      <td>0.0</td>\n",
       "      <td>0.0</td>\n",
       "      <td>0.0</td>\n",
       "      <td>0.0</td>\n",
       "      <td>1.0</td>\n",
       "      <td>0</td>\n",
       "      <td>0.000010</td>\n",
       "      <td>True</td>\n",
       "      <td>REGULAR</td>\n",
       "      <td>USD</td>\n",
       "    </tr>\n",
       "    <tr>\n",
       "      <th>2</th>\n",
       "      <td>MMM211126C00177500</td>\n",
       "      <td>2021-11-22 16:31:35</td>\n",
       "      <td>177.5</td>\n",
       "      <td>4.60</td>\n",
       "      <td>0.0</td>\n",
       "      <td>0.0</td>\n",
       "      <td>0.0</td>\n",
       "      <td>0.0</td>\n",
       "      <td>31.0</td>\n",
       "      <td>0</td>\n",
       "      <td>0.000010</td>\n",
       "      <td>True</td>\n",
       "      <td>REGULAR</td>\n",
       "      <td>USD</td>\n",
       "    </tr>\n",
       "    <tr>\n",
       "      <th>3</th>\n",
       "      <td>MMM211126C00180000</td>\n",
       "      <td>2021-11-22 20:57:47</td>\n",
       "      <td>180.0</td>\n",
       "      <td>1.26</td>\n",
       "      <td>0.0</td>\n",
       "      <td>0.0</td>\n",
       "      <td>0.0</td>\n",
       "      <td>0.0</td>\n",
       "      <td>140.0</td>\n",
       "      <td>0</td>\n",
       "      <td>0.007822</td>\n",
       "      <td>False</td>\n",
       "      <td>REGULAR</td>\n",
       "      <td>USD</td>\n",
       "    </tr>\n",
       "    <tr>\n",
       "      <th>4</th>\n",
       "      <td>MMM211126C00182500</td>\n",
       "      <td>2021-11-22 20:59:16</td>\n",
       "      <td>182.5</td>\n",
       "      <td>0.40</td>\n",
       "      <td>0.0</td>\n",
       "      <td>0.0</td>\n",
       "      <td>0.0</td>\n",
       "      <td>0.0</td>\n",
       "      <td>332.0</td>\n",
       "      <td>0</td>\n",
       "      <td>0.031260</td>\n",
       "      <td>False</td>\n",
       "      <td>REGULAR</td>\n",
       "      <td>USD</td>\n",
       "    </tr>\n",
       "    <tr>\n",
       "      <th>5</th>\n",
       "      <td>MMM211126C00185000</td>\n",
       "      <td>2021-11-22 20:50:30</td>\n",
       "      <td>185.0</td>\n",
       "      <td>0.17</td>\n",
       "      <td>0.0</td>\n",
       "      <td>0.0</td>\n",
       "      <td>0.0</td>\n",
       "      <td>0.0</td>\n",
       "      <td>615.0</td>\n",
       "      <td>0</td>\n",
       "      <td>0.062509</td>\n",
       "      <td>False</td>\n",
       "      <td>REGULAR</td>\n",
       "      <td>USD</td>\n",
       "    </tr>\n",
       "    <tr>\n",
       "      <th>6</th>\n",
       "      <td>MMM211126C00187500</td>\n",
       "      <td>2021-11-22 20:47:55</td>\n",
       "      <td>187.5</td>\n",
       "      <td>0.06</td>\n",
       "      <td>0.0</td>\n",
       "      <td>0.0</td>\n",
       "      <td>0.0</td>\n",
       "      <td>0.0</td>\n",
       "      <td>219.0</td>\n",
       "      <td>0</td>\n",
       "      <td>0.125009</td>\n",
       "      <td>False</td>\n",
       "      <td>REGULAR</td>\n",
       "      <td>USD</td>\n",
       "    </tr>\n",
       "    <tr>\n",
       "      <th>7</th>\n",
       "      <td>MMM211126C00190000</td>\n",
       "      <td>2021-11-22 20:53:21</td>\n",
       "      <td>190.0</td>\n",
       "      <td>0.04</td>\n",
       "      <td>0.0</td>\n",
       "      <td>0.0</td>\n",
       "      <td>0.0</td>\n",
       "      <td>0.0</td>\n",
       "      <td>55.0</td>\n",
       "      <td>0</td>\n",
       "      <td>0.125009</td>\n",
       "      <td>False</td>\n",
       "      <td>REGULAR</td>\n",
       "      <td>USD</td>\n",
       "    </tr>\n",
       "    <tr>\n",
       "      <th>8</th>\n",
       "      <td>MMM211126C00192500</td>\n",
       "      <td>2021-11-22 15:32:59</td>\n",
       "      <td>192.5</td>\n",
       "      <td>0.03</td>\n",
       "      <td>0.0</td>\n",
       "      <td>0.0</td>\n",
       "      <td>0.0</td>\n",
       "      <td>0.0</td>\n",
       "      <td>3.0</td>\n",
       "      <td>0</td>\n",
       "      <td>0.125009</td>\n",
       "      <td>False</td>\n",
       "      <td>REGULAR</td>\n",
       "      <td>USD</td>\n",
       "    </tr>\n",
       "    <tr>\n",
       "      <th>9</th>\n",
       "      <td>MMM211126C00195000</td>\n",
       "      <td>2021-11-22 17:13:10</td>\n",
       "      <td>195.0</td>\n",
       "      <td>0.04</td>\n",
       "      <td>0.0</td>\n",
       "      <td>0.0</td>\n",
       "      <td>0.0</td>\n",
       "      <td>0.0</td>\n",
       "      <td>13.0</td>\n",
       "      <td>0</td>\n",
       "      <td>0.125009</td>\n",
       "      <td>False</td>\n",
       "      <td>REGULAR</td>\n",
       "      <td>USD</td>\n",
       "    </tr>\n",
       "    <tr>\n",
       "      <th>10</th>\n",
       "      <td>MMM211126C00197500</td>\n",
       "      <td>2021-11-22 16:00:50</td>\n",
       "      <td>197.5</td>\n",
       "      <td>0.03</td>\n",
       "      <td>0.0</td>\n",
       "      <td>0.0</td>\n",
       "      <td>0.0</td>\n",
       "      <td>0.0</td>\n",
       "      <td>3.0</td>\n",
       "      <td>0</td>\n",
       "      <td>0.250007</td>\n",
       "      <td>False</td>\n",
       "      <td>REGULAR</td>\n",
       "      <td>USD</td>\n",
       "    </tr>\n",
       "    <tr>\n",
       "      <th>11</th>\n",
       "      <td>MMM211126C00200000</td>\n",
       "      <td>2021-11-22 18:12:43</td>\n",
       "      <td>200.0</td>\n",
       "      <td>0.01</td>\n",
       "      <td>0.0</td>\n",
       "      <td>0.0</td>\n",
       "      <td>0.0</td>\n",
       "      <td>0.0</td>\n",
       "      <td>2.0</td>\n",
       "      <td>0</td>\n",
       "      <td>0.250007</td>\n",
       "      <td>False</td>\n",
       "      <td>REGULAR</td>\n",
       "      <td>USD</td>\n",
       "    </tr>\n",
       "    <tr>\n",
       "      <th>12</th>\n",
       "      <td>MMM211126C00205000</td>\n",
       "      <td>2021-11-17 14:46:28</td>\n",
       "      <td>205.0</td>\n",
       "      <td>1.13</td>\n",
       "      <td>0.0</td>\n",
       "      <td>0.0</td>\n",
       "      <td>0.0</td>\n",
       "      <td>0.0</td>\n",
       "      <td>1.0</td>\n",
       "      <td>0</td>\n",
       "      <td>0.250007</td>\n",
       "      <td>False</td>\n",
       "      <td>REGULAR</td>\n",
       "      <td>USD</td>\n",
       "    </tr>\n",
       "    <tr>\n",
       "      <th>13</th>\n",
       "      <td>MMM211126C00210000</td>\n",
       "      <td>2021-11-16 15:14:01</td>\n",
       "      <td>210.0</td>\n",
       "      <td>0.05</td>\n",
       "      <td>0.0</td>\n",
       "      <td>0.0</td>\n",
       "      <td>0.0</td>\n",
       "      <td>0.0</td>\n",
       "      <td>NaN</td>\n",
       "      <td>0</td>\n",
       "      <td>0.250007</td>\n",
       "      <td>False</td>\n",
       "      <td>REGULAR</td>\n",
       "      <td>USD</td>\n",
       "    </tr>\n",
       "    <tr>\n",
       "      <th>14</th>\n",
       "      <td>MMM211126C00220000</td>\n",
       "      <td>2021-10-27 19:22:49</td>\n",
       "      <td>220.0</td>\n",
       "      <td>0.01</td>\n",
       "      <td>0.0</td>\n",
       "      <td>0.0</td>\n",
       "      <td>0.0</td>\n",
       "      <td>0.0</td>\n",
       "      <td>1.0</td>\n",
       "      <td>0</td>\n",
       "      <td>0.500005</td>\n",
       "      <td>False</td>\n",
       "      <td>REGULAR</td>\n",
       "      <td>USD</td>\n",
       "    </tr>\n",
       "    <tr>\n",
       "      <th>15</th>\n",
       "      <td>MMM211126C00230000</td>\n",
       "      <td>2021-11-16 14:44:49</td>\n",
       "      <td>230.0</td>\n",
       "      <td>0.01</td>\n",
       "      <td>0.0</td>\n",
       "      <td>0.0</td>\n",
       "      <td>0.0</td>\n",
       "      <td>0.0</td>\n",
       "      <td>NaN</td>\n",
       "      <td>0</td>\n",
       "      <td>0.500005</td>\n",
       "      <td>False</td>\n",
       "      <td>REGULAR</td>\n",
       "      <td>USD</td>\n",
       "    </tr>\n",
       "  </tbody>\n",
       "</table>\n",
       "</div>"
      ],
      "text/plain": [
       "        contractSymbol       lastTradeDate  strike  lastPrice  bid  ask  \\\n",
       "0   MMM211126C00170000 2021-11-22 19:11:08   170.0      11.96  0.0  0.0   \n",
       "1   MMM211126C00175000 2021-11-22 17:54:25   175.0       6.25  0.0  0.0   \n",
       "2   MMM211126C00177500 2021-11-22 16:31:35   177.5       4.60  0.0  0.0   \n",
       "3   MMM211126C00180000 2021-11-22 20:57:47   180.0       1.26  0.0  0.0   \n",
       "4   MMM211126C00182500 2021-11-22 20:59:16   182.5       0.40  0.0  0.0   \n",
       "5   MMM211126C00185000 2021-11-22 20:50:30   185.0       0.17  0.0  0.0   \n",
       "6   MMM211126C00187500 2021-11-22 20:47:55   187.5       0.06  0.0  0.0   \n",
       "7   MMM211126C00190000 2021-11-22 20:53:21   190.0       0.04  0.0  0.0   \n",
       "8   MMM211126C00192500 2021-11-22 15:32:59   192.5       0.03  0.0  0.0   \n",
       "9   MMM211126C00195000 2021-11-22 17:13:10   195.0       0.04  0.0  0.0   \n",
       "10  MMM211126C00197500 2021-11-22 16:00:50   197.5       0.03  0.0  0.0   \n",
       "11  MMM211126C00200000 2021-11-22 18:12:43   200.0       0.01  0.0  0.0   \n",
       "12  MMM211126C00205000 2021-11-17 14:46:28   205.0       1.13  0.0  0.0   \n",
       "13  MMM211126C00210000 2021-11-16 15:14:01   210.0       0.05  0.0  0.0   \n",
       "14  MMM211126C00220000 2021-10-27 19:22:49   220.0       0.01  0.0  0.0   \n",
       "15  MMM211126C00230000 2021-11-16 14:44:49   230.0       0.01  0.0  0.0   \n",
       "\n",
       "    change  percentChange  volume  openInterest  impliedVolatility  \\\n",
       "0      0.0            0.0     1.0             0           0.000010   \n",
       "1      0.0            0.0     1.0             0           0.000010   \n",
       "2      0.0            0.0    31.0             0           0.000010   \n",
       "3      0.0            0.0   140.0             0           0.007822   \n",
       "4      0.0            0.0   332.0             0           0.031260   \n",
       "5      0.0            0.0   615.0             0           0.062509   \n",
       "6      0.0            0.0   219.0             0           0.125009   \n",
       "7      0.0            0.0    55.0             0           0.125009   \n",
       "8      0.0            0.0     3.0             0           0.125009   \n",
       "9      0.0            0.0    13.0             0           0.125009   \n",
       "10     0.0            0.0     3.0             0           0.250007   \n",
       "11     0.0            0.0     2.0             0           0.250007   \n",
       "12     0.0            0.0     1.0             0           0.250007   \n",
       "13     0.0            0.0     NaN             0           0.250007   \n",
       "14     0.0            0.0     1.0             0           0.500005   \n",
       "15     0.0            0.0     NaN             0           0.500005   \n",
       "\n",
       "    inTheMoney contractSize currency  \n",
       "0         True      REGULAR      USD  \n",
       "1         True      REGULAR      USD  \n",
       "2         True      REGULAR      USD  \n",
       "3        False      REGULAR      USD  \n",
       "4        False      REGULAR      USD  \n",
       "5        False      REGULAR      USD  \n",
       "6        False      REGULAR      USD  \n",
       "7        False      REGULAR      USD  \n",
       "8        False      REGULAR      USD  \n",
       "9        False      REGULAR      USD  \n",
       "10       False      REGULAR      USD  \n",
       "11       False      REGULAR      USD  \n",
       "12       False      REGULAR      USD  \n",
       "13       False      REGULAR      USD  \n",
       "14       False      REGULAR      USD  \n",
       "15       False      REGULAR      USD  "
      ]
     },
     "execution_count": 28,
     "metadata": {},
     "output_type": "execute_result"
    },
    {
     "name": "stdout",
     "output_type": "stream",
     "text": [
      "time: 4.12 s (started: 2021-11-22 22:00:15 -08:00)\n"
     ]
    }
   ],
   "source": [
    "options_mrkt_test('MMM', '2021-11-26', 'calls' )"
   ]
  },
  {
   "cell_type": "code",
   "execution_count": null,
   "id": "3cb8bb87-8faa-4ff8-8c68-c7a88b36ac25",
   "metadata": {},
   "outputs": [],
   "source": []
  }
 ],
 "metadata": {
  "kernelspec": {
   "display_name": "options_apps",
   "language": "python",
   "name": "options_apps"
  },
  "language_info": {
   "codemirror_mode": {
    "name": "ipython",
    "version": 3
   },
   "file_extension": ".py",
   "mimetype": "text/x-python",
   "name": "python",
   "nbconvert_exporter": "python",
   "pygments_lexer": "ipython3",
   "version": "3.9.7"
  }
 },
 "nbformat": 4,
 "nbformat_minor": 5
}
