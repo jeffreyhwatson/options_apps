{
 "cells": [
  {
   "cell_type": "code",
   "execution_count": 1,
   "id": "042caaf9-1515-4cd6-8ea5-fc8c1686ca4a",
   "metadata": {
    "execution": {
     "iopub.execute_input": "2021-11-06T05:02:20.609613Z",
     "iopub.status.busy": "2021-11-06T05:02:20.609117Z",
     "iopub.status.idle": "2021-11-06T05:02:20.727402Z",
     "shell.execute_reply": "2021-11-06T05:02:20.725560Z",
     "shell.execute_reply.started": "2021-11-06T05:02:20.609513Z"
    },
    "tags": []
   },
   "outputs": [
    {
     "name": "stdout",
     "output_type": "stream",
     "text": [
      "time: 1.55 ms (started: 2021-11-05 22:02:20 -07:00)\n"
     ]
    }
   ],
   "source": [
    "%load_ext autoreload\n",
    "%load_ext autotime\n",
    "%autoreload 2"
   ]
  },
  {
   "cell_type": "code",
   "execution_count": 2,
   "id": "87110252-c97b-4947-b2f4-a75ed8c1298b",
   "metadata": {
    "execution": {
     "iopub.execute_input": "2021-11-06T05:02:20.731500Z",
     "iopub.status.busy": "2021-11-06T05:02:20.730722Z",
     "iopub.status.idle": "2021-11-06T05:02:25.417767Z",
     "shell.execute_reply": "2021-11-06T05:02:25.416790Z",
     "shell.execute_reply.started": "2021-11-06T05:02:20.731429Z"
    },
    "tags": []
   },
   "outputs": [
    {
     "name": "stdout",
     "output_type": "stream",
     "text": [
      "time: 4.64 s (started: 2021-11-05 22:02:20 -07:00)\n"
     ]
    }
   ],
   "source": [
    "import requests, math, sys, os\n",
    "from bs4 import BeautifulSoup\n",
    "import spacy\n",
    "from spacy import displacy\n",
    "import yfinance as yf\n",
    "import pandas as pd\n",
    "import numpy as np\n",
    "import seaborn as sns\n",
    "from datetime import datetime\n",
    "import time\n",
    "\n",
    "#  setting path\n",
    "gparent = os.path.join(os.pardir)\n",
    "sys.path.append(gparent)\n",
    "\n",
    "from src import helper_functions as h"
   ]
  },
  {
   "cell_type": "markdown",
   "id": "d2e9c009-c318-40b4-9b1c-6e963146587a",
   "metadata": {},
   "source": [
    "## requests: Grabbing Headlines"
   ]
  },
  {
   "cell_type": "code",
   "execution_count": 3,
   "id": "28eee855-23ef-4248-a7b1-a83a0f897418",
   "metadata": {
    "execution": {
     "iopub.execute_input": "2021-11-06T05:02:25.421864Z",
     "iopub.status.busy": "2021-11-06T05:02:25.421535Z",
     "iopub.status.idle": "2021-11-06T05:02:25.957752Z",
     "shell.execute_reply": "2021-11-06T05:02:25.956944Z",
     "shell.execute_reply.started": "2021-11-06T05:02:25.421821Z"
    },
    "tags": []
   },
   "outputs": [
    {
     "data": {
      "text/plain": [
       "<Response [200]>"
      ]
     },
     "execution_count": 3,
     "metadata": {},
     "output_type": "execute_result"
    },
    {
     "name": "stdout",
     "output_type": "stream",
     "text": [
      "time: 452 ms (started: 2021-11-05 22:02:25 -07:00)\n"
     ]
    }
   ],
   "source": [
    "# grabbing headlines\n",
    "r = requests.get(\"http://feeds.marketwatch.com/marketwatch/topstories/\")\n",
    "r"
   ]
  },
  {
   "cell_type": "markdown",
   "id": "24e85d1d-a838-41c9-91d7-c4570d8240ec",
   "metadata": {
    "execution": {
     "iopub.execute_input": "2021-10-02T04:19:19.925337Z",
     "iopub.status.busy": "2021-10-02T04:19:19.924939Z",
     "iopub.status.idle": "2021-10-02T04:19:19.932717Z",
     "shell.execute_reply": "2021-10-02T04:19:19.930662Z",
     "shell.execute_reply.started": "2021-10-02T04:19:19.925295Z"
    }
   },
   "source": [
    "## bs4: Saving Headlines to a List"
   ]
  },
  {
   "cell_type": "code",
   "execution_count": 4,
   "id": "37fbf4e8-471b-4f06-b7a4-8be588bfa4ce",
   "metadata": {
    "execution": {
     "iopub.execute_input": "2021-11-06T05:02:25.958992Z",
     "iopub.status.busy": "2021-11-06T05:02:25.958809Z",
     "iopub.status.idle": "2021-11-06T05:02:26.037182Z",
     "shell.execute_reply": "2021-11-06T05:02:26.036392Z",
     "shell.execute_reply.started": "2021-11-06T05:02:25.958969Z"
    },
    "tags": []
   },
   "outputs": [
    {
     "data": {
      "text/plain": [
       "[<title>MarketWatch.com - Top Stories</title>,\n",
       " <title>MarketWatch.com - Top Stories</title>,\n",
       " <title>: House approves infrastructure bill, sending it to Biden to be signed into law</title>,\n",
       " <title>The Moneyist: My wife made her sister 401(k) beneficiary. I asked to be listed in case she dies first — she promised her sister would ‘give me the money.’ What should I do?</title>,\n",
       " <title>The Moneyist: My husband bought a home with his brother for $350K, but stopped paying the mortgage in 2012. Now it’s worth $700K. How should they split the proceeds?</title>,\n",
       " <title>The Big Move: I own a rental home in California. How can I leave it to my daughter so she can avoid capital gains taxes?</title>,\n",
       " <title>Market Extra: Corporate America’s borrowing binge seen barely slowing as Federal Reserve tapers</title>,\n",
       " <title>The Wall Street Journal: Attorneys general from 11 states sue Biden administration over vaccine mandate</title>,\n",
       " <title>MemeMoney: AMC’s Adam Aron has a deep and abiding belief in the power of popcorn</title>,\n",
       " <title>NewsWatch: Bitcoin cash hoax underlines need for regulatory protection, investor caution, experts say</title>,\n",
       " <title>: ‘Too many people remain unvaccinated for us to get out of this pandemic’: Business groups weigh in on employee vaccine mandate</title>,\n",
       " <title>: ‘I have never seen this before in my life’: This small business owner raised starting pay, but it’s not enough in today’s labor market</title>]"
      ]
     },
     "execution_count": 4,
     "metadata": {},
     "output_type": "execute_result"
    },
    {
     "name": "stdout",
     "output_type": "stream",
     "text": [
      "time: 11 ms (started: 2021-11-05 22:02:26 -07:00)\n"
     ]
    }
   ],
   "source": [
    "# saving headlines to a list\n",
    "soup = BeautifulSoup(r.content, features='lxml')\n",
    "headlines = soup.findAll('title')\n",
    "headlines"
   ]
  },
  {
   "cell_type": "markdown",
   "id": "ecbc497a-1907-4df3-b811-8d737816f2a9",
   "metadata": {
    "tags": []
   },
   "source": [
    "### Grabbing Headline String\n",
    "Grabbing headline and printing headline and isolated text."
   ]
  },
  {
   "cell_type": "code",
   "execution_count": 5,
   "id": "e4bf1fcd-e4c7-4242-80a4-74fe2a801af1",
   "metadata": {
    "execution": {
     "iopub.execute_input": "2021-11-06T05:02:26.039479Z",
     "iopub.status.busy": "2021-11-06T05:02:26.039044Z",
     "iopub.status.idle": "2021-11-06T05:02:26.120298Z",
     "shell.execute_reply": "2021-11-06T05:02:26.118964Z",
     "shell.execute_reply.started": "2021-11-06T05:02:26.039442Z"
    },
    "tags": []
   },
   "outputs": [
    {
     "name": "stdout",
     "output_type": "stream",
     "text": [
      "<title>: House approves infrastructure bill, sending it to Biden to be signed into law</title>\n",
      ": House approves infrastructure bill, sending it to Biden to be signed into law\n",
      "time: 1.79 ms (started: 2021-11-05 22:02:26 -07:00)\n"
     ]
    }
   ],
   "source": [
    "# grabbing test headline\n",
    "test_headline = headlines[2]\n",
    "print(test_headline)\n",
    "print(test_headline.text)"
   ]
  },
  {
   "cell_type": "markdown",
   "id": "64a103b5-d156-4a63-a420-edf19d1425f4",
   "metadata": {},
   "source": [
    "## spaCy: Tests\n",
    "Testing tokenization and name extraction on a single string."
   ]
  },
  {
   "cell_type": "markdown",
   "id": "8b5e37e8-ad08-43cb-bd0c-316b1ae687ae",
   "metadata": {},
   "source": [
    "### Loading Model"
   ]
  },
  {
   "cell_type": "code",
   "execution_count": 6,
   "id": "40c1bf45-66b6-4e0d-8096-2fa953b31232",
   "metadata": {
    "execution": {
     "iopub.execute_input": "2021-11-06T05:02:26.123265Z",
     "iopub.status.busy": "2021-11-06T05:02:26.122750Z",
     "iopub.status.idle": "2021-11-06T05:02:27.087720Z",
     "shell.execute_reply": "2021-11-06T05:02:27.086985Z",
     "shell.execute_reply.started": "2021-11-06T05:02:26.123209Z"
    },
    "tags": []
   },
   "outputs": [
    {
     "name": "stdout",
     "output_type": "stream",
     "text": [
      "time: 883 ms (started: 2021-11-05 22:02:26 -07:00)\n"
     ]
    }
   ],
   "source": [
    "# loading spacy model\n",
    "nlp = spacy.load('en_core_web_sm')"
   ]
  },
  {
   "cell_type": "markdown",
   "id": "b22eff8c-4013-46ba-9c4c-bdf8f026329d",
   "metadata": {},
   "source": [
    "### Tokenizing String\n",
    "Tokenizing the test headline."
   ]
  },
  {
   "cell_type": "code",
   "execution_count": 7,
   "id": "e3a0b3dd-c716-4edf-a5f0-d77504a32e17",
   "metadata": {
    "execution": {
     "iopub.execute_input": "2021-11-06T05:02:27.090386Z",
     "iopub.status.busy": "2021-11-06T05:02:27.089881Z",
     "iopub.status.idle": "2021-11-06T05:02:27.185416Z",
     "shell.execute_reply": "2021-11-06T05:02:27.184308Z",
     "shell.execute_reply.started": "2021-11-06T05:02:27.090339Z"
    },
    "tags": []
   },
   "outputs": [
    {
     "name": "stdout",
     "output_type": "stream",
     "text": [
      "<title>: House approves infrastructure bill, sending it to Biden to be signed into law</title>\n",
      ":\n",
      "House\n",
      "approves\n",
      "infrastructure\n",
      "bill\n",
      ",\n",
      "sending\n",
      "it\n",
      "to\n",
      "Biden\n",
      "to\n",
      "be\n",
      "signed\n",
      "into\n",
      "law\n",
      "time: 18.7 ms (started: 2021-11-05 22:02:27 -07:00)\n"
     ]
    }
   ],
   "source": [
    "# checking the test case\n",
    "processed_hline = nlp(test_headline.text)\n",
    "print(test_headline)\n",
    "for token in processed_hline:\n",
    "  print(token)"
   ]
  },
  {
   "cell_type": "markdown",
   "id": "fc53aa4f-c5a8-4fa3-9c1b-ea850c32a9db",
   "metadata": {},
   "source": [
    "## Getting Org Names From Headlines\n",
    "Visualizing named entities (real world objects) in the headlines and creating a set of organiziations."
   ]
  },
  {
   "cell_type": "code",
   "execution_count": 8,
   "id": "53e9fd0b-a896-4434-976d-5e98355705f8",
   "metadata": {
    "execution": {
     "iopub.execute_input": "2021-11-06T05:02:27.188002Z",
     "iopub.status.busy": "2021-11-06T05:02:27.187558Z",
     "iopub.status.idle": "2021-11-06T05:02:27.548871Z",
     "shell.execute_reply": "2021-11-06T05:02:27.547973Z",
     "shell.execute_reply.started": "2021-11-06T05:02:27.187956Z"
    },
    "tags": []
   },
   "outputs": [
    {
     "data": {
      "text/html": [
       "<span class=\"tex2jax_ignore\"><div class=\"entities\" style=\"line-height: 2.5; direction: ltr\">\n",
       "<mark class=\"entity\" style=\"background: #aa9cfc; padding: 0.45em 0.6em; margin: 0 0.25em; line-height: 1; border-radius: 0.35em;\">\n",
       "    MarketWatch.com - Top Stories\n",
       "    <span style=\"font-size: 0.8em; font-weight: bold; line-height: 1; border-radius: 0.35em; text-transform: uppercase; vertical-align: middle; margin-left: 0.5rem\">PERSON</span>\n",
       "</mark>\n",
       "</div></span>"
      ],
      "text/plain": [
       "<IPython.core.display.HTML object>"
      ]
     },
     "metadata": {},
     "output_type": "display_data"
    },
    {
     "data": {
      "text/html": [
       "<span class=\"tex2jax_ignore\"><div class=\"entities\" style=\"line-height: 2.5; direction: ltr\">\n",
       "<mark class=\"entity\" style=\"background: #aa9cfc; padding: 0.45em 0.6em; margin: 0 0.25em; line-height: 1; border-radius: 0.35em;\">\n",
       "    MarketWatch.com - Top Stories\n",
       "    <span style=\"font-size: 0.8em; font-weight: bold; line-height: 1; border-radius: 0.35em; text-transform: uppercase; vertical-align: middle; margin-left: 0.5rem\">PERSON</span>\n",
       "</mark>\n",
       "</div></span>"
      ],
      "text/plain": [
       "<IPython.core.display.HTML object>"
      ]
     },
     "metadata": {},
     "output_type": "display_data"
    },
    {
     "data": {
      "text/html": [
       "<span class=\"tex2jax_ignore\"><div class=\"entities\" style=\"line-height: 2.5; direction: ltr\">: \n",
       "<mark class=\"entity\" style=\"background: #7aecec; padding: 0.45em 0.6em; margin: 0 0.25em; line-height: 1; border-radius: 0.35em;\">\n",
       "    House\n",
       "    <span style=\"font-size: 0.8em; font-weight: bold; line-height: 1; border-radius: 0.35em; text-transform: uppercase; vertical-align: middle; margin-left: 0.5rem\">ORG</span>\n",
       "</mark>\n",
       " approves infrastructure bill, sending it to \n",
       "<mark class=\"entity\" style=\"background: #feca74; padding: 0.45em 0.6em; margin: 0 0.25em; line-height: 1; border-radius: 0.35em;\">\n",
       "    Biden\n",
       "    <span style=\"font-size: 0.8em; font-weight: bold; line-height: 1; border-radius: 0.35em; text-transform: uppercase; vertical-align: middle; margin-left: 0.5rem\">GPE</span>\n",
       "</mark>\n",
       " to be signed into law</div></span>"
      ],
      "text/plain": [
       "<IPython.core.display.HTML object>"
      ]
     },
     "metadata": {},
     "output_type": "display_data"
    },
    {
     "data": {
      "text/html": [
       "<span class=\"tex2jax_ignore\"><div class=\"entities\" style=\"line-height: 2.5; direction: ltr\">The Moneyist: My wife made her sister 401(k) beneficiary. I asked to be listed in case she dies \n",
       "<mark class=\"entity\" style=\"background: #e4e7d2; padding: 0.45em 0.6em; margin: 0 0.25em; line-height: 1; border-radius: 0.35em;\">\n",
       "    first\n",
       "    <span style=\"font-size: 0.8em; font-weight: bold; line-height: 1; border-radius: 0.35em; text-transform: uppercase; vertical-align: middle; margin-left: 0.5rem\">ORDINAL</span>\n",
       "</mark>\n",
       " — she promised her sister would ‘give me the money.’ What should I do?</div></span>"
      ],
      "text/plain": [
       "<IPython.core.display.HTML object>"
      ]
     },
     "metadata": {},
     "output_type": "display_data"
    },
    {
     "data": {
      "text/html": [
       "<span class=\"tex2jax_ignore\"><div class=\"entities\" style=\"line-height: 2.5; direction: ltr\">The Moneyist: My husband bought a home with his brother for $\n",
       "<mark class=\"entity\" style=\"background: #e4e7d2; padding: 0.45em 0.6em; margin: 0 0.25em; line-height: 1; border-radius: 0.35em;\">\n",
       "    350\n",
       "    <span style=\"font-size: 0.8em; font-weight: bold; line-height: 1; border-radius: 0.35em; text-transform: uppercase; vertical-align: middle; margin-left: 0.5rem\">MONEY</span>\n",
       "</mark>\n",
       "K, but stopped paying the mortgage in \n",
       "<mark class=\"entity\" style=\"background: #bfe1d9; padding: 0.45em 0.6em; margin: 0 0.25em; line-height: 1; border-radius: 0.35em;\">\n",
       "    2012\n",
       "    <span style=\"font-size: 0.8em; font-weight: bold; line-height: 1; border-radius: 0.35em; text-transform: uppercase; vertical-align: middle; margin-left: 0.5rem\">DATE</span>\n",
       "</mark>\n",
       ". Now it’s worth $\n",
       "<mark class=\"entity\" style=\"background: #e4e7d2; padding: 0.45em 0.6em; margin: 0 0.25em; line-height: 1; border-radius: 0.35em;\">\n",
       "    700K.\n",
       "    <span style=\"font-size: 0.8em; font-weight: bold; line-height: 1; border-radius: 0.35em; text-transform: uppercase; vertical-align: middle; margin-left: 0.5rem\">MONEY</span>\n",
       "</mark>\n",
       " How should they split the proceeds?</div></span>"
      ],
      "text/plain": [
       "<IPython.core.display.HTML object>"
      ]
     },
     "metadata": {},
     "output_type": "display_data"
    },
    {
     "data": {
      "text/html": [
       "<span class=\"tex2jax_ignore\"><div class=\"entities\" style=\"line-height: 2.5; direction: ltr\">The Big Move: I own a rental home in \n",
       "<mark class=\"entity\" style=\"background: #feca74; padding: 0.45em 0.6em; margin: 0 0.25em; line-height: 1; border-radius: 0.35em;\">\n",
       "    California\n",
       "    <span style=\"font-size: 0.8em; font-weight: bold; line-height: 1; border-radius: 0.35em; text-transform: uppercase; vertical-align: middle; margin-left: 0.5rem\">GPE</span>\n",
       "</mark>\n",
       ". How can I leave it to my daughter so she can avoid capital gains taxes?</div></span>"
      ],
      "text/plain": [
       "<IPython.core.display.HTML object>"
      ]
     },
     "metadata": {},
     "output_type": "display_data"
    },
    {
     "data": {
      "text/html": [
       "<span class=\"tex2jax_ignore\"><div class=\"entities\" style=\"line-height: 2.5; direction: ltr\">Market Extra: Corporate America’s borrowing binge seen barely slowing as \n",
       "<mark class=\"entity\" style=\"background: #7aecec; padding: 0.45em 0.6em; margin: 0 0.25em; line-height: 1; border-radius: 0.35em;\">\n",
       "    Federal Reserve\n",
       "    <span style=\"font-size: 0.8em; font-weight: bold; line-height: 1; border-radius: 0.35em; text-transform: uppercase; vertical-align: middle; margin-left: 0.5rem\">ORG</span>\n",
       "</mark>\n",
       " tapers</div></span>"
      ],
      "text/plain": [
       "<IPython.core.display.HTML object>"
      ]
     },
     "metadata": {},
     "output_type": "display_data"
    },
    {
     "data": {
      "text/html": [
       "<span class=\"tex2jax_ignore\"><div class=\"entities\" style=\"line-height: 2.5; direction: ltr\">\n",
       "<mark class=\"entity\" style=\"background: #7aecec; padding: 0.45em 0.6em; margin: 0 0.25em; line-height: 1; border-radius: 0.35em;\">\n",
       "    The Wall Street Journal\n",
       "    <span style=\"font-size: 0.8em; font-weight: bold; line-height: 1; border-radius: 0.35em; text-transform: uppercase; vertical-align: middle; margin-left: 0.5rem\">ORG</span>\n",
       "</mark>\n",
       ": Attorneys general from \n",
       "<mark class=\"entity\" style=\"background: #e4e7d2; padding: 0.45em 0.6em; margin: 0 0.25em; line-height: 1; border-radius: 0.35em;\">\n",
       "    11\n",
       "    <span style=\"font-size: 0.8em; font-weight: bold; line-height: 1; border-radius: 0.35em; text-transform: uppercase; vertical-align: middle; margin-left: 0.5rem\">CARDINAL</span>\n",
       "</mark>\n",
       " states sue \n",
       "<mark class=\"entity\" style=\"background: #ff9561; padding: 0.45em 0.6em; margin: 0 0.25em; line-height: 1; border-radius: 0.35em;\">\n",
       "    Biden\n",
       "    <span style=\"font-size: 0.8em; font-weight: bold; line-height: 1; border-radius: 0.35em; text-transform: uppercase; vertical-align: middle; margin-left: 0.5rem\">LOC</span>\n",
       "</mark>\n",
       " administration over vaccine mandate</div></span>"
      ],
      "text/plain": [
       "<IPython.core.display.HTML object>"
      ]
     },
     "metadata": {},
     "output_type": "display_data"
    },
    {
     "data": {
      "text/html": [
       "<span class=\"tex2jax_ignore\"><div class=\"entities\" style=\"line-height: 2.5; direction: ltr\">\n",
       "<mark class=\"entity\" style=\"background: #aa9cfc; padding: 0.45em 0.6em; margin: 0 0.25em; line-height: 1; border-radius: 0.35em;\">\n",
       "    MemeMoney\n",
       "    <span style=\"font-size: 0.8em; font-weight: bold; line-height: 1; border-radius: 0.35em; text-transform: uppercase; vertical-align: middle; margin-left: 0.5rem\">PERSON</span>\n",
       "</mark>\n",
       ": \n",
       "<mark class=\"entity\" style=\"background: #aa9cfc; padding: 0.45em 0.6em; margin: 0 0.25em; line-height: 1; border-radius: 0.35em;\">\n",
       "    AMC\n",
       "    <span style=\"font-size: 0.8em; font-weight: bold; line-height: 1; border-radius: 0.35em; text-transform: uppercase; vertical-align: middle; margin-left: 0.5rem\">PERSON</span>\n",
       "</mark>\n",
       "’s \n",
       "<mark class=\"entity\" style=\"background: #aa9cfc; padding: 0.45em 0.6em; margin: 0 0.25em; line-height: 1; border-radius: 0.35em;\">\n",
       "    Adam Aron\n",
       "    <span style=\"font-size: 0.8em; font-weight: bold; line-height: 1; border-radius: 0.35em; text-transform: uppercase; vertical-align: middle; margin-left: 0.5rem\">PERSON</span>\n",
       "</mark>\n",
       " has a deep and abiding belief in the power of popcorn</div></span>"
      ],
      "text/plain": [
       "<IPython.core.display.HTML object>"
      ]
     },
     "metadata": {},
     "output_type": "display_data"
    },
    {
     "data": {
      "text/html": [
       "<span class=\"tex2jax_ignore\"><div class=\"entities\" style=\"line-height: 2.5; direction: ltr\">NewsWatch: \n",
       "<mark class=\"entity\" style=\"background: #feca74; padding: 0.45em 0.6em; margin: 0 0.25em; line-height: 1; border-radius: 0.35em;\">\n",
       "    Bitcoin\n",
       "    <span style=\"font-size: 0.8em; font-weight: bold; line-height: 1; border-radius: 0.35em; text-transform: uppercase; vertical-align: middle; margin-left: 0.5rem\">GPE</span>\n",
       "</mark>\n",
       " cash hoax underlines need for regulatory protection, investor caution, experts say</div></span>"
      ],
      "text/plain": [
       "<IPython.core.display.HTML object>"
      ]
     },
     "metadata": {},
     "output_type": "display_data"
    },
    {
     "data": {
      "text/html": [
       "<span class=\"tex2jax_ignore\"><div class=\"entities\" style=\"line-height: 2.5; direction: ltr\">: ‘I have never seen this before in my life’: This small business owner raised starting pay, but it’s not enough in \n",
       "<mark class=\"entity\" style=\"background: #bfe1d9; padding: 0.45em 0.6em; margin: 0 0.25em; line-height: 1; border-radius: 0.35em;\">\n",
       "    today\n",
       "    <span style=\"font-size: 0.8em; font-weight: bold; line-height: 1; border-radius: 0.35em; text-transform: uppercase; vertical-align: middle; margin-left: 0.5rem\">DATE</span>\n",
       "</mark>\n",
       "’s labor market</div></span>"
      ],
      "text/plain": [
       "<IPython.core.display.HTML object>"
      ]
     },
     "metadata": {},
     "output_type": "display_data"
    },
    {
     "name": "stdout",
     "output_type": "stream",
     "text": [
      "{'Federal Reserve', 'The Wall Street Journal', 'House'}\n",
      "time: 278 ms (started: 2021-11-05 22:02:27 -07:00)\n"
     ]
    }
   ],
   "source": [
    "# pulling company name tokens from headlines\n",
    "companies = []\n",
    "for title in headlines:\n",
    "    doc = nlp(title.text)\n",
    "    if len(doc.ents) != 0:\n",
    "        displacy.render(doc, style='ent')\n",
    "    else:\n",
    "        pass\n",
    "    for token in doc.ents:\n",
    "        if token.label_ == 'ORG':\n",
    "            companies.append(token.text)\n",
    "        else:\n",
    "            pass\n",
    "companies = set(companies)\n",
    "print(companies)"
   ]
  },
  {
   "cell_type": "markdown",
   "id": "90e46e54-cd0e-4d1b-bfdb-39c3f5b23032",
   "metadata": {},
   "source": [
    "## Scraping S&P 500 Stock Table w/Requests & BeautifulSoup"
   ]
  },
  {
   "cell_type": "code",
   "execution_count": 9,
   "id": "dc3866e6-298d-4e2e-beda-5c4baad44ba8",
   "metadata": {
    "execution": {
     "iopub.execute_input": "2021-11-06T05:02:27.551858Z",
     "iopub.status.busy": "2021-11-06T05:02:27.551346Z",
     "iopub.status.idle": "2021-11-06T05:02:28.468635Z",
     "shell.execute_reply": "2021-11-06T05:02:28.467730Z",
     "shell.execute_reply.started": "2021-11-06T05:02:27.551820Z"
    },
    "tags": []
   },
   "outputs": [
    {
     "name": "stdout",
     "output_type": "stream",
     "text": [
      "[<tr>\n",
      "<td><a class=\"external text\" href=\"https://www.nyse.com/quote/XNYS:MMM\" rel=\"nofollow\">MMM</a>\n",
      "</td>\n",
      "<td><a href=\"/wiki/3M\" title=\"3M\">3M</a></td>\n",
      "<td><a class=\"external text\" href=\"https://www.sec.gov/edgar/browse/?CIK=66740\" rel=\"nofollow\">reports</a></td>\n",
      "<td>Industrials</td>\n",
      "<td>Industrial Conglomerates</td>\n",
      "<td><a href=\"/wiki/Saint_Paul,_Minnesota\" title=\"Saint Paul, Minnesota\">Saint Paul, Minnesota</a></td>\n",
      "<td>1976-08-09</td>\n",
      "<td>0000066740</td>\n",
      "<td>1902\n",
      "</td></tr>]\n",
      "time: 832 ms (started: 2021-11-05 22:02:27 -07:00)\n"
     ]
    }
   ],
   "source": [
    "# scraping S&P wikipedia page\n",
    "r = requests.get('https://en.wikipedia.org/wiki/List_of_S%26P_500_companies')\n",
    "\n",
    "# parsing the html\n",
    "soup = BeautifulSoup(r.text, 'lxml')\n",
    "\n",
    "# extracting the table\n",
    "table = soup.find('table', {'class': 'wikitable sortable'})\n",
    "\n",
    "# printing row with first stock\n",
    "print(table.findAll('tr')[1:2])"
   ]
  },
  {
   "cell_type": "markdown",
   "id": "a95b9b49-5ab4-4bf8-aff7-6b7c3fad5c4d",
   "metadata": {},
   "source": [
    "### Ticker Symbols\n",
    "Grabbing the ticker symbol from the first cell of each row."
   ]
  },
  {
   "cell_type": "code",
   "execution_count": 10,
   "id": "f5f74629-2adb-44dc-93fd-9f50f5fe65ba",
   "metadata": {
    "execution": {
     "iopub.execute_input": "2021-11-06T05:02:28.471090Z",
     "iopub.status.busy": "2021-11-06T05:02:28.470688Z",
     "iopub.status.idle": "2021-11-06T05:02:28.566849Z",
     "shell.execute_reply": "2021-11-06T05:02:28.565781Z",
     "shell.execute_reply.started": "2021-11-06T05:02:28.471041Z"
    },
    "tags": []
   },
   "outputs": [
    {
     "name": "stdout",
     "output_type": "stream",
     "text": [
      "['MMM\\n', 'ABT\\n', 'ABBV\\n', 'ABMD\\n', 'ACN\\n']\n",
      "time: 25.4 ms (started: 2021-11-05 22:02:28 -07:00)\n"
     ]
    }
   ],
   "source": [
    "# making list of symbols\n",
    "symbols = [row.findAll('td')[0].text for row in table.findAll('tr')[1:]]\n",
    "\n",
    "# checking first 5 symbols\n",
    "print(symbols[:5])"
   ]
  },
  {
   "cell_type": "code",
   "execution_count": 11,
   "id": "b77d668d-6376-4a48-9545-d8a90258cf0b",
   "metadata": {
    "execution": {
     "iopub.execute_input": "2021-11-06T05:02:28.569458Z",
     "iopub.status.busy": "2021-11-06T05:02:28.568962Z",
     "iopub.status.idle": "2021-11-06T05:02:28.649566Z",
     "shell.execute_reply": "2021-11-06T05:02:28.648365Z",
     "shell.execute_reply.started": "2021-11-06T05:02:28.569408Z"
    },
    "tags": []
   },
   "outputs": [
    {
     "name": "stdout",
     "output_type": "stream",
     "text": [
      "['MMM', 'ABT', 'ABBV', 'ABMD', 'ACN']\n",
      "time: 1.51 ms (started: 2021-11-05 22:02:28 -07:00)\n"
     ]
    }
   ],
   "source": [
    "# stripping new line character from the strings \n",
    "symbols = list(map(lambda s: s.strip(), symbols))\n",
    "\n",
    "# checking first 5 symbols\n",
    "print(symbols[:5])"
   ]
  },
  {
   "cell_type": "markdown",
   "id": "00b559c3-162e-4815-8469-e769568cbbb9",
   "metadata": {},
   "source": [
    "### Names\n",
    "Grabbing the company name from the second cell of each row."
   ]
  },
  {
   "cell_type": "code",
   "execution_count": 12,
   "id": "acea8f4e-07ad-4192-bf5b-058473a22780",
   "metadata": {
    "execution": {
     "iopub.execute_input": "2021-11-06T05:02:28.661731Z",
     "iopub.status.busy": "2021-11-06T05:02:28.661276Z",
     "iopub.status.idle": "2021-11-06T05:02:28.760541Z",
     "shell.execute_reply": "2021-11-06T05:02:28.759624Z",
     "shell.execute_reply.started": "2021-11-06T05:02:28.661680Z"
    },
    "tags": []
   },
   "outputs": [
    {
     "name": "stdout",
     "output_type": "stream",
     "text": [
      "['3M', 'Abbott Laboratories', 'AbbVie', 'Abiomed', 'Accenture']\n",
      "time: 22.1 ms (started: 2021-11-05 22:02:28 -07:00)\n"
     ]
    }
   ],
   "source": [
    "# making list of names\n",
    "names = [row.findAll('td')[1].text for row in table.findAll('tr')[1:]]\n",
    "\n",
    "# checking first five names\n",
    "print(names[:5])"
   ]
  },
  {
   "cell_type": "markdown",
   "id": "ce32f7af-4063-478f-b271-9532bba69c02",
   "metadata": {},
   "source": [
    "### Industries\n",
    "Grabbing the company industry from the fifth cell of each row."
   ]
  },
  {
   "cell_type": "code",
   "execution_count": 13,
   "id": "c631cf95-8d3d-4f6a-bb9e-1774e9256372",
   "metadata": {
    "execution": {
     "iopub.execute_input": "2021-11-06T05:02:28.762670Z",
     "iopub.status.busy": "2021-11-06T05:02:28.762311Z",
     "iopub.status.idle": "2021-11-06T05:02:28.860628Z",
     "shell.execute_reply": "2021-11-06T05:02:28.859760Z",
     "shell.execute_reply.started": "2021-11-06T05:02:28.762625Z"
    },
    "tags": []
   },
   "outputs": [
    {
     "name": "stdout",
     "output_type": "stream",
     "text": [
      "['Industrial Conglomerates', 'Health Care Equipment', 'Pharmaceuticals', 'Health Care Equipment', 'IT Consulting & Other Services']\n",
      "time: 24.4 ms (started: 2021-11-05 22:02:28 -07:00)\n"
     ]
    }
   ],
   "source": [
    "# making list of industries\n",
    "industries = [row.findAll('td')[4].text for row in table.findAll('tr')[1:]]\n",
    "\n",
    "# checking first five names\n",
    "print(industries[:5])"
   ]
  },
  {
   "cell_type": "markdown",
   "id": "6365495f-2364-4b54-85e2-5bbfae172dd0",
   "metadata": {},
   "source": [
    "## S&P 500 Dataframe\n",
    "Creating a data frame of stocks in the S&P 500 index."
   ]
  },
  {
   "cell_type": "code",
   "execution_count": 14,
   "id": "20e47c1d-d75b-424c-9a57-1075d4b5bf12",
   "metadata": {
    "execution": {
     "iopub.execute_input": "2021-11-06T05:02:28.863359Z",
     "iopub.status.busy": "2021-11-06T05:02:28.862644Z",
     "iopub.status.idle": "2021-11-06T05:02:28.982463Z",
     "shell.execute_reply": "2021-11-06T05:02:28.981094Z",
     "shell.execute_reply.started": "2021-11-06T05:02:28.863320Z"
    },
    "tags": []
   },
   "outputs": [
    {
     "name": "stdout",
     "output_type": "stream",
     "text": [
      "(505, 3)\n"
     ]
    },
    {
     "data": {
      "text/html": [
       "<div>\n",
       "<style scoped>\n",
       "    .dataframe tbody tr th:only-of-type {\n",
       "        vertical-align: middle;\n",
       "    }\n",
       "\n",
       "    .dataframe tbody tr th {\n",
       "        vertical-align: top;\n",
       "    }\n",
       "\n",
       "    .dataframe thead th {\n",
       "        text-align: right;\n",
       "    }\n",
       "</style>\n",
       "<table border=\"1\" class=\"dataframe\">\n",
       "  <thead>\n",
       "    <tr style=\"text-align: right;\">\n",
       "      <th></th>\n",
       "      <th>Company Name</th>\n",
       "      <th>Symbol</th>\n",
       "      <th>Industry</th>\n",
       "    </tr>\n",
       "  </thead>\n",
       "  <tbody>\n",
       "    <tr>\n",
       "      <th>0</th>\n",
       "      <td>3M</td>\n",
       "      <td>MMM</td>\n",
       "      <td>Industrial Conglomerates</td>\n",
       "    </tr>\n",
       "    <tr>\n",
       "      <th>1</th>\n",
       "      <td>Abbott Laboratories</td>\n",
       "      <td>ABT</td>\n",
       "      <td>Health Care Equipment</td>\n",
       "    </tr>\n",
       "    <tr>\n",
       "      <th>2</th>\n",
       "      <td>AbbVie</td>\n",
       "      <td>ABBV</td>\n",
       "      <td>Pharmaceuticals</td>\n",
       "    </tr>\n",
       "    <tr>\n",
       "      <th>3</th>\n",
       "      <td>Abiomed</td>\n",
       "      <td>ABMD</td>\n",
       "      <td>Health Care Equipment</td>\n",
       "    </tr>\n",
       "    <tr>\n",
       "      <th>4</th>\n",
       "      <td>Accenture</td>\n",
       "      <td>ACN</td>\n",
       "      <td>IT Consulting &amp; Other Services</td>\n",
       "    </tr>\n",
       "  </tbody>\n",
       "</table>\n",
       "</div>"
      ],
      "text/plain": [
       "          Company Name Symbol                        Industry\n",
       "0                   3M    MMM        Industrial Conglomerates\n",
       "1  Abbott Laboratories    ABT           Health Care Equipment\n",
       "2               AbbVie   ABBV                 Pharmaceuticals\n",
       "3              Abiomed   ABMD           Health Care Equipment\n",
       "4            Accenture    ACN  IT Consulting & Other Services"
      ]
     },
     "execution_count": 14,
     "metadata": {},
     "output_type": "execute_result"
    },
    {
     "name": "stdout",
     "output_type": "stream",
     "text": [
      "time: 19.4 ms (started: 2021-11-05 22:02:28 -07:00)\n"
     ]
    }
   ],
   "source": [
    "# making a data dictionary\n",
    "data = {'Company Name': names, 'Symbol': symbols, 'Industry': industries}\n",
    "\n",
    "# creating data frame from the data\n",
    "stocks_df = pd.DataFrame.from_dict(data)\n",
    "\n",
    "# checking shape and first five rows\n",
    "print(stocks_df.shape)\n",
    "stocks_df.head()"
   ]
  },
  {
   "cell_type": "markdown",
   "id": "7e8eb610-65e8-4f68-9296-e8971071f5dc",
   "metadata": {},
   "source": [
    "### Checking yf Stock Info Dictionary Keys\n",
    "Checking the dictionary keys available for pulling stock information."
   ]
  },
  {
   "cell_type": "code",
   "execution_count": 15,
   "id": "6a0d5f31-6176-4772-973f-d3f8dc331cdf",
   "metadata": {
    "execution": {
     "iopub.execute_input": "2021-11-06T05:02:28.985159Z",
     "iopub.status.busy": "2021-11-06T05:02:28.984579Z",
     "iopub.status.idle": "2021-11-06T05:02:29.075370Z",
     "shell.execute_reply": "2021-11-06T05:02:29.073912Z",
     "shell.execute_reply.started": "2021-11-06T05:02:28.985106Z"
    },
    "tags": []
   },
   "outputs": [
    {
     "name": "stdout",
     "output_type": "stream",
     "text": [
      "time: 5.92 ms (started: 2021-11-05 22:02:29 -07:00)\n"
     ]
    }
   ],
   "source": [
    "# instantiating a ticker object\n",
    "ACN = yf.Ticker('ACN')"
   ]
  },
  {
   "cell_type": "code",
   "execution_count": 16,
   "id": "2a8a9f7b-5358-4cb6-b0d3-4adda8696933",
   "metadata": {
    "execution": {
     "iopub.execute_input": "2021-11-06T05:02:29.077950Z",
     "iopub.status.busy": "2021-11-06T05:02:29.077511Z",
     "iopub.status.idle": "2021-11-06T05:02:32.189526Z",
     "shell.execute_reply": "2021-11-06T05:02:32.188525Z",
     "shell.execute_reply.started": "2021-11-06T05:02:29.077908Z"
    },
    "tags": []
   },
   "outputs": [
    {
     "data": {
      "text/plain": [
       "dict_keys(['zip', 'sector', 'fullTimeEmployees', 'longBusinessSummary', 'city', 'phone', 'country', 'companyOfficers', 'website', 'maxAge', 'address1', 'fax', 'industry', 'address2', 'ebitdaMargins', 'profitMargins', 'grossMargins', 'operatingCashflow', 'revenueGrowth', 'operatingMargins', 'ebitda', 'targetLowPrice', 'recommendationKey', 'grossProfits', 'freeCashflow', 'targetMedianPrice', 'currentPrice', 'earningsGrowth', 'currentRatio', 'returnOnAssets', 'numberOfAnalystOpinions', 'targetMeanPrice', 'debtToEquity', 'returnOnEquity', 'targetHighPrice', 'totalCash', 'totalDebt', 'totalRevenue', 'totalCashPerShare', 'financialCurrency', 'revenuePerShare', 'quickRatio', 'recommendationMean', 'exchange', 'shortName', 'longName', 'exchangeTimezoneName', 'exchangeTimezoneShortName', 'isEsgPopulated', 'gmtOffSetMilliseconds', 'quoteType', 'symbol', 'messageBoardId', 'market', 'annualHoldingsTurnover', 'enterpriseToRevenue', 'beta3Year', 'enterpriseToEbitda', '52WeekChange', 'morningStarRiskRating', 'forwardEps', 'revenueQuarterlyGrowth', 'sharesOutstanding', 'fundInceptionDate', 'annualReportExpenseRatio', 'totalAssets', 'bookValue', 'sharesShort', 'sharesPercentSharesOut', 'fundFamily', 'lastFiscalYearEnd', 'heldPercentInstitutions', 'netIncomeToCommon', 'trailingEps', 'lastDividendValue', 'SandP52WeekChange', 'priceToBook', 'heldPercentInsiders', 'nextFiscalYearEnd', 'yield', 'mostRecentQuarter', 'shortRatio', 'sharesShortPreviousMonthDate', 'floatShares', 'beta', 'enterpriseValue', 'priceHint', 'threeYearAverageReturn', 'lastSplitDate', 'lastSplitFactor', 'legalType', 'lastDividendDate', 'morningStarOverallRating', 'earningsQuarterlyGrowth', 'priceToSalesTrailing12Months', 'dateShortInterest', 'pegRatio', 'ytdReturn', 'forwardPE', 'lastCapGain', 'shortPercentOfFloat', 'sharesShortPriorMonth', 'impliedSharesOutstanding', 'category', 'fiveYearAverageReturn', 'previousClose', 'regularMarketOpen', 'twoHundredDayAverage', 'trailingAnnualDividendYield', 'payoutRatio', 'volume24Hr', 'regularMarketDayHigh', 'navPrice', 'averageDailyVolume10Day', 'regularMarketPreviousClose', 'fiftyDayAverage', 'trailingAnnualDividendRate', 'open', 'toCurrency', 'averageVolume10days', 'expireDate', 'algorithm', 'dividendRate', 'exDividendDate', 'circulatingSupply', 'startDate', 'regularMarketDayLow', 'currency', 'trailingPE', 'regularMarketVolume', 'lastMarket', 'maxSupply', 'openInterest', 'marketCap', 'volumeAllCurrencies', 'strikePrice', 'averageVolume', 'dayLow', 'ask', 'askSize', 'volume', 'fiftyTwoWeekHigh', 'fromCurrency', 'fiveYearAvgDividendYield', 'fiftyTwoWeekLow', 'bid', 'tradeable', 'dividendYield', 'bidSize', 'dayHigh', 'regularMarketPrice', 'logo_url'])"
      ]
     },
     "execution_count": 16,
     "metadata": {},
     "output_type": "execute_result"
    },
    {
     "name": "stdout",
     "output_type": "stream",
     "text": [
      "time: 3.03 s (started: 2021-11-05 22:02:29 -07:00)\n"
     ]
    }
   ],
   "source": [
    "# checking keys\n",
    "ACN.info.keys()"
   ]
  },
  {
   "cell_type": "markdown",
   "id": "f5ac7667-150a-4a9b-a20b-f142e3a84eef",
   "metadata": {},
   "source": [
    "### Data for Stocks in the News\n",
    "Creating a data frame of price and dividend information for S&P 500 stocks in the news in the following steps:\n",
    "\n",
    "- Create a data dictionary from the list of companies in the headlines.\n",
    "\n",
    "- Create a data frame from data dictionary."
   ]
  },
  {
   "cell_type": "code",
   "execution_count": 17,
   "id": "75714472-48d2-4d1a-8839-cb2a373be809",
   "metadata": {
    "execution": {
     "iopub.execute_input": "2021-11-06T05:02:32.190887Z",
     "iopub.status.busy": "2021-11-06T05:02:32.190626Z",
     "iopub.status.idle": "2021-11-06T05:02:32.255985Z",
     "shell.execute_reply": "2021-11-06T05:02:32.255360Z",
     "shell.execute_reply.started": "2021-11-06T05:02:32.190850Z"
    },
    "tags": []
   },
   "outputs": [
    {
     "name": "stdout",
     "output_type": "stream",
     "text": [
      "time: 5.18 ms (started: 2021-11-05 22:02:32 -07:00)\n"
     ]
    }
   ],
   "source": [
    "# creating empty stock info dictionary\n",
    "stock_data = {\n",
    "    'Company': [],\n",
    "    'Symbol': [],\n",
    "    'currentPrice': [],\n",
    "    'dayHigh': [],\n",
    "    'dayLow': [],\n",
    "    '52wkHigh': [],\n",
    "    '52wkLow': [],\n",
    "    'dividendRate': []\n",
    "    \n",
    "}\n",
    "\n",
    "# loading stocks from s&p dataframe and appending data from yf\n",
    "for company in companies:\n",
    "\n",
    "    try:\n",
    "        if stocks_df['Company Name'].str.contains(company).sum():\n",
    "            symbol = stocks_df[stocks_df['Company Name'].\\\n",
    "                                str.contains(company)]['Symbol'].values[0]\n",
    "            org_name = stocks_df[stocks_df['Company Name'].\\\n",
    "                                str.contains(company)]['Company Name'].values[0]\n",
    "            stock_data['Company'].append(org_name)\n",
    "            stock_data['Symbol'].append(symbol)\n",
    "            stock_info = yf.Ticker(symbol).info\n",
    "            stock_data['currentPrice'].append(stock_info['currentPrice'])\n",
    "            stock_data['dayHigh'].append(stock_info['dayHigh'])\n",
    "            stock_data['dayLow'].append(stock_info['dayLow'])\n",
    "            stock_data['52wkHigh'].append(stock_info['fiftyTwoWeekHigh'])\n",
    "            stock_data['52wkLow'].append(stock_info['fiftyTwoWeekLow'])            \n",
    "            \n",
    "            # converting dividend None types to floats\n",
    "            dividend = stock_info['dividendRate']\n",
    "            if dividend != None:\n",
    "                dividend = dividend\n",
    "            else:\n",
    "                dividend = 0\n",
    "            stock_data['dividendRate'].append(dividend)\n",
    "        else:\n",
    "            pass\n",
    "    except:\n",
    "        pass"
   ]
  },
  {
   "cell_type": "code",
   "execution_count": 18,
   "id": "5775a08d-a060-4407-ad69-8bc0ba6222ec",
   "metadata": {
    "execution": {
     "iopub.execute_input": "2021-11-06T05:02:32.257956Z",
     "iopub.status.busy": "2021-11-06T05:02:32.257481Z",
     "iopub.status.idle": "2021-11-06T05:02:32.324119Z",
     "shell.execute_reply": "2021-11-06T05:02:32.323232Z",
     "shell.execute_reply.started": "2021-11-06T05:02:32.257899Z"
    },
    "tags": []
   },
   "outputs": [
    {
     "data": {
      "text/plain": [
       "{'Company': [],\n",
       " 'Symbol': [],\n",
       " 'currentPrice': [],\n",
       " 'dayHigh': [],\n",
       " 'dayLow': [],\n",
       " '52wkHigh': [],\n",
       " '52wkLow': [],\n",
       " 'dividendRate': []}"
      ]
     },
     "execution_count": 18,
     "metadata": {},
     "output_type": "execute_result"
    },
    {
     "name": "stdout",
     "output_type": "stream",
     "text": [
      "time: 2.76 ms (started: 2021-11-05 22:02:32 -07:00)\n"
     ]
    }
   ],
   "source": [
    "# checking dict\n",
    "stock_data"
   ]
  },
  {
   "cell_type": "markdown",
   "id": "0405069b-2119-4a58-9abd-367967bf4f31",
   "metadata": {},
   "source": [
    "### Data Frame of S&P 500 Stocks in the News"
   ]
  },
  {
   "cell_type": "code",
   "execution_count": 19,
   "id": "61e25bba-2b56-4eec-9072-12b69b6fd94c",
   "metadata": {
    "execution": {
     "iopub.execute_input": "2021-11-06T05:02:32.325624Z",
     "iopub.status.busy": "2021-11-06T05:02:32.325366Z",
     "iopub.status.idle": "2021-11-06T05:02:32.395556Z",
     "shell.execute_reply": "2021-11-06T05:02:32.394787Z",
     "shell.execute_reply.started": "2021-11-06T05:02:32.325591Z"
    },
    "tags": []
   },
   "outputs": [
    {
     "data": {
      "text/html": [
       "<div>\n",
       "<style scoped>\n",
       "    .dataframe tbody tr th:only-of-type {\n",
       "        vertical-align: middle;\n",
       "    }\n",
       "\n",
       "    .dataframe tbody tr th {\n",
       "        vertical-align: top;\n",
       "    }\n",
       "\n",
       "    .dataframe thead th {\n",
       "        text-align: right;\n",
       "    }\n",
       "</style>\n",
       "<table border=\"1\" class=\"dataframe\">\n",
       "  <thead>\n",
       "    <tr style=\"text-align: right;\">\n",
       "      <th></th>\n",
       "      <th>Company</th>\n",
       "      <th>Symbol</th>\n",
       "      <th>currentPrice</th>\n",
       "      <th>dayHigh</th>\n",
       "      <th>dayLow</th>\n",
       "      <th>52wkHigh</th>\n",
       "      <th>52wkLow</th>\n",
       "      <th>dividendRate</th>\n",
       "    </tr>\n",
       "  </thead>\n",
       "  <tbody>\n",
       "  </tbody>\n",
       "</table>\n",
       "</div>"
      ],
      "text/plain": [
       "Empty DataFrame\n",
       "Columns: [Company, Symbol, currentPrice, dayHigh, dayLow, 52wkHigh, 52wkLow, dividendRate]\n",
       "Index: []"
      ]
     },
     "execution_count": 19,
     "metadata": {},
     "output_type": "execute_result"
    },
    {
     "name": "stdout",
     "output_type": "stream",
     "text": [
      "time: 6.99 ms (started: 2021-11-05 22:02:32 -07:00)\n"
     ]
    }
   ],
   "source": [
    "in_the_news = pd.DataFrame(stock_data)\n",
    "in_the_news.head()"
   ]
  },
  {
   "cell_type": "code",
   "execution_count": 20,
   "id": "84fcb1ec-5d31-43d0-988f-a3eabe80c558",
   "metadata": {
    "execution": {
     "iopub.execute_input": "2021-11-06T05:02:32.397285Z",
     "iopub.status.busy": "2021-11-06T05:02:32.397024Z",
     "iopub.status.idle": "2021-11-06T05:02:32.471474Z",
     "shell.execute_reply": "2021-11-06T05:02:32.470301Z",
     "shell.execute_reply.started": "2021-11-06T05:02:32.397251Z"
    },
    "tags": []
   },
   "outputs": [
    {
     "name": "stdout",
     "output_type": "stream",
     "text": [
      "<class 'pandas.core.frame.DataFrame'>\n",
      "RangeIndex: 0 entries\n",
      "Data columns (total 8 columns):\n",
      " #   Column        Non-Null Count  Dtype  \n",
      "---  ------        --------------  -----  \n",
      " 0   Company       0 non-null      float64\n",
      " 1   Symbol        0 non-null      float64\n",
      " 2   currentPrice  0 non-null      float64\n",
      " 3   dayHigh       0 non-null      float64\n",
      " 4   dayLow        0 non-null      float64\n",
      " 5   52wkHigh      0 non-null      float64\n",
      " 6   52wkLow       0 non-null      float64\n",
      " 7   dividendRate  0 non-null      float64\n",
      "dtypes: float64(8)\n",
      "memory usage: 124.0 bytes\n",
      "time: 6.17 ms (started: 2021-11-05 22:02:32 -07:00)\n"
     ]
    }
   ],
   "source": [
    "# checking Dtypes\n",
    "in_the_news.info()"
   ]
  },
  {
   "cell_type": "markdown",
   "id": "278593a1-e249-4fbb-ab2b-0c2e2d5e7f5d",
   "metadata": {},
   "source": [
    "## Individual Stock Price Helper Function\n",
    "Checking the helper function."
   ]
  },
  {
   "cell_type": "code",
   "execution_count": 23,
   "id": "d19f4da9-ae51-4818-80d8-692090419d81",
   "metadata": {
    "execution": {
     "iopub.execute_input": "2021-11-06T05:05:41.857863Z",
     "iopub.status.busy": "2021-11-06T05:05:41.857586Z",
     "iopub.status.idle": "2021-11-06T05:05:45.029512Z",
     "shell.execute_reply": "2021-11-06T05:05:45.028835Z",
     "shell.execute_reply.started": "2021-11-06T05:05:41.857840Z"
    },
    "tags": []
   },
   "outputs": [
    {
     "data": {
      "text/html": [
       "<div>\n",
       "<style scoped>\n",
       "    .dataframe tbody tr th:only-of-type {\n",
       "        vertical-align: middle;\n",
       "    }\n",
       "\n",
       "    .dataframe tbody tr th {\n",
       "        vertical-align: top;\n",
       "    }\n",
       "\n",
       "    .dataframe thead th {\n",
       "        text-align: right;\n",
       "    }\n",
       "</style>\n",
       "<table border=\"1\" class=\"dataframe\">\n",
       "  <thead>\n",
       "    <tr style=\"text-align: right;\">\n",
       "      <th></th>\n",
       "      <th>Company</th>\n",
       "      <th>Symbol</th>\n",
       "      <th>currentPrice</th>\n",
       "      <th>dayHigh</th>\n",
       "      <th>dayLow</th>\n",
       "      <th>52wkHigh</th>\n",
       "      <th>52wkLow</th>\n",
       "      <th>dividendRate</th>\n",
       "    </tr>\n",
       "  </thead>\n",
       "  <tbody>\n",
       "    <tr>\n",
       "      <th>0</th>\n",
       "      <td>3M Company</td>\n",
       "      <td>MMM</td>\n",
       "      <td>181.8</td>\n",
       "      <td>183.82</td>\n",
       "      <td>180.95</td>\n",
       "      <td>208.95</td>\n",
       "      <td>163.15</td>\n",
       "      <td>5.92</td>\n",
       "    </tr>\n",
       "  </tbody>\n",
       "</table>\n",
       "</div>"
      ],
      "text/plain": [
       "      Company Symbol  currentPrice  dayHigh  dayLow  52wkHigh  52wkLow  \\\n",
       "0  3M Company    MMM         181.8   183.82  180.95    208.95   163.15   \n",
       "\n",
       "   dividendRate  \n",
       "0          5.92  "
      ]
     },
     "execution_count": 23,
     "metadata": {},
     "output_type": "execute_result"
    },
    {
     "name": "stdout",
     "output_type": "stream",
     "text": [
      "time: 3.12 s (started: 2021-11-05 22:05:41 -07:00)\n"
     ]
    }
   ],
   "source": [
    "h.prices('MMM')"
   ]
  },
  {
   "cell_type": "code",
   "execution_count": 24,
   "id": "49ab1a6c-6d6e-40a7-868a-f364653333e0",
   "metadata": {
    "execution": {
     "iopub.execute_input": "2021-11-06T05:05:45.031762Z",
     "iopub.status.busy": "2021-11-06T05:05:45.031447Z",
     "iopub.status.idle": "2021-11-06T05:05:47.963378Z",
     "shell.execute_reply": "2021-11-06T05:05:47.962606Z",
     "shell.execute_reply.started": "2021-11-06T05:05:45.031734Z"
    }
   },
   "outputs": [
    {
     "data": {
      "text/html": [
       "<div>\n",
       "<style scoped>\n",
       "    .dataframe tbody tr th:only-of-type {\n",
       "        vertical-align: middle;\n",
       "    }\n",
       "\n",
       "    .dataframe tbody tr th {\n",
       "        vertical-align: top;\n",
       "    }\n",
       "\n",
       "    .dataframe thead th {\n",
       "        text-align: right;\n",
       "    }\n",
       "</style>\n",
       "<table border=\"1\" class=\"dataframe\">\n",
       "  <thead>\n",
       "    <tr style=\"text-align: right;\">\n",
       "      <th></th>\n",
       "      <th>Company</th>\n",
       "      <th>Symbol</th>\n",
       "      <th>currentPrice</th>\n",
       "      <th>dayHigh</th>\n",
       "      <th>dayLow</th>\n",
       "      <th>52wkHigh</th>\n",
       "      <th>52wkLow</th>\n",
       "      <th>dividendRate</th>\n",
       "    </tr>\n",
       "  </thead>\n",
       "  <tbody>\n",
       "    <tr>\n",
       "      <th>0</th>\n",
       "      <td>Apple Inc.</td>\n",
       "      <td>AAPL</td>\n",
       "      <td>151.28</td>\n",
       "      <td>152.1899</td>\n",
       "      <td>150.06</td>\n",
       "      <td>157.26</td>\n",
       "      <td>112.59</td>\n",
       "      <td>0.88</td>\n",
       "    </tr>\n",
       "  </tbody>\n",
       "</table>\n",
       "</div>"
      ],
      "text/plain": [
       "      Company Symbol  currentPrice   dayHigh  dayLow  52wkHigh  52wkLow  \\\n",
       "0  Apple Inc.   AAPL        151.28  152.1899  150.06    157.26   112.59   \n",
       "\n",
       "   dividendRate  \n",
       "0          0.88  "
      ]
     },
     "execution_count": 24,
     "metadata": {},
     "output_type": "execute_result"
    },
    {
     "name": "stdout",
     "output_type": "stream",
     "text": [
      "time: 2.88 s (started: 2021-11-05 22:05:45 -07:00)\n"
     ]
    }
   ],
   "source": [
    "h.prices('AAPL')"
   ]
  },
  {
   "cell_type": "code",
   "execution_count": null,
   "id": "b96e79a5-54cd-4bc4-b10d-530e8c73384a",
   "metadata": {},
   "outputs": [],
   "source": []
  }
 ],
 "metadata": {
  "kernelspec": {
   "display_name": "options_apps",
   "language": "python",
   "name": "options_apps"
  },
  "language_info": {
   "codemirror_mode": {
    "name": "ipython",
    "version": 3
   },
   "file_extension": ".py",
   "mimetype": "text/x-python",
   "name": "python",
   "nbconvert_exporter": "python",
   "pygments_lexer": "ipython3",
   "version": "3.9.7"
  }
 },
 "nbformat": 4,
 "nbformat_minor": 5
}
