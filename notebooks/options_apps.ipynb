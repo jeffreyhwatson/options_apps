{
 "cells": [
  {
   "cell_type": "code",
   "execution_count": 23,
   "id": "042caaf9-1515-4cd6-8ea5-fc8c1686ca4a",
   "metadata": {
    "execution": {
     "iopub.execute_input": "2021-11-11T20:17:22.153130Z",
     "iopub.status.busy": "2021-11-11T20:17:22.152725Z",
     "iopub.status.idle": "2021-11-11T20:17:22.215132Z",
     "shell.execute_reply": "2021-11-11T20:17:22.214304Z",
     "shell.execute_reply.started": "2021-11-11T20:17:22.153087Z"
    },
    "tags": []
   },
   "outputs": [
    {
     "name": "stdout",
     "output_type": "stream",
     "text": [
      "The autoreload extension is already loaded. To reload it, use:\n",
      "  %reload_ext autoreload\n",
      "The autotime extension is already loaded. To reload it, use:\n",
      "  %reload_ext autotime\n",
      "time: 1.35 ms (started: 2021-11-11 12:17:22 -08:00)\n"
     ]
    }
   ],
   "source": [
    "%load_ext autoreload\n",
    "%load_ext autotime\n",
    "%autoreload 2"
   ]
  },
  {
   "cell_type": "code",
   "execution_count": 24,
   "id": "87110252-c97b-4947-b2f4-a75ed8c1298b",
   "metadata": {
    "execution": {
     "iopub.execute_input": "2021-11-11T20:17:22.216883Z",
     "iopub.status.busy": "2021-11-11T20:17:22.216739Z",
     "iopub.status.idle": "2021-11-11T20:17:22.254453Z",
     "shell.execute_reply": "2021-11-11T20:17:22.253720Z",
     "shell.execute_reply.started": "2021-11-11T20:17:22.216867Z"
    },
    "tags": []
   },
   "outputs": [
    {
     "name": "stdout",
     "output_type": "stream",
     "text": [
      "time: 1.01 ms (started: 2021-11-11 12:17:22 -08:00)\n"
     ]
    }
   ],
   "source": [
    "import sys, os, math\n",
    "import requests\n",
    "from bs4 import BeautifulSoup\n",
    "import spacy\n",
    "from spacy import displacy\n",
    "import yfinance as yf\n",
    "import pandas as pd\n",
    "import numpy as np\n",
    "import seaborn as sns\n",
    "from datetime import datetime\n",
    "import time\n",
    "\n",
    "#  setting path\n",
    "gparent = os.path.join(os.pardir)\n",
    "sys.path.append(gparent)\n",
    "\n",
    "from src import helper_functions as h"
   ]
  },
  {
   "cell_type": "markdown",
   "id": "d2e9c009-c318-40b4-9b1c-6e963146587a",
   "metadata": {},
   "source": [
    "## requests: Grabbing Headlines"
   ]
  },
  {
   "cell_type": "code",
   "execution_count": 25,
   "id": "28eee855-23ef-4248-a7b1-a83a0f897418",
   "metadata": {
    "execution": {
     "iopub.execute_input": "2021-11-11T20:17:22.255687Z",
     "iopub.status.busy": "2021-11-11T20:17:22.255530Z",
     "iopub.status.idle": "2021-11-11T20:17:22.416749Z",
     "shell.execute_reply": "2021-11-11T20:17:22.415508Z",
     "shell.execute_reply.started": "2021-11-11T20:17:22.255649Z"
    },
    "tags": []
   },
   "outputs": [
    {
     "data": {
      "text/plain": [
       "<Response [200]>"
      ]
     },
     "execution_count": 25,
     "metadata": {},
     "output_type": "execute_result"
    },
    {
     "name": "stdout",
     "output_type": "stream",
     "text": [
      "time: 118 ms (started: 2021-11-11 12:17:22 -08:00)\n"
     ]
    }
   ],
   "source": [
    "# grabbing headlines\n",
    "r = requests.get(\"http://feeds.marketwatch.com/marketwatch/topstories/\")\n",
    "r"
   ]
  },
  {
   "cell_type": "markdown",
   "id": "24e85d1d-a838-41c9-91d7-c4570d8240ec",
   "metadata": {
    "execution": {
     "iopub.execute_input": "2021-10-02T04:19:19.925337Z",
     "iopub.status.busy": "2021-10-02T04:19:19.924939Z",
     "iopub.status.idle": "2021-10-02T04:19:19.932717Z",
     "shell.execute_reply": "2021-10-02T04:19:19.930662Z",
     "shell.execute_reply.started": "2021-10-02T04:19:19.925295Z"
    }
   },
   "source": [
    "## bs4: Saving Headlines"
   ]
  },
  {
   "cell_type": "code",
   "execution_count": 26,
   "id": "37fbf4e8-471b-4f06-b7a4-8be588bfa4ce",
   "metadata": {
    "execution": {
     "iopub.execute_input": "2021-11-11T20:17:22.422118Z",
     "iopub.status.busy": "2021-11-11T20:17:22.421475Z",
     "iopub.status.idle": "2021-11-11T20:17:22.495435Z",
     "shell.execute_reply": "2021-11-11T20:17:22.494853Z",
     "shell.execute_reply.started": "2021-11-11T20:17:22.422063Z"
    },
    "tags": []
   },
   "outputs": [
    {
     "name": "stdout",
     "output_type": "stream",
     "text": [
      "<class 'bs4.element.ResultSet'>\n",
      "\n",
      "[<title>MarketWatch.com - Top Stories</title>, <title>MarketWatch.com - Top Stories</title>, <title>Market Extra: Why the hottest inflation in 3 decades isn’t rattling stock-market bulls</title>, <title>BookWatch: Businesses subject job candidates to so many indignities — and then they wonder why they can’t find people?</title>, <title>Futures Movers: Oil logs a partial rebound as traders weigh prospects for supply and demand</title>, <title>The Margin: Long before it became a trial-interrupting ringtone, ‘God Bless the U.S.A.’ was known as a political and patriotic musical staple — and a Trump favorite</title>, <title>IPO Report: Brilliant Earth shines with analysts who say a digital and sustainable approach to jewelry appeals to millennials and Gen Z</title>, <title>The Ratings Game: Disney’s stock drops after most disappointing earnings report in 10 years prompts price target cuts, even by bullish analysts</title>, <title>The Ratings Game: McDonald’s was the only positive in a quarter full of negatives at Beyond Meat, analysts say</title>, <title>Distributed Ledger: Some hedge funds are seeing ether as an inflation hedge. A crypto brokerage’s CEO explains why</title>, <title>: Billions of dollars in infrastructure bill for charging could supercharge electric vehicle adoption</title>, <title>: ‘As much as we want to move past the virus, we can’t right now’: What a cancelled trip says about our continuing struggle with COVID-19</title>]\n",
      "time: 5.49 ms (started: 2021-11-11 12:17:22 -08:00)\n"
     ]
    }
   ],
   "source": [
    "# saving headlines to a list\n",
    "soup = BeautifulSoup(r.content, features='lxml')\n",
    "headlines = soup.findAll('title')\n",
    "print(f'{type(headlines)}\\n')\n",
    "print(headlines)"
   ]
  },
  {
   "cell_type": "markdown",
   "id": "ecbc497a-1907-4df3-b811-8d737816f2a9",
   "metadata": {
    "tags": []
   },
   "source": [
    "### Grabbing Headline String\n",
    "Grabbing headline and printing headline and isolated text."
   ]
  },
  {
   "cell_type": "code",
   "execution_count": 27,
   "id": "e4bf1fcd-e4c7-4242-80a4-74fe2a801af1",
   "metadata": {
    "execution": {
     "iopub.execute_input": "2021-11-11T20:17:22.497198Z",
     "iopub.status.busy": "2021-11-11T20:17:22.496993Z",
     "iopub.status.idle": "2021-11-11T20:17:22.544577Z",
     "shell.execute_reply": "2021-11-11T20:17:22.543895Z",
     "shell.execute_reply.started": "2021-11-11T20:17:22.497172Z"
    },
    "tags": []
   },
   "outputs": [
    {
     "name": "stdout",
     "output_type": "stream",
     "text": [
      "<title>Market Extra: Why the hottest inflation in 3 decades isn’t rattling stock-market bulls</title>\n",
      "\n",
      "Market Extra: Why the hottest inflation in 3 decades isn’t rattling stock-market bulls\n",
      "time: 1.24 ms (started: 2021-11-11 12:17:22 -08:00)\n"
     ]
    }
   ],
   "source": [
    "# grabbing test headline\n",
    "test_headline = headlines[2]\n",
    "print(f'{test_headline}\\n')\n",
    "print(test_headline.text)"
   ]
  },
  {
   "cell_type": "markdown",
   "id": "64a103b5-d156-4a63-a420-edf19d1425f4",
   "metadata": {},
   "source": [
    "## spaCy: Tests\n",
    "Testing tokenization and name extraction on a single string."
   ]
  },
  {
   "cell_type": "markdown",
   "id": "8b5e37e8-ad08-43cb-bd0c-316b1ae687ae",
   "metadata": {},
   "source": [
    "### Loading Model"
   ]
  },
  {
   "cell_type": "code",
   "execution_count": 28,
   "id": "40c1bf45-66b6-4e0d-8096-2fa953b31232",
   "metadata": {
    "execution": {
     "iopub.execute_input": "2021-11-11T20:17:22.545720Z",
     "iopub.status.busy": "2021-11-11T20:17:22.545562Z",
     "iopub.status.idle": "2021-11-11T20:17:23.066629Z",
     "shell.execute_reply": "2021-11-11T20:17:23.066008Z",
     "shell.execute_reply.started": "2021-11-11T20:17:22.545703Z"
    },
    "tags": []
   },
   "outputs": [
    {
     "name": "stdout",
     "output_type": "stream",
     "text": [
      "time: 482 ms (started: 2021-11-11 12:17:22 -08:00)\n"
     ]
    }
   ],
   "source": [
    "# loading spacy model\n",
    "nlp = spacy.load('en_core_web_sm')"
   ]
  },
  {
   "cell_type": "markdown",
   "id": "b22eff8c-4013-46ba-9c4c-bdf8f026329d",
   "metadata": {},
   "source": [
    "### Tokenizing String\n",
    "Tokenizing the test headline."
   ]
  },
  {
   "cell_type": "code",
   "execution_count": 29,
   "id": "e3a0b3dd-c716-4edf-a5f0-d77504a32e17",
   "metadata": {
    "execution": {
     "iopub.execute_input": "2021-11-11T20:17:23.067766Z",
     "iopub.status.busy": "2021-11-11T20:17:23.067515Z",
     "iopub.status.idle": "2021-11-11T20:17:23.117674Z",
     "shell.execute_reply": "2021-11-11T20:17:23.116876Z",
     "shell.execute_reply.started": "2021-11-11T20:17:23.067747Z"
    },
    "tags": []
   },
   "outputs": [
    {
     "name": "stdout",
     "output_type": "stream",
     "text": [
      "<title>Market Extra: Why the hottest inflation in 3 decades isn’t rattling stock-market bulls</title>\n",
      "\n",
      "Market\n",
      "Extra\n",
      ":\n",
      "Why\n",
      "the\n",
      "hottest\n",
      "inflation\n",
      "in\n",
      "3\n",
      "decades\n",
      "is\n",
      "n’t\n",
      "rattling\n",
      "stock\n",
      "-\n",
      "market\n",
      "bulls\n",
      "time: 9.53 ms (started: 2021-11-11 12:17:23 -08:00)\n"
     ]
    }
   ],
   "source": [
    "# checking the test case\n",
    "processed_hline = nlp(test_headline.text)\n",
    "print(f'{test_headline}\\n')\n",
    "for token in processed_hline:\n",
    "  print(token)"
   ]
  },
  {
   "cell_type": "markdown",
   "id": "344b7bb2-4936-4938-8ef5-44a2d8989203",
   "metadata": {},
   "source": [
    "## Saving List of Tokenized Headlines"
   ]
  },
  {
   "cell_type": "code",
   "execution_count": 30,
   "id": "0326da95-c8b5-49e5-9207-93ae94714d1b",
   "metadata": {
    "execution": {
     "iopub.execute_input": "2021-11-11T20:17:23.118903Z",
     "iopub.status.busy": "2021-11-11T20:17:23.118745Z",
     "iopub.status.idle": "2021-11-11T20:17:23.257099Z",
     "shell.execute_reply": "2021-11-11T20:17:23.255896Z",
     "shell.execute_reply.started": "2021-11-11T20:17:23.118886Z"
    },
    "tags": []
   },
   "outputs": [
    {
     "name": "stdout",
     "output_type": "stream",
     "text": [
      "MarketWatch.com - Top Stories\n",
      "MarketWatch.com - Top Stories\n",
      "Market Extra: Why the hottest inflation in 3 decades isn’t rattling stock-market bulls\n",
      "BookWatch: Businesses subject job candidates to so many indignities — and then they wonder why they can’t find people?\n",
      "Futures Movers: Oil logs a partial rebound as traders weigh prospects for supply and demand\n",
      "The Margin: Long before it became a trial-interrupting ringtone, ‘God Bless the U.S.A.’ was known as a political and patriotic musical staple — and a Trump favorite\n",
      "IPO Report: Brilliant Earth shines with analysts who say a digital and sustainable approach to jewelry appeals to millennials and Gen Z\n",
      "The Ratings Game: Disney’s stock drops after most disappointing earnings report in 10 years prompts price target cuts, even by bullish analysts\n",
      "The Ratings Game: McDonald’s was the only positive in a quarter full of negatives at Beyond Meat, analysts say\n",
      "Distributed Ledger: Some hedge funds are seeing ether as an inflation hedge. A crypto brokerage’s CEO explains why\n",
      ": Billions of dollars in infrastructure bill for charging could supercharge electric vehicle adoption\n",
      ": ‘As much as we want to move past the virus, we can’t right now’: What a cancelled trip says about our continuing struggle with COVID-19\n",
      "time: 93.2 ms (started: 2021-11-11 12:17:23 -08:00)\n"
     ]
    }
   ],
   "source": [
    "processed_hlines = [nlp(headlines[i].text) for i in range(len(headlines))]\n",
    "for line in processed_hlines:\n",
    "    print(line)"
   ]
  },
  {
   "cell_type": "markdown",
   "id": "fc53aa4f-c5a8-4fa3-9c1b-ea850c32a9db",
   "metadata": {},
   "source": [
    "## Getting Org Names From Headlines\n",
    "Visualizing named entities (real world objects) in the headlines and creating a set of organiziations."
   ]
  },
  {
   "cell_type": "code",
   "execution_count": 31,
   "id": "53e9fd0b-a896-4434-976d-5e98355705f8",
   "metadata": {
    "execution": {
     "iopub.execute_input": "2021-11-11T20:17:23.258371Z",
     "iopub.status.busy": "2021-11-11T20:17:23.258233Z",
     "iopub.status.idle": "2021-11-11T20:17:23.418581Z",
     "shell.execute_reply": "2021-11-11T20:17:23.417805Z",
     "shell.execute_reply.started": "2021-11-11T20:17:23.258354Z"
    },
    "tags": []
   },
   "outputs": [
    {
     "data": {
      "text/html": [
       "<span class=\"tex2jax_ignore\"><div class=\"entities\" style=\"line-height: 2.5; direction: ltr\">\n",
       "<mark class=\"entity\" style=\"background: #aa9cfc; padding: 0.45em 0.6em; margin: 0 0.25em; line-height: 1; border-radius: 0.35em;\">\n",
       "    MarketWatch.com - Top Stories\n",
       "    <span style=\"font-size: 0.8em; font-weight: bold; line-height: 1; border-radius: 0.35em; text-transform: uppercase; vertical-align: middle; margin-left: 0.5rem\">PERSON</span>\n",
       "</mark>\n",
       "</div></span>"
      ],
      "text/plain": [
       "<IPython.core.display.HTML object>"
      ]
     },
     "metadata": {},
     "output_type": "display_data"
    },
    {
     "data": {
      "text/html": [
       "<span class=\"tex2jax_ignore\"><div class=\"entities\" style=\"line-height: 2.5; direction: ltr\">\n",
       "<mark class=\"entity\" style=\"background: #aa9cfc; padding: 0.45em 0.6em; margin: 0 0.25em; line-height: 1; border-radius: 0.35em;\">\n",
       "    MarketWatch.com - Top Stories\n",
       "    <span style=\"font-size: 0.8em; font-weight: bold; line-height: 1; border-radius: 0.35em; text-transform: uppercase; vertical-align: middle; margin-left: 0.5rem\">PERSON</span>\n",
       "</mark>\n",
       "</div></span>"
      ],
      "text/plain": [
       "<IPython.core.display.HTML object>"
      ]
     },
     "metadata": {},
     "output_type": "display_data"
    },
    {
     "data": {
      "text/html": [
       "<span class=\"tex2jax_ignore\"><div class=\"entities\" style=\"line-height: 2.5; direction: ltr\">Market Extra: Why the hottest inflation in \n",
       "<mark class=\"entity\" style=\"background: #bfe1d9; padding: 0.45em 0.6em; margin: 0 0.25em; line-height: 1; border-radius: 0.35em;\">\n",
       "    3 decades\n",
       "    <span style=\"font-size: 0.8em; font-weight: bold; line-height: 1; border-radius: 0.35em; text-transform: uppercase; vertical-align: middle; margin-left: 0.5rem\">DATE</span>\n",
       "</mark>\n",
       " isn’t rattling stock-market bulls</div></span>"
      ],
      "text/plain": [
       "<IPython.core.display.HTML object>"
      ]
     },
     "metadata": {},
     "output_type": "display_data"
    },
    {
     "data": {
      "text/html": [
       "<span class=\"tex2jax_ignore\"><div class=\"entities\" style=\"line-height: 2.5; direction: ltr\">The Margin: Long before it became a trial-interrupting ringtone, ‘God \n",
       "<mark class=\"entity\" style=\"background: #7aecec; padding: 0.45em 0.6em; margin: 0 0.25em; line-height: 1; border-radius: 0.35em;\">\n",
       "    Bless the U.S.A.’\n",
       "    <span style=\"font-size: 0.8em; font-weight: bold; line-height: 1; border-radius: 0.35em; text-transform: uppercase; vertical-align: middle; margin-left: 0.5rem\">ORG</span>\n",
       "</mark>\n",
       " was known as a political and patriotic musical staple — and a Trump favorite</div></span>"
      ],
      "text/plain": [
       "<IPython.core.display.HTML object>"
      ]
     },
     "metadata": {},
     "output_type": "display_data"
    },
    {
     "data": {
      "text/html": [
       "<span class=\"tex2jax_ignore\"><div class=\"entities\" style=\"line-height: 2.5; direction: ltr\">IPO Report: Brilliant Earth shines with analysts who say a digital and sustainable approach to jewelry appeals to millennials and \n",
       "<mark class=\"entity\" style=\"background: #aa9cfc; padding: 0.45em 0.6em; margin: 0 0.25em; line-height: 1; border-radius: 0.35em;\">\n",
       "    Gen Z\n",
       "    <span style=\"font-size: 0.8em; font-weight: bold; line-height: 1; border-radius: 0.35em; text-transform: uppercase; vertical-align: middle; margin-left: 0.5rem\">PERSON</span>\n",
       "</mark>\n",
       "</div></span>"
      ],
      "text/plain": [
       "<IPython.core.display.HTML object>"
      ]
     },
     "metadata": {},
     "output_type": "display_data"
    },
    {
     "data": {
      "text/html": [
       "<span class=\"tex2jax_ignore\"><div class=\"entities\" style=\"line-height: 2.5; direction: ltr\">The Ratings Game: Disney’s stock drops after most disappointing earnings report in \n",
       "<mark class=\"entity\" style=\"background: #bfe1d9; padding: 0.45em 0.6em; margin: 0 0.25em; line-height: 1; border-radius: 0.35em;\">\n",
       "    10 years\n",
       "    <span style=\"font-size: 0.8em; font-weight: bold; line-height: 1; border-radius: 0.35em; text-transform: uppercase; vertical-align: middle; margin-left: 0.5rem\">DATE</span>\n",
       "</mark>\n",
       " prompts price target cuts, even by bullish analysts</div></span>"
      ],
      "text/plain": [
       "<IPython.core.display.HTML object>"
      ]
     },
     "metadata": {},
     "output_type": "display_data"
    },
    {
     "data": {
      "text/html": [
       "<span class=\"tex2jax_ignore\"><div class=\"entities\" style=\"line-height: 2.5; direction: ltr\">The Ratings Game: \n",
       "<mark class=\"entity\" style=\"background: #7aecec; padding: 0.45em 0.6em; margin: 0 0.25em; line-height: 1; border-radius: 0.35em;\">\n",
       "    McDonald\n",
       "    <span style=\"font-size: 0.8em; font-weight: bold; line-height: 1; border-radius: 0.35em; text-transform: uppercase; vertical-align: middle; margin-left: 0.5rem\">ORG</span>\n",
       "</mark>\n",
       "’s was the only positive in \n",
       "<mark class=\"entity\" style=\"background: #bfe1d9; padding: 0.45em 0.6em; margin: 0 0.25em; line-height: 1; border-radius: 0.35em;\">\n",
       "    a quarter\n",
       "    <span style=\"font-size: 0.8em; font-weight: bold; line-height: 1; border-radius: 0.35em; text-transform: uppercase; vertical-align: middle; margin-left: 0.5rem\">DATE</span>\n",
       "</mark>\n",
       " full of negatives at \n",
       "<mark class=\"entity\" style=\"background: #ddd; padding: 0.45em 0.6em; margin: 0 0.25em; line-height: 1; border-radius: 0.35em;\">\n",
       "    Beyond Meat\n",
       "    <span style=\"font-size: 0.8em; font-weight: bold; line-height: 1; border-radius: 0.35em; text-transform: uppercase; vertical-align: middle; margin-left: 0.5rem\">FAC</span>\n",
       "</mark>\n",
       ", analysts say</div></span>"
      ],
      "text/plain": [
       "<IPython.core.display.HTML object>"
      ]
     },
     "metadata": {},
     "output_type": "display_data"
    },
    {
     "data": {
      "text/html": [
       "<span class=\"tex2jax_ignore\"><div class=\"entities\" style=\"line-height: 2.5; direction: ltr\">: \n",
       "<mark class=\"entity\" style=\"background: #e4e7d2; padding: 0.45em 0.6em; margin: 0 0.25em; line-height: 1; border-radius: 0.35em;\">\n",
       "    Billions of dollars\n",
       "    <span style=\"font-size: 0.8em; font-weight: bold; line-height: 1; border-radius: 0.35em; text-transform: uppercase; vertical-align: middle; margin-left: 0.5rem\">MONEY</span>\n",
       "</mark>\n",
       " in infrastructure bill for charging could supercharge electric vehicle adoption</div></span>"
      ],
      "text/plain": [
       "<IPython.core.display.HTML object>"
      ]
     },
     "metadata": {},
     "output_type": "display_data"
    },
    {
     "name": "stdout",
     "output_type": "stream",
     "text": [
      "{'McDonald', 'Bless the U.S.A.’'}\n",
      "time: 114 ms (started: 2021-11-11 12:17:23 -08:00)\n"
     ]
    }
   ],
   "source": [
    "# pulling company name tokens from headlines\n",
    "companies = []\n",
    "for title in processed_hlines:\n",
    "    doc = nlp(title.text)\n",
    "    if len(doc.ents) != 0:\n",
    "        displacy.render(doc, style='ent')\n",
    "    else:\n",
    "        pass\n",
    "    for token in doc.ents:\n",
    "        if token.label_ == 'ORG':\n",
    "            companies.append(token.text)\n",
    "        else:\n",
    "            pass\n",
    "companies = set(companies)\n",
    "print(companies)"
   ]
  },
  {
   "cell_type": "markdown",
   "id": "90e46e54-cd0e-4d1b-bfdb-39c3f5b23032",
   "metadata": {},
   "source": [
    "## Scraping S&P 500 Stock Table w/Requests & BeautifulSoup"
   ]
  },
  {
   "cell_type": "code",
   "execution_count": 32,
   "id": "dc3866e6-298d-4e2e-beda-5c4baad44ba8",
   "metadata": {
    "execution": {
     "iopub.execute_input": "2021-11-11T20:17:23.423045Z",
     "iopub.status.busy": "2021-11-11T20:17:23.422675Z",
     "iopub.status.idle": "2021-11-11T20:17:23.962539Z",
     "shell.execute_reply": "2021-11-11T20:17:23.961724Z",
     "shell.execute_reply.started": "2021-11-11T20:17:23.423013Z"
    },
    "tags": []
   },
   "outputs": [
    {
     "name": "stdout",
     "output_type": "stream",
     "text": [
      "[<tr>\n",
      "<td><a class=\"external text\" href=\"https://www.nyse.com/quote/XNYS:MMM\" rel=\"nofollow\">MMM</a>\n",
      "</td>\n",
      "<td><a href=\"/wiki/3M\" title=\"3M\">3M</a></td>\n",
      "<td><a class=\"external text\" href=\"https://www.sec.gov/edgar/browse/?CIK=66740\" rel=\"nofollow\">reports</a></td>\n",
      "<td>Industrials</td>\n",
      "<td>Industrial Conglomerates</td>\n",
      "<td><a href=\"/wiki/Saint_Paul,_Minnesota\" title=\"Saint Paul, Minnesota\">Saint Paul, Minnesota</a></td>\n",
      "<td>1976-08-09</td>\n",
      "<td>0000066740</td>\n",
      "<td>1902\n",
      "</td></tr>]\n",
      "time: 496 ms (started: 2021-11-11 12:17:23 -08:00)\n"
     ]
    }
   ],
   "source": [
    "# scraping S&P wikipedia page\n",
    "r = requests.get('https://en.wikipedia.org/wiki/List_of_S%26P_500_companies')\n",
    "\n",
    "# parsing the html\n",
    "soup = BeautifulSoup(r.text, 'lxml')\n",
    "\n",
    "# extracting the table\n",
    "table = soup.find('table', {'class': 'wikitable sortable'})\n",
    "\n",
    "# printing row with first stock\n",
    "print(table.findAll('tr')[1:2])"
   ]
  },
  {
   "cell_type": "markdown",
   "id": "a95b9b49-5ab4-4bf8-aff7-6b7c3fad5c4d",
   "metadata": {},
   "source": [
    "### Ticker Symbols\n",
    "Grabbing the ticker symbol from the first cell of each row."
   ]
  },
  {
   "cell_type": "code",
   "execution_count": 33,
   "id": "f5f74629-2adb-44dc-93fd-9f50f5fe65ba",
   "metadata": {
    "execution": {
     "iopub.execute_input": "2021-11-11T20:17:23.964399Z",
     "iopub.status.busy": "2021-11-11T20:17:23.964190Z",
     "iopub.status.idle": "2021-11-11T20:17:24.027575Z",
     "shell.execute_reply": "2021-11-11T20:17:24.026824Z",
     "shell.execute_reply.started": "2021-11-11T20:17:23.964370Z"
    },
    "tags": []
   },
   "outputs": [
    {
     "name": "stdout",
     "output_type": "stream",
     "text": [
      "List Length: 505 \n",
      "\n",
      "First five symbols: ['MMM\\n', 'ABT\\n', 'ABBV\\n', 'ABMD\\n', 'ACN\\n']\n",
      "time: 14.8 ms (started: 2021-11-11 12:17:24 -08:00)\n"
     ]
    }
   ],
   "source": [
    "# making list of symbols\n",
    "symbols = [row.findAll('td')[0].text for row in table.findAll('tr')[1:]]\n",
    "\n",
    "# checking length\n",
    "print(f'List Length: {len(symbols)} \\n')\n",
    "\n",
    "# checking first 5 symbols\n",
    "print(f'First five symbols: {symbols[:5]}')"
   ]
  },
  {
   "cell_type": "code",
   "execution_count": 34,
   "id": "b77d668d-6376-4a48-9545-d8a90258cf0b",
   "metadata": {
    "execution": {
     "iopub.execute_input": "2021-11-11T20:17:24.028848Z",
     "iopub.status.busy": "2021-11-11T20:17:24.028666Z",
     "iopub.status.idle": "2021-11-11T20:17:24.076853Z",
     "shell.execute_reply": "2021-11-11T20:17:24.076077Z",
     "shell.execute_reply.started": "2021-11-11T20:17:24.028829Z"
    },
    "tags": []
   },
   "outputs": [
    {
     "name": "stdout",
     "output_type": "stream",
     "text": [
      "['MMM', 'ABT', 'ABBV', 'ABMD', 'ACN']\n",
      "time: 1.04 ms (started: 2021-11-11 12:17:24 -08:00)\n"
     ]
    }
   ],
   "source": [
    "# stripping new line character from the strings \n",
    "symbols = list(map(lambda s: s.strip(), symbols))\n",
    "\n",
    "# checking first 5 symbols\n",
    "print(symbols[:5])"
   ]
  },
  {
   "cell_type": "markdown",
   "id": "00b559c3-162e-4815-8469-e769568cbbb9",
   "metadata": {},
   "source": [
    "### Names\n",
    "Grabbing the company name from the second cell of each row."
   ]
  },
  {
   "cell_type": "code",
   "execution_count": 35,
   "id": "acea8f4e-07ad-4192-bf5b-058473a22780",
   "metadata": {
    "execution": {
     "iopub.execute_input": "2021-11-11T20:17:24.077860Z",
     "iopub.status.busy": "2021-11-11T20:17:24.077725Z",
     "iopub.status.idle": "2021-11-11T20:17:24.136192Z",
     "shell.execute_reply": "2021-11-11T20:17:24.135564Z",
     "shell.execute_reply.started": "2021-11-11T20:17:24.077844Z"
    },
    "tags": []
   },
   "outputs": [
    {
     "name": "stdout",
     "output_type": "stream",
     "text": [
      "['3M', 'Abbott Laboratories', 'AbbVie', 'Abiomed', 'Accenture']\n",
      "time: 14.9 ms (started: 2021-11-11 12:17:24 -08:00)\n"
     ]
    }
   ],
   "source": [
    "# making list of names\n",
    "names = [row.findAll('td')[1].text for row in table.findAll('tr')[1:]]\n",
    "\n",
    "# checking first five names\n",
    "print(names[:5])"
   ]
  },
  {
   "cell_type": "markdown",
   "id": "6365495f-2364-4b54-85e2-5bbfae172dd0",
   "metadata": {},
   "source": [
    "## S&P 500 Dataframe\n",
    "Creating a data frame of stocks in the S&P 500 index."
   ]
  },
  {
   "cell_type": "code",
   "execution_count": 36,
   "id": "20e47c1d-d75b-424c-9a57-1075d4b5bf12",
   "metadata": {
    "execution": {
     "iopub.execute_input": "2021-11-11T20:17:24.137590Z",
     "iopub.status.busy": "2021-11-11T20:17:24.137427Z",
     "iopub.status.idle": "2021-11-11T20:17:24.185951Z",
     "shell.execute_reply": "2021-11-11T20:17:24.185390Z",
     "shell.execute_reply.started": "2021-11-11T20:17:24.137567Z"
    },
    "tags": []
   },
   "outputs": [
    {
     "name": "stdout",
     "output_type": "stream",
     "text": [
      "(505, 2)\n"
     ]
    },
    {
     "data": {
      "text/html": [
       "<div>\n",
       "<style scoped>\n",
       "    .dataframe tbody tr th:only-of-type {\n",
       "        vertical-align: middle;\n",
       "    }\n",
       "\n",
       "    .dataframe tbody tr th {\n",
       "        vertical-align: top;\n",
       "    }\n",
       "\n",
       "    .dataframe thead th {\n",
       "        text-align: right;\n",
       "    }\n",
       "</style>\n",
       "<table border=\"1\" class=\"dataframe\">\n",
       "  <thead>\n",
       "    <tr style=\"text-align: right;\">\n",
       "      <th></th>\n",
       "      <th>Company Name</th>\n",
       "      <th>Symbol</th>\n",
       "    </tr>\n",
       "  </thead>\n",
       "  <tbody>\n",
       "    <tr>\n",
       "      <th>0</th>\n",
       "      <td>3M</td>\n",
       "      <td>MMM</td>\n",
       "    </tr>\n",
       "    <tr>\n",
       "      <th>1</th>\n",
       "      <td>Abbott Laboratories</td>\n",
       "      <td>ABT</td>\n",
       "    </tr>\n",
       "    <tr>\n",
       "      <th>2</th>\n",
       "      <td>AbbVie</td>\n",
       "      <td>ABBV</td>\n",
       "    </tr>\n",
       "    <tr>\n",
       "      <th>3</th>\n",
       "      <td>Abiomed</td>\n",
       "      <td>ABMD</td>\n",
       "    </tr>\n",
       "    <tr>\n",
       "      <th>4</th>\n",
       "      <td>Accenture</td>\n",
       "      <td>ACN</td>\n",
       "    </tr>\n",
       "  </tbody>\n",
       "</table>\n",
       "</div>"
      ],
      "text/plain": [
       "          Company Name Symbol\n",
       "0                   3M    MMM\n",
       "1  Abbott Laboratories    ABT\n",
       "2               AbbVie   ABBV\n",
       "3              Abiomed   ABMD\n",
       "4            Accenture    ACN"
      ]
     },
     "execution_count": 36,
     "metadata": {},
     "output_type": "execute_result"
    },
    {
     "name": "stdout",
     "output_type": "stream",
     "text": [
      "time: 5.72 ms (started: 2021-11-11 12:17:24 -08:00)\n"
     ]
    }
   ],
   "source": [
    "# making a data dictionary\n",
    "data = {'Company Name': names, 'Symbol': symbols}\n",
    "\n",
    "# creating data frame from the data\n",
    "stocks_df = pd.DataFrame.from_dict(data)\n",
    "\n",
    "# checking shape and first five rows\n",
    "print(stocks_df.shape)\n",
    "stocks_df.head()"
   ]
  },
  {
   "cell_type": "markdown",
   "id": "7e8eb610-65e8-4f68-9296-e8971071f5dc",
   "metadata": {},
   "source": [
    "### Checking yf Stock Info Dictionary Keys\n",
    "Checking the dictionary keys available for pulling stock information."
   ]
  },
  {
   "cell_type": "code",
   "execution_count": 37,
   "id": "6a0d5f31-6176-4772-973f-d3f8dc331cdf",
   "metadata": {
    "execution": {
     "iopub.execute_input": "2021-11-11T20:17:24.187124Z",
     "iopub.status.busy": "2021-11-11T20:17:24.186904Z",
     "iopub.status.idle": "2021-11-11T20:17:24.229062Z",
     "shell.execute_reply": "2021-11-11T20:17:24.228595Z",
     "shell.execute_reply.started": "2021-11-11T20:17:24.187101Z"
    },
    "tags": []
   },
   "outputs": [
    {
     "name": "stdout",
     "output_type": "stream",
     "text": [
      "time: 3.16 ms (started: 2021-11-11 12:17:24 -08:00)\n"
     ]
    }
   ],
   "source": [
    "# instantiating a ticker object\n",
    "ACN = yf.Ticker('ACN')"
   ]
  },
  {
   "cell_type": "code",
   "execution_count": null,
   "id": "2a8a9f7b-5358-4cb6-b0d3-4adda8696933",
   "metadata": {
    "execution": {
     "iopub.execute_input": "2021-11-11T20:17:24.230147Z",
     "iopub.status.busy": "2021-11-11T20:17:24.229963Z"
    },
    "tags": []
   },
   "outputs": [],
   "source": [
    "# checking keys\n",
    "ACN.info.keys()"
   ]
  },
  {
   "cell_type": "markdown",
   "id": "f5ac7667-150a-4a9b-a20b-f142e3a84eef",
   "metadata": {},
   "source": [
    "### Data for Stocks in the News\n",
    "Creating a data frame of price and dividend information for S&P 500 stocks in the news in the following steps:\n",
    "\n",
    "- Create a data dictionary from the list of companies in the headlines.\n",
    "\n",
    "- Create a data frame from data dictionary."
   ]
  },
  {
   "cell_type": "code",
   "execution_count": null,
   "id": "75714472-48d2-4d1a-8839-cb2a373be809",
   "metadata": {
    "tags": []
   },
   "outputs": [],
   "source": [
    "# creating empty stock info dictionary\n",
    "stock_data = {\n",
    "    'Company': [],\n",
    "    'Symbol': [],\n",
    "    'currentPrice': [],\n",
    "    'dayHigh': [],\n",
    "    'dayLow': [],\n",
    "    '52wkHigh': [],\n",
    "    '52wkLow': [],\n",
    "    'dividendRate': []\n",
    "    \n",
    "}\n",
    "\n",
    "# loading stocks from s&p dataframe and appending data from yf\n",
    "for company in companies:\n",
    "\n",
    "    try:\n",
    "        if stocks_df['Company Name'].str.contains(company).sum():\n",
    "            symbol = stocks_df[stocks_df['Company Name'].\\\n",
    "                                str.contains(company)]['Symbol'].values[0]\n",
    "            org_name = stocks_df[stocks_df['Company Name'].\\\n",
    "                                str.contains(company)]['Company Name'].values[0]\n",
    "            stock_data['Company'].append(org_name)\n",
    "            stock_data['Symbol'].append(symbol)\n",
    "            stock_info = yf.Ticker(symbol).info\n",
    "            stock_data['currentPrice'].append(stock_info['currentPrice'])\n",
    "            stock_data['dayHigh'].append(stock_info['dayHigh'])\n",
    "            stock_data['dayLow'].append(stock_info['dayLow'])\n",
    "            stock_data['52wkHigh'].append(stock_info['fiftyTwoWeekHigh'])\n",
    "            stock_data['52wkLow'].append(stock_info['fiftyTwoWeekLow'])            \n",
    "            \n",
    "            # converting dividend None types to floats\n",
    "            dividend = stock_info['dividendRate']\n",
    "            if dividend != None:\n",
    "                dividend = dividend\n",
    "            else:\n",
    "                dividend = 0\n",
    "            stock_data['dividendRate'].append(dividend)\n",
    "        else:\n",
    "            pass\n",
    "    except:\n",
    "        pass"
   ]
  },
  {
   "cell_type": "code",
   "execution_count": null,
   "id": "5775a08d-a060-4407-ad69-8bc0ba6222ec",
   "metadata": {
    "tags": []
   },
   "outputs": [],
   "source": [
    "# checking dict\n",
    "stock_data"
   ]
  },
  {
   "cell_type": "markdown",
   "id": "0405069b-2119-4a58-9abd-367967bf4f31",
   "metadata": {},
   "source": [
    "### Data Frame of S&P 500 Stocks in the News"
   ]
  },
  {
   "cell_type": "code",
   "execution_count": null,
   "id": "61e25bba-2b56-4eec-9072-12b69b6fd94c",
   "metadata": {
    "tags": []
   },
   "outputs": [],
   "source": [
    "in_the_news = pd.DataFrame(stock_data)\n",
    "in_the_news.head()"
   ]
  },
  {
   "cell_type": "code",
   "execution_count": null,
   "id": "84fcb1ec-5d31-43d0-988f-a3eabe80c558",
   "metadata": {
    "tags": []
   },
   "outputs": [],
   "source": [
    "# checking Dtypes\n",
    "in_the_news.info()"
   ]
  },
  {
   "cell_type": "markdown",
   "id": "278593a1-e249-4fbb-ab2b-0c2e2d5e7f5d",
   "metadata": {},
   "source": [
    "## Individual Stock Price Helper Function\n",
    "Checking the helper function."
   ]
  },
  {
   "cell_type": "code",
   "execution_count": null,
   "id": "d19f4da9-ae51-4818-80d8-692090419d81",
   "metadata": {
    "tags": []
   },
   "outputs": [],
   "source": [
    "h.prices('MMM')"
   ]
  },
  {
   "cell_type": "code",
   "execution_count": null,
   "id": "49ab1a6c-6d6e-40a7-868a-f364653333e0",
   "metadata": {},
   "outputs": [],
   "source": [
    "h.prices('AAPL')"
   ]
  },
  {
   "cell_type": "code",
   "execution_count": null,
   "id": "b96e79a5-54cd-4bc4-b10d-530e8c73384a",
   "metadata": {},
   "outputs": [],
   "source": []
  }
 ],
 "metadata": {
  "kernelspec": {
   "display_name": "options_apps",
   "language": "python",
   "name": "options_apps"
  },
  "language_info": {
   "codemirror_mode": {
    "name": "ipython",
    "version": 3
   },
   "file_extension": ".py",
   "mimetype": "text/x-python",
   "name": "python",
   "nbconvert_exporter": "python",
   "pygments_lexer": "ipython3",
   "version": "3.9.7"
  }
 },
 "nbformat": 4,
 "nbformat_minor": 5
}
