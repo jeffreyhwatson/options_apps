{
 "cells": [
  {
   "cell_type": "code",
   "execution_count": 1,
   "id": "042caaf9-1515-4cd6-8ea5-fc8c1686ca4a",
   "metadata": {
    "execution": {
     "iopub.execute_input": "2021-11-24T19:47:38.998736Z",
     "iopub.status.busy": "2021-11-24T19:47:38.998556Z",
     "iopub.status.idle": "2021-11-24T19:47:39.045477Z",
     "shell.execute_reply": "2021-11-24T19:47:39.044576Z",
     "shell.execute_reply.started": "2021-11-24T19:47:38.998677Z"
    },
    "tags": []
   },
   "outputs": [
    {
     "name": "stdout",
     "output_type": "stream",
     "text": [
      "time: 891 µs (started: 2021-11-24 11:47:39 -08:00)\n"
     ]
    }
   ],
   "source": [
    "%load_ext autoreload\n",
    "%load_ext autotime\n",
    "%autoreload 2"
   ]
  },
  {
   "cell_type": "markdown",
   "id": "446e454b-cd4a-41e0-8227-2b27ca1dfb4c",
   "metadata": {},
   "source": [
    "# Options Apps Project\n",
    "\n",
    "## Goal\n",
    "Creating a suite of equity option web apps which expands on, and was inspired by, [Harshit Tyagi’s](https://www.linkedin.com/in/tyagiharshit/) [article](https://www.kdnuggets.com/2021/09/-structured-financial-newsfeed-using-python-spacy-and-streamlit.html) on building a financial newsfeed app.\n",
    "\n",
    "## Skills Involved\n",
    "Web scraping, NLP, options price modeling, predictive modeling of volitility, and building apps with Streamlit."
   ]
  },
  {
   "cell_type": "markdown",
   "id": "042a446a-6853-49a6-9f33-b0b6e5303dc3",
   "metadata": {},
   "source": [
    "## Imports"
   ]
  },
  {
   "cell_type": "code",
   "execution_count": 2,
   "id": "87110252-c97b-4947-b2f4-a75ed8c1298b",
   "metadata": {
    "execution": {
     "iopub.execute_input": "2021-11-24T19:47:39.046983Z",
     "iopub.status.busy": "2021-11-24T19:47:39.046762Z",
     "iopub.status.idle": "2021-11-24T19:47:42.004785Z",
     "shell.execute_reply": "2021-11-24T19:47:42.003825Z",
     "shell.execute_reply.started": "2021-11-24T19:47:39.046962Z"
    },
    "tags": []
   },
   "outputs": [
    {
     "name": "stdout",
     "output_type": "stream",
     "text": [
      "time: 2.93 s (started: 2021-11-24 11:47:39 -08:00)\n"
     ]
    }
   ],
   "source": [
    "import sys, os, math\n",
    "import requests\n",
    "from bs4 import BeautifulSoup\n",
    "import spacy\n",
    "from spacy import displacy\n",
    "import yfinance as yf\n",
    "import pandas as pd\n",
    "import numpy as np\n",
    "import seaborn as sns\n",
    "from datetime import datetime\n",
    "import time\n",
    "\n",
    "#  setting path\n",
    "gparent = os.path.join(os.pardir)\n",
    "sys.path.append(gparent)\n",
    "\n",
    "from src import helper_functions as h"
   ]
  },
  {
   "cell_type": "markdown",
   "id": "d2e9c009-c318-40b4-9b1c-6e963146587a",
   "metadata": {},
   "source": [
    "## requests: Grabbing Headlines"
   ]
  },
  {
   "cell_type": "code",
   "execution_count": 3,
   "id": "28eee855-23ef-4248-a7b1-a83a0f897418",
   "metadata": {
    "execution": {
     "iopub.execute_input": "2021-11-24T19:47:42.007544Z",
     "iopub.status.busy": "2021-11-24T19:47:42.007302Z",
     "iopub.status.idle": "2021-11-24T19:47:42.266870Z",
     "shell.execute_reply": "2021-11-24T19:47:42.265343Z",
     "shell.execute_reply.started": "2021-11-24T19:47:42.007523Z"
    },
    "tags": []
   },
   "outputs": [
    {
     "data": {
      "text/plain": [
       "<Response [200]>"
      ]
     },
     "execution_count": 3,
     "metadata": {},
     "output_type": "execute_result"
    },
    {
     "name": "stdout",
     "output_type": "stream",
     "text": [
      "time: 215 ms (started: 2021-11-24 11:47:42 -08:00)\n"
     ]
    }
   ],
   "source": [
    "# grabbing headlines\n",
    "r = requests.get(\"http://feeds.marketwatch.com/marketwatch/topstories/\")\n",
    "r"
   ]
  },
  {
   "cell_type": "markdown",
   "id": "24e85d1d-a838-41c9-91d7-c4570d8240ec",
   "metadata": {
    "execution": {
     "iopub.execute_input": "2021-10-02T04:19:19.925337Z",
     "iopub.status.busy": "2021-10-02T04:19:19.924939Z",
     "iopub.status.idle": "2021-10-02T04:19:19.932717Z",
     "shell.execute_reply": "2021-10-02T04:19:19.930662Z",
     "shell.execute_reply.started": "2021-10-02T04:19:19.925295Z"
    }
   },
   "source": [
    "## bs4: Saving Headlines"
   ]
  },
  {
   "cell_type": "code",
   "execution_count": 4,
   "id": "37fbf4e8-471b-4f06-b7a4-8be588bfa4ce",
   "metadata": {
    "execution": {
     "iopub.execute_input": "2021-11-24T19:47:42.269787Z",
     "iopub.status.busy": "2021-11-24T19:47:42.268854Z",
     "iopub.status.idle": "2021-11-24T19:47:42.345651Z",
     "shell.execute_reply": "2021-11-24T19:47:42.344839Z",
     "shell.execute_reply.started": "2021-11-24T19:47:42.269707Z"
    },
    "tags": []
   },
   "outputs": [
    {
     "name": "stdout",
     "output_type": "stream",
     "text": [
      "<class 'bs4.element.ResultSet'>\n",
      "\n",
      "[<title>MarketWatch.com - Top Stories</title>, <title>MarketWatch.com - Top Stories</title>, <title>The Tell: There are no municipal-market bond vigilantes when it comes to climate risk, this study confirms</title>, <title>The Ratings Game: Alibaba stock just suffered the biggest 5-day selloff in its history, but Susquehanna analyst stays ‘positive’</title>, <title>Market Snapshot: U.S. stocks dip after Federal Reserve minutes show some officials in November favored a faster pace of tapering</title>, <title>The Fed: ‘Some’ on Fed thought faster pace of tapering bond buys was warranted, meeting minutes show</title>, <title>: What is the ‘metaverse’ and how much will it be worth? Depends on whom you ask</title>, <title>Metals Stocks: Gold halts 4-session price slide as U.S. investors turn to Thanksgiving</title>, <title>: Thanksgiving food for thought: Nearly 20 million Americans don’t have enough to eat</title>, <title>Futures Movers: Oil holds ground as inventories rise, traders await OPEC+ response to reserve release</title>, <title>The Fed: Fed Daly says open to supporting a faster tapering of bond purchases, if economic trends continue</title>, <title>Market Extra: Here are the stock market’s trading hours for Thanksgiving and Black Friday</title>]\n",
      "time: 5.9 ms (started: 2021-11-24 11:47:42 -08:00)\n"
     ]
    }
   ],
   "source": [
    "# saving headlines to a list\n",
    "soup = BeautifulSoup(r.content, features='lxml')\n",
    "headlines = soup.findAll('title')\n",
    "print(f'{type(headlines)}\\n')\n",
    "print(headlines)"
   ]
  },
  {
   "cell_type": "markdown",
   "id": "ecbc497a-1907-4df3-b811-8d737816f2a9",
   "metadata": {
    "tags": []
   },
   "source": [
    "### Grabbing Headline String\n",
    "Grabbing headline and printing headline and isolated text."
   ]
  },
  {
   "cell_type": "code",
   "execution_count": 5,
   "id": "e4bf1fcd-e4c7-4242-80a4-74fe2a801af1",
   "metadata": {
    "execution": {
     "iopub.execute_input": "2021-11-24T19:47:42.347117Z",
     "iopub.status.busy": "2021-11-24T19:47:42.346907Z",
     "iopub.status.idle": "2021-11-24T19:47:42.399261Z",
     "shell.execute_reply": "2021-11-24T19:47:42.398366Z",
     "shell.execute_reply.started": "2021-11-24T19:47:42.347098Z"
    },
    "tags": []
   },
   "outputs": [
    {
     "name": "stdout",
     "output_type": "stream",
     "text": [
      "<title>The Tell: There are no municipal-market bond vigilantes when it comes to climate risk, this study confirms</title>\n",
      "\n",
      "The Tell: There are no municipal-market bond vigilantes when it comes to climate risk, this study confirms\n",
      "time: 880 µs (started: 2021-11-24 11:47:42 -08:00)\n"
     ]
    }
   ],
   "source": [
    "# grabbing test headline\n",
    "test_headline = headlines[2]\n",
    "print(f'{test_headline}\\n')\n",
    "print(test_headline.text)"
   ]
  },
  {
   "cell_type": "markdown",
   "id": "64a103b5-d156-4a63-a420-edf19d1425f4",
   "metadata": {},
   "source": [
    "## spaCy: Tests\n",
    "Testing tokenization and name extraction on a single string."
   ]
  },
  {
   "cell_type": "markdown",
   "id": "8b5e37e8-ad08-43cb-bd0c-316b1ae687ae",
   "metadata": {},
   "source": [
    "### Loading Model"
   ]
  },
  {
   "cell_type": "code",
   "execution_count": 6,
   "id": "40c1bf45-66b6-4e0d-8096-2fa953b31232",
   "metadata": {
    "execution": {
     "iopub.execute_input": "2021-11-24T19:47:42.401010Z",
     "iopub.status.busy": "2021-11-24T19:47:42.400860Z",
     "iopub.status.idle": "2021-11-24T19:47:42.947166Z",
     "shell.execute_reply": "2021-11-24T19:47:42.946735Z",
     "shell.execute_reply.started": "2021-11-24T19:47:42.400993Z"
    },
    "tags": []
   },
   "outputs": [
    {
     "name": "stdout",
     "output_type": "stream",
     "text": [
      "time: 501 ms (started: 2021-11-24 11:47:42 -08:00)\n"
     ]
    }
   ],
   "source": [
    "# loading spacy model\n",
    "nlp = spacy.load('en_core_web_sm')"
   ]
  },
  {
   "cell_type": "markdown",
   "id": "b22eff8c-4013-46ba-9c4c-bdf8f026329d",
   "metadata": {},
   "source": [
    "### Tokenizing String\n",
    "Tokenizing the test headline."
   ]
  },
  {
   "cell_type": "code",
   "execution_count": 7,
   "id": "e3a0b3dd-c716-4edf-a5f0-d77504a32e17",
   "metadata": {
    "execution": {
     "iopub.execute_input": "2021-11-24T19:47:42.948891Z",
     "iopub.status.busy": "2021-11-24T19:47:42.948660Z",
     "iopub.status.idle": "2021-11-24T19:47:43.002252Z",
     "shell.execute_reply": "2021-11-24T19:47:43.001694Z",
     "shell.execute_reply.started": "2021-11-24T19:47:42.948868Z"
    },
    "tags": []
   },
   "outputs": [
    {
     "name": "stdout",
     "output_type": "stream",
     "text": [
      "<title>The Tell: There are no municipal-market bond vigilantes when it comes to climate risk, this study confirms</title>\n",
      "\n",
      "The\n",
      "Tell\n",
      ":\n",
      "There\n",
      "are\n",
      "no\n",
      "municipal\n",
      "-\n",
      "market\n",
      "bond\n",
      "vigilantes\n",
      "when\n",
      "it\n",
      "comes\n",
      "to\n",
      "climate\n",
      "risk\n",
      ",\n",
      "this\n",
      "study\n",
      "confirms\n",
      "time: 12.4 ms (started: 2021-11-24 11:47:42 -08:00)\n"
     ]
    }
   ],
   "source": [
    "# checking the test case\n",
    "processed_hline = nlp(test_headline.text)\n",
    "print(f'{test_headline}\\n')\n",
    "for token in processed_hline:\n",
    "  print(token)"
   ]
  },
  {
   "cell_type": "markdown",
   "id": "344b7bb2-4936-4938-8ef5-44a2d8989203",
   "metadata": {},
   "source": [
    "## Saving List of Tokenized Headlines"
   ]
  },
  {
   "cell_type": "code",
   "execution_count": 8,
   "id": "0326da95-c8b5-49e5-9207-93ae94714d1b",
   "metadata": {
    "execution": {
     "iopub.execute_input": "2021-11-24T19:47:43.003564Z",
     "iopub.status.busy": "2021-11-24T19:47:43.003365Z",
     "iopub.status.idle": "2021-11-24T19:47:43.144542Z",
     "shell.execute_reply": "2021-11-24T19:47:43.143395Z",
     "shell.execute_reply.started": "2021-11-24T19:47:43.003541Z"
    },
    "tags": []
   },
   "outputs": [
    {
     "name": "stdout",
     "output_type": "stream",
     "text": [
      "MarketWatch.com - Top Stories\n",
      "MarketWatch.com - Top Stories\n",
      "The Tell: There are no municipal-market bond vigilantes when it comes to climate risk, this study confirms\n",
      "The Ratings Game: Alibaba stock just suffered the biggest 5-day selloff in its history, but Susquehanna analyst stays ‘positive’\n",
      "Market Snapshot: U.S. stocks dip after Federal Reserve minutes show some officials in November favored a faster pace of tapering\n",
      "The Fed: ‘Some’ on Fed thought faster pace of tapering bond buys was warranted, meeting minutes show\n",
      ": What is the ‘metaverse’ and how much will it be worth? Depends on whom you ask\n",
      "Metals Stocks: Gold halts 4-session price slide as U.S. investors turn to Thanksgiving\n",
      ": Thanksgiving food for thought: Nearly 20 million Americans don’t have enough to eat\n",
      "Futures Movers: Oil holds ground as inventories rise, traders await OPEC+ response to reserve release\n",
      "The Fed: Fed Daly says open to supporting a faster tapering of bond purchases, if economic trends continue\n",
      "Market Extra: Here are the stock market’s trading hours for Thanksgiving and Black Friday\n",
      "time: 94.4 ms (started: 2021-11-24 11:47:43 -08:00)\n"
     ]
    }
   ],
   "source": [
    "processed_hlines = [nlp(headlines[i].text) for i in range(len(headlines))]\n",
    "for line in processed_hlines:\n",
    "    print(line)"
   ]
  },
  {
   "cell_type": "markdown",
   "id": "fc53aa4f-c5a8-4fa3-9c1b-ea850c32a9db",
   "metadata": {},
   "source": [
    "## Getting Org Names From Headlines\n",
    "Visualizing named entities (real world objects) in the headlines and creating a set of organiziations."
   ]
  },
  {
   "cell_type": "code",
   "execution_count": 9,
   "id": "53e9fd0b-a896-4434-976d-5e98355705f8",
   "metadata": {
    "execution": {
     "iopub.execute_input": "2021-11-24T19:47:43.145783Z",
     "iopub.status.busy": "2021-11-24T19:47:43.145626Z",
     "iopub.status.idle": "2021-11-24T19:47:43.304845Z",
     "shell.execute_reply": "2021-11-24T19:47:43.303869Z",
     "shell.execute_reply.started": "2021-11-24T19:47:43.145767Z"
    },
    "tags": []
   },
   "outputs": [
    {
     "data": {
      "text/html": [
       "<span class=\"tex2jax_ignore\"><div class=\"entities\" style=\"line-height: 2.5; direction: ltr\">\n",
       "<mark class=\"entity\" style=\"background: #aa9cfc; padding: 0.45em 0.6em; margin: 0 0.25em; line-height: 1; border-radius: 0.35em;\">\n",
       "    MarketWatch.com - Top Stories\n",
       "    <span style=\"font-size: 0.8em; font-weight: bold; line-height: 1; border-radius: 0.35em; text-transform: uppercase; vertical-align: middle; margin-left: 0.5rem\">PERSON</span>\n",
       "</mark>\n",
       "</div></span>"
      ],
      "text/plain": [
       "<IPython.core.display.HTML object>"
      ]
     },
     "metadata": {},
     "output_type": "display_data"
    },
    {
     "data": {
      "text/html": [
       "<span class=\"tex2jax_ignore\"><div class=\"entities\" style=\"line-height: 2.5; direction: ltr\">\n",
       "<mark class=\"entity\" style=\"background: #aa9cfc; padding: 0.45em 0.6em; margin: 0 0.25em; line-height: 1; border-radius: 0.35em;\">\n",
       "    MarketWatch.com - Top Stories\n",
       "    <span style=\"font-size: 0.8em; font-weight: bold; line-height: 1; border-radius: 0.35em; text-transform: uppercase; vertical-align: middle; margin-left: 0.5rem\">PERSON</span>\n",
       "</mark>\n",
       "</div></span>"
      ],
      "text/plain": [
       "<IPython.core.display.HTML object>"
      ]
     },
     "metadata": {},
     "output_type": "display_data"
    },
    {
     "data": {
      "text/html": [
       "<span class=\"tex2jax_ignore\"><div class=\"entities\" style=\"line-height: 2.5; direction: ltr\">The Ratings Game: Alibaba stock just suffered the biggest \n",
       "<mark class=\"entity\" style=\"background: #bfe1d9; padding: 0.45em 0.6em; margin: 0 0.25em; line-height: 1; border-radius: 0.35em;\">\n",
       "    5-day\n",
       "    <span style=\"font-size: 0.8em; font-weight: bold; line-height: 1; border-radius: 0.35em; text-transform: uppercase; vertical-align: middle; margin-left: 0.5rem\">DATE</span>\n",
       "</mark>\n",
       " selloff in its history, but \n",
       "<mark class=\"entity\" style=\"background: #feca74; padding: 0.45em 0.6em; margin: 0 0.25em; line-height: 1; border-radius: 0.35em;\">\n",
       "    Susquehanna\n",
       "    <span style=\"font-size: 0.8em; font-weight: bold; line-height: 1; border-radius: 0.35em; text-transform: uppercase; vertical-align: middle; margin-left: 0.5rem\">GPE</span>\n",
       "</mark>\n",
       " analyst stays ‘positive’</div></span>"
      ],
      "text/plain": [
       "<IPython.core.display.HTML object>"
      ]
     },
     "metadata": {},
     "output_type": "display_data"
    },
    {
     "data": {
      "text/html": [
       "<span class=\"tex2jax_ignore\"><div class=\"entities\" style=\"line-height: 2.5; direction: ltr\">Market Snapshot: \n",
       "<mark class=\"entity\" style=\"background: #feca74; padding: 0.45em 0.6em; margin: 0 0.25em; line-height: 1; border-radius: 0.35em;\">\n",
       "    U.S.\n",
       "    <span style=\"font-size: 0.8em; font-weight: bold; line-height: 1; border-radius: 0.35em; text-transform: uppercase; vertical-align: middle; margin-left: 0.5rem\">GPE</span>\n",
       "</mark>\n",
       " stocks dip after \n",
       "<mark class=\"entity\" style=\"background: #7aecec; padding: 0.45em 0.6em; margin: 0 0.25em; line-height: 1; border-radius: 0.35em;\">\n",
       "    Federal Reserve\n",
       "    <span style=\"font-size: 0.8em; font-weight: bold; line-height: 1; border-radius: 0.35em; text-transform: uppercase; vertical-align: middle; margin-left: 0.5rem\">ORG</span>\n",
       "</mark>\n",
       " minutes show some officials in \n",
       "<mark class=\"entity\" style=\"background: #bfe1d9; padding: 0.45em 0.6em; margin: 0 0.25em; line-height: 1; border-radius: 0.35em;\">\n",
       "    November\n",
       "    <span style=\"font-size: 0.8em; font-weight: bold; line-height: 1; border-radius: 0.35em; text-transform: uppercase; vertical-align: middle; margin-left: 0.5rem\">DATE</span>\n",
       "</mark>\n",
       " favored a faster pace of tapering</div></span>"
      ],
      "text/plain": [
       "<IPython.core.display.HTML object>"
      ]
     },
     "metadata": {},
     "output_type": "display_data"
    },
    {
     "data": {
      "text/html": [
       "<span class=\"tex2jax_ignore\"><div class=\"entities\" style=\"line-height: 2.5; direction: ltr\">The \n",
       "<mark class=\"entity\" style=\"background: #7aecec; padding: 0.45em 0.6em; margin: 0 0.25em; line-height: 1; border-radius: 0.35em;\">\n",
       "    Fed\n",
       "    <span style=\"font-size: 0.8em; font-weight: bold; line-height: 1; border-radius: 0.35em; text-transform: uppercase; vertical-align: middle; margin-left: 0.5rem\">ORG</span>\n",
       "</mark>\n",
       ": ‘Some’ on \n",
       "<mark class=\"entity\" style=\"background: #7aecec; padding: 0.45em 0.6em; margin: 0 0.25em; line-height: 1; border-radius: 0.35em;\">\n",
       "    Fed\n",
       "    <span style=\"font-size: 0.8em; font-weight: bold; line-height: 1; border-radius: 0.35em; text-transform: uppercase; vertical-align: middle; margin-left: 0.5rem\">ORG</span>\n",
       "</mark>\n",
       " thought faster pace of tapering bond buys was warranted, meeting minutes show</div></span>"
      ],
      "text/plain": [
       "<IPython.core.display.HTML object>"
      ]
     },
     "metadata": {},
     "output_type": "display_data"
    },
    {
     "data": {
      "text/html": [
       "<span class=\"tex2jax_ignore\"><div class=\"entities\" style=\"line-height: 2.5; direction: ltr\">Metals Stocks: Gold halts 4-session price slide as \n",
       "<mark class=\"entity\" style=\"background: #feca74; padding: 0.45em 0.6em; margin: 0 0.25em; line-height: 1; border-radius: 0.35em;\">\n",
       "    U.S.\n",
       "    <span style=\"font-size: 0.8em; font-weight: bold; line-height: 1; border-radius: 0.35em; text-transform: uppercase; vertical-align: middle; margin-left: 0.5rem\">GPE</span>\n",
       "</mark>\n",
       " investors turn to \n",
       "<mark class=\"entity\" style=\"background: #bfe1d9; padding: 0.45em 0.6em; margin: 0 0.25em; line-height: 1; border-radius: 0.35em;\">\n",
       "    Thanksgiving\n",
       "    <span style=\"font-size: 0.8em; font-weight: bold; line-height: 1; border-radius: 0.35em; text-transform: uppercase; vertical-align: middle; margin-left: 0.5rem\">DATE</span>\n",
       "</mark>\n",
       "</div></span>"
      ],
      "text/plain": [
       "<IPython.core.display.HTML object>"
      ]
     },
     "metadata": {},
     "output_type": "display_data"
    },
    {
     "data": {
      "text/html": [
       "<span class=\"tex2jax_ignore\"><div class=\"entities\" style=\"line-height: 2.5; direction: ltr\">: \n",
       "<mark class=\"entity\" style=\"background: #bfe1d9; padding: 0.45em 0.6em; margin: 0 0.25em; line-height: 1; border-radius: 0.35em;\">\n",
       "    Thanksgiving\n",
       "    <span style=\"font-size: 0.8em; font-weight: bold; line-height: 1; border-radius: 0.35em; text-transform: uppercase; vertical-align: middle; margin-left: 0.5rem\">DATE</span>\n",
       "</mark>\n",
       " food for thought: \n",
       "<mark class=\"entity\" style=\"background: #e4e7d2; padding: 0.45em 0.6em; margin: 0 0.25em; line-height: 1; border-radius: 0.35em;\">\n",
       "    Nearly 20 million\n",
       "    <span style=\"font-size: 0.8em; font-weight: bold; line-height: 1; border-radius: 0.35em; text-transform: uppercase; vertical-align: middle; margin-left: 0.5rem\">CARDINAL</span>\n",
       "</mark>\n",
       " \n",
       "<mark class=\"entity\" style=\"background: #c887fb; padding: 0.45em 0.6em; margin: 0 0.25em; line-height: 1; border-radius: 0.35em;\">\n",
       "    Americans\n",
       "    <span style=\"font-size: 0.8em; font-weight: bold; line-height: 1; border-radius: 0.35em; text-transform: uppercase; vertical-align: middle; margin-left: 0.5rem\">NORP</span>\n",
       "</mark>\n",
       " don’t have enough to eat</div></span>"
      ],
      "text/plain": [
       "<IPython.core.display.HTML object>"
      ]
     },
     "metadata": {},
     "output_type": "display_data"
    },
    {
     "data": {
      "text/html": [
       "<span class=\"tex2jax_ignore\"><div class=\"entities\" style=\"line-height: 2.5; direction: ltr\">The \n",
       "<mark class=\"entity\" style=\"background: #7aecec; padding: 0.45em 0.6em; margin: 0 0.25em; line-height: 1; border-radius: 0.35em;\">\n",
       "    Fed\n",
       "    <span style=\"font-size: 0.8em; font-weight: bold; line-height: 1; border-radius: 0.35em; text-transform: uppercase; vertical-align: middle; margin-left: 0.5rem\">ORG</span>\n",
       "</mark>\n",
       ": \n",
       "<mark class=\"entity\" style=\"background: #7aecec; padding: 0.45em 0.6em; margin: 0 0.25em; line-height: 1; border-radius: 0.35em;\">\n",
       "    Fed Daly\n",
       "    <span style=\"font-size: 0.8em; font-weight: bold; line-height: 1; border-radius: 0.35em; text-transform: uppercase; vertical-align: middle; margin-left: 0.5rem\">ORG</span>\n",
       "</mark>\n",
       " says open to supporting a faster tapering of bond purchases, if economic trends continue</div></span>"
      ],
      "text/plain": [
       "<IPython.core.display.HTML object>"
      ]
     },
     "metadata": {},
     "output_type": "display_data"
    },
    {
     "data": {
      "text/html": [
       "<span class=\"tex2jax_ignore\"><div class=\"entities\" style=\"line-height: 2.5; direction: ltr\">Market Extra: Here are the stock market’s trading \n",
       "<mark class=\"entity\" style=\"background: #bfe1d9; padding: 0.45em 0.6em; margin: 0 0.25em; line-height: 1; border-radius: 0.35em;\">\n",
       "    hours\n",
       "    <span style=\"font-size: 0.8em; font-weight: bold; line-height: 1; border-radius: 0.35em; text-transform: uppercase; vertical-align: middle; margin-left: 0.5rem\">TIME</span>\n",
       "</mark>\n",
       " for \n",
       "<mark class=\"entity\" style=\"background: #bfe1d9; padding: 0.45em 0.6em; margin: 0 0.25em; line-height: 1; border-radius: 0.35em;\">\n",
       "    Thanksgiving\n",
       "    <span style=\"font-size: 0.8em; font-weight: bold; line-height: 1; border-radius: 0.35em; text-transform: uppercase; vertical-align: middle; margin-left: 0.5rem\">DATE</span>\n",
       "</mark>\n",
       " and \n",
       "<mark class=\"entity\" style=\"background: #ffeb80; padding: 0.45em 0.6em; margin: 0 0.25em; line-height: 1; border-radius: 0.35em;\">\n",
       "    Black Friday\n",
       "    <span style=\"font-size: 0.8em; font-weight: bold; line-height: 1; border-radius: 0.35em; text-transform: uppercase; vertical-align: middle; margin-left: 0.5rem\">EVENT</span>\n",
       "</mark>\n",
       "</div></span>"
      ],
      "text/plain": [
       "<IPython.core.display.HTML object>"
      ]
     },
     "metadata": {},
     "output_type": "display_data"
    },
    {
     "name": "stdout",
     "output_type": "stream",
     "text": [
      "{'Fed Daly', 'Fed', 'Federal Reserve'}\n",
      "time: 109 ms (started: 2021-11-24 11:47:43 -08:00)\n"
     ]
    }
   ],
   "source": [
    "# pulling company name tokens from headlines\n",
    "companies = []\n",
    "for title in processed_hlines:\n",
    "    doc = nlp(title.text)\n",
    "    if len(doc.ents) != 0:\n",
    "        displacy.render(doc, style='ent')\n",
    "    else:\n",
    "        pass\n",
    "    for token in doc.ents:\n",
    "        if token.label_ == 'ORG':\n",
    "            companies.append(token.text)\n",
    "        else:\n",
    "            pass\n",
    "companies = set(companies)\n",
    "print(companies)"
   ]
  },
  {
   "cell_type": "markdown",
   "id": "90e46e54-cd0e-4d1b-bfdb-39c3f5b23032",
   "metadata": {},
   "source": [
    "## Scraping S&P 500 Stock Table w/Requests & BeautifulSoup"
   ]
  },
  {
   "cell_type": "code",
   "execution_count": 10,
   "id": "dc3866e6-298d-4e2e-beda-5c4baad44ba8",
   "metadata": {
    "execution": {
     "iopub.execute_input": "2021-11-24T19:47:43.306228Z",
     "iopub.status.busy": "2021-11-24T19:47:43.305988Z",
     "iopub.status.idle": "2021-11-24T19:47:43.932507Z",
     "shell.execute_reply": "2021-11-24T19:47:43.931464Z",
     "shell.execute_reply.started": "2021-11-24T19:47:43.306203Z"
    },
    "tags": []
   },
   "outputs": [
    {
     "name": "stdout",
     "output_type": "stream",
     "text": [
      "[<tr>\n",
      "<td><a class=\"external text\" href=\"https://www.nyse.com/quote/XNYS:MMM\" rel=\"nofollow\">MMM</a>\n",
      "</td>\n",
      "<td><a href=\"/wiki/3M\" title=\"3M\">3M</a></td>\n",
      "<td><a class=\"external text\" href=\"https://www.sec.gov/edgar/browse/?CIK=66740\" rel=\"nofollow\">reports</a></td>\n",
      "<td>Industrials</td>\n",
      "<td>Industrial Conglomerates</td>\n",
      "<td><a href=\"/wiki/Saint_Paul,_Minnesota\" title=\"Saint Paul, Minnesota\">Saint Paul, Minnesota</a></td>\n",
      "<td>1976-08-09</td>\n",
      "<td>0000066740</td>\n",
      "<td>1902\n",
      "</td></tr>]\n",
      "time: 578 ms (started: 2021-11-24 11:47:43 -08:00)\n"
     ]
    }
   ],
   "source": [
    "# scraping S&P wikipedia page\n",
    "r = requests.get('https://en.wikipedia.org/wiki/List_of_S%26P_500_companies')\n",
    "\n",
    "# parsing the html\n",
    "soup = BeautifulSoup(r.text, 'lxml')\n",
    "\n",
    "# extracting the table\n",
    "table = soup.find('table', {'class': 'wikitable sortable'})\n",
    "\n",
    "# printing row with first stock\n",
    "print(table.findAll('tr')[1:2])"
   ]
  },
  {
   "cell_type": "markdown",
   "id": "a95b9b49-5ab4-4bf8-aff7-6b7c3fad5c4d",
   "metadata": {},
   "source": [
    "### Ticker Symbols\n",
    "Grabbing the ticker symbol from the first cell of each row."
   ]
  },
  {
   "cell_type": "code",
   "execution_count": 11,
   "id": "f5f74629-2adb-44dc-93fd-9f50f5fe65ba",
   "metadata": {
    "execution": {
     "iopub.execute_input": "2021-11-24T19:47:43.934093Z",
     "iopub.status.busy": "2021-11-24T19:47:43.933897Z",
     "iopub.status.idle": "2021-11-24T19:47:43.993142Z",
     "shell.execute_reply": "2021-11-24T19:47:43.992283Z",
     "shell.execute_reply.started": "2021-11-24T19:47:43.934062Z"
    },
    "tags": []
   },
   "outputs": [
    {
     "name": "stdout",
     "output_type": "stream",
     "text": [
      "List Length: 505 \n",
      "\n",
      "First five symbols: ['MMM\\n', 'ABT\\n', 'ABBV\\n', 'ABMD\\n', 'ACN\\n']\n",
      "time: 14.9 ms (started: 2021-11-24 11:47:43 -08:00)\n"
     ]
    }
   ],
   "source": [
    "# making list of symbols\n",
    "symbols = [row.findAll('td')[0].text for row in table.findAll('tr')[1:]]\n",
    "\n",
    "# checking length\n",
    "print(f'List Length: {len(symbols)} \\n')\n",
    "\n",
    "# checking first 5 symbols\n",
    "print(f'First five symbols: {symbols[:5]}')"
   ]
  },
  {
   "cell_type": "markdown",
   "id": "fa76b04c-b9b9-4232-986d-6ee28b49a6a4",
   "metadata": {},
   "source": [
    "The length of the list looks good, but we have extra characters we need to strip from the symbols."
   ]
  },
  {
   "cell_type": "code",
   "execution_count": 12,
   "id": "b77d668d-6376-4a48-9545-d8a90258cf0b",
   "metadata": {
    "execution": {
     "iopub.execute_input": "2021-11-24T19:47:43.998348Z",
     "iopub.status.busy": "2021-11-24T19:47:43.998149Z",
     "iopub.status.idle": "2021-11-24T19:47:44.044224Z",
     "shell.execute_reply": "2021-11-24T19:47:44.043428Z",
     "shell.execute_reply.started": "2021-11-24T19:47:43.998329Z"
    },
    "tags": []
   },
   "outputs": [
    {
     "name": "stdout",
     "output_type": "stream",
     "text": [
      "['MMM', 'ABT', 'ABBV', 'ABMD', 'ACN']\n",
      "time: 1e+03 µs (started: 2021-11-24 11:47:44 -08:00)\n"
     ]
    }
   ],
   "source": [
    "# stripping new line character from the strings \n",
    "symbols = list(map(lambda s: s.strip(), symbols))\n",
    "\n",
    "# checking first 5 symbols\n",
    "print(symbols[:5])"
   ]
  },
  {
   "cell_type": "markdown",
   "id": "20a11a7f-608d-4581-9436-1ec790eceee5",
   "metadata": {},
   "source": [
    "Looks good. We can apply the same technique to the second cell of the row to scrape and save the company name, and to the fifth cell to grab the company industry. "
   ]
  },
  {
   "cell_type": "markdown",
   "id": "00b559c3-162e-4815-8469-e769568cbbb9",
   "metadata": {},
   "source": [
    "### Names\n",
    "Grabbing the company name from the second cell of each row."
   ]
  },
  {
   "cell_type": "code",
   "execution_count": 13,
   "id": "acea8f4e-07ad-4192-bf5b-058473a22780",
   "metadata": {
    "execution": {
     "iopub.execute_input": "2021-11-24T19:47:44.045472Z",
     "iopub.status.busy": "2021-11-24T19:47:44.045321Z",
     "iopub.status.idle": "2021-11-24T19:47:44.103048Z",
     "shell.execute_reply": "2021-11-24T19:47:44.102408Z",
     "shell.execute_reply.started": "2021-11-24T19:47:44.045455Z"
    },
    "tags": []
   },
   "outputs": [
    {
     "name": "stdout",
     "output_type": "stream",
     "text": [
      "['3M', 'Abbott Laboratories', 'AbbVie', 'Abiomed', 'Accenture']\n",
      "time: 15.4 ms (started: 2021-11-24 11:47:44 -08:00)\n"
     ]
    }
   ],
   "source": [
    "# making list of names\n",
    "names = [row.findAll('td')[1].text for row in table.findAll('tr')[1:]]\n",
    "\n",
    "# checking first five names\n",
    "print(names[:5])"
   ]
  },
  {
   "cell_type": "markdown",
   "id": "6365495f-2364-4b54-85e2-5bbfae172dd0",
   "metadata": {},
   "source": [
    "## S&P 500 Dataframe\n",
    "Creating a data frame of stocks in the S&P 500 index."
   ]
  },
  {
   "cell_type": "code",
   "execution_count": 14,
   "id": "20e47c1d-d75b-424c-9a57-1075d4b5bf12",
   "metadata": {
    "execution": {
     "iopub.execute_input": "2021-11-24T19:47:44.104374Z",
     "iopub.status.busy": "2021-11-24T19:47:44.104229Z",
     "iopub.status.idle": "2021-11-24T19:47:44.156865Z",
     "shell.execute_reply": "2021-11-24T19:47:44.156270Z",
     "shell.execute_reply.started": "2021-11-24T19:47:44.104357Z"
    },
    "tags": []
   },
   "outputs": [
    {
     "name": "stdout",
     "output_type": "stream",
     "text": [
      "(505, 2)\n"
     ]
    },
    {
     "data": {
      "text/html": [
       "<div>\n",
       "<style scoped>\n",
       "    .dataframe tbody tr th:only-of-type {\n",
       "        vertical-align: middle;\n",
       "    }\n",
       "\n",
       "    .dataframe tbody tr th {\n",
       "        vertical-align: top;\n",
       "    }\n",
       "\n",
       "    .dataframe thead th {\n",
       "        text-align: right;\n",
       "    }\n",
       "</style>\n",
       "<table border=\"1\" class=\"dataframe\">\n",
       "  <thead>\n",
       "    <tr style=\"text-align: right;\">\n",
       "      <th></th>\n",
       "      <th>Company Name</th>\n",
       "      <th>Symbol</th>\n",
       "    </tr>\n",
       "  </thead>\n",
       "  <tbody>\n",
       "    <tr>\n",
       "      <th>0</th>\n",
       "      <td>3M</td>\n",
       "      <td>MMM</td>\n",
       "    </tr>\n",
       "    <tr>\n",
       "      <th>1</th>\n",
       "      <td>Abbott Laboratories</td>\n",
       "      <td>ABT</td>\n",
       "    </tr>\n",
       "    <tr>\n",
       "      <th>2</th>\n",
       "      <td>AbbVie</td>\n",
       "      <td>ABBV</td>\n",
       "    </tr>\n",
       "    <tr>\n",
       "      <th>3</th>\n",
       "      <td>Abiomed</td>\n",
       "      <td>ABMD</td>\n",
       "    </tr>\n",
       "    <tr>\n",
       "      <th>4</th>\n",
       "      <td>Accenture</td>\n",
       "      <td>ACN</td>\n",
       "    </tr>\n",
       "  </tbody>\n",
       "</table>\n",
       "</div>"
      ],
      "text/plain": [
       "          Company Name Symbol\n",
       "0                   3M    MMM\n",
       "1  Abbott Laboratories    ABT\n",
       "2               AbbVie   ABBV\n",
       "3              Abiomed   ABMD\n",
       "4            Accenture    ACN"
      ]
     },
     "execution_count": 14,
     "metadata": {},
     "output_type": "execute_result"
    },
    {
     "name": "stdout",
     "output_type": "stream",
     "text": [
      "time: 10.2 ms (started: 2021-11-24 11:47:44 -08:00)\n"
     ]
    }
   ],
   "source": [
    "# making a data dictionary\n",
    "data = {'Company Name': names, 'Symbol': symbols}\n",
    "\n",
    "# creating data frame from the data\n",
    "stocks_df = pd.DataFrame.from_dict(data)\n",
    "\n",
    "# checking shape and first five rows\n",
    "print(stocks_df.shape)\n",
    "stocks_df.head()"
   ]
  },
  {
   "cell_type": "markdown",
   "id": "7e8eb610-65e8-4f68-9296-e8971071f5dc",
   "metadata": {},
   "source": [
    "### Checking yf Stock Info Dictionary Keys\n",
    "Checking the dictionary keys available for pulling stock information."
   ]
  },
  {
   "cell_type": "code",
   "execution_count": 15,
   "id": "6a0d5f31-6176-4772-973f-d3f8dc331cdf",
   "metadata": {
    "execution": {
     "iopub.execute_input": "2021-11-24T19:47:44.157636Z",
     "iopub.status.busy": "2021-11-24T19:47:44.157503Z",
     "iopub.status.idle": "2021-11-24T19:47:44.202742Z",
     "shell.execute_reply": "2021-11-24T19:47:44.201725Z",
     "shell.execute_reply.started": "2021-11-24T19:47:44.157619Z"
    },
    "tags": []
   },
   "outputs": [
    {
     "name": "stdout",
     "output_type": "stream",
     "text": [
      "time: 2.81 ms (started: 2021-11-24 11:47:44 -08:00)\n"
     ]
    }
   ],
   "source": [
    "# instantiating a ticker object\n",
    "ACN = yf.Ticker('ACN')"
   ]
  },
  {
   "cell_type": "code",
   "execution_count": 16,
   "id": "2a8a9f7b-5358-4cb6-b0d3-4adda8696933",
   "metadata": {
    "execution": {
     "iopub.execute_input": "2021-11-24T19:47:44.204896Z",
     "iopub.status.busy": "2021-11-24T19:47:44.204569Z",
     "iopub.status.idle": "2021-11-24T19:47:47.404699Z",
     "shell.execute_reply": "2021-11-24T19:47:47.403773Z",
     "shell.execute_reply.started": "2021-11-24T19:47:44.204872Z"
    },
    "tags": []
   },
   "outputs": [
    {
     "data": {
      "text/plain": [
       "dict_keys(['zip', 'sector', 'fullTimeEmployees', 'longBusinessSummary', 'city', 'phone', 'country', 'companyOfficers', 'website', 'maxAge', 'address1', 'fax', 'industry', 'address2', 'ebitdaMargins', 'profitMargins', 'grossMargins', 'operatingCashflow', 'revenueGrowth', 'operatingMargins', 'ebitda', 'targetLowPrice', 'recommendationKey', 'grossProfits', 'freeCashflow', 'targetMedianPrice', 'currentPrice', 'earningsGrowth', 'currentRatio', 'returnOnAssets', 'numberOfAnalystOpinions', 'targetMeanPrice', 'debtToEquity', 'returnOnEquity', 'targetHighPrice', 'totalCash', 'totalDebt', 'totalRevenue', 'totalCashPerShare', 'financialCurrency', 'revenuePerShare', 'quickRatio', 'recommendationMean', 'exchange', 'shortName', 'longName', 'exchangeTimezoneName', 'exchangeTimezoneShortName', 'isEsgPopulated', 'gmtOffSetMilliseconds', 'quoteType', 'symbol', 'messageBoardId', 'market', 'annualHoldingsTurnover', 'enterpriseToRevenue', 'beta3Year', 'enterpriseToEbitda', '52WeekChange', 'morningStarRiskRating', 'forwardEps', 'revenueQuarterlyGrowth', 'sharesOutstanding', 'fundInceptionDate', 'annualReportExpenseRatio', 'totalAssets', 'bookValue', 'sharesShort', 'sharesPercentSharesOut', 'fundFamily', 'lastFiscalYearEnd', 'heldPercentInstitutions', 'netIncomeToCommon', 'trailingEps', 'lastDividendValue', 'SandP52WeekChange', 'priceToBook', 'heldPercentInsiders', 'nextFiscalYearEnd', 'yield', 'mostRecentQuarter', 'shortRatio', 'sharesShortPreviousMonthDate', 'floatShares', 'beta', 'enterpriseValue', 'priceHint', 'threeYearAverageReturn', 'lastSplitDate', 'lastSplitFactor', 'legalType', 'lastDividendDate', 'morningStarOverallRating', 'earningsQuarterlyGrowth', 'priceToSalesTrailing12Months', 'dateShortInterest', 'pegRatio', 'ytdReturn', 'forwardPE', 'lastCapGain', 'shortPercentOfFloat', 'sharesShortPriorMonth', 'impliedSharesOutstanding', 'category', 'fiveYearAverageReturn', 'previousClose', 'regularMarketOpen', 'twoHundredDayAverage', 'trailingAnnualDividendYield', 'payoutRatio', 'volume24Hr', 'regularMarketDayHigh', 'navPrice', 'averageDailyVolume10Day', 'regularMarketPreviousClose', 'fiftyDayAverage', 'trailingAnnualDividendRate', 'open', 'toCurrency', 'averageVolume10days', 'expireDate', 'algorithm', 'dividendRate', 'exDividendDate', 'circulatingSupply', 'startDate', 'regularMarketDayLow', 'currency', 'trailingPE', 'regularMarketVolume', 'lastMarket', 'maxSupply', 'openInterest', 'marketCap', 'volumeAllCurrencies', 'strikePrice', 'averageVolume', 'dayLow', 'ask', 'askSize', 'volume', 'fiftyTwoWeekHigh', 'fromCurrency', 'fiveYearAvgDividendYield', 'fiftyTwoWeekLow', 'bid', 'tradeable', 'dividendYield', 'bidSize', 'dayHigh', 'regularMarketPrice', 'logo_url'])"
      ]
     },
     "execution_count": 16,
     "metadata": {},
     "output_type": "execute_result"
    },
    {
     "name": "stdout",
     "output_type": "stream",
     "text": [
      "time: 3.16 s (started: 2021-11-24 11:47:44 -08:00)\n"
     ]
    }
   ],
   "source": [
    "# checking keys\n",
    "ACN.info.keys()"
   ]
  },
  {
   "cell_type": "markdown",
   "id": "f5ac7667-150a-4a9b-a20b-f142e3a84eef",
   "metadata": {},
   "source": [
    "### Data for Stocks in the News\n",
    "Creating a data frame of price and dividend information for S&P 500 stocks in the news in the following steps:\n",
    "\n",
    "- Create a data dictionary from the list of companies in the headlines.\n",
    "\n",
    "- Create a data frame from data dictionary."
   ]
  },
  {
   "cell_type": "code",
   "execution_count": 17,
   "id": "75714472-48d2-4d1a-8839-cb2a373be809",
   "metadata": {
    "execution": {
     "iopub.execute_input": "2021-11-24T19:47:47.406330Z",
     "iopub.status.busy": "2021-11-24T19:47:47.406046Z",
     "iopub.status.idle": "2021-11-24T19:47:50.148363Z",
     "shell.execute_reply": "2021-11-24T19:47:50.147618Z",
     "shell.execute_reply.started": "2021-11-24T19:47:47.406311Z"
    },
    "tags": []
   },
   "outputs": [
    {
     "name": "stdout",
     "output_type": "stream",
     "text": [
      "time: 2.69 s (started: 2021-11-24 11:47:47 -08:00)\n"
     ]
    }
   ],
   "source": [
    "# creating empty stock info dictionary\n",
    "stock_data = {\n",
    "    'Company': [],\n",
    "    'Symbol': [],\n",
    "    'currentPrice': [],\n",
    "    'dayHigh': [],\n",
    "    'dayLow': [],\n",
    "    '52wkHigh': [],\n",
    "    '52wkLow': [],\n",
    "    'dividendRate': []\n",
    "    \n",
    "}\n",
    "\n",
    "# loading stocks from s&p dataframe and appending data from yf\n",
    "for company in companies:\n",
    "\n",
    "    try:\n",
    "        if stocks_df['Company Name'].str.contains(company).sum():\n",
    "            symbol = stocks_df[stocks_df['Company Name'].\\\n",
    "                                str.contains(company)]['Symbol'].values[0]\n",
    "            org_name = stocks_df[stocks_df['Company Name'].\\\n",
    "                                str.contains(company)]['Company Name'].values[0]\n",
    "            stock_data['Company'].append(org_name)\n",
    "            stock_data['Symbol'].append(symbol)\n",
    "            stock_info = yf.Ticker(symbol).info\n",
    "            stock_data['currentPrice'].append(stock_info['currentPrice'])\n",
    "            stock_data['dayHigh'].append(stock_info['dayHigh'])\n",
    "            stock_data['dayLow'].append(stock_info['dayLow'])\n",
    "            stock_data['52wkHigh'].append(stock_info['fiftyTwoWeekHigh'])\n",
    "            stock_data['52wkLow'].append(stock_info['fiftyTwoWeekLow'])            \n",
    "            \n",
    "            # converting dividend None types to floats\n",
    "            dividend = stock_info['dividendRate']\n",
    "            if dividend != None:\n",
    "                dividend = dividend\n",
    "            else:\n",
    "                dividend = 0\n",
    "            stock_data['dividendRate'].append(dividend)\n",
    "        else:\n",
    "            pass\n",
    "    except:\n",
    "        pass"
   ]
  },
  {
   "cell_type": "code",
   "execution_count": 18,
   "id": "5775a08d-a060-4407-ad69-8bc0ba6222ec",
   "metadata": {
    "execution": {
     "iopub.execute_input": "2021-11-24T19:47:50.149836Z",
     "iopub.status.busy": "2021-11-24T19:47:50.149584Z",
     "iopub.status.idle": "2021-11-24T19:47:50.194285Z",
     "shell.execute_reply": "2021-11-24T19:47:50.193810Z",
     "shell.execute_reply.started": "2021-11-24T19:47:50.149811Z"
    },
    "tags": []
   },
   "outputs": [
    {
     "data": {
      "text/plain": [
       "{'Company': ['Federal Realty Investment Trust'],\n",
       " 'Symbol': ['FRT'],\n",
       " 'currentPrice': [131.64],\n",
       " 'dayHigh': [131.64],\n",
       " 'dayLow': [130.02],\n",
       " '52wkHigh': [135.56],\n",
       " '52wkLow': [81.85],\n",
       " 'dividendRate': [4.28]}"
      ]
     },
     "execution_count": 18,
     "metadata": {},
     "output_type": "execute_result"
    },
    {
     "name": "stdout",
     "output_type": "stream",
     "text": [
      "time: 2.04 ms (started: 2021-11-24 11:47:50 -08:00)\n"
     ]
    }
   ],
   "source": [
    "# checking dict\n",
    "stock_data"
   ]
  },
  {
   "cell_type": "markdown",
   "id": "0405069b-2119-4a58-9abd-367967bf4f31",
   "metadata": {},
   "source": [
    "### Data Frame of S&P 500 Stocks in the News"
   ]
  },
  {
   "cell_type": "code",
   "execution_count": 19,
   "id": "61e25bba-2b56-4eec-9072-12b69b6fd94c",
   "metadata": {
    "execution": {
     "iopub.execute_input": "2021-11-24T19:47:50.195441Z",
     "iopub.status.busy": "2021-11-24T19:47:50.195296Z",
     "iopub.status.idle": "2021-11-24T19:47:50.247454Z",
     "shell.execute_reply": "2021-11-24T19:47:50.246420Z",
     "shell.execute_reply.started": "2021-11-24T19:47:50.195425Z"
    },
    "tags": []
   },
   "outputs": [
    {
     "data": {
      "text/html": [
       "<div>\n",
       "<style scoped>\n",
       "    .dataframe tbody tr th:only-of-type {\n",
       "        vertical-align: middle;\n",
       "    }\n",
       "\n",
       "    .dataframe tbody tr th {\n",
       "        vertical-align: top;\n",
       "    }\n",
       "\n",
       "    .dataframe thead th {\n",
       "        text-align: right;\n",
       "    }\n",
       "</style>\n",
       "<table border=\"1\" class=\"dataframe\">\n",
       "  <thead>\n",
       "    <tr style=\"text-align: right;\">\n",
       "      <th></th>\n",
       "      <th>Company</th>\n",
       "      <th>Symbol</th>\n",
       "      <th>currentPrice</th>\n",
       "      <th>dayHigh</th>\n",
       "      <th>dayLow</th>\n",
       "      <th>52wkHigh</th>\n",
       "      <th>52wkLow</th>\n",
       "      <th>dividendRate</th>\n",
       "    </tr>\n",
       "  </thead>\n",
       "  <tbody>\n",
       "    <tr>\n",
       "      <th>0</th>\n",
       "      <td>Federal Realty Investment Trust</td>\n",
       "      <td>FRT</td>\n",
       "      <td>131.64</td>\n",
       "      <td>131.64</td>\n",
       "      <td>130.02</td>\n",
       "      <td>135.56</td>\n",
       "      <td>81.85</td>\n",
       "      <td>4.28</td>\n",
       "    </tr>\n",
       "  </tbody>\n",
       "</table>\n",
       "</div>"
      ],
      "text/plain": [
       "                           Company Symbol  currentPrice  dayHigh  dayLow  \\\n",
       "0  Federal Realty Investment Trust    FRT        131.64   131.64  130.02   \n",
       "\n",
       "   52wkHigh  52wkLow  dividendRate  \n",
       "0    135.56    81.85          4.28  "
      ]
     },
     "execution_count": 19,
     "metadata": {},
     "output_type": "execute_result"
    },
    {
     "name": "stdout",
     "output_type": "stream",
     "text": [
      "time: 6.79 ms (started: 2021-11-24 11:47:50 -08:00)\n"
     ]
    }
   ],
   "source": [
    "in_the_news = pd.DataFrame(stock_data)\n",
    "in_the_news.head()"
   ]
  },
  {
   "cell_type": "code",
   "execution_count": 20,
   "id": "84fcb1ec-5d31-43d0-988f-a3eabe80c558",
   "metadata": {
    "execution": {
     "iopub.execute_input": "2021-11-24T19:47:50.249219Z",
     "iopub.status.busy": "2021-11-24T19:47:50.248911Z",
     "iopub.status.idle": "2021-11-24T19:47:50.300018Z",
     "shell.execute_reply": "2021-11-24T19:47:50.299281Z",
     "shell.execute_reply.started": "2021-11-24T19:47:50.249172Z"
    },
    "tags": []
   },
   "outputs": [
    {
     "name": "stdout",
     "output_type": "stream",
     "text": [
      "<class 'pandas.core.frame.DataFrame'>\n",
      "RangeIndex: 1 entries, 0 to 0\n",
      "Data columns (total 8 columns):\n",
      " #   Column        Non-Null Count  Dtype  \n",
      "---  ------        --------------  -----  \n",
      " 0   Company       1 non-null      object \n",
      " 1   Symbol        1 non-null      object \n",
      " 2   currentPrice  1 non-null      float64\n",
      " 3   dayHigh       1 non-null      float64\n",
      " 4   dayLow        1 non-null      float64\n",
      " 5   52wkHigh      1 non-null      float64\n",
      " 6   52wkLow       1 non-null      float64\n",
      " 7   dividendRate  1 non-null      float64\n",
      "dtypes: float64(6), object(2)\n",
      "memory usage: 192.0+ bytes\n",
      "time: 6.2 ms (started: 2021-11-24 11:47:50 -08:00)\n"
     ]
    }
   ],
   "source": [
    "# checking Dtypes\n",
    "in_the_news.info()"
   ]
  },
  {
   "cell_type": "markdown",
   "id": "278593a1-e249-4fbb-ab2b-0c2e2d5e7f5d",
   "metadata": {},
   "source": [
    "## Individual Stock Price Helper Function\n",
    "Checking the helper function."
   ]
  },
  {
   "cell_type": "code",
   "execution_count": 21,
   "id": "d19f4da9-ae51-4818-80d8-692090419d81",
   "metadata": {
    "execution": {
     "iopub.execute_input": "2021-11-24T19:47:50.301154Z",
     "iopub.status.busy": "2021-11-24T19:47:50.301004Z",
     "iopub.status.idle": "2021-11-24T19:47:53.188297Z",
     "shell.execute_reply": "2021-11-24T19:47:53.187630Z",
     "shell.execute_reply.started": "2021-11-24T19:47:50.301136Z"
    },
    "tags": []
   },
   "outputs": [
    {
     "data": {
      "text/html": [
       "<div>\n",
       "<style scoped>\n",
       "    .dataframe tbody tr th:only-of-type {\n",
       "        vertical-align: middle;\n",
       "    }\n",
       "\n",
       "    .dataframe tbody tr th {\n",
       "        vertical-align: top;\n",
       "    }\n",
       "\n",
       "    .dataframe thead th {\n",
       "        text-align: right;\n",
       "    }\n",
       "</style>\n",
       "<table border=\"1\" class=\"dataframe\">\n",
       "  <thead>\n",
       "    <tr style=\"text-align: right;\">\n",
       "      <th></th>\n",
       "      <th>Company</th>\n",
       "      <th>Symbol</th>\n",
       "      <th>Current Price</th>\n",
       "      <th>Intraday High</th>\n",
       "      <th>Intraday Low</th>\n",
       "      <th>52wkHigh</th>\n",
       "      <th>52wkLow</th>\n",
       "      <th>Dividend</th>\n",
       "    </tr>\n",
       "  </thead>\n",
       "  <tbody>\n",
       "    <tr>\n",
       "      <th>0</th>\n",
       "      <td>3M Company</td>\n",
       "      <td>MMM</td>\n",
       "      <td>178.05</td>\n",
       "      <td>179.45</td>\n",
       "      <td>177.71</td>\n",
       "      <td>208.95</td>\n",
       "      <td>163.38</td>\n",
       "      <td>5.92</td>\n",
       "    </tr>\n",
       "  </tbody>\n",
       "</table>\n",
       "</div>"
      ],
      "text/plain": [
       "      Company Symbol  Current Price  Intraday High  Intraday Low  52wkHigh  \\\n",
       "0  3M Company    MMM         178.05         179.45        177.71    208.95   \n",
       "\n",
       "   52wkLow  Dividend  \n",
       "0   163.38      5.92  "
      ]
     },
     "execution_count": 21,
     "metadata": {},
     "output_type": "execute_result"
    },
    {
     "name": "stdout",
     "output_type": "stream",
     "text": [
      "time: 2.84 s (started: 2021-11-24 11:47:50 -08:00)\n"
     ]
    }
   ],
   "source": [
    "h.get_prices('MMM')"
   ]
  },
  {
   "cell_type": "code",
   "execution_count": 22,
   "id": "49ab1a6c-6d6e-40a7-868a-f364653333e0",
   "metadata": {
    "execution": {
     "iopub.execute_input": "2021-11-24T19:47:53.189639Z",
     "iopub.status.busy": "2021-11-24T19:47:53.189435Z",
     "iopub.status.idle": "2021-11-24T19:47:56.219504Z",
     "shell.execute_reply": "2021-11-24T19:47:56.218752Z",
     "shell.execute_reply.started": "2021-11-24T19:47:53.189621Z"
    },
    "tags": []
   },
   "outputs": [
    {
     "data": {
      "text/html": [
       "<div>\n",
       "<style scoped>\n",
       "    .dataframe tbody tr th:only-of-type {\n",
       "        vertical-align: middle;\n",
       "    }\n",
       "\n",
       "    .dataframe tbody tr th {\n",
       "        vertical-align: top;\n",
       "    }\n",
       "\n",
       "    .dataframe thead th {\n",
       "        text-align: right;\n",
       "    }\n",
       "</style>\n",
       "<table border=\"1\" class=\"dataframe\">\n",
       "  <thead>\n",
       "    <tr style=\"text-align: right;\">\n",
       "      <th></th>\n",
       "      <th>Company</th>\n",
       "      <th>Symbol</th>\n",
       "      <th>Current Price</th>\n",
       "      <th>Intraday High</th>\n",
       "      <th>Intraday Low</th>\n",
       "      <th>52wkHigh</th>\n",
       "      <th>52wkLow</th>\n",
       "      <th>Dividend</th>\n",
       "    </tr>\n",
       "  </thead>\n",
       "  <tbody>\n",
       "    <tr>\n",
       "      <th>0</th>\n",
       "      <td>Apple Inc.</td>\n",
       "      <td>AAPL</td>\n",
       "      <td>161.05</td>\n",
       "      <td>161.98</td>\n",
       "      <td>159.64</td>\n",
       "      <td>165.7</td>\n",
       "      <td>115.17</td>\n",
       "      <td>0.88</td>\n",
       "    </tr>\n",
       "  </tbody>\n",
       "</table>\n",
       "</div>"
      ],
      "text/plain": [
       "      Company Symbol  Current Price  Intraday High  Intraday Low  52wkHigh  \\\n",
       "0  Apple Inc.   AAPL         161.05         161.98        159.64     165.7   \n",
       "\n",
       "   52wkLow  Dividend  \n",
       "0   115.17      0.88  "
      ]
     },
     "execution_count": 22,
     "metadata": {},
     "output_type": "execute_result"
    },
    {
     "name": "stdout",
     "output_type": "stream",
     "text": [
      "time: 2.98 s (started: 2021-11-24 11:47:53 -08:00)\n"
     ]
    }
   ],
   "source": [
    "h.get_prices('AAPL')"
   ]
  },
  {
   "cell_type": "code",
   "execution_count": 23,
   "id": "1e6324f8-bfd1-474f-ac33-233c34ded1e4",
   "metadata": {
    "execution": {
     "iopub.execute_input": "2021-11-24T19:47:56.220928Z",
     "iopub.status.busy": "2021-11-24T19:47:56.220786Z",
     "iopub.status.idle": "2021-11-24T19:47:59.188176Z",
     "shell.execute_reply": "2021-11-24T19:47:59.187353Z",
     "shell.execute_reply.started": "2021-11-24T19:47:56.220911Z"
    }
   },
   "outputs": [
    {
     "data": {
      "text/html": [
       "<div>\n",
       "<style scoped>\n",
       "    .dataframe tbody tr th:only-of-type {\n",
       "        vertical-align: middle;\n",
       "    }\n",
       "\n",
       "    .dataframe tbody tr th {\n",
       "        vertical-align: top;\n",
       "    }\n",
       "\n",
       "    .dataframe thead th {\n",
       "        text-align: right;\n",
       "    }\n",
       "</style>\n",
       "<table border=\"1\" class=\"dataframe\">\n",
       "  <thead>\n",
       "    <tr style=\"text-align: right;\">\n",
       "      <th></th>\n",
       "      <th>Company</th>\n",
       "      <th>Symbol</th>\n",
       "      <th>Current Price</th>\n",
       "      <th>Intraday High</th>\n",
       "      <th>Intraday Low</th>\n",
       "      <th>52wkHigh</th>\n",
       "      <th>52wkLow</th>\n",
       "      <th>Dividend</th>\n",
       "    </tr>\n",
       "  </thead>\n",
       "  <tbody>\n",
       "    <tr>\n",
       "      <th>0</th>\n",
       "      <td>Tesla, Inc.</td>\n",
       "      <td>TSLA</td>\n",
       "      <td>1129.32</td>\n",
       "      <td>1130.6</td>\n",
       "      <td>1062</td>\n",
       "      <td>1243.49</td>\n",
       "      <td>539.49</td>\n",
       "      <td>0</td>\n",
       "    </tr>\n",
       "  </tbody>\n",
       "</table>\n",
       "</div>"
      ],
      "text/plain": [
       "       Company Symbol  Current Price  Intraday High  Intraday Low  52wkHigh  \\\n",
       "0  Tesla, Inc.   TSLA        1129.32         1130.6          1062   1243.49   \n",
       "\n",
       "   52wkLow  Dividend  \n",
       "0   539.49         0  "
      ]
     },
     "execution_count": 23,
     "metadata": {},
     "output_type": "execute_result"
    },
    {
     "name": "stdout",
     "output_type": "stream",
     "text": [
      "time: 2.92 s (started: 2021-11-24 11:47:56 -08:00)\n"
     ]
    }
   ],
   "source": [
    "h.get_prices('TSLA')"
   ]
  },
  {
   "cell_type": "markdown",
   "id": "9dd6617c-a330-44cb-a6aa-41f2993c474e",
   "metadata": {
    "tags": []
   },
   "source": [
    "## Options Markets Tests"
   ]
  },
  {
   "cell_type": "code",
   "execution_count": 24,
   "id": "be332aa0-96c1-4923-81f9-ee12e85aa9ea",
   "metadata": {
    "execution": {
     "iopub.execute_input": "2021-11-24T19:47:59.189715Z",
     "iopub.status.busy": "2021-11-24T19:47:59.189572Z",
     "iopub.status.idle": "2021-11-24T19:47:59.237322Z",
     "shell.execute_reply": "2021-11-24T19:47:59.236542Z",
     "shell.execute_reply.started": "2021-11-24T19:47:59.189699Z"
    }
   },
   "outputs": [
    {
     "name": "stdout",
     "output_type": "stream",
     "text": [
      "time: 582 µs (started: 2021-11-24 11:47:59 -08:00)\n"
     ]
    }
   ],
   "source": [
    "# creating a fuction to display available expirations\n",
    "def get_expirations(symbol : str):\n",
    "    stock = yf.Ticker(symbol)\n",
    "    return stock.options"
   ]
  },
  {
   "cell_type": "code",
   "execution_count": 25,
   "id": "76962ce7-c4f8-4164-bfa3-2cef17dd4371",
   "metadata": {
    "execution": {
     "iopub.execute_input": "2021-11-24T19:47:59.238736Z",
     "iopub.status.busy": "2021-11-24T19:47:59.238493Z",
     "iopub.status.idle": "2021-11-24T19:47:59.540186Z",
     "shell.execute_reply": "2021-11-24T19:47:59.539036Z",
     "shell.execute_reply.started": "2021-11-24T19:47:59.238711Z"
    }
   },
   "outputs": [
    {
     "data": {
      "text/plain": [
       "('2021-11-26',\n",
       " '2021-12-03',\n",
       " '2021-12-10',\n",
       " '2021-12-17',\n",
       " '2021-12-23',\n",
       " '2021-12-31',\n",
       " '2022-01-21',\n",
       " '2022-02-18',\n",
       " '2022-03-18',\n",
       " '2022-04-14',\n",
       " '2022-05-20',\n",
       " '2022-06-17',\n",
       " '2022-07-15',\n",
       " '2022-09-16',\n",
       " '2023-01-20',\n",
       " '2023-03-17',\n",
       " '2023-06-16',\n",
       " '2023-09-15',\n",
       " '2024-01-19')"
      ]
     },
     "execution_count": 25,
     "metadata": {},
     "output_type": "execute_result"
    },
    {
     "name": "stdout",
     "output_type": "stream",
     "text": [
      "time: 235 ms (started: 2021-11-24 11:47:59 -08:00)\n"
     ]
    }
   ],
   "source": [
    "get_expirations('AAPL')"
   ]
  },
  {
   "cell_type": "code",
   "execution_count": 26,
   "id": "39c4c635-7763-4419-bc00-53f1e155a4bd",
   "metadata": {
    "execution": {
     "iopub.execute_input": "2021-11-24T19:47:59.542640Z",
     "iopub.status.busy": "2021-11-24T19:47:59.542327Z",
     "iopub.status.idle": "2021-11-24T19:47:59.764726Z",
     "shell.execute_reply": "2021-11-24T19:47:59.762380Z",
     "shell.execute_reply.started": "2021-11-24T19:47:59.542602Z"
    },
    "tags": []
   },
   "outputs": [
    {
     "data": {
      "text/plain": [
       "('2021-11-26',\n",
       " '2021-12-03',\n",
       " '2021-12-10',\n",
       " '2021-12-17',\n",
       " '2021-12-23',\n",
       " '2021-12-31',\n",
       " '2022-01-21',\n",
       " '2022-04-14',\n",
       " '2022-06-17',\n",
       " '2022-07-15',\n",
       " '2023-01-20',\n",
       " '2024-01-19')"
      ]
     },
     "execution_count": 26,
     "metadata": {},
     "output_type": "execute_result"
    },
    {
     "name": "stdout",
     "output_type": "stream",
     "text": [
      "time: 146 ms (started: 2021-11-24 11:47:59 -08:00)\n"
     ]
    }
   ],
   "source": [
    "get_expirations('MMM')"
   ]
  },
  {
   "cell_type": "code",
   "execution_count": 27,
   "id": "bdf74dcf-964b-4e4f-b0f6-5e67b9d4bc38",
   "metadata": {
    "execution": {
     "iopub.execute_input": "2021-11-24T19:47:59.769356Z",
     "iopub.status.busy": "2021-11-24T19:47:59.768354Z",
     "iopub.status.idle": "2021-11-24T19:47:59.845025Z",
     "shell.execute_reply": "2021-11-24T19:47:59.844403Z",
     "shell.execute_reply.started": "2021-11-24T19:47:59.769303Z"
    },
    "tags": []
   },
   "outputs": [
    {
     "name": "stdout",
     "output_type": "stream",
     "text": [
      "time: 1.21 ms (started: 2021-11-24 11:47:59 -08:00)\n"
     ]
    }
   ],
   "source": [
    "def options_mrkt_test(symbol : str, expiration : str, option : str):\n",
    "    stock = yf.Ticker(symbol)\n",
    "    current_price = stock.info['currentPrice']\n",
    "    dividend = stock.info['dividendRate']\n",
    "    url = ('https://www.treasury.gov/resource-center/'\n",
    "    'data-chart-center/interest-rates/Pages/TextView.aspx?data=yield')\n",
    "    rates = pd.read_html(url)\n",
    "    risk_free_rate = rates[1]['3 mo']\n",
    "    print(f\"Current Price: ${current_price}\")\n",
    "    print(f\"Dividend: ${dividend}\")\n",
    "    print(f\"3 Month TBill Rate: {risk_free_rate.to_string().split()[1]}%\")\n",
    "    opt = stock.option_chain(expiration)\n",
    "    if option == 'calls':\n",
    "        return opt.calls.sort_values(by='strike')\n",
    "    elif option == 'puts':\n",
    "        return opt.puts.sort_values(by='strike')"
   ]
  },
  {
   "cell_type": "code",
   "execution_count": 28,
   "id": "c2b137bf-5db1-44f9-a331-862c108e9536",
   "metadata": {
    "execution": {
     "iopub.execute_input": "2021-11-24T19:47:59.846292Z",
     "iopub.status.busy": "2021-11-24T19:47:59.846075Z",
     "iopub.status.idle": "2021-11-24T19:48:03.255592Z",
     "shell.execute_reply": "2021-11-24T19:48:03.254538Z",
     "shell.execute_reply.started": "2021-11-24T19:47:59.846272Z"
    },
    "tags": []
   },
   "outputs": [
    {
     "name": "stdout",
     "output_type": "stream",
     "text": [
      "Current Price: $178.05\n",
      "Dividend: $5.92\n",
      "3 Month TBill Rate: 0.05%\n"
     ]
    },
    {
     "data": {
      "text/html": [
       "<div>\n",
       "<style scoped>\n",
       "    .dataframe tbody tr th:only-of-type {\n",
       "        vertical-align: middle;\n",
       "    }\n",
       "\n",
       "    .dataframe tbody tr th {\n",
       "        vertical-align: top;\n",
       "    }\n",
       "\n",
       "    .dataframe thead th {\n",
       "        text-align: right;\n",
       "    }\n",
       "</style>\n",
       "<table border=\"1\" class=\"dataframe\">\n",
       "  <thead>\n",
       "    <tr style=\"text-align: right;\">\n",
       "      <th></th>\n",
       "      <th>contractSymbol</th>\n",
       "      <th>lastTradeDate</th>\n",
       "      <th>strike</th>\n",
       "      <th>lastPrice</th>\n",
       "      <th>bid</th>\n",
       "      <th>ask</th>\n",
       "      <th>change</th>\n",
       "      <th>percentChange</th>\n",
       "      <th>volume</th>\n",
       "      <th>openInterest</th>\n",
       "      <th>impliedVolatility</th>\n",
       "      <th>inTheMoney</th>\n",
       "      <th>contractSize</th>\n",
       "      <th>currency</th>\n",
       "    </tr>\n",
       "  </thead>\n",
       "  <tbody>\n",
       "    <tr>\n",
       "      <th>0</th>\n",
       "      <td>MMM211126C00170000</td>\n",
       "      <td>2021-11-24 16:24:54</td>\n",
       "      <td>170.0</td>\n",
       "      <td>9.00</td>\n",
       "      <td>7.80</td>\n",
       "      <td>8.20</td>\n",
       "      <td>-1.15</td>\n",
       "      <td>-11.330046</td>\n",
       "      <td>1.0</td>\n",
       "      <td>2</td>\n",
       "      <td>0.336921</td>\n",
       "      <td>True</td>\n",
       "      <td>REGULAR</td>\n",
       "      <td>USD</td>\n",
       "    </tr>\n",
       "    <tr>\n",
       "      <th>1</th>\n",
       "      <td>MMM211126C00175000</td>\n",
       "      <td>2021-11-24 15:41:17</td>\n",
       "      <td>175.0</td>\n",
       "      <td>3.15</td>\n",
       "      <td>2.94</td>\n",
       "      <td>3.20</td>\n",
       "      <td>-3.10</td>\n",
       "      <td>-49.600000</td>\n",
       "      <td>3.0</td>\n",
       "      <td>1</td>\n",
       "      <td>0.161141</td>\n",
       "      <td>True</td>\n",
       "      <td>REGULAR</td>\n",
       "      <td>USD</td>\n",
       "    </tr>\n",
       "    <tr>\n",
       "      <th>2</th>\n",
       "      <td>MMM211126C00177500</td>\n",
       "      <td>2021-11-24 18:51:16</td>\n",
       "      <td>177.5</td>\n",
       "      <td>1.33</td>\n",
       "      <td>0.92</td>\n",
       "      <td>1.11</td>\n",
       "      <td>-1.17</td>\n",
       "      <td>-46.799995</td>\n",
       "      <td>30.0</td>\n",
       "      <td>33</td>\n",
       "      <td>0.125253</td>\n",
       "      <td>True</td>\n",
       "      <td>REGULAR</td>\n",
       "      <td>USD</td>\n",
       "    </tr>\n",
       "    <tr>\n",
       "      <th>3</th>\n",
       "      <td>MMM211126C00180000</td>\n",
       "      <td>2021-11-24 19:24:54</td>\n",
       "      <td>180.0</td>\n",
       "      <td>0.20</td>\n",
       "      <td>0.16</td>\n",
       "      <td>0.25</td>\n",
       "      <td>-0.70</td>\n",
       "      <td>-77.777780</td>\n",
       "      <td>297.0</td>\n",
       "      <td>415</td>\n",
       "      <td>0.140634</td>\n",
       "      <td>False</td>\n",
       "      <td>REGULAR</td>\n",
       "      <td>USD</td>\n",
       "    </tr>\n",
       "    <tr>\n",
       "      <th>4</th>\n",
       "      <td>MMM211126C00182500</td>\n",
       "      <td>2021-11-24 19:27:45</td>\n",
       "      <td>182.5</td>\n",
       "      <td>0.03</td>\n",
       "      <td>0.02</td>\n",
       "      <td>0.11</td>\n",
       "      <td>-0.21</td>\n",
       "      <td>-87.500000</td>\n",
       "      <td>76.0</td>\n",
       "      <td>405</td>\n",
       "      <td>0.191414</td>\n",
       "      <td>False</td>\n",
       "      <td>REGULAR</td>\n",
       "      <td>USD</td>\n",
       "    </tr>\n",
       "    <tr>\n",
       "      <th>5</th>\n",
       "      <td>MMM211126C00185000</td>\n",
       "      <td>2021-11-24 19:03:25</td>\n",
       "      <td>185.0</td>\n",
       "      <td>0.03</td>\n",
       "      <td>0.02</td>\n",
       "      <td>0.04</td>\n",
       "      <td>-0.08</td>\n",
       "      <td>-72.727270</td>\n",
       "      <td>31.0</td>\n",
       "      <td>745</td>\n",
       "      <td>0.222664</td>\n",
       "      <td>False</td>\n",
       "      <td>REGULAR</td>\n",
       "      <td>USD</td>\n",
       "    </tr>\n",
       "    <tr>\n",
       "      <th>6</th>\n",
       "      <td>MMM211126C00187500</td>\n",
       "      <td>2021-11-24 19:23:08</td>\n",
       "      <td>187.5</td>\n",
       "      <td>0.02</td>\n",
       "      <td>0.00</td>\n",
       "      <td>0.02</td>\n",
       "      <td>-0.01</td>\n",
       "      <td>-33.333336</td>\n",
       "      <td>12.0</td>\n",
       "      <td>406</td>\n",
       "      <td>0.257820</td>\n",
       "      <td>False</td>\n",
       "      <td>REGULAR</td>\n",
       "      <td>USD</td>\n",
       "    </tr>\n",
       "    <tr>\n",
       "      <th>7</th>\n",
       "      <td>MMM211126C00190000</td>\n",
       "      <td>2021-11-24 15:20:28</td>\n",
       "      <td>190.0</td>\n",
       "      <td>0.03</td>\n",
       "      <td>0.00</td>\n",
       "      <td>0.07</td>\n",
       "      <td>0.00</td>\n",
       "      <td>0.000000</td>\n",
       "      <td>2.0</td>\n",
       "      <td>368</td>\n",
       "      <td>0.376959</td>\n",
       "      <td>False</td>\n",
       "      <td>REGULAR</td>\n",
       "      <td>USD</td>\n",
       "    </tr>\n",
       "    <tr>\n",
       "      <th>8</th>\n",
       "      <td>MMM211126C00192500</td>\n",
       "      <td>2021-11-24 15:36:50</td>\n",
       "      <td>192.5</td>\n",
       "      <td>0.05</td>\n",
       "      <td>0.00</td>\n",
       "      <td>0.40</td>\n",
       "      <td>0.02</td>\n",
       "      <td>66.666670</td>\n",
       "      <td>2.0</td>\n",
       "      <td>24</td>\n",
       "      <td>0.532231</td>\n",
       "      <td>False</td>\n",
       "      <td>REGULAR</td>\n",
       "      <td>USD</td>\n",
       "    </tr>\n",
       "    <tr>\n",
       "      <th>9</th>\n",
       "      <td>MMM211126C00195000</td>\n",
       "      <td>2021-11-24 16:15:37</td>\n",
       "      <td>195.0</td>\n",
       "      <td>0.03</td>\n",
       "      <td>0.01</td>\n",
       "      <td>0.25</td>\n",
       "      <td>0.01</td>\n",
       "      <td>50.000000</td>\n",
       "      <td>3.0</td>\n",
       "      <td>54</td>\n",
       "      <td>0.554692</td>\n",
       "      <td>False</td>\n",
       "      <td>REGULAR</td>\n",
       "      <td>USD</td>\n",
       "    </tr>\n",
       "    <tr>\n",
       "      <th>10</th>\n",
       "      <td>MMM211126C00197500</td>\n",
       "      <td>2021-11-22 16:00:50</td>\n",
       "      <td>197.5</td>\n",
       "      <td>0.03</td>\n",
       "      <td>0.00</td>\n",
       "      <td>0.31</td>\n",
       "      <td>0.00</td>\n",
       "      <td>0.000000</td>\n",
       "      <td>3.0</td>\n",
       "      <td>5</td>\n",
       "      <td>0.635746</td>\n",
       "      <td>False</td>\n",
       "      <td>REGULAR</td>\n",
       "      <td>USD</td>\n",
       "    </tr>\n",
       "    <tr>\n",
       "      <th>11</th>\n",
       "      <td>MMM211126C00200000</td>\n",
       "      <td>2021-11-22 18:12:43</td>\n",
       "      <td>200.0</td>\n",
       "      <td>0.01</td>\n",
       "      <td>0.00</td>\n",
       "      <td>0.34</td>\n",
       "      <td>0.00</td>\n",
       "      <td>0.000000</td>\n",
       "      <td>2.0</td>\n",
       "      <td>46</td>\n",
       "      <td>0.708987</td>\n",
       "      <td>False</td>\n",
       "      <td>REGULAR</td>\n",
       "      <td>USD</td>\n",
       "    </tr>\n",
       "    <tr>\n",
       "      <th>12</th>\n",
       "      <td>MMM211126C00205000</td>\n",
       "      <td>2021-11-17 14:46:28</td>\n",
       "      <td>205.0</td>\n",
       "      <td>1.13</td>\n",
       "      <td>0.00</td>\n",
       "      <td>0.34</td>\n",
       "      <td>0.00</td>\n",
       "      <td>0.000000</td>\n",
       "      <td>1.0</td>\n",
       "      <td>3</td>\n",
       "      <td>0.830080</td>\n",
       "      <td>False</td>\n",
       "      <td>REGULAR</td>\n",
       "      <td>USD</td>\n",
       "    </tr>\n",
       "    <tr>\n",
       "      <th>13</th>\n",
       "      <td>MMM211126C00210000</td>\n",
       "      <td>2021-11-16 15:14:01</td>\n",
       "      <td>210.0</td>\n",
       "      <td>0.05</td>\n",
       "      <td>0.00</td>\n",
       "      <td>0.34</td>\n",
       "      <td>0.00</td>\n",
       "      <td>0.000000</td>\n",
       "      <td>NaN</td>\n",
       "      <td>2</td>\n",
       "      <td>0.943360</td>\n",
       "      <td>False</td>\n",
       "      <td>REGULAR</td>\n",
       "      <td>USD</td>\n",
       "    </tr>\n",
       "    <tr>\n",
       "      <th>14</th>\n",
       "      <td>MMM211126C00220000</td>\n",
       "      <td>2021-10-27 19:22:49</td>\n",
       "      <td>220.0</td>\n",
       "      <td>0.01</td>\n",
       "      <td>0.00</td>\n",
       "      <td>0.35</td>\n",
       "      <td>0.00</td>\n",
       "      <td>0.000000</td>\n",
       "      <td>1.0</td>\n",
       "      <td>0</td>\n",
       "      <td>1.164067</td>\n",
       "      <td>False</td>\n",
       "      <td>REGULAR</td>\n",
       "      <td>USD</td>\n",
       "    </tr>\n",
       "    <tr>\n",
       "      <th>15</th>\n",
       "      <td>MMM211126C00230000</td>\n",
       "      <td>2021-11-16 14:44:49</td>\n",
       "      <td>230.0</td>\n",
       "      <td>0.01</td>\n",
       "      <td>0.00</td>\n",
       "      <td>0.20</td>\n",
       "      <td>0.00</td>\n",
       "      <td>0.000000</td>\n",
       "      <td>NaN</td>\n",
       "      <td>6</td>\n",
       "      <td>1.259769</td>\n",
       "      <td>False</td>\n",
       "      <td>REGULAR</td>\n",
       "      <td>USD</td>\n",
       "    </tr>\n",
       "  </tbody>\n",
       "</table>\n",
       "</div>"
      ],
      "text/plain": [
       "        contractSymbol       lastTradeDate  strike  lastPrice   bid   ask  \\\n",
       "0   MMM211126C00170000 2021-11-24 16:24:54   170.0       9.00  7.80  8.20   \n",
       "1   MMM211126C00175000 2021-11-24 15:41:17   175.0       3.15  2.94  3.20   \n",
       "2   MMM211126C00177500 2021-11-24 18:51:16   177.5       1.33  0.92  1.11   \n",
       "3   MMM211126C00180000 2021-11-24 19:24:54   180.0       0.20  0.16  0.25   \n",
       "4   MMM211126C00182500 2021-11-24 19:27:45   182.5       0.03  0.02  0.11   \n",
       "5   MMM211126C00185000 2021-11-24 19:03:25   185.0       0.03  0.02  0.04   \n",
       "6   MMM211126C00187500 2021-11-24 19:23:08   187.5       0.02  0.00  0.02   \n",
       "7   MMM211126C00190000 2021-11-24 15:20:28   190.0       0.03  0.00  0.07   \n",
       "8   MMM211126C00192500 2021-11-24 15:36:50   192.5       0.05  0.00  0.40   \n",
       "9   MMM211126C00195000 2021-11-24 16:15:37   195.0       0.03  0.01  0.25   \n",
       "10  MMM211126C00197500 2021-11-22 16:00:50   197.5       0.03  0.00  0.31   \n",
       "11  MMM211126C00200000 2021-11-22 18:12:43   200.0       0.01  0.00  0.34   \n",
       "12  MMM211126C00205000 2021-11-17 14:46:28   205.0       1.13  0.00  0.34   \n",
       "13  MMM211126C00210000 2021-11-16 15:14:01   210.0       0.05  0.00  0.34   \n",
       "14  MMM211126C00220000 2021-10-27 19:22:49   220.0       0.01  0.00  0.35   \n",
       "15  MMM211126C00230000 2021-11-16 14:44:49   230.0       0.01  0.00  0.20   \n",
       "\n",
       "    change  percentChange  volume  openInterest  impliedVolatility  \\\n",
       "0    -1.15     -11.330046     1.0             2           0.336921   \n",
       "1    -3.10     -49.600000     3.0             1           0.161141   \n",
       "2    -1.17     -46.799995    30.0            33           0.125253   \n",
       "3    -0.70     -77.777780   297.0           415           0.140634   \n",
       "4    -0.21     -87.500000    76.0           405           0.191414   \n",
       "5    -0.08     -72.727270    31.0           745           0.222664   \n",
       "6    -0.01     -33.333336    12.0           406           0.257820   \n",
       "7     0.00       0.000000     2.0           368           0.376959   \n",
       "8     0.02      66.666670     2.0            24           0.532231   \n",
       "9     0.01      50.000000     3.0            54           0.554692   \n",
       "10    0.00       0.000000     3.0             5           0.635746   \n",
       "11    0.00       0.000000     2.0            46           0.708987   \n",
       "12    0.00       0.000000     1.0             3           0.830080   \n",
       "13    0.00       0.000000     NaN             2           0.943360   \n",
       "14    0.00       0.000000     1.0             0           1.164067   \n",
       "15    0.00       0.000000     NaN             6           1.259769   \n",
       "\n",
       "    inTheMoney contractSize currency  \n",
       "0         True      REGULAR      USD  \n",
       "1         True      REGULAR      USD  \n",
       "2         True      REGULAR      USD  \n",
       "3        False      REGULAR      USD  \n",
       "4        False      REGULAR      USD  \n",
       "5        False      REGULAR      USD  \n",
       "6        False      REGULAR      USD  \n",
       "7        False      REGULAR      USD  \n",
       "8        False      REGULAR      USD  \n",
       "9        False      REGULAR      USD  \n",
       "10       False      REGULAR      USD  \n",
       "11       False      REGULAR      USD  \n",
       "12       False      REGULAR      USD  \n",
       "13       False      REGULAR      USD  \n",
       "14       False      REGULAR      USD  \n",
       "15       False      REGULAR      USD  "
      ]
     },
     "execution_count": 28,
     "metadata": {},
     "output_type": "execute_result"
    },
    {
     "name": "stdout",
     "output_type": "stream",
     "text": [
      "time: 3.36 s (started: 2021-11-24 11:47:59 -08:00)\n"
     ]
    }
   ],
   "source": [
    "options_mrkt_test('MMM', '2021-11-26', 'calls' )"
   ]
  },
  {
   "cell_type": "code",
   "execution_count": 29,
   "id": "3cb8bb87-8faa-4ff8-8c68-c7a88b36ac25",
   "metadata": {
    "execution": {
     "iopub.execute_input": "2021-11-24T19:48:03.257158Z",
     "iopub.status.busy": "2021-11-24T19:48:03.256906Z",
     "iopub.status.idle": "2021-11-24T19:48:06.763129Z",
     "shell.execute_reply": "2021-11-24T19:48:06.762261Z",
     "shell.execute_reply.started": "2021-11-24T19:48:03.257127Z"
    }
   },
   "outputs": [
    {
     "name": "stdout",
     "output_type": "stream",
     "text": [
      "Current Price: $178.05\n",
      "Dividend: $5.92\n",
      "3 Month TBill Rate: 0.05%\n"
     ]
    },
    {
     "data": {
      "text/html": [
       "<div>\n",
       "<style scoped>\n",
       "    .dataframe tbody tr th:only-of-type {\n",
       "        vertical-align: middle;\n",
       "    }\n",
       "\n",
       "    .dataframe tbody tr th {\n",
       "        vertical-align: top;\n",
       "    }\n",
       "\n",
       "    .dataframe thead th {\n",
       "        text-align: right;\n",
       "    }\n",
       "</style>\n",
       "<table border=\"1\" class=\"dataframe\">\n",
       "  <thead>\n",
       "    <tr style=\"text-align: right;\">\n",
       "      <th></th>\n",
       "      <th>contractSymbol</th>\n",
       "      <th>lastTradeDate</th>\n",
       "      <th>strike</th>\n",
       "      <th>lastPrice</th>\n",
       "      <th>bid</th>\n",
       "      <th>ask</th>\n",
       "      <th>change</th>\n",
       "      <th>percentChange</th>\n",
       "      <th>volume</th>\n",
       "      <th>openInterest</th>\n",
       "      <th>impliedVolatility</th>\n",
       "      <th>inTheMoney</th>\n",
       "      <th>contractSize</th>\n",
       "      <th>currency</th>\n",
       "    </tr>\n",
       "  </thead>\n",
       "  <tbody>\n",
       "    <tr>\n",
       "      <th>0</th>\n",
       "      <td>MMM211126C00170000</td>\n",
       "      <td>2021-11-24 16:24:54</td>\n",
       "      <td>170.0</td>\n",
       "      <td>9.00</td>\n",
       "      <td>7.80</td>\n",
       "      <td>8.20</td>\n",
       "      <td>-1.15</td>\n",
       "      <td>-11.330046</td>\n",
       "      <td>1.0</td>\n",
       "      <td>2</td>\n",
       "      <td>0.336921</td>\n",
       "      <td>True</td>\n",
       "      <td>REGULAR</td>\n",
       "      <td>USD</td>\n",
       "    </tr>\n",
       "    <tr>\n",
       "      <th>1</th>\n",
       "      <td>MMM211126C00175000</td>\n",
       "      <td>2021-11-24 15:41:17</td>\n",
       "      <td>175.0</td>\n",
       "      <td>3.15</td>\n",
       "      <td>2.94</td>\n",
       "      <td>3.20</td>\n",
       "      <td>-3.10</td>\n",
       "      <td>-49.600000</td>\n",
       "      <td>3.0</td>\n",
       "      <td>1</td>\n",
       "      <td>0.161141</td>\n",
       "      <td>True</td>\n",
       "      <td>REGULAR</td>\n",
       "      <td>USD</td>\n",
       "    </tr>\n",
       "    <tr>\n",
       "      <th>2</th>\n",
       "      <td>MMM211126C00177500</td>\n",
       "      <td>2021-11-24 18:51:16</td>\n",
       "      <td>177.5</td>\n",
       "      <td>1.33</td>\n",
       "      <td>0.92</td>\n",
       "      <td>1.11</td>\n",
       "      <td>-1.17</td>\n",
       "      <td>-46.799995</td>\n",
       "      <td>30.0</td>\n",
       "      <td>33</td>\n",
       "      <td>0.125253</td>\n",
       "      <td>True</td>\n",
       "      <td>REGULAR</td>\n",
       "      <td>USD</td>\n",
       "    </tr>\n",
       "    <tr>\n",
       "      <th>3</th>\n",
       "      <td>MMM211126C00180000</td>\n",
       "      <td>2021-11-24 19:24:54</td>\n",
       "      <td>180.0</td>\n",
       "      <td>0.20</td>\n",
       "      <td>0.16</td>\n",
       "      <td>0.25</td>\n",
       "      <td>-0.70</td>\n",
       "      <td>-77.777780</td>\n",
       "      <td>297.0</td>\n",
       "      <td>415</td>\n",
       "      <td>0.140634</td>\n",
       "      <td>False</td>\n",
       "      <td>REGULAR</td>\n",
       "      <td>USD</td>\n",
       "    </tr>\n",
       "    <tr>\n",
       "      <th>4</th>\n",
       "      <td>MMM211126C00182500</td>\n",
       "      <td>2021-11-24 19:27:45</td>\n",
       "      <td>182.5</td>\n",
       "      <td>0.03</td>\n",
       "      <td>0.02</td>\n",
       "      <td>0.11</td>\n",
       "      <td>-0.21</td>\n",
       "      <td>-87.500000</td>\n",
       "      <td>76.0</td>\n",
       "      <td>405</td>\n",
       "      <td>0.191414</td>\n",
       "      <td>False</td>\n",
       "      <td>REGULAR</td>\n",
       "      <td>USD</td>\n",
       "    </tr>\n",
       "    <tr>\n",
       "      <th>5</th>\n",
       "      <td>MMM211126C00185000</td>\n",
       "      <td>2021-11-24 19:03:25</td>\n",
       "      <td>185.0</td>\n",
       "      <td>0.03</td>\n",
       "      <td>0.02</td>\n",
       "      <td>0.04</td>\n",
       "      <td>-0.08</td>\n",
       "      <td>-72.727270</td>\n",
       "      <td>31.0</td>\n",
       "      <td>745</td>\n",
       "      <td>0.222664</td>\n",
       "      <td>False</td>\n",
       "      <td>REGULAR</td>\n",
       "      <td>USD</td>\n",
       "    </tr>\n",
       "    <tr>\n",
       "      <th>6</th>\n",
       "      <td>MMM211126C00187500</td>\n",
       "      <td>2021-11-24 19:23:08</td>\n",
       "      <td>187.5</td>\n",
       "      <td>0.02</td>\n",
       "      <td>0.00</td>\n",
       "      <td>0.02</td>\n",
       "      <td>-0.01</td>\n",
       "      <td>-33.333336</td>\n",
       "      <td>12.0</td>\n",
       "      <td>406</td>\n",
       "      <td>0.257820</td>\n",
       "      <td>False</td>\n",
       "      <td>REGULAR</td>\n",
       "      <td>USD</td>\n",
       "    </tr>\n",
       "    <tr>\n",
       "      <th>7</th>\n",
       "      <td>MMM211126C00190000</td>\n",
       "      <td>2021-11-24 15:20:28</td>\n",
       "      <td>190.0</td>\n",
       "      <td>0.03</td>\n",
       "      <td>0.00</td>\n",
       "      <td>0.07</td>\n",
       "      <td>0.00</td>\n",
       "      <td>0.000000</td>\n",
       "      <td>2.0</td>\n",
       "      <td>368</td>\n",
       "      <td>0.376959</td>\n",
       "      <td>False</td>\n",
       "      <td>REGULAR</td>\n",
       "      <td>USD</td>\n",
       "    </tr>\n",
       "    <tr>\n",
       "      <th>8</th>\n",
       "      <td>MMM211126C00192500</td>\n",
       "      <td>2021-11-24 15:36:50</td>\n",
       "      <td>192.5</td>\n",
       "      <td>0.05</td>\n",
       "      <td>0.00</td>\n",
       "      <td>0.40</td>\n",
       "      <td>0.02</td>\n",
       "      <td>66.666670</td>\n",
       "      <td>2.0</td>\n",
       "      <td>24</td>\n",
       "      <td>0.532231</td>\n",
       "      <td>False</td>\n",
       "      <td>REGULAR</td>\n",
       "      <td>USD</td>\n",
       "    </tr>\n",
       "    <tr>\n",
       "      <th>9</th>\n",
       "      <td>MMM211126C00195000</td>\n",
       "      <td>2021-11-24 16:15:37</td>\n",
       "      <td>195.0</td>\n",
       "      <td>0.03</td>\n",
       "      <td>0.01</td>\n",
       "      <td>0.25</td>\n",
       "      <td>0.01</td>\n",
       "      <td>50.000000</td>\n",
       "      <td>3.0</td>\n",
       "      <td>54</td>\n",
       "      <td>0.554692</td>\n",
       "      <td>False</td>\n",
       "      <td>REGULAR</td>\n",
       "      <td>USD</td>\n",
       "    </tr>\n",
       "    <tr>\n",
       "      <th>10</th>\n",
       "      <td>MMM211126C00197500</td>\n",
       "      <td>2021-11-22 16:00:50</td>\n",
       "      <td>197.5</td>\n",
       "      <td>0.03</td>\n",
       "      <td>0.00</td>\n",
       "      <td>0.31</td>\n",
       "      <td>0.00</td>\n",
       "      <td>0.000000</td>\n",
       "      <td>3.0</td>\n",
       "      <td>5</td>\n",
       "      <td>0.635746</td>\n",
       "      <td>False</td>\n",
       "      <td>REGULAR</td>\n",
       "      <td>USD</td>\n",
       "    </tr>\n",
       "    <tr>\n",
       "      <th>11</th>\n",
       "      <td>MMM211126C00200000</td>\n",
       "      <td>2021-11-22 18:12:43</td>\n",
       "      <td>200.0</td>\n",
       "      <td>0.01</td>\n",
       "      <td>0.00</td>\n",
       "      <td>0.34</td>\n",
       "      <td>0.00</td>\n",
       "      <td>0.000000</td>\n",
       "      <td>2.0</td>\n",
       "      <td>46</td>\n",
       "      <td>0.708987</td>\n",
       "      <td>False</td>\n",
       "      <td>REGULAR</td>\n",
       "      <td>USD</td>\n",
       "    </tr>\n",
       "    <tr>\n",
       "      <th>12</th>\n",
       "      <td>MMM211126C00205000</td>\n",
       "      <td>2021-11-17 14:46:28</td>\n",
       "      <td>205.0</td>\n",
       "      <td>1.13</td>\n",
       "      <td>0.00</td>\n",
       "      <td>0.34</td>\n",
       "      <td>0.00</td>\n",
       "      <td>0.000000</td>\n",
       "      <td>1.0</td>\n",
       "      <td>3</td>\n",
       "      <td>0.830080</td>\n",
       "      <td>False</td>\n",
       "      <td>REGULAR</td>\n",
       "      <td>USD</td>\n",
       "    </tr>\n",
       "    <tr>\n",
       "      <th>13</th>\n",
       "      <td>MMM211126C00210000</td>\n",
       "      <td>2021-11-16 15:14:01</td>\n",
       "      <td>210.0</td>\n",
       "      <td>0.05</td>\n",
       "      <td>0.00</td>\n",
       "      <td>0.34</td>\n",
       "      <td>0.00</td>\n",
       "      <td>0.000000</td>\n",
       "      <td>NaN</td>\n",
       "      <td>2</td>\n",
       "      <td>0.943360</td>\n",
       "      <td>False</td>\n",
       "      <td>REGULAR</td>\n",
       "      <td>USD</td>\n",
       "    </tr>\n",
       "    <tr>\n",
       "      <th>14</th>\n",
       "      <td>MMM211126C00220000</td>\n",
       "      <td>2021-10-27 19:22:49</td>\n",
       "      <td>220.0</td>\n",
       "      <td>0.01</td>\n",
       "      <td>0.00</td>\n",
       "      <td>0.35</td>\n",
       "      <td>0.00</td>\n",
       "      <td>0.000000</td>\n",
       "      <td>1.0</td>\n",
       "      <td>0</td>\n",
       "      <td>1.164067</td>\n",
       "      <td>False</td>\n",
       "      <td>REGULAR</td>\n",
       "      <td>USD</td>\n",
       "    </tr>\n",
       "    <tr>\n",
       "      <th>15</th>\n",
       "      <td>MMM211126C00230000</td>\n",
       "      <td>2021-11-16 14:44:49</td>\n",
       "      <td>230.0</td>\n",
       "      <td>0.01</td>\n",
       "      <td>0.00</td>\n",
       "      <td>0.20</td>\n",
       "      <td>0.00</td>\n",
       "      <td>0.000000</td>\n",
       "      <td>NaN</td>\n",
       "      <td>6</td>\n",
       "      <td>1.259769</td>\n",
       "      <td>False</td>\n",
       "      <td>REGULAR</td>\n",
       "      <td>USD</td>\n",
       "    </tr>\n",
       "  </tbody>\n",
       "</table>\n",
       "</div>"
      ],
      "text/plain": [
       "        contractSymbol       lastTradeDate  strike  lastPrice   bid   ask  \\\n",
       "0   MMM211126C00170000 2021-11-24 16:24:54   170.0       9.00  7.80  8.20   \n",
       "1   MMM211126C00175000 2021-11-24 15:41:17   175.0       3.15  2.94  3.20   \n",
       "2   MMM211126C00177500 2021-11-24 18:51:16   177.5       1.33  0.92  1.11   \n",
       "3   MMM211126C00180000 2021-11-24 19:24:54   180.0       0.20  0.16  0.25   \n",
       "4   MMM211126C00182500 2021-11-24 19:27:45   182.5       0.03  0.02  0.11   \n",
       "5   MMM211126C00185000 2021-11-24 19:03:25   185.0       0.03  0.02  0.04   \n",
       "6   MMM211126C00187500 2021-11-24 19:23:08   187.5       0.02  0.00  0.02   \n",
       "7   MMM211126C00190000 2021-11-24 15:20:28   190.0       0.03  0.00  0.07   \n",
       "8   MMM211126C00192500 2021-11-24 15:36:50   192.5       0.05  0.00  0.40   \n",
       "9   MMM211126C00195000 2021-11-24 16:15:37   195.0       0.03  0.01  0.25   \n",
       "10  MMM211126C00197500 2021-11-22 16:00:50   197.5       0.03  0.00  0.31   \n",
       "11  MMM211126C00200000 2021-11-22 18:12:43   200.0       0.01  0.00  0.34   \n",
       "12  MMM211126C00205000 2021-11-17 14:46:28   205.0       1.13  0.00  0.34   \n",
       "13  MMM211126C00210000 2021-11-16 15:14:01   210.0       0.05  0.00  0.34   \n",
       "14  MMM211126C00220000 2021-10-27 19:22:49   220.0       0.01  0.00  0.35   \n",
       "15  MMM211126C00230000 2021-11-16 14:44:49   230.0       0.01  0.00  0.20   \n",
       "\n",
       "    change  percentChange  volume  openInterest  impliedVolatility  \\\n",
       "0    -1.15     -11.330046     1.0             2           0.336921   \n",
       "1    -3.10     -49.600000     3.0             1           0.161141   \n",
       "2    -1.17     -46.799995    30.0            33           0.125253   \n",
       "3    -0.70     -77.777780   297.0           415           0.140634   \n",
       "4    -0.21     -87.500000    76.0           405           0.191414   \n",
       "5    -0.08     -72.727270    31.0           745           0.222664   \n",
       "6    -0.01     -33.333336    12.0           406           0.257820   \n",
       "7     0.00       0.000000     2.0           368           0.376959   \n",
       "8     0.02      66.666670     2.0            24           0.532231   \n",
       "9     0.01      50.000000     3.0            54           0.554692   \n",
       "10    0.00       0.000000     3.0             5           0.635746   \n",
       "11    0.00       0.000000     2.0            46           0.708987   \n",
       "12    0.00       0.000000     1.0             3           0.830080   \n",
       "13    0.00       0.000000     NaN             2           0.943360   \n",
       "14    0.00       0.000000     1.0             0           1.164067   \n",
       "15    0.00       0.000000     NaN             6           1.259769   \n",
       "\n",
       "    inTheMoney contractSize currency  \n",
       "0         True      REGULAR      USD  \n",
       "1         True      REGULAR      USD  \n",
       "2         True      REGULAR      USD  \n",
       "3        False      REGULAR      USD  \n",
       "4        False      REGULAR      USD  \n",
       "5        False      REGULAR      USD  \n",
       "6        False      REGULAR      USD  \n",
       "7        False      REGULAR      USD  \n",
       "8        False      REGULAR      USD  \n",
       "9        False      REGULAR      USD  \n",
       "10       False      REGULAR      USD  \n",
       "11       False      REGULAR      USD  \n",
       "12       False      REGULAR      USD  \n",
       "13       False      REGULAR      USD  \n",
       "14       False      REGULAR      USD  \n",
       "15       False      REGULAR      USD  "
      ]
     },
     "execution_count": 29,
     "metadata": {},
     "output_type": "execute_result"
    },
    {
     "name": "stdout",
     "output_type": "stream",
     "text": [
      "time: 3.45 s (started: 2021-11-24 11:48:03 -08:00)\n"
     ]
    }
   ],
   "source": [
    "h.options_mrkt('MMM', '2021-11-26', 'calls' )"
   ]
  },
  {
   "cell_type": "markdown",
   "id": "f5c3c0c6-7a33-42a7-91d0-0eab703fc532",
   "metadata": {},
   "source": [
    "## Dividend Tests"
   ]
  },
  {
   "cell_type": "code",
   "execution_count": 30,
   "id": "c7cf7bc9-ba9d-45c6-b253-3e65de1386e7",
   "metadata": {
    "execution": {
     "iopub.execute_input": "2021-11-24T19:48:06.765159Z",
     "iopub.status.busy": "2021-11-24T19:48:06.764915Z",
     "iopub.status.idle": "2021-11-24T19:48:06.825741Z",
     "shell.execute_reply": "2021-11-24T19:48:06.824864Z",
     "shell.execute_reply.started": "2021-11-24T19:48:06.765131Z"
    }
   },
   "outputs": [
    {
     "name": "stdout",
     "output_type": "stream",
     "text": [
      "time: 3.28 ms (started: 2021-11-24 11:48:06 -08:00)\n"
     ]
    }
   ],
   "source": [
    "msft = yf.Ticker('MSFT')"
   ]
  },
  {
   "cell_type": "code",
   "execution_count": 31,
   "id": "f6447e28-8454-40ac-8baa-f6bead606074",
   "metadata": {
    "execution": {
     "iopub.execute_input": "2021-11-24T19:48:06.827382Z",
     "iopub.status.busy": "2021-11-24T19:48:06.827182Z",
     "iopub.status.idle": "2021-11-24T19:48:10.025551Z",
     "shell.execute_reply": "2021-11-24T19:48:10.024867Z",
     "shell.execute_reply.started": "2021-11-24T19:48:06.827361Z"
    },
    "tags": []
   },
   "outputs": [
    {
     "data": {
      "text/plain": [
       "1637107200"
      ]
     },
     "execution_count": 31,
     "metadata": {},
     "output_type": "execute_result"
    },
    {
     "name": "stdout",
     "output_type": "stream",
     "text": [
      "time: 3.15 s (started: 2021-11-24 11:48:06 -08:00)\n"
     ]
    }
   ],
   "source": [
    "exdiv = msft.info['exDividendDate']\n",
    "exdiv"
   ]
  },
  {
   "cell_type": "code",
   "execution_count": 32,
   "id": "5fe1bcfb-f5bc-453d-899d-ceaf91c77e9b",
   "metadata": {
    "execution": {
     "iopub.execute_input": "2021-11-24T19:48:10.026954Z",
     "iopub.status.busy": "2021-11-24T19:48:10.026761Z",
     "iopub.status.idle": "2021-11-24T19:48:10.070187Z",
     "shell.execute_reply": "2021-11-24T19:48:10.069532Z",
     "shell.execute_reply.started": "2021-11-24T19:48:10.026923Z"
    }
   },
   "outputs": [
    {
     "data": {
      "text/plain": [
       "'Tue Nov 16 16:00:00 2021'"
      ]
     },
     "execution_count": 32,
     "metadata": {},
     "output_type": "execute_result"
    },
    {
     "name": "stdout",
     "output_type": "stream",
     "text": [
      "time: 1.86 ms (started: 2021-11-24 11:48:10 -08:00)\n"
     ]
    }
   ],
   "source": [
    "exdate = datetime.fromtimestamp(exdiv).ctime()\n",
    "exdate"
   ]
  },
  {
   "cell_type": "code",
   "execution_count": 33,
   "id": "19618d84-dba2-4b2e-873d-368080e008e0",
   "metadata": {
    "execution": {
     "iopub.execute_input": "2021-11-24T19:48:10.071265Z",
     "iopub.status.busy": "2021-11-24T19:48:10.071091Z",
     "iopub.status.idle": "2021-11-24T19:48:10.118167Z",
     "shell.execute_reply": "2021-11-24T19:48:10.117672Z",
     "shell.execute_reply.started": "2021-11-24T19:48:10.071247Z"
    },
    "tags": []
   },
   "outputs": [
    {
     "name": "stdout",
     "output_type": "stream",
     "text": [
      "time: 2.7 ms (started: 2021-11-24 11:48:10 -08:00)\n"
     ]
    }
   ],
   "source": [
    "mmm = yf.Ticker('MMM')"
   ]
  },
  {
   "cell_type": "code",
   "execution_count": 34,
   "id": "b78b7b1e-d3fa-4484-afd4-5054e6df1e7b",
   "metadata": {
    "execution": {
     "iopub.execute_input": "2021-11-24T19:48:10.119423Z",
     "iopub.status.busy": "2021-11-24T19:48:10.119283Z",
     "iopub.status.idle": "2021-11-24T19:48:12.883090Z",
     "shell.execute_reply": "2021-11-24T19:48:12.882273Z",
     "shell.execute_reply.started": "2021-11-24T19:48:10.119407Z"
    },
    "tags": []
   },
   "outputs": [
    {
     "data": {
      "text/plain": [
       "1637193600"
      ]
     },
     "execution_count": 34,
     "metadata": {},
     "output_type": "execute_result"
    },
    {
     "name": "stdout",
     "output_type": "stream",
     "text": [
      "time: 2.72 s (started: 2021-11-24 11:48:10 -08:00)\n"
     ]
    }
   ],
   "source": [
    "exdiv2 = mmm.info['exDividendDate']\n",
    "exdiv2"
   ]
  },
  {
   "cell_type": "code",
   "execution_count": 35,
   "id": "0c68715c-993e-43e8-8057-e86126fe71bc",
   "metadata": {
    "execution": {
     "iopub.execute_input": "2021-11-24T19:48:12.884353Z",
     "iopub.status.busy": "2021-11-24T19:48:12.884164Z",
     "iopub.status.idle": "2021-11-24T19:48:12.931205Z",
     "shell.execute_reply": "2021-11-24T19:48:12.930586Z",
     "shell.execute_reply.started": "2021-11-24T19:48:12.884318Z"
    },
    "tags": []
   },
   "outputs": [
    {
     "data": {
      "text/plain": [
       "'Wed Nov 17 16:00:00 2021'"
      ]
     },
     "execution_count": 35,
     "metadata": {},
     "output_type": "execute_result"
    },
    {
     "name": "stdout",
     "output_type": "stream",
     "text": [
      "time: 2.6 ms (started: 2021-11-24 11:48:12 -08:00)\n"
     ]
    }
   ],
   "source": [
    "exdate2 = datetime.fromtimestamp(exdiv2).ctime()\n",
    "exdate2"
   ]
  },
  {
   "cell_type": "code",
   "execution_count": 36,
   "id": "9a018ad4-3ccb-4209-99a3-c01ceaa68458",
   "metadata": {
    "execution": {
     "iopub.execute_input": "2021-11-24T19:48:12.932280Z",
     "iopub.status.busy": "2021-11-24T19:48:12.932051Z",
     "iopub.status.idle": "2021-11-24T19:48:12.977283Z",
     "shell.execute_reply": "2021-11-24T19:48:12.976501Z",
     "shell.execute_reply.started": "2021-11-24T19:48:12.932262Z"
    },
    "tags": []
   },
   "outputs": [
    {
     "name": "stdout",
     "output_type": "stream",
     "text": [
      "time: 2.51 ms (started: 2021-11-24 11:48:12 -08:00)\n"
     ]
    }
   ],
   "source": [
    "bmy = yf.Ticker('BMY')"
   ]
  },
  {
   "cell_type": "code",
   "execution_count": 37,
   "id": "dc1d3e44-c671-41ed-b96b-c13cd2cdb754",
   "metadata": {
    "execution": {
     "iopub.execute_input": "2021-11-24T19:48:12.978899Z",
     "iopub.status.busy": "2021-11-24T19:48:12.978760Z",
     "iopub.status.idle": "2021-11-24T19:48:16.043441Z",
     "shell.execute_reply": "2021-11-24T19:48:16.042507Z",
     "shell.execute_reply.started": "2021-11-24T19:48:12.978883Z"
    },
    "tags": []
   },
   "outputs": [
    {
     "data": {
      "text/plain": [
       "1632960000"
      ]
     },
     "execution_count": 37,
     "metadata": {},
     "output_type": "execute_result"
    },
    {
     "name": "stdout",
     "output_type": "stream",
     "text": [
      "time: 3.02 s (started: 2021-11-24 11:48:13 -08:00)\n"
     ]
    }
   ],
   "source": [
    "exdiv3 = bmy.info['exDividendDate']\n",
    "exdiv3"
   ]
  },
  {
   "cell_type": "code",
   "execution_count": 38,
   "id": "3e6f8406-db75-4016-bb51-aacb725c5acf",
   "metadata": {
    "execution": {
     "iopub.execute_input": "2021-11-24T19:48:16.044693Z",
     "iopub.status.busy": "2021-11-24T19:48:16.044516Z",
     "iopub.status.idle": "2021-11-24T19:48:16.088576Z",
     "shell.execute_reply": "2021-11-24T19:48:16.087975Z",
     "shell.execute_reply.started": "2021-11-24T19:48:16.044660Z"
    },
    "tags": []
   },
   "outputs": [
    {
     "data": {
      "text/plain": [
       "'Wed Sep 29 17:00:00 2021'"
      ]
     },
     "execution_count": 38,
     "metadata": {},
     "output_type": "execute_result"
    },
    {
     "name": "stdout",
     "output_type": "stream",
     "text": [
      "time: 2.19 ms (started: 2021-11-24 11:48:16 -08:00)\n"
     ]
    }
   ],
   "source": [
    "exdate3 = datetime.fromtimestamp(exdiv3).ctime()\n",
    "exdate3"
   ]
  },
  {
   "cell_type": "code",
   "execution_count": null,
   "id": "5cb7cdee-0a91-4d0d-9026-48e7e5b29c6b",
   "metadata": {},
   "outputs": [],
   "source": []
  }
 ],
 "metadata": {
  "kernelspec": {
   "display_name": "options_apps",
   "language": "python",
   "name": "options_apps"
  },
  "language_info": {
   "codemirror_mode": {
    "name": "ipython",
    "version": 3
   },
   "file_extension": ".py",
   "mimetype": "text/x-python",
   "name": "python",
   "nbconvert_exporter": "python",
   "pygments_lexer": "ipython3",
   "version": "3.9.7"
  }
 },
 "nbformat": 4,
 "nbformat_minor": 5
}
