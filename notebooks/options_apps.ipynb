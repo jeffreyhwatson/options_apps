{
 "cells": [
  {
   "cell_type": "code",
   "execution_count": 2,
   "id": "042caaf9-1515-4cd6-8ea5-fc8c1686ca4a",
   "metadata": {
    "execution": {
     "iopub.execute_input": "2021-11-23T20:30:52.105156Z",
     "iopub.status.busy": "2021-11-23T20:30:52.104718Z",
     "iopub.status.idle": "2021-11-23T20:30:52.155081Z",
     "shell.execute_reply": "2021-11-23T20:30:52.154001Z",
     "shell.execute_reply.started": "2021-11-23T20:30:52.105116Z"
    },
    "tags": []
   },
   "outputs": [
    {
     "name": "stdout",
     "output_type": "stream",
     "text": [
      "time: 1.1 ms (started: 2021-11-23 12:30:52 -08:00)\n"
     ]
    }
   ],
   "source": [
    "%load_ext autoreload\n",
    "%load_ext autotime\n",
    "%autoreload 2"
   ]
  },
  {
   "cell_type": "markdown",
   "id": "446e454b-cd4a-41e0-8227-2b27ca1dfb4c",
   "metadata": {},
   "source": [
    "# Options Apps Project\n",
    "\n",
    "## Goal\n",
    "Creating a suite of equity option web apps which expands on, and was inspired by, [Harshit Tyagi’s](https://www.linkedin.com/in/tyagiharshit/) [article](https://www.kdnuggets.com/2021/09/-structured-financial-newsfeed-using-python-spacy-and-streamlit.html) on building a financial newsfeed app.\n",
    "\n",
    "## Skills Involved\n",
    "Web scraping, NLP, options price modeling, predictive modeling of volitility, and building apps with Streamlit."
   ]
  },
  {
   "cell_type": "markdown",
   "id": "042a446a-6853-49a6-9f33-b0b6e5303dc3",
   "metadata": {},
   "source": [
    "## Imports"
   ]
  },
  {
   "cell_type": "code",
   "execution_count": 3,
   "id": "87110252-c97b-4947-b2f4-a75ed8c1298b",
   "metadata": {
    "execution": {
     "iopub.execute_input": "2021-11-23T20:30:52.157433Z",
     "iopub.status.busy": "2021-11-23T20:30:52.157060Z",
     "iopub.status.idle": "2021-11-23T20:31:08.076240Z",
     "shell.execute_reply": "2021-11-23T20:31:08.075157Z",
     "shell.execute_reply.started": "2021-11-23T20:30:52.157404Z"
    },
    "tags": []
   },
   "outputs": [
    {
     "name": "stdout",
     "output_type": "stream",
     "text": [
      "time: 15.9 s (started: 2021-11-23 12:30:52 -08:00)\n"
     ]
    }
   ],
   "source": [
    "import sys, os, math\n",
    "import requests\n",
    "from bs4 import BeautifulSoup\n",
    "import spacy\n",
    "from spacy import displacy\n",
    "import yfinance as yf\n",
    "import pandas as pd\n",
    "import numpy as np\n",
    "import seaborn as sns\n",
    "from datetime import datetime\n",
    "import time\n",
    "\n",
    "#  setting path\n",
    "gparent = os.path.join(os.pardir)\n",
    "sys.path.append(gparent)\n",
    "\n",
    "from src import helper_functions as h"
   ]
  },
  {
   "cell_type": "markdown",
   "id": "d2e9c009-c318-40b4-9b1c-6e963146587a",
   "metadata": {},
   "source": [
    "## requests: Grabbing Headlines"
   ]
  },
  {
   "cell_type": "code",
   "execution_count": 4,
   "id": "28eee855-23ef-4248-a7b1-a83a0f897418",
   "metadata": {
    "execution": {
     "iopub.execute_input": "2021-11-23T20:31:08.078524Z",
     "iopub.status.busy": "2021-11-23T20:31:08.078129Z",
     "iopub.status.idle": "2021-11-23T20:31:08.308926Z",
     "shell.execute_reply": "2021-11-23T20:31:08.306259Z",
     "shell.execute_reply.started": "2021-11-23T20:31:08.078490Z"
    },
    "tags": []
   },
   "outputs": [
    {
     "data": {
      "text/plain": [
       "<Response [200]>"
      ]
     },
     "execution_count": 4,
     "metadata": {},
     "output_type": "execute_result"
    },
    {
     "name": "stdout",
     "output_type": "stream",
     "text": [
      "time: 176 ms (started: 2021-11-23 12:31:08 -08:00)\n"
     ]
    }
   ],
   "source": [
    "# grabbing headlines\n",
    "r = requests.get(\"http://feeds.marketwatch.com/marketwatch/topstories/\")\n",
    "r"
   ]
  },
  {
   "cell_type": "markdown",
   "id": "24e85d1d-a838-41c9-91d7-c4570d8240ec",
   "metadata": {
    "execution": {
     "iopub.execute_input": "2021-10-02T04:19:19.925337Z",
     "iopub.status.busy": "2021-10-02T04:19:19.924939Z",
     "iopub.status.idle": "2021-10-02T04:19:19.932717Z",
     "shell.execute_reply": "2021-10-02T04:19:19.930662Z",
     "shell.execute_reply.started": "2021-10-02T04:19:19.925295Z"
    }
   },
   "source": [
    "## bs4: Saving Headlines"
   ]
  },
  {
   "cell_type": "code",
   "execution_count": 5,
   "id": "37fbf4e8-471b-4f06-b7a4-8be588bfa4ce",
   "metadata": {
    "execution": {
     "iopub.execute_input": "2021-11-23T20:31:08.312220Z",
     "iopub.status.busy": "2021-11-23T20:31:08.311698Z",
     "iopub.status.idle": "2021-11-23T20:31:08.384274Z",
     "shell.execute_reply": "2021-11-23T20:31:08.383665Z",
     "shell.execute_reply.started": "2021-11-23T20:31:08.312131Z"
    },
    "tags": []
   },
   "outputs": [
    {
     "name": "stdout",
     "output_type": "stream",
     "text": [
      "<class 'bs4.element.ResultSet'>\n",
      "\n",
      "[<title>MarketWatch.com - Top Stories</title>, <title>MarketWatch.com - Top Stories</title>, <title>: Biden vows gasoline prices will drop ‘before long’ but not ‘overnight’ as he orders oil-reserve release</title>, <title>Futures Movers: Oil prices end higher after U.S. Strategic Petroleum Reserve release</title>, <title>Brett Arends's ROI: Congress loves rich dead people</title>, <title>The Margin: J.R.R. Tolkien estate to ‘JRR Token’ cryptocurrency: You shall not pass</title>, <title>The Moneyist: My father is a cantankerous millionaire and hoarder. He cut my sister out of his will after a blazing row. How can I help her — without incurring a huge tax bill?</title>, <title>Commodities Corner: Why oil prices jumped despite the U.S. tapping the Strategic Petroleum Reserve</title>, <title>Coronavirus Update: WHO warns Europe COVID death toll could exceed 2.2 million by March, and U.S. warns against travel to Germany and Denmark</title>, <title>: Build Back Better — what’s in it for seniors?</title>, <title>Next Avenue: How will we make the most of an extra 30 years of life?</title>, <title>The Margin: Bezos’s Blue Origin sending Michael Strahan to space</title>]\n",
      "time: 5.91 ms (started: 2021-11-23 12:31:08 -08:00)\n"
     ]
    }
   ],
   "source": [
    "# saving headlines to a list\n",
    "soup = BeautifulSoup(r.content, features='lxml')\n",
    "headlines = soup.findAll('title')\n",
    "print(f'{type(headlines)}\\n')\n",
    "print(headlines)"
   ]
  },
  {
   "cell_type": "markdown",
   "id": "ecbc497a-1907-4df3-b811-8d737816f2a9",
   "metadata": {
    "tags": []
   },
   "source": [
    "### Grabbing Headline String\n",
    "Grabbing headline and printing headline and isolated text."
   ]
  },
  {
   "cell_type": "code",
   "execution_count": 6,
   "id": "e4bf1fcd-e4c7-4242-80a4-74fe2a801af1",
   "metadata": {
    "execution": {
     "iopub.execute_input": "2021-11-23T20:31:08.385504Z",
     "iopub.status.busy": "2021-11-23T20:31:08.385362Z",
     "iopub.status.idle": "2021-11-23T20:31:08.428715Z",
     "shell.execute_reply": "2021-11-23T20:31:08.427985Z",
     "shell.execute_reply.started": "2021-11-23T20:31:08.385487Z"
    },
    "tags": []
   },
   "outputs": [
    {
     "name": "stdout",
     "output_type": "stream",
     "text": [
      "<title>: Biden vows gasoline prices will drop ‘before long’ but not ‘overnight’ as he orders oil-reserve release</title>\n",
      "\n",
      ": Biden vows gasoline prices will drop ‘before long’ but not ‘overnight’ as he orders oil-reserve release\n",
      "time: 998 µs (started: 2021-11-23 12:31:08 -08:00)\n"
     ]
    }
   ],
   "source": [
    "# grabbing test headline\n",
    "test_headline = headlines[2]\n",
    "print(f'{test_headline}\\n')\n",
    "print(test_headline.text)"
   ]
  },
  {
   "cell_type": "markdown",
   "id": "64a103b5-d156-4a63-a420-edf19d1425f4",
   "metadata": {},
   "source": [
    "## spaCy: Tests\n",
    "Testing tokenization and name extraction on a single string."
   ]
  },
  {
   "cell_type": "markdown",
   "id": "8b5e37e8-ad08-43cb-bd0c-316b1ae687ae",
   "metadata": {},
   "source": [
    "### Loading Model"
   ]
  },
  {
   "cell_type": "code",
   "execution_count": 7,
   "id": "40c1bf45-66b6-4e0d-8096-2fa953b31232",
   "metadata": {
    "execution": {
     "iopub.execute_input": "2021-11-23T20:31:08.429589Z",
     "iopub.status.busy": "2021-11-23T20:31:08.429420Z",
     "iopub.status.idle": "2021-11-23T20:31:09.155012Z",
     "shell.execute_reply": "2021-11-23T20:31:09.154312Z",
     "shell.execute_reply.started": "2021-11-23T20:31:08.429572Z"
    },
    "tags": []
   },
   "outputs": [
    {
     "name": "stdout",
     "output_type": "stream",
     "text": [
      "time: 685 ms (started: 2021-11-23 12:31:08 -08:00)\n"
     ]
    }
   ],
   "source": [
    "# loading spacy model\n",
    "nlp = spacy.load('en_core_web_sm')"
   ]
  },
  {
   "cell_type": "markdown",
   "id": "b22eff8c-4013-46ba-9c4c-bdf8f026329d",
   "metadata": {},
   "source": [
    "### Tokenizing String\n",
    "Tokenizing the test headline."
   ]
  },
  {
   "cell_type": "code",
   "execution_count": 8,
   "id": "e3a0b3dd-c716-4edf-a5f0-d77504a32e17",
   "metadata": {
    "execution": {
     "iopub.execute_input": "2021-11-23T20:31:09.156544Z",
     "iopub.status.busy": "2021-11-23T20:31:09.156278Z",
     "iopub.status.idle": "2021-11-23T20:31:09.212572Z",
     "shell.execute_reply": "2021-11-23T20:31:09.211980Z",
     "shell.execute_reply.started": "2021-11-23T20:31:09.156504Z"
    },
    "tags": []
   },
   "outputs": [
    {
     "name": "stdout",
     "output_type": "stream",
     "text": [
      "<title>: Biden vows gasoline prices will drop ‘before long’ but not ‘overnight’ as he orders oil-reserve release</title>\n",
      "\n",
      ":\n",
      "Biden\n",
      "vows\n",
      "gasoline\n",
      "prices\n",
      "will\n",
      "drop\n",
      "‘\n",
      "before\n",
      "long\n",
      "’\n",
      "but\n",
      "not\n",
      "‘\n",
      "overnight\n",
      "’\n",
      "as\n",
      "he\n",
      "orders\n",
      "oil\n",
      "-\n",
      "reserve\n",
      "release\n",
      "time: 12.8 ms (started: 2021-11-23 12:31:09 -08:00)\n"
     ]
    }
   ],
   "source": [
    "# checking the test case\n",
    "processed_hline = nlp(test_headline.text)\n",
    "print(f'{test_headline}\\n')\n",
    "for token in processed_hline:\n",
    "  print(token)"
   ]
  },
  {
   "cell_type": "markdown",
   "id": "344b7bb2-4936-4938-8ef5-44a2d8989203",
   "metadata": {},
   "source": [
    "## Saving List of Tokenized Headlines"
   ]
  },
  {
   "cell_type": "code",
   "execution_count": 9,
   "id": "0326da95-c8b5-49e5-9207-93ae94714d1b",
   "metadata": {
    "execution": {
     "iopub.execute_input": "2021-11-23T20:31:09.213729Z",
     "iopub.status.busy": "2021-11-23T20:31:09.213589Z",
     "iopub.status.idle": "2021-11-23T20:31:09.337001Z",
     "shell.execute_reply": "2021-11-23T20:31:09.336085Z",
     "shell.execute_reply.started": "2021-11-23T20:31:09.213712Z"
    },
    "tags": []
   },
   "outputs": [
    {
     "name": "stdout",
     "output_type": "stream",
     "text": [
      "MarketWatch.com - Top Stories\n",
      "MarketWatch.com - Top Stories\n",
      ": Biden vows gasoline prices will drop ‘before long’ but not ‘overnight’ as he orders oil-reserve release\n",
      "Futures Movers: Oil prices end higher after U.S. Strategic Petroleum Reserve release\n",
      "Brett Arends's ROI: Congress loves rich dead people\n",
      "The Margin: J.R.R. Tolkien estate to ‘JRR Token’ cryptocurrency: You shall not pass\n",
      "The Moneyist: My father is a cantankerous millionaire and hoarder. He cut my sister out of his will after a blazing row. How can I help her — without incurring a huge tax bill?\n",
      "Commodities Corner: Why oil prices jumped despite the U.S. tapping the Strategic Petroleum Reserve\n",
      "Coronavirus Update: WHO warns Europe COVID death toll could exceed 2.2 million by March, and U.S. warns against travel to Germany and Denmark\n",
      ": Build Back Better — what’s in it for seniors?\n",
      "Next Avenue: How will we make the most of an extra 30 years of life?\n",
      "The Margin: Bezos’s Blue Origin sending Michael Strahan to space\n",
      "time: 80.4 ms (started: 2021-11-23 12:31:09 -08:00)\n"
     ]
    }
   ],
   "source": [
    "processed_hlines = [nlp(headlines[i].text) for i in range(len(headlines))]\n",
    "for line in processed_hlines:\n",
    "    print(line)"
   ]
  },
  {
   "cell_type": "markdown",
   "id": "fc53aa4f-c5a8-4fa3-9c1b-ea850c32a9db",
   "metadata": {},
   "source": [
    "## Getting Org Names From Headlines\n",
    "Visualizing named entities (real world objects) in the headlines and creating a set of organiziations."
   ]
  },
  {
   "cell_type": "code",
   "execution_count": 10,
   "id": "53e9fd0b-a896-4434-976d-5e98355705f8",
   "metadata": {
    "execution": {
     "iopub.execute_input": "2021-11-23T20:31:09.338256Z",
     "iopub.status.busy": "2021-11-23T20:31:09.338093Z",
     "iopub.status.idle": "2021-11-23T20:31:09.501430Z",
     "shell.execute_reply": "2021-11-23T20:31:09.500735Z",
     "shell.execute_reply.started": "2021-11-23T20:31:09.338234Z"
    },
    "tags": []
   },
   "outputs": [
    {
     "data": {
      "text/html": [
       "<span class=\"tex2jax_ignore\"><div class=\"entities\" style=\"line-height: 2.5; direction: ltr\">\n",
       "<mark class=\"entity\" style=\"background: #aa9cfc; padding: 0.45em 0.6em; margin: 0 0.25em; line-height: 1; border-radius: 0.35em;\">\n",
       "    MarketWatch.com - Top Stories\n",
       "    <span style=\"font-size: 0.8em; font-weight: bold; line-height: 1; border-radius: 0.35em; text-transform: uppercase; vertical-align: middle; margin-left: 0.5rem\">PERSON</span>\n",
       "</mark>\n",
       "</div></span>"
      ],
      "text/plain": [
       "<IPython.core.display.HTML object>"
      ]
     },
     "metadata": {},
     "output_type": "display_data"
    },
    {
     "data": {
      "text/html": [
       "<span class=\"tex2jax_ignore\"><div class=\"entities\" style=\"line-height: 2.5; direction: ltr\">\n",
       "<mark class=\"entity\" style=\"background: #aa9cfc; padding: 0.45em 0.6em; margin: 0 0.25em; line-height: 1; border-radius: 0.35em;\">\n",
       "    MarketWatch.com - Top Stories\n",
       "    <span style=\"font-size: 0.8em; font-weight: bold; line-height: 1; border-radius: 0.35em; text-transform: uppercase; vertical-align: middle; margin-left: 0.5rem\">PERSON</span>\n",
       "</mark>\n",
       "</div></span>"
      ],
      "text/plain": [
       "<IPython.core.display.HTML object>"
      ]
     },
     "metadata": {},
     "output_type": "display_data"
    },
    {
     "data": {
      "text/html": [
       "<span class=\"tex2jax_ignore\"><div class=\"entities\" style=\"line-height: 2.5; direction: ltr\">: Biden vows gasoline prices will drop ‘before long’ but not ‘\n",
       "<mark class=\"entity\" style=\"background: #bfe1d9; padding: 0.45em 0.6em; margin: 0 0.25em; line-height: 1; border-radius: 0.35em;\">\n",
       "    overnight\n",
       "    <span style=\"font-size: 0.8em; font-weight: bold; line-height: 1; border-radius: 0.35em; text-transform: uppercase; vertical-align: middle; margin-left: 0.5rem\">TIME</span>\n",
       "</mark>\n",
       "’ as he orders oil-reserve release</div></span>"
      ],
      "text/plain": [
       "<IPython.core.display.HTML object>"
      ]
     },
     "metadata": {},
     "output_type": "display_data"
    },
    {
     "data": {
      "text/html": [
       "<span class=\"tex2jax_ignore\"><div class=\"entities\" style=\"line-height: 2.5; direction: ltr\">Futures Movers: Oil prices end higher after \n",
       "<mark class=\"entity\" style=\"background: #feca74; padding: 0.45em 0.6em; margin: 0 0.25em; line-height: 1; border-radius: 0.35em;\">\n",
       "    U.S.\n",
       "    <span style=\"font-size: 0.8em; font-weight: bold; line-height: 1; border-radius: 0.35em; text-transform: uppercase; vertical-align: middle; margin-left: 0.5rem\">GPE</span>\n",
       "</mark>\n",
       " Strategic \n",
       "<mark class=\"entity\" style=\"background: #7aecec; padding: 0.45em 0.6em; margin: 0 0.25em; line-height: 1; border-radius: 0.35em;\">\n",
       "    Petroleum Reserve\n",
       "    <span style=\"font-size: 0.8em; font-weight: bold; line-height: 1; border-radius: 0.35em; text-transform: uppercase; vertical-align: middle; margin-left: 0.5rem\">ORG</span>\n",
       "</mark>\n",
       " release</div></span>"
      ],
      "text/plain": [
       "<IPython.core.display.HTML object>"
      ]
     },
     "metadata": {},
     "output_type": "display_data"
    },
    {
     "data": {
      "text/html": [
       "<span class=\"tex2jax_ignore\"><div class=\"entities\" style=\"line-height: 2.5; direction: ltr\">\n",
       "<mark class=\"entity\" style=\"background: #aa9cfc; padding: 0.45em 0.6em; margin: 0 0.25em; line-height: 1; border-radius: 0.35em;\">\n",
       "    Brett Arends's\n",
       "    <span style=\"font-size: 0.8em; font-weight: bold; line-height: 1; border-radius: 0.35em; text-transform: uppercase; vertical-align: middle; margin-left: 0.5rem\">PERSON</span>\n",
       "</mark>\n",
       " ROI: \n",
       "<mark class=\"entity\" style=\"background: #7aecec; padding: 0.45em 0.6em; margin: 0 0.25em; line-height: 1; border-radius: 0.35em;\">\n",
       "    Congress\n",
       "    <span style=\"font-size: 0.8em; font-weight: bold; line-height: 1; border-radius: 0.35em; text-transform: uppercase; vertical-align: middle; margin-left: 0.5rem\">ORG</span>\n",
       "</mark>\n",
       " loves rich dead people</div></span>"
      ],
      "text/plain": [
       "<IPython.core.display.HTML object>"
      ]
     },
     "metadata": {},
     "output_type": "display_data"
    },
    {
     "data": {
      "text/html": [
       "<span class=\"tex2jax_ignore\"><div class=\"entities\" style=\"line-height: 2.5; direction: ltr\">The Margin: J.R.R. \n",
       "<mark class=\"entity\" style=\"background: #aa9cfc; padding: 0.45em 0.6em; margin: 0 0.25em; line-height: 1; border-radius: 0.35em;\">\n",
       "    Tolkien\n",
       "    <span style=\"font-size: 0.8em; font-weight: bold; line-height: 1; border-radius: 0.35em; text-transform: uppercase; vertical-align: middle; margin-left: 0.5rem\">PERSON</span>\n",
       "</mark>\n",
       " estate to ‘JRR Token’ cryptocurrency: You shall not pass</div></span>"
      ],
      "text/plain": [
       "<IPython.core.display.HTML object>"
      ]
     },
     "metadata": {},
     "output_type": "display_data"
    },
    {
     "data": {
      "text/html": [
       "<span class=\"tex2jax_ignore\"><div class=\"entities\" style=\"line-height: 2.5; direction: ltr\">The Moneyist: My father is a cantankerous millionaire and hoarder. He cut my sister out of his will after \n",
       "<mark class=\"entity\" style=\"background: #bfe1d9; padding: 0.45em 0.6em; margin: 0 0.25em; line-height: 1; border-radius: 0.35em;\">\n",
       "    a blazing row\n",
       "    <span style=\"font-size: 0.8em; font-weight: bold; line-height: 1; border-radius: 0.35em; text-transform: uppercase; vertical-align: middle; margin-left: 0.5rem\">DATE</span>\n",
       "</mark>\n",
       ". How can I help her — without incurring a huge tax bill?</div></span>"
      ],
      "text/plain": [
       "<IPython.core.display.HTML object>"
      ]
     },
     "metadata": {},
     "output_type": "display_data"
    },
    {
     "data": {
      "text/html": [
       "<span class=\"tex2jax_ignore\"><div class=\"entities\" style=\"line-height: 2.5; direction: ltr\">Commodities Corner: Why oil prices jumped despite the \n",
       "<mark class=\"entity\" style=\"background: #feca74; padding: 0.45em 0.6em; margin: 0 0.25em; line-height: 1; border-radius: 0.35em;\">\n",
       "    U.S.\n",
       "    <span style=\"font-size: 0.8em; font-weight: bold; line-height: 1; border-radius: 0.35em; text-transform: uppercase; vertical-align: middle; margin-left: 0.5rem\">GPE</span>\n",
       "</mark>\n",
       " tapping \n",
       "<mark class=\"entity\" style=\"background: #7aecec; padding: 0.45em 0.6em; margin: 0 0.25em; line-height: 1; border-radius: 0.35em;\">\n",
       "    the Strategic Petroleum Reserve\n",
       "    <span style=\"font-size: 0.8em; font-weight: bold; line-height: 1; border-radius: 0.35em; text-transform: uppercase; vertical-align: middle; margin-left: 0.5rem\">ORG</span>\n",
       "</mark>\n",
       "</div></span>"
      ],
      "text/plain": [
       "<IPython.core.display.HTML object>"
      ]
     },
     "metadata": {},
     "output_type": "display_data"
    },
    {
     "data": {
      "text/html": [
       "<span class=\"tex2jax_ignore\"><div class=\"entities\" style=\"line-height: 2.5; direction: ltr\">Coronavirus Update: WHO warns \n",
       "<mark class=\"entity\" style=\"background: #c887fb; padding: 0.45em 0.6em; margin: 0 0.25em; line-height: 1; border-radius: 0.35em;\">\n",
       "    Europe COVID\n",
       "    <span style=\"font-size: 0.8em; font-weight: bold; line-height: 1; border-radius: 0.35em; text-transform: uppercase; vertical-align: middle; margin-left: 0.5rem\">NORP</span>\n",
       "</mark>\n",
       " death toll could exceed \n",
       "<mark class=\"entity\" style=\"background: #e4e7d2; padding: 0.45em 0.6em; margin: 0 0.25em; line-height: 1; border-radius: 0.35em;\">\n",
       "    2.2 million\n",
       "    <span style=\"font-size: 0.8em; font-weight: bold; line-height: 1; border-radius: 0.35em; text-transform: uppercase; vertical-align: middle; margin-left: 0.5rem\">CARDINAL</span>\n",
       "</mark>\n",
       " by \n",
       "<mark class=\"entity\" style=\"background: #bfe1d9; padding: 0.45em 0.6em; margin: 0 0.25em; line-height: 1; border-radius: 0.35em;\">\n",
       "    March\n",
       "    <span style=\"font-size: 0.8em; font-weight: bold; line-height: 1; border-radius: 0.35em; text-transform: uppercase; vertical-align: middle; margin-left: 0.5rem\">DATE</span>\n",
       "</mark>\n",
       ", and \n",
       "<mark class=\"entity\" style=\"background: #feca74; padding: 0.45em 0.6em; margin: 0 0.25em; line-height: 1; border-radius: 0.35em;\">\n",
       "    U.S.\n",
       "    <span style=\"font-size: 0.8em; font-weight: bold; line-height: 1; border-radius: 0.35em; text-transform: uppercase; vertical-align: middle; margin-left: 0.5rem\">GPE</span>\n",
       "</mark>\n",
       " warns against travel to \n",
       "<mark class=\"entity\" style=\"background: #feca74; padding: 0.45em 0.6em; margin: 0 0.25em; line-height: 1; border-radius: 0.35em;\">\n",
       "    Germany\n",
       "    <span style=\"font-size: 0.8em; font-weight: bold; line-height: 1; border-radius: 0.35em; text-transform: uppercase; vertical-align: middle; margin-left: 0.5rem\">GPE</span>\n",
       "</mark>\n",
       " and \n",
       "<mark class=\"entity\" style=\"background: #feca74; padding: 0.45em 0.6em; margin: 0 0.25em; line-height: 1; border-radius: 0.35em;\">\n",
       "    Denmark\n",
       "    <span style=\"font-size: 0.8em; font-weight: bold; line-height: 1; border-radius: 0.35em; text-transform: uppercase; vertical-align: middle; margin-left: 0.5rem\">GPE</span>\n",
       "</mark>\n",
       "</div></span>"
      ],
      "text/plain": [
       "<IPython.core.display.HTML object>"
      ]
     },
     "metadata": {},
     "output_type": "display_data"
    },
    {
     "data": {
      "text/html": [
       "<span class=\"tex2jax_ignore\"><div class=\"entities\" style=\"line-height: 2.5; direction: ltr\">Next Avenue: How will we make the most of \n",
       "<mark class=\"entity\" style=\"background: #bfe1d9; padding: 0.45em 0.6em; margin: 0 0.25em; line-height: 1; border-radius: 0.35em;\">\n",
       "    an extra 30 years\n",
       "    <span style=\"font-size: 0.8em; font-weight: bold; line-height: 1; border-radius: 0.35em; text-transform: uppercase; vertical-align: middle; margin-left: 0.5rem\">DATE</span>\n",
       "</mark>\n",
       " of life?</div></span>"
      ],
      "text/plain": [
       "<IPython.core.display.HTML object>"
      ]
     },
     "metadata": {},
     "output_type": "display_data"
    },
    {
     "data": {
      "text/html": [
       "<span class=\"tex2jax_ignore\"><div class=\"entities\" style=\"line-height: 2.5; direction: ltr\">The Margin: Bezos’s Blue Origin sending \n",
       "<mark class=\"entity\" style=\"background: #aa9cfc; padding: 0.45em 0.6em; margin: 0 0.25em; line-height: 1; border-radius: 0.35em;\">\n",
       "    Michael Strahan\n",
       "    <span style=\"font-size: 0.8em; font-weight: bold; line-height: 1; border-radius: 0.35em; text-transform: uppercase; vertical-align: middle; margin-left: 0.5rem\">PERSON</span>\n",
       "</mark>\n",
       " to space</div></span>"
      ],
      "text/plain": [
       "<IPython.core.display.HTML object>"
      ]
     },
     "metadata": {},
     "output_type": "display_data"
    },
    {
     "name": "stdout",
     "output_type": "stream",
     "text": [
      "{'Petroleum Reserve', 'the Strategic Petroleum Reserve', 'Congress'}\n",
      "time: 117 ms (started: 2021-11-23 12:31:09 -08:00)\n"
     ]
    }
   ],
   "source": [
    "# pulling company name tokens from headlines\n",
    "companies = []\n",
    "for title in processed_hlines:\n",
    "    doc = nlp(title.text)\n",
    "    if len(doc.ents) != 0:\n",
    "        displacy.render(doc, style='ent')\n",
    "    else:\n",
    "        pass\n",
    "    for token in doc.ents:\n",
    "        if token.label_ == 'ORG':\n",
    "            companies.append(token.text)\n",
    "        else:\n",
    "            pass\n",
    "companies = set(companies)\n",
    "print(companies)"
   ]
  },
  {
   "cell_type": "markdown",
   "id": "90e46e54-cd0e-4d1b-bfdb-39c3f5b23032",
   "metadata": {},
   "source": [
    "## Scraping S&P 500 Stock Table w/Requests & BeautifulSoup"
   ]
  },
  {
   "cell_type": "code",
   "execution_count": 11,
   "id": "dc3866e6-298d-4e2e-beda-5c4baad44ba8",
   "metadata": {
    "execution": {
     "iopub.execute_input": "2021-11-23T20:31:09.505269Z",
     "iopub.status.busy": "2021-11-23T20:31:09.504988Z",
     "iopub.status.idle": "2021-11-23T20:31:10.129370Z",
     "shell.execute_reply": "2021-11-23T20:31:10.128538Z",
     "shell.execute_reply.started": "2021-11-23T20:31:09.505248Z"
    },
    "tags": []
   },
   "outputs": [
    {
     "name": "stdout",
     "output_type": "stream",
     "text": [
      "[<tr>\n",
      "<td><a class=\"external text\" href=\"https://www.nyse.com/quote/XNYS:MMM\" rel=\"nofollow\">MMM</a>\n",
      "</td>\n",
      "<td><a href=\"/wiki/3M\" title=\"3M\">3M</a></td>\n",
      "<td><a class=\"external text\" href=\"https://www.sec.gov/edgar/browse/?CIK=66740\" rel=\"nofollow\">reports</a></td>\n",
      "<td>Industrials</td>\n",
      "<td>Industrial Conglomerates</td>\n",
      "<td><a href=\"/wiki/Saint_Paul,_Minnesota\" title=\"Saint Paul, Minnesota\">Saint Paul, Minnesota</a></td>\n",
      "<td>1976-08-09</td>\n",
      "<td>0000066740</td>\n",
      "<td>1902\n",
      "</td></tr>]\n",
      "time: 581 ms (started: 2021-11-23 12:31:09 -08:00)\n"
     ]
    }
   ],
   "source": [
    "# scraping S&P wikipedia page\n",
    "r = requests.get('https://en.wikipedia.org/wiki/List_of_S%26P_500_companies')\n",
    "\n",
    "# parsing the html\n",
    "soup = BeautifulSoup(r.text, 'lxml')\n",
    "\n",
    "# extracting the table\n",
    "table = soup.find('table', {'class': 'wikitable sortable'})\n",
    "\n",
    "# printing row with first stock\n",
    "print(table.findAll('tr')[1:2])"
   ]
  },
  {
   "cell_type": "markdown",
   "id": "a95b9b49-5ab4-4bf8-aff7-6b7c3fad5c4d",
   "metadata": {},
   "source": [
    "### Ticker Symbols\n",
    "Grabbing the ticker symbol from the first cell of each row."
   ]
  },
  {
   "cell_type": "code",
   "execution_count": 12,
   "id": "f5f74629-2adb-44dc-93fd-9f50f5fe65ba",
   "metadata": {
    "execution": {
     "iopub.execute_input": "2021-11-23T20:31:10.130921Z",
     "iopub.status.busy": "2021-11-23T20:31:10.130716Z",
     "iopub.status.idle": "2021-11-23T20:31:10.191256Z",
     "shell.execute_reply": "2021-11-23T20:31:10.190670Z",
     "shell.execute_reply.started": "2021-11-23T20:31:10.130889Z"
    },
    "tags": []
   },
   "outputs": [
    {
     "name": "stdout",
     "output_type": "stream",
     "text": [
      "List Length: 505 \n",
      "\n",
      "First five symbols: ['MMM\\n', 'ABT\\n', 'ABBV\\n', 'ABMD\\n', 'ACN\\n']\n",
      "time: 15.9 ms (started: 2021-11-23 12:31:10 -08:00)\n"
     ]
    }
   ],
   "source": [
    "# making list of symbols\n",
    "symbols = [row.findAll('td')[0].text for row in table.findAll('tr')[1:]]\n",
    "\n",
    "# checking length\n",
    "print(f'List Length: {len(symbols)} \\n')\n",
    "\n",
    "# checking first 5 symbols\n",
    "print(f'First five symbols: {symbols[:5]}')"
   ]
  },
  {
   "cell_type": "markdown",
   "id": "fa76b04c-b9b9-4232-986d-6ee28b49a6a4",
   "metadata": {},
   "source": [
    "The length of the list looks good, but we have extra characters we need to strip from the symbols."
   ]
  },
  {
   "cell_type": "code",
   "execution_count": 13,
   "id": "b77d668d-6376-4a48-9545-d8a90258cf0b",
   "metadata": {
    "execution": {
     "iopub.execute_input": "2021-11-23T20:31:10.192671Z",
     "iopub.status.busy": "2021-11-23T20:31:10.192430Z",
     "iopub.status.idle": "2021-11-23T20:31:10.237481Z",
     "shell.execute_reply": "2021-11-23T20:31:10.236629Z",
     "shell.execute_reply.started": "2021-11-23T20:31:10.192648Z"
    },
    "tags": []
   },
   "outputs": [
    {
     "name": "stdout",
     "output_type": "stream",
     "text": [
      "['MMM', 'ABT', 'ABBV', 'ABMD', 'ACN']\n",
      "time: 1.22 ms (started: 2021-11-23 12:31:10 -08:00)\n"
     ]
    }
   ],
   "source": [
    "# stripping new line character from the strings \n",
    "symbols = list(map(lambda s: s.strip(), symbols))\n",
    "\n",
    "# checking first 5 symbols\n",
    "print(symbols[:5])"
   ]
  },
  {
   "cell_type": "markdown",
   "id": "20a11a7f-608d-4581-9436-1ec790eceee5",
   "metadata": {},
   "source": [
    "Looks good. We can apply the same technique to the second cell of the row to scrape and save the company name, and to the fifth cell to grab the company industry. "
   ]
  },
  {
   "cell_type": "markdown",
   "id": "00b559c3-162e-4815-8469-e769568cbbb9",
   "metadata": {},
   "source": [
    "### Names\n",
    "Grabbing the company name from the second cell of each row."
   ]
  },
  {
   "cell_type": "code",
   "execution_count": 14,
   "id": "acea8f4e-07ad-4192-bf5b-058473a22780",
   "metadata": {
    "execution": {
     "iopub.execute_input": "2021-11-23T20:31:10.238914Z",
     "iopub.status.busy": "2021-11-23T20:31:10.238697Z",
     "iopub.status.idle": "2021-11-23T20:31:10.314115Z",
     "shell.execute_reply": "2021-11-23T20:31:10.313465Z",
     "shell.execute_reply.started": "2021-11-23T20:31:10.238893Z"
    },
    "tags": []
   },
   "outputs": [
    {
     "name": "stdout",
     "output_type": "stream",
     "text": [
      "['3M', 'Abbott Laboratories', 'AbbVie', 'Abiomed', 'Accenture']\n",
      "time: 20.9 ms (started: 2021-11-23 12:31:10 -08:00)\n"
     ]
    }
   ],
   "source": [
    "# making list of names\n",
    "names = [row.findAll('td')[1].text for row in table.findAll('tr')[1:]]\n",
    "\n",
    "# checking first five names\n",
    "print(names[:5])"
   ]
  },
  {
   "cell_type": "markdown",
   "id": "6365495f-2364-4b54-85e2-5bbfae172dd0",
   "metadata": {},
   "source": [
    "## S&P 500 Dataframe\n",
    "Creating a data frame of stocks in the S&P 500 index."
   ]
  },
  {
   "cell_type": "code",
   "execution_count": 15,
   "id": "20e47c1d-d75b-424c-9a57-1075d4b5bf12",
   "metadata": {
    "execution": {
     "iopub.execute_input": "2021-11-23T20:31:10.315219Z",
     "iopub.status.busy": "2021-11-23T20:31:10.314972Z",
     "iopub.status.idle": "2021-11-23T20:31:10.378719Z",
     "shell.execute_reply": "2021-11-23T20:31:10.378250Z",
     "shell.execute_reply.started": "2021-11-23T20:31:10.315196Z"
    },
    "tags": []
   },
   "outputs": [
    {
     "name": "stdout",
     "output_type": "stream",
     "text": [
      "(505, 2)\n"
     ]
    },
    {
     "data": {
      "text/html": [
       "<div>\n",
       "<style scoped>\n",
       "    .dataframe tbody tr th:only-of-type {\n",
       "        vertical-align: middle;\n",
       "    }\n",
       "\n",
       "    .dataframe tbody tr th {\n",
       "        vertical-align: top;\n",
       "    }\n",
       "\n",
       "    .dataframe thead th {\n",
       "        text-align: right;\n",
       "    }\n",
       "</style>\n",
       "<table border=\"1\" class=\"dataframe\">\n",
       "  <thead>\n",
       "    <tr style=\"text-align: right;\">\n",
       "      <th></th>\n",
       "      <th>Company Name</th>\n",
       "      <th>Symbol</th>\n",
       "    </tr>\n",
       "  </thead>\n",
       "  <tbody>\n",
       "    <tr>\n",
       "      <th>0</th>\n",
       "      <td>3M</td>\n",
       "      <td>MMM</td>\n",
       "    </tr>\n",
       "    <tr>\n",
       "      <th>1</th>\n",
       "      <td>Abbott Laboratories</td>\n",
       "      <td>ABT</td>\n",
       "    </tr>\n",
       "    <tr>\n",
       "      <th>2</th>\n",
       "      <td>AbbVie</td>\n",
       "      <td>ABBV</td>\n",
       "    </tr>\n",
       "    <tr>\n",
       "      <th>3</th>\n",
       "      <td>Abiomed</td>\n",
       "      <td>ABMD</td>\n",
       "    </tr>\n",
       "    <tr>\n",
       "      <th>4</th>\n",
       "      <td>Accenture</td>\n",
       "      <td>ACN</td>\n",
       "    </tr>\n",
       "  </tbody>\n",
       "</table>\n",
       "</div>"
      ],
      "text/plain": [
       "          Company Name Symbol\n",
       "0                   3M    MMM\n",
       "1  Abbott Laboratories    ABT\n",
       "2               AbbVie   ABBV\n",
       "3              Abiomed   ABMD\n",
       "4            Accenture    ACN"
      ]
     },
     "execution_count": 15,
     "metadata": {},
     "output_type": "execute_result"
    },
    {
     "name": "stdout",
     "output_type": "stream",
     "text": [
      "time: 18.1 ms (started: 2021-11-23 12:31:10 -08:00)\n"
     ]
    }
   ],
   "source": [
    "# making a data dictionary\n",
    "data = {'Company Name': names, 'Symbol': symbols}\n",
    "\n",
    "# creating data frame from the data\n",
    "stocks_df = pd.DataFrame.from_dict(data)\n",
    "\n",
    "# checking shape and first five rows\n",
    "print(stocks_df.shape)\n",
    "stocks_df.head()"
   ]
  },
  {
   "cell_type": "markdown",
   "id": "7e8eb610-65e8-4f68-9296-e8971071f5dc",
   "metadata": {},
   "source": [
    "### Checking yf Stock Info Dictionary Keys\n",
    "Checking the dictionary keys available for pulling stock information."
   ]
  },
  {
   "cell_type": "code",
   "execution_count": 16,
   "id": "6a0d5f31-6176-4772-973f-d3f8dc331cdf",
   "metadata": {
    "execution": {
     "iopub.execute_input": "2021-11-23T20:31:10.379794Z",
     "iopub.status.busy": "2021-11-23T20:31:10.379636Z",
     "iopub.status.idle": "2021-11-23T20:31:10.425307Z",
     "shell.execute_reply": "2021-11-23T20:31:10.424785Z",
     "shell.execute_reply.started": "2021-11-23T20:31:10.379777Z"
    },
    "tags": []
   },
   "outputs": [
    {
     "name": "stdout",
     "output_type": "stream",
     "text": [
      "time: 3.63 ms (started: 2021-11-23 12:31:10 -08:00)\n"
     ]
    }
   ],
   "source": [
    "# instantiating a ticker object\n",
    "ACN = yf.Ticker('ACN')"
   ]
  },
  {
   "cell_type": "code",
   "execution_count": 17,
   "id": "2a8a9f7b-5358-4cb6-b0d3-4adda8696933",
   "metadata": {
    "execution": {
     "iopub.execute_input": "2021-11-23T20:31:10.426928Z",
     "iopub.status.busy": "2021-11-23T20:31:10.426555Z",
     "iopub.status.idle": "2021-11-23T20:31:13.509417Z",
     "shell.execute_reply": "2021-11-23T20:31:13.508882Z",
     "shell.execute_reply.started": "2021-11-23T20:31:10.426904Z"
    },
    "tags": []
   },
   "outputs": [
    {
     "data": {
      "text/plain": [
       "dict_keys(['zip', 'sector', 'fullTimeEmployees', 'longBusinessSummary', 'city', 'phone', 'country', 'companyOfficers', 'website', 'maxAge', 'address1', 'fax', 'industry', 'address2', 'ebitdaMargins', 'profitMargins', 'grossMargins', 'operatingCashflow', 'revenueGrowth', 'operatingMargins', 'ebitda', 'targetLowPrice', 'recommendationKey', 'grossProfits', 'freeCashflow', 'targetMedianPrice', 'currentPrice', 'earningsGrowth', 'currentRatio', 'returnOnAssets', 'numberOfAnalystOpinions', 'targetMeanPrice', 'debtToEquity', 'returnOnEquity', 'targetHighPrice', 'totalCash', 'totalDebt', 'totalRevenue', 'totalCashPerShare', 'financialCurrency', 'revenuePerShare', 'quickRatio', 'recommendationMean', 'exchange', 'shortName', 'longName', 'exchangeTimezoneName', 'exchangeTimezoneShortName', 'isEsgPopulated', 'gmtOffSetMilliseconds', 'quoteType', 'symbol', 'messageBoardId', 'market', 'annualHoldingsTurnover', 'enterpriseToRevenue', 'beta3Year', 'enterpriseToEbitda', '52WeekChange', 'morningStarRiskRating', 'forwardEps', 'revenueQuarterlyGrowth', 'sharesOutstanding', 'fundInceptionDate', 'annualReportExpenseRatio', 'totalAssets', 'bookValue', 'sharesShort', 'sharesPercentSharesOut', 'fundFamily', 'lastFiscalYearEnd', 'heldPercentInstitutions', 'netIncomeToCommon', 'trailingEps', 'lastDividendValue', 'SandP52WeekChange', 'priceToBook', 'heldPercentInsiders', 'nextFiscalYearEnd', 'yield', 'mostRecentQuarter', 'shortRatio', 'sharesShortPreviousMonthDate', 'floatShares', 'beta', 'enterpriseValue', 'priceHint', 'threeYearAverageReturn', 'lastSplitDate', 'lastSplitFactor', 'legalType', 'lastDividendDate', 'morningStarOverallRating', 'earningsQuarterlyGrowth', 'priceToSalesTrailing12Months', 'dateShortInterest', 'pegRatio', 'ytdReturn', 'forwardPE', 'lastCapGain', 'shortPercentOfFloat', 'sharesShortPriorMonth', 'impliedSharesOutstanding', 'category', 'fiveYearAverageReturn', 'previousClose', 'regularMarketOpen', 'twoHundredDayAverage', 'trailingAnnualDividendYield', 'payoutRatio', 'volume24Hr', 'regularMarketDayHigh', 'navPrice', 'averageDailyVolume10Day', 'regularMarketPreviousClose', 'fiftyDayAverage', 'trailingAnnualDividendRate', 'open', 'toCurrency', 'averageVolume10days', 'expireDate', 'algorithm', 'dividendRate', 'exDividendDate', 'circulatingSupply', 'startDate', 'regularMarketDayLow', 'currency', 'trailingPE', 'regularMarketVolume', 'lastMarket', 'maxSupply', 'openInterest', 'marketCap', 'volumeAllCurrencies', 'strikePrice', 'averageVolume', 'dayLow', 'ask', 'askSize', 'volume', 'fiftyTwoWeekHigh', 'fromCurrency', 'fiveYearAvgDividendYield', 'fiftyTwoWeekLow', 'bid', 'tradeable', 'dividendYield', 'bidSize', 'dayHigh', 'regularMarketPrice', 'logo_url'])"
      ]
     },
     "execution_count": 17,
     "metadata": {},
     "output_type": "execute_result"
    },
    {
     "name": "stdout",
     "output_type": "stream",
     "text": [
      "time: 3.04 s (started: 2021-11-23 12:31:10 -08:00)\n"
     ]
    }
   ],
   "source": [
    "# checking keys\n",
    "ACN.info.keys()"
   ]
  },
  {
   "cell_type": "markdown",
   "id": "f5ac7667-150a-4a9b-a20b-f142e3a84eef",
   "metadata": {},
   "source": [
    "### Data for Stocks in the News\n",
    "Creating a data frame of price and dividend information for S&P 500 stocks in the news in the following steps:\n",
    "\n",
    "- Create a data dictionary from the list of companies in the headlines.\n",
    "\n",
    "- Create a data frame from data dictionary."
   ]
  },
  {
   "cell_type": "code",
   "execution_count": 18,
   "id": "75714472-48d2-4d1a-8839-cb2a373be809",
   "metadata": {
    "execution": {
     "iopub.execute_input": "2021-11-23T20:31:13.510486Z",
     "iopub.status.busy": "2021-11-23T20:31:13.510331Z",
     "iopub.status.idle": "2021-11-23T20:31:13.555941Z",
     "shell.execute_reply": "2021-11-23T20:31:13.555381Z",
     "shell.execute_reply.started": "2021-11-23T20:31:13.510463Z"
    },
    "tags": []
   },
   "outputs": [
    {
     "name": "stdout",
     "output_type": "stream",
     "text": [
      "time: 2.97 ms (started: 2021-11-23 12:31:13 -08:00)\n"
     ]
    }
   ],
   "source": [
    "# creating empty stock info dictionary\n",
    "stock_data = {\n",
    "    'Company': [],\n",
    "    'Symbol': [],\n",
    "    'currentPrice': [],\n",
    "    'dayHigh': [],\n",
    "    'dayLow': [],\n",
    "    '52wkHigh': [],\n",
    "    '52wkLow': [],\n",
    "    'dividendRate': []\n",
    "    \n",
    "}\n",
    "\n",
    "# loading stocks from s&p dataframe and appending data from yf\n",
    "for company in companies:\n",
    "\n",
    "    try:\n",
    "        if stocks_df['Company Name'].str.contains(company).sum():\n",
    "            symbol = stocks_df[stocks_df['Company Name'].\\\n",
    "                                str.contains(company)]['Symbol'].values[0]\n",
    "            org_name = stocks_df[stocks_df['Company Name'].\\\n",
    "                                str.contains(company)]['Company Name'].values[0]\n",
    "            stock_data['Company'].append(org_name)\n",
    "            stock_data['Symbol'].append(symbol)\n",
    "            stock_info = yf.Ticker(symbol).info\n",
    "            stock_data['currentPrice'].append(stock_info['currentPrice'])\n",
    "            stock_data['dayHigh'].append(stock_info['dayHigh'])\n",
    "            stock_data['dayLow'].append(stock_info['dayLow'])\n",
    "            stock_data['52wkHigh'].append(stock_info['fiftyTwoWeekHigh'])\n",
    "            stock_data['52wkLow'].append(stock_info['fiftyTwoWeekLow'])            \n",
    "            \n",
    "            # converting dividend None types to floats\n",
    "            dividend = stock_info['dividendRate']\n",
    "            if dividend != None:\n",
    "                dividend = dividend\n",
    "            else:\n",
    "                dividend = 0\n",
    "            stock_data['dividendRate'].append(dividend)\n",
    "        else:\n",
    "            pass\n",
    "    except:\n",
    "        pass"
   ]
  },
  {
   "cell_type": "code",
   "execution_count": 19,
   "id": "5775a08d-a060-4407-ad69-8bc0ba6222ec",
   "metadata": {
    "execution": {
     "iopub.execute_input": "2021-11-23T20:31:13.557463Z",
     "iopub.status.busy": "2021-11-23T20:31:13.557194Z",
     "iopub.status.idle": "2021-11-23T20:31:13.596953Z",
     "shell.execute_reply": "2021-11-23T20:31:13.596364Z",
     "shell.execute_reply.started": "2021-11-23T20:31:13.557441Z"
    },
    "tags": []
   },
   "outputs": [
    {
     "data": {
      "text/plain": [
       "{'Company': [],\n",
       " 'Symbol': [],\n",
       " 'currentPrice': [],\n",
       " 'dayHigh': [],\n",
       " 'dayLow': [],\n",
       " '52wkHigh': [],\n",
       " '52wkLow': [],\n",
       " 'dividendRate': []}"
      ]
     },
     "execution_count": 19,
     "metadata": {},
     "output_type": "execute_result"
    },
    {
     "name": "stdout",
     "output_type": "stream",
     "text": [
      "time: 1.62 ms (started: 2021-11-23 12:31:13 -08:00)\n"
     ]
    }
   ],
   "source": [
    "# checking dict\n",
    "stock_data"
   ]
  },
  {
   "cell_type": "markdown",
   "id": "0405069b-2119-4a58-9abd-367967bf4f31",
   "metadata": {},
   "source": [
    "### Data Frame of S&P 500 Stocks in the News"
   ]
  },
  {
   "cell_type": "code",
   "execution_count": 20,
   "id": "61e25bba-2b56-4eec-9072-12b69b6fd94c",
   "metadata": {
    "execution": {
     "iopub.execute_input": "2021-11-23T20:31:13.598073Z",
     "iopub.status.busy": "2021-11-23T20:31:13.597914Z",
     "iopub.status.idle": "2021-11-23T20:31:13.642649Z",
     "shell.execute_reply": "2021-11-23T20:31:13.641902Z",
     "shell.execute_reply.started": "2021-11-23T20:31:13.598055Z"
    },
    "tags": []
   },
   "outputs": [
    {
     "data": {
      "text/html": [
       "<div>\n",
       "<style scoped>\n",
       "    .dataframe tbody tr th:only-of-type {\n",
       "        vertical-align: middle;\n",
       "    }\n",
       "\n",
       "    .dataframe tbody tr th {\n",
       "        vertical-align: top;\n",
       "    }\n",
       "\n",
       "    .dataframe thead th {\n",
       "        text-align: right;\n",
       "    }\n",
       "</style>\n",
       "<table border=\"1\" class=\"dataframe\">\n",
       "  <thead>\n",
       "    <tr style=\"text-align: right;\">\n",
       "      <th></th>\n",
       "      <th>Company</th>\n",
       "      <th>Symbol</th>\n",
       "      <th>currentPrice</th>\n",
       "      <th>dayHigh</th>\n",
       "      <th>dayLow</th>\n",
       "      <th>52wkHigh</th>\n",
       "      <th>52wkLow</th>\n",
       "      <th>dividendRate</th>\n",
       "    </tr>\n",
       "  </thead>\n",
       "  <tbody>\n",
       "  </tbody>\n",
       "</table>\n",
       "</div>"
      ],
      "text/plain": [
       "Empty DataFrame\n",
       "Columns: [Company, Symbol, currentPrice, dayHigh, dayLow, 52wkHigh, 52wkLow, dividendRate]\n",
       "Index: []"
      ]
     },
     "execution_count": 20,
     "metadata": {},
     "output_type": "execute_result"
    },
    {
     "name": "stdout",
     "output_type": "stream",
     "text": [
      "time: 5.03 ms (started: 2021-11-23 12:31:13 -08:00)\n"
     ]
    }
   ],
   "source": [
    "in_the_news = pd.DataFrame(stock_data)\n",
    "in_the_news.head()"
   ]
  },
  {
   "cell_type": "code",
   "execution_count": 21,
   "id": "84fcb1ec-5d31-43d0-988f-a3eabe80c558",
   "metadata": {
    "execution": {
     "iopub.execute_input": "2021-11-23T20:31:13.643656Z",
     "iopub.status.busy": "2021-11-23T20:31:13.643517Z",
     "iopub.status.idle": "2021-11-23T20:31:13.689079Z",
     "shell.execute_reply": "2021-11-23T20:31:13.688143Z",
     "shell.execute_reply.started": "2021-11-23T20:31:13.643639Z"
    },
    "tags": []
   },
   "outputs": [
    {
     "name": "stdout",
     "output_type": "stream",
     "text": [
      "<class 'pandas.core.frame.DataFrame'>\n",
      "RangeIndex: 0 entries\n",
      "Data columns (total 8 columns):\n",
      " #   Column        Non-Null Count  Dtype  \n",
      "---  ------        --------------  -----  \n",
      " 0   Company       0 non-null      float64\n",
      " 1   Symbol        0 non-null      float64\n",
      " 2   currentPrice  0 non-null      float64\n",
      " 3   dayHigh       0 non-null      float64\n",
      " 4   dayLow        0 non-null      float64\n",
      " 5   52wkHigh      0 non-null      float64\n",
      " 6   52wkLow       0 non-null      float64\n",
      " 7   dividendRate  0 non-null      float64\n",
      "dtypes: float64(8)\n",
      "memory usage: 124.0 bytes\n",
      "time: 4.44 ms (started: 2021-11-23 12:31:13 -08:00)\n"
     ]
    }
   ],
   "source": [
    "# checking Dtypes\n",
    "in_the_news.info()"
   ]
  },
  {
   "cell_type": "markdown",
   "id": "278593a1-e249-4fbb-ab2b-0c2e2d5e7f5d",
   "metadata": {},
   "source": [
    "## Individual Stock Price Helper Function\n",
    "Checking the helper function."
   ]
  },
  {
   "cell_type": "code",
   "execution_count": 22,
   "id": "d19f4da9-ae51-4818-80d8-692090419d81",
   "metadata": {
    "execution": {
     "iopub.execute_input": "2021-11-23T20:31:13.690126Z",
     "iopub.status.busy": "2021-11-23T20:31:13.689907Z",
     "iopub.status.idle": "2021-11-23T20:31:18.181714Z",
     "shell.execute_reply": "2021-11-23T20:31:18.181036Z",
     "shell.execute_reply.started": "2021-11-23T20:31:13.690104Z"
    },
    "tags": []
   },
   "outputs": [
    {
     "data": {
      "text/html": [
       "<div>\n",
       "<style scoped>\n",
       "    .dataframe tbody tr th:only-of-type {\n",
       "        vertical-align: middle;\n",
       "    }\n",
       "\n",
       "    .dataframe tbody tr th {\n",
       "        vertical-align: top;\n",
       "    }\n",
       "\n",
       "    .dataframe thead th {\n",
       "        text-align: right;\n",
       "    }\n",
       "</style>\n",
       "<table border=\"1\" class=\"dataframe\">\n",
       "  <thead>\n",
       "    <tr style=\"text-align: right;\">\n",
       "      <th></th>\n",
       "      <th>Company</th>\n",
       "      <th>Symbol</th>\n",
       "      <th>Current Price</th>\n",
       "      <th>Intraday High</th>\n",
       "      <th>Intraday Low</th>\n",
       "      <th>52wkHigh</th>\n",
       "      <th>52wkLow</th>\n",
       "      <th>Dividend</th>\n",
       "    </tr>\n",
       "  </thead>\n",
       "  <tbody>\n",
       "    <tr>\n",
       "      <th>0</th>\n",
       "      <td>3M Company</td>\n",
       "      <td>MMM</td>\n",
       "      <td>179.37</td>\n",
       "      <td>181.32</td>\n",
       "      <td>178.65</td>\n",
       "      <td>208.95</td>\n",
       "      <td>163.38</td>\n",
       "      <td>5.92</td>\n",
       "    </tr>\n",
       "  </tbody>\n",
       "</table>\n",
       "</div>"
      ],
      "text/plain": [
       "      Company Symbol  Current Price  Intraday High  Intraday Low  52wkHigh  \\\n",
       "0  3M Company    MMM         179.37         181.32        178.65    208.95   \n",
       "\n",
       "   52wkLow  Dividend  \n",
       "0   163.38      5.92  "
      ]
     },
     "execution_count": 22,
     "metadata": {},
     "output_type": "execute_result"
    },
    {
     "name": "stdout",
     "output_type": "stream",
     "text": [
      "time: 4.45 s (started: 2021-11-23 12:31:13 -08:00)\n"
     ]
    }
   ],
   "source": [
    "h.get_prices('MMM')"
   ]
  },
  {
   "cell_type": "code",
   "execution_count": 23,
   "id": "49ab1a6c-6d6e-40a7-868a-f364653333e0",
   "metadata": {
    "execution": {
     "iopub.execute_input": "2021-11-23T20:31:18.183497Z",
     "iopub.status.busy": "2021-11-23T20:31:18.183228Z",
     "iopub.status.idle": "2021-11-23T20:31:20.693985Z",
     "shell.execute_reply": "2021-11-23T20:31:20.693456Z",
     "shell.execute_reply.started": "2021-11-23T20:31:18.183475Z"
    }
   },
   "outputs": [
    {
     "data": {
      "text/html": [
       "<div>\n",
       "<style scoped>\n",
       "    .dataframe tbody tr th:only-of-type {\n",
       "        vertical-align: middle;\n",
       "    }\n",
       "\n",
       "    .dataframe tbody tr th {\n",
       "        vertical-align: top;\n",
       "    }\n",
       "\n",
       "    .dataframe thead th {\n",
       "        text-align: right;\n",
       "    }\n",
       "</style>\n",
       "<table border=\"1\" class=\"dataframe\">\n",
       "  <thead>\n",
       "    <tr style=\"text-align: right;\">\n",
       "      <th></th>\n",
       "      <th>Company</th>\n",
       "      <th>Symbol</th>\n",
       "      <th>Current Price</th>\n",
       "      <th>Intraday High</th>\n",
       "      <th>Intraday Low</th>\n",
       "      <th>52wkHigh</th>\n",
       "      <th>52wkLow</th>\n",
       "      <th>Dividend</th>\n",
       "    </tr>\n",
       "  </thead>\n",
       "  <tbody>\n",
       "    <tr>\n",
       "      <th>0</th>\n",
       "      <td>Apple Inc.</td>\n",
       "      <td>AAPL</td>\n",
       "      <td>160.6999</td>\n",
       "      <td>161.8</td>\n",
       "      <td>159.07</td>\n",
       "      <td>165.7</td>\n",
       "      <td>112.59</td>\n",
       "      <td>0.88</td>\n",
       "    </tr>\n",
       "  </tbody>\n",
       "</table>\n",
       "</div>"
      ],
      "text/plain": [
       "      Company Symbol  Current Price  Intraday High  Intraday Low  52wkHigh  \\\n",
       "0  Apple Inc.   AAPL       160.6999          161.8        159.07     165.7   \n",
       "\n",
       "   52wkLow  Dividend  \n",
       "0   112.59      0.88  "
      ]
     },
     "execution_count": 23,
     "metadata": {},
     "output_type": "execute_result"
    },
    {
     "name": "stdout",
     "output_type": "stream",
     "text": [
      "time: 2.47 s (started: 2021-11-23 12:31:18 -08:00)\n"
     ]
    }
   ],
   "source": [
    "h.get_prices('AAPL')"
   ]
  },
  {
   "cell_type": "markdown",
   "id": "9dd6617c-a330-44cb-a6aa-41f2993c474e",
   "metadata": {
    "tags": []
   },
   "source": [
    "## Options Markets Tests"
   ]
  },
  {
   "cell_type": "code",
   "execution_count": 24,
   "id": "be332aa0-96c1-4923-81f9-ee12e85aa9ea",
   "metadata": {
    "execution": {
     "iopub.execute_input": "2021-11-23T20:31:20.694927Z",
     "iopub.status.busy": "2021-11-23T20:31:20.694789Z",
     "iopub.status.idle": "2021-11-23T20:31:20.737746Z",
     "shell.execute_reply": "2021-11-23T20:31:20.736879Z",
     "shell.execute_reply.started": "2021-11-23T20:31:20.694909Z"
    }
   },
   "outputs": [
    {
     "name": "stdout",
     "output_type": "stream",
     "text": [
      "time: 605 µs (started: 2021-11-23 12:31:20 -08:00)\n"
     ]
    }
   ],
   "source": [
    "# creating a fuction to display available expirations\n",
    "def get_expirations(symbol : str):\n",
    "    stock = yf.Ticker(symbol)\n",
    "    return stock.options"
   ]
  },
  {
   "cell_type": "code",
   "execution_count": 25,
   "id": "76962ce7-c4f8-4164-bfa3-2cef17dd4371",
   "metadata": {
    "execution": {
     "iopub.execute_input": "2021-11-23T20:31:20.739215Z",
     "iopub.status.busy": "2021-11-23T20:31:20.738962Z",
     "iopub.status.idle": "2021-11-23T20:31:20.947135Z",
     "shell.execute_reply": "2021-11-23T20:31:20.945955Z",
     "shell.execute_reply.started": "2021-11-23T20:31:20.739179Z"
    }
   },
   "outputs": [
    {
     "data": {
      "text/plain": [
       "('2021-11-26',\n",
       " '2021-12-03',\n",
       " '2021-12-10',\n",
       " '2021-12-17',\n",
       " '2021-12-23',\n",
       " '2021-12-31',\n",
       " '2022-01-21',\n",
       " '2022-02-18',\n",
       " '2022-03-18',\n",
       " '2022-04-14',\n",
       " '2022-05-20',\n",
       " '2022-06-17',\n",
       " '2022-07-15',\n",
       " '2022-09-16',\n",
       " '2023-01-20',\n",
       " '2023-03-17',\n",
       " '2023-06-16',\n",
       " '2023-09-15',\n",
       " '2024-01-19')"
      ]
     },
     "execution_count": 25,
     "metadata": {},
     "output_type": "execute_result"
    },
    {
     "name": "stdout",
     "output_type": "stream",
     "text": [
      "time: 166 ms (started: 2021-11-23 12:31:20 -08:00)\n"
     ]
    }
   ],
   "source": [
    "get_expirations('AAPL')"
   ]
  },
  {
   "cell_type": "code",
   "execution_count": 26,
   "id": "39c4c635-7763-4419-bc00-53f1e155a4bd",
   "metadata": {
    "execution": {
     "iopub.execute_input": "2021-11-23T20:31:20.948896Z",
     "iopub.status.busy": "2021-11-23T20:31:20.948601Z",
     "iopub.status.idle": "2021-11-23T20:31:21.150733Z",
     "shell.execute_reply": "2021-11-23T20:31:21.147254Z",
     "shell.execute_reply.started": "2021-11-23T20:31:20.948854Z"
    },
    "tags": []
   },
   "outputs": [
    {
     "data": {
      "text/plain": [
       "('2021-11-26',\n",
       " '2021-12-03',\n",
       " '2021-12-10',\n",
       " '2021-12-17',\n",
       " '2021-12-23',\n",
       " '2021-12-31',\n",
       " '2022-01-21',\n",
       " '2022-04-14',\n",
       " '2022-06-17',\n",
       " '2022-07-15',\n",
       " '2023-01-20',\n",
       " '2024-01-19')"
      ]
     },
     "execution_count": 26,
     "metadata": {},
     "output_type": "execute_result"
    },
    {
     "name": "stdout",
     "output_type": "stream",
     "text": [
      "time: 129 ms (started: 2021-11-23 12:31:21 -08:00)\n"
     ]
    }
   ],
   "source": [
    "get_expirations('MMM')"
   ]
  },
  {
   "cell_type": "code",
   "execution_count": 27,
   "id": "bdf74dcf-964b-4e4f-b0f6-5e67b9d4bc38",
   "metadata": {
    "execution": {
     "iopub.execute_input": "2021-11-23T20:31:21.155084Z",
     "iopub.status.busy": "2021-11-23T20:31:21.154380Z",
     "iopub.status.idle": "2021-11-23T20:31:21.228331Z",
     "shell.execute_reply": "2021-11-23T20:31:21.227691Z",
     "shell.execute_reply.started": "2021-11-23T20:31:21.155030Z"
    },
    "tags": []
   },
   "outputs": [
    {
     "name": "stdout",
     "output_type": "stream",
     "text": [
      "time: 1.17 ms (started: 2021-11-23 12:31:21 -08:00)\n"
     ]
    }
   ],
   "source": [
    "def options_mrkt_test(symbol : str, expiration : str, option : str):\n",
    "    stock = yf.Ticker(symbol)\n",
    "    current_price = stock.info['currentPrice']\n",
    "    dividend = stock.info['dividendRate']\n",
    "    url = ('https://www.treasury.gov/resource-center/'\n",
    "    'data-chart-center/interest-rates/Pages/TextView.aspx?data=yield')\n",
    "    rates = pd.read_html(url)\n",
    "    risk_free_rate = rates[1]['3 mo']\n",
    "    print(f\"Current Price: ${current_price}\")\n",
    "    print(f\"Dividend: ${dividend}\")\n",
    "    print(f\"3 Month TBill Rate: {risk_free_rate.to_string().split()[1]}%\")\n",
    "    opt = stock.option_chain(expiration)\n",
    "    if option == 'calls':\n",
    "        return opt.calls.sort_values(by='strike')\n",
    "    elif option == 'puts':\n",
    "        return opt.puts.sort_values(by='strike')"
   ]
  },
  {
   "cell_type": "code",
   "execution_count": 28,
   "id": "c2b137bf-5db1-44f9-a331-862c108e9536",
   "metadata": {
    "execution": {
     "iopub.execute_input": "2021-11-23T20:31:21.229667Z",
     "iopub.status.busy": "2021-11-23T20:31:21.229478Z",
     "iopub.status.idle": "2021-11-23T20:31:24.373000Z",
     "shell.execute_reply": "2021-11-23T20:31:24.371737Z",
     "shell.execute_reply.started": "2021-11-23T20:31:21.229639Z"
    },
    "tags": []
   },
   "outputs": [
    {
     "name": "stdout",
     "output_type": "stream",
     "text": [
      "Current Price: $179.37\n",
      "Dividend: $5.92\n",
      "3 Month TBill Rate: 0.05%\n"
     ]
    },
    {
     "data": {
      "text/html": [
       "<div>\n",
       "<style scoped>\n",
       "    .dataframe tbody tr th:only-of-type {\n",
       "        vertical-align: middle;\n",
       "    }\n",
       "\n",
       "    .dataframe tbody tr th {\n",
       "        vertical-align: top;\n",
       "    }\n",
       "\n",
       "    .dataframe thead th {\n",
       "        text-align: right;\n",
       "    }\n",
       "</style>\n",
       "<table border=\"1\" class=\"dataframe\">\n",
       "  <thead>\n",
       "    <tr style=\"text-align: right;\">\n",
       "      <th></th>\n",
       "      <th>contractSymbol</th>\n",
       "      <th>lastTradeDate</th>\n",
       "      <th>strike</th>\n",
       "      <th>lastPrice</th>\n",
       "      <th>bid</th>\n",
       "      <th>ask</th>\n",
       "      <th>change</th>\n",
       "      <th>percentChange</th>\n",
       "      <th>volume</th>\n",
       "      <th>openInterest</th>\n",
       "      <th>impliedVolatility</th>\n",
       "      <th>inTheMoney</th>\n",
       "      <th>contractSize</th>\n",
       "      <th>currency</th>\n",
       "    </tr>\n",
       "  </thead>\n",
       "  <tbody>\n",
       "    <tr>\n",
       "      <th>0</th>\n",
       "      <td>MMM211126C00170000</td>\n",
       "      <td>2021-11-23 15:50:07</td>\n",
       "      <td>170.0</td>\n",
       "      <td>10.15</td>\n",
       "      <td>9.50</td>\n",
       "      <td>10.05</td>\n",
       "      <td>-1.81</td>\n",
       "      <td>-15.133783</td>\n",
       "      <td>2.0</td>\n",
       "      <td>1</td>\n",
       "      <td>0.489263</td>\n",
       "      <td>True</td>\n",
       "      <td>REGULAR</td>\n",
       "      <td>USD</td>\n",
       "    </tr>\n",
       "    <tr>\n",
       "      <th>1</th>\n",
       "      <td>MMM211126C00175000</td>\n",
       "      <td>2021-11-22 17:54:25</td>\n",
       "      <td>175.0</td>\n",
       "      <td>6.25</td>\n",
       "      <td>4.80</td>\n",
       "      <td>5.05</td>\n",
       "      <td>0.00</td>\n",
       "      <td>0.000000</td>\n",
       "      <td>1.0</td>\n",
       "      <td>1</td>\n",
       "      <td>0.298835</td>\n",
       "      <td>True</td>\n",
       "      <td>REGULAR</td>\n",
       "      <td>USD</td>\n",
       "    </tr>\n",
       "    <tr>\n",
       "      <th>2</th>\n",
       "      <td>MMM211126C00177500</td>\n",
       "      <td>2021-11-23 15:44:03</td>\n",
       "      <td>177.5</td>\n",
       "      <td>2.60</td>\n",
       "      <td>2.49</td>\n",
       "      <td>2.85</td>\n",
       "      <td>-2.00</td>\n",
       "      <td>-43.478260</td>\n",
       "      <td>1.0</td>\n",
       "      <td>27</td>\n",
       "      <td>0.236092</td>\n",
       "      <td>True</td>\n",
       "      <td>REGULAR</td>\n",
       "      <td>USD</td>\n",
       "    </tr>\n",
       "    <tr>\n",
       "      <th>3</th>\n",
       "      <td>MMM211126C00180000</td>\n",
       "      <td>2021-11-23 19:58:58</td>\n",
       "      <td>180.0</td>\n",
       "      <td>1.22</td>\n",
       "      <td>0.94</td>\n",
       "      <td>1.06</td>\n",
       "      <td>-0.04</td>\n",
       "      <td>-3.174600</td>\n",
       "      <td>189.0</td>\n",
       "      <td>421</td>\n",
       "      <td>0.180184</td>\n",
       "      <td>False</td>\n",
       "      <td>REGULAR</td>\n",
       "      <td>USD</td>\n",
       "    </tr>\n",
       "    <tr>\n",
       "      <th>4</th>\n",
       "      <td>MMM211126C00182500</td>\n",
       "      <td>2021-11-23 20:04:26</td>\n",
       "      <td>182.5</td>\n",
       "      <td>0.27</td>\n",
       "      <td>0.24</td>\n",
       "      <td>0.32</td>\n",
       "      <td>-0.13</td>\n",
       "      <td>-32.500000</td>\n",
       "      <td>222.0</td>\n",
       "      <td>381</td>\n",
       "      <td>0.177743</td>\n",
       "      <td>False</td>\n",
       "      <td>REGULAR</td>\n",
       "      <td>USD</td>\n",
       "    </tr>\n",
       "    <tr>\n",
       "      <th>5</th>\n",
       "      <td>MMM211126C00185000</td>\n",
       "      <td>2021-11-23 19:49:12</td>\n",
       "      <td>185.0</td>\n",
       "      <td>0.11</td>\n",
       "      <td>0.06</td>\n",
       "      <td>0.10</td>\n",
       "      <td>-0.06</td>\n",
       "      <td>-35.294117</td>\n",
       "      <td>117.0</td>\n",
       "      <td>763</td>\n",
       "      <td>0.192391</td>\n",
       "      <td>False</td>\n",
       "      <td>REGULAR</td>\n",
       "      <td>USD</td>\n",
       "    </tr>\n",
       "    <tr>\n",
       "      <th>6</th>\n",
       "      <td>MMM211126C00187500</td>\n",
       "      <td>2021-11-23 18:12:30</td>\n",
       "      <td>187.5</td>\n",
       "      <td>0.07</td>\n",
       "      <td>0.03</td>\n",
       "      <td>0.06</td>\n",
       "      <td>0.01</td>\n",
       "      <td>16.666670</td>\n",
       "      <td>40.0</td>\n",
       "      <td>417</td>\n",
       "      <td>0.232430</td>\n",
       "      <td>False</td>\n",
       "      <td>REGULAR</td>\n",
       "      <td>USD</td>\n",
       "    </tr>\n",
       "    <tr>\n",
       "      <th>7</th>\n",
       "      <td>MMM211126C00190000</td>\n",
       "      <td>2021-11-23 18:16:06</td>\n",
       "      <td>190.0</td>\n",
       "      <td>0.03</td>\n",
       "      <td>0.02</td>\n",
       "      <td>0.04</td>\n",
       "      <td>-0.01</td>\n",
       "      <td>-25.000000</td>\n",
       "      <td>7.0</td>\n",
       "      <td>370</td>\n",
       "      <td>0.269539</td>\n",
       "      <td>False</td>\n",
       "      <td>REGULAR</td>\n",
       "      <td>USD</td>\n",
       "    </tr>\n",
       "    <tr>\n",
       "      <th>8</th>\n",
       "      <td>MMM211126C00192500</td>\n",
       "      <td>2021-11-22 15:32:59</td>\n",
       "      <td>192.5</td>\n",
       "      <td>0.03</td>\n",
       "      <td>0.00</td>\n",
       "      <td>0.07</td>\n",
       "      <td>0.00</td>\n",
       "      <td>0.000000</td>\n",
       "      <td>3.0</td>\n",
       "      <td>24</td>\n",
       "      <td>0.349616</td>\n",
       "      <td>False</td>\n",
       "      <td>REGULAR</td>\n",
       "      <td>USD</td>\n",
       "    </tr>\n",
       "    <tr>\n",
       "      <th>9</th>\n",
       "      <td>MMM211126C00195000</td>\n",
       "      <td>2021-11-23 18:32:28</td>\n",
       "      <td>195.0</td>\n",
       "      <td>0.02</td>\n",
       "      <td>0.01</td>\n",
       "      <td>0.04</td>\n",
       "      <td>-0.02</td>\n",
       "      <td>-50.000000</td>\n",
       "      <td>4.0</td>\n",
       "      <td>53</td>\n",
       "      <td>0.371100</td>\n",
       "      <td>False</td>\n",
       "      <td>REGULAR</td>\n",
       "      <td>USD</td>\n",
       "    </tr>\n",
       "    <tr>\n",
       "      <th>10</th>\n",
       "      <td>MMM211126C00197500</td>\n",
       "      <td>2021-11-22 16:00:50</td>\n",
       "      <td>197.5</td>\n",
       "      <td>0.03</td>\n",
       "      <td>0.00</td>\n",
       "      <td>0.17</td>\n",
       "      <td>0.00</td>\n",
       "      <td>0.000000</td>\n",
       "      <td>3.0</td>\n",
       "      <td>5</td>\n",
       "      <td>0.527348</td>\n",
       "      <td>False</td>\n",
       "      <td>REGULAR</td>\n",
       "      <td>USD</td>\n",
       "    </tr>\n",
       "    <tr>\n",
       "      <th>11</th>\n",
       "      <td>MMM211126C00200000</td>\n",
       "      <td>2021-11-22 18:12:43</td>\n",
       "      <td>200.0</td>\n",
       "      <td>0.01</td>\n",
       "      <td>0.00</td>\n",
       "      <td>0.17</td>\n",
       "      <td>0.00</td>\n",
       "      <td>0.000000</td>\n",
       "      <td>2.0</td>\n",
       "      <td>46</td>\n",
       "      <td>0.517583</td>\n",
       "      <td>False</td>\n",
       "      <td>REGULAR</td>\n",
       "      <td>USD</td>\n",
       "    </tr>\n",
       "    <tr>\n",
       "      <th>12</th>\n",
       "      <td>MMM211126C00205000</td>\n",
       "      <td>2021-11-17 14:46:28</td>\n",
       "      <td>205.0</td>\n",
       "      <td>1.13</td>\n",
       "      <td>0.00</td>\n",
       "      <td>0.10</td>\n",
       "      <td>0.00</td>\n",
       "      <td>0.000000</td>\n",
       "      <td>1.0</td>\n",
       "      <td>3</td>\n",
       "      <td>0.570317</td>\n",
       "      <td>False</td>\n",
       "      <td>REGULAR</td>\n",
       "      <td>USD</td>\n",
       "    </tr>\n",
       "    <tr>\n",
       "      <th>13</th>\n",
       "      <td>MMM211126C00210000</td>\n",
       "      <td>2021-11-16 15:14:01</td>\n",
       "      <td>210.0</td>\n",
       "      <td>0.05</td>\n",
       "      <td>0.00</td>\n",
       "      <td>0.11</td>\n",
       "      <td>0.00</td>\n",
       "      <td>0.000000</td>\n",
       "      <td>NaN</td>\n",
       "      <td>2</td>\n",
       "      <td>0.664066</td>\n",
       "      <td>False</td>\n",
       "      <td>REGULAR</td>\n",
       "      <td>USD</td>\n",
       "    </tr>\n",
       "    <tr>\n",
       "      <th>14</th>\n",
       "      <td>MMM211126C00220000</td>\n",
       "      <td>2021-10-27 19:22:49</td>\n",
       "      <td>220.0</td>\n",
       "      <td>0.01</td>\n",
       "      <td>0.00</td>\n",
       "      <td>0.38</td>\n",
       "      <td>0.00</td>\n",
       "      <td>0.000000</td>\n",
       "      <td>1.0</td>\n",
       "      <td>0</td>\n",
       "      <td>0.990234</td>\n",
       "      <td>False</td>\n",
       "      <td>REGULAR</td>\n",
       "      <td>USD</td>\n",
       "    </tr>\n",
       "    <tr>\n",
       "      <th>15</th>\n",
       "      <td>MMM211126C00230000</td>\n",
       "      <td>2021-11-16 14:44:49</td>\n",
       "      <td>230.0</td>\n",
       "      <td>0.01</td>\n",
       "      <td>0.00</td>\n",
       "      <td>0.17</td>\n",
       "      <td>0.00</td>\n",
       "      <td>0.000000</td>\n",
       "      <td>NaN</td>\n",
       "      <td>6</td>\n",
       "      <td>1.039067</td>\n",
       "      <td>False</td>\n",
       "      <td>REGULAR</td>\n",
       "      <td>USD</td>\n",
       "    </tr>\n",
       "  </tbody>\n",
       "</table>\n",
       "</div>"
      ],
      "text/plain": [
       "        contractSymbol       lastTradeDate  strike  lastPrice   bid    ask  \\\n",
       "0   MMM211126C00170000 2021-11-23 15:50:07   170.0      10.15  9.50  10.05   \n",
       "1   MMM211126C00175000 2021-11-22 17:54:25   175.0       6.25  4.80   5.05   \n",
       "2   MMM211126C00177500 2021-11-23 15:44:03   177.5       2.60  2.49   2.85   \n",
       "3   MMM211126C00180000 2021-11-23 19:58:58   180.0       1.22  0.94   1.06   \n",
       "4   MMM211126C00182500 2021-11-23 20:04:26   182.5       0.27  0.24   0.32   \n",
       "5   MMM211126C00185000 2021-11-23 19:49:12   185.0       0.11  0.06   0.10   \n",
       "6   MMM211126C00187500 2021-11-23 18:12:30   187.5       0.07  0.03   0.06   \n",
       "7   MMM211126C00190000 2021-11-23 18:16:06   190.0       0.03  0.02   0.04   \n",
       "8   MMM211126C00192500 2021-11-22 15:32:59   192.5       0.03  0.00   0.07   \n",
       "9   MMM211126C00195000 2021-11-23 18:32:28   195.0       0.02  0.01   0.04   \n",
       "10  MMM211126C00197500 2021-11-22 16:00:50   197.5       0.03  0.00   0.17   \n",
       "11  MMM211126C00200000 2021-11-22 18:12:43   200.0       0.01  0.00   0.17   \n",
       "12  MMM211126C00205000 2021-11-17 14:46:28   205.0       1.13  0.00   0.10   \n",
       "13  MMM211126C00210000 2021-11-16 15:14:01   210.0       0.05  0.00   0.11   \n",
       "14  MMM211126C00220000 2021-10-27 19:22:49   220.0       0.01  0.00   0.38   \n",
       "15  MMM211126C00230000 2021-11-16 14:44:49   230.0       0.01  0.00   0.17   \n",
       "\n",
       "    change  percentChange  volume  openInterest  impliedVolatility  \\\n",
       "0    -1.81     -15.133783     2.0             1           0.489263   \n",
       "1     0.00       0.000000     1.0             1           0.298835   \n",
       "2    -2.00     -43.478260     1.0            27           0.236092   \n",
       "3    -0.04      -3.174600   189.0           421           0.180184   \n",
       "4    -0.13     -32.500000   222.0           381           0.177743   \n",
       "5    -0.06     -35.294117   117.0           763           0.192391   \n",
       "6     0.01      16.666670    40.0           417           0.232430   \n",
       "7    -0.01     -25.000000     7.0           370           0.269539   \n",
       "8     0.00       0.000000     3.0            24           0.349616   \n",
       "9    -0.02     -50.000000     4.0            53           0.371100   \n",
       "10    0.00       0.000000     3.0             5           0.527348   \n",
       "11    0.00       0.000000     2.0            46           0.517583   \n",
       "12    0.00       0.000000     1.0             3           0.570317   \n",
       "13    0.00       0.000000     NaN             2           0.664066   \n",
       "14    0.00       0.000000     1.0             0           0.990234   \n",
       "15    0.00       0.000000     NaN             6           1.039067   \n",
       "\n",
       "    inTheMoney contractSize currency  \n",
       "0         True      REGULAR      USD  \n",
       "1         True      REGULAR      USD  \n",
       "2         True      REGULAR      USD  \n",
       "3        False      REGULAR      USD  \n",
       "4        False      REGULAR      USD  \n",
       "5        False      REGULAR      USD  \n",
       "6        False      REGULAR      USD  \n",
       "7        False      REGULAR      USD  \n",
       "8        False      REGULAR      USD  \n",
       "9        False      REGULAR      USD  \n",
       "10       False      REGULAR      USD  \n",
       "11       False      REGULAR      USD  \n",
       "12       False      REGULAR      USD  \n",
       "13       False      REGULAR      USD  \n",
       "14       False      REGULAR      USD  \n",
       "15       False      REGULAR      USD  "
      ]
     },
     "execution_count": 28,
     "metadata": {},
     "output_type": "execute_result"
    },
    {
     "name": "stdout",
     "output_type": "stream",
     "text": [
      "time: 3.1 s (started: 2021-11-23 12:31:21 -08:00)\n"
     ]
    }
   ],
   "source": [
    "options_mrkt_test('MMM', '2021-11-26', 'calls' )"
   ]
  },
  {
   "cell_type": "code",
   "execution_count": 29,
   "id": "3cb8bb87-8faa-4ff8-8c68-c7a88b36ac25",
   "metadata": {
    "execution": {
     "iopub.execute_input": "2021-11-23T20:31:24.380919Z",
     "iopub.status.busy": "2021-11-23T20:31:24.380582Z",
     "iopub.status.idle": "2021-11-23T20:31:27.295743Z",
     "shell.execute_reply": "2021-11-23T20:31:27.294826Z",
     "shell.execute_reply.started": "2021-11-23T20:31:24.380892Z"
    }
   },
   "outputs": [
    {
     "name": "stdout",
     "output_type": "stream",
     "text": [
      "Current Price: $179.37\n",
      "Dividend: $5.92\n",
      "3 Month TBill Rate: 0.05%\n"
     ]
    },
    {
     "data": {
      "text/html": [
       "<div>\n",
       "<style scoped>\n",
       "    .dataframe tbody tr th:only-of-type {\n",
       "        vertical-align: middle;\n",
       "    }\n",
       "\n",
       "    .dataframe tbody tr th {\n",
       "        vertical-align: top;\n",
       "    }\n",
       "\n",
       "    .dataframe thead th {\n",
       "        text-align: right;\n",
       "    }\n",
       "</style>\n",
       "<table border=\"1\" class=\"dataframe\">\n",
       "  <thead>\n",
       "    <tr style=\"text-align: right;\">\n",
       "      <th></th>\n",
       "      <th>contractSymbol</th>\n",
       "      <th>lastTradeDate</th>\n",
       "      <th>strike</th>\n",
       "      <th>lastPrice</th>\n",
       "      <th>bid</th>\n",
       "      <th>ask</th>\n",
       "      <th>change</th>\n",
       "      <th>percentChange</th>\n",
       "      <th>volume</th>\n",
       "      <th>openInterest</th>\n",
       "      <th>impliedVolatility</th>\n",
       "      <th>inTheMoney</th>\n",
       "      <th>contractSize</th>\n",
       "      <th>currency</th>\n",
       "    </tr>\n",
       "  </thead>\n",
       "  <tbody>\n",
       "    <tr>\n",
       "      <th>0</th>\n",
       "      <td>MMM211126C00170000</td>\n",
       "      <td>2021-11-23 15:50:07</td>\n",
       "      <td>170.0</td>\n",
       "      <td>10.15</td>\n",
       "      <td>9.50</td>\n",
       "      <td>10.05</td>\n",
       "      <td>-1.81</td>\n",
       "      <td>-15.133783</td>\n",
       "      <td>2.0</td>\n",
       "      <td>1</td>\n",
       "      <td>0.489263</td>\n",
       "      <td>True</td>\n",
       "      <td>REGULAR</td>\n",
       "      <td>USD</td>\n",
       "    </tr>\n",
       "    <tr>\n",
       "      <th>1</th>\n",
       "      <td>MMM211126C00175000</td>\n",
       "      <td>2021-11-22 17:54:25</td>\n",
       "      <td>175.0</td>\n",
       "      <td>6.25</td>\n",
       "      <td>4.80</td>\n",
       "      <td>5.05</td>\n",
       "      <td>0.00</td>\n",
       "      <td>0.000000</td>\n",
       "      <td>1.0</td>\n",
       "      <td>1</td>\n",
       "      <td>0.298835</td>\n",
       "      <td>True</td>\n",
       "      <td>REGULAR</td>\n",
       "      <td>USD</td>\n",
       "    </tr>\n",
       "    <tr>\n",
       "      <th>2</th>\n",
       "      <td>MMM211126C00177500</td>\n",
       "      <td>2021-11-23 15:44:03</td>\n",
       "      <td>177.5</td>\n",
       "      <td>2.60</td>\n",
       "      <td>2.49</td>\n",
       "      <td>2.85</td>\n",
       "      <td>-2.00</td>\n",
       "      <td>-43.478260</td>\n",
       "      <td>1.0</td>\n",
       "      <td>27</td>\n",
       "      <td>0.236092</td>\n",
       "      <td>True</td>\n",
       "      <td>REGULAR</td>\n",
       "      <td>USD</td>\n",
       "    </tr>\n",
       "    <tr>\n",
       "      <th>3</th>\n",
       "      <td>MMM211126C00180000</td>\n",
       "      <td>2021-11-23 19:58:58</td>\n",
       "      <td>180.0</td>\n",
       "      <td>1.22</td>\n",
       "      <td>0.94</td>\n",
       "      <td>1.06</td>\n",
       "      <td>-0.04</td>\n",
       "      <td>-3.174600</td>\n",
       "      <td>189.0</td>\n",
       "      <td>421</td>\n",
       "      <td>0.180184</td>\n",
       "      <td>False</td>\n",
       "      <td>REGULAR</td>\n",
       "      <td>USD</td>\n",
       "    </tr>\n",
       "    <tr>\n",
       "      <th>4</th>\n",
       "      <td>MMM211126C00182500</td>\n",
       "      <td>2021-11-23 20:04:26</td>\n",
       "      <td>182.5</td>\n",
       "      <td>0.27</td>\n",
       "      <td>0.24</td>\n",
       "      <td>0.32</td>\n",
       "      <td>-0.13</td>\n",
       "      <td>-32.500000</td>\n",
       "      <td>222.0</td>\n",
       "      <td>381</td>\n",
       "      <td>0.177743</td>\n",
       "      <td>False</td>\n",
       "      <td>REGULAR</td>\n",
       "      <td>USD</td>\n",
       "    </tr>\n",
       "    <tr>\n",
       "      <th>5</th>\n",
       "      <td>MMM211126C00185000</td>\n",
       "      <td>2021-11-23 19:49:12</td>\n",
       "      <td>185.0</td>\n",
       "      <td>0.11</td>\n",
       "      <td>0.06</td>\n",
       "      <td>0.10</td>\n",
       "      <td>-0.06</td>\n",
       "      <td>-35.294117</td>\n",
       "      <td>117.0</td>\n",
       "      <td>763</td>\n",
       "      <td>0.192391</td>\n",
       "      <td>False</td>\n",
       "      <td>REGULAR</td>\n",
       "      <td>USD</td>\n",
       "    </tr>\n",
       "    <tr>\n",
       "      <th>6</th>\n",
       "      <td>MMM211126C00187500</td>\n",
       "      <td>2021-11-23 18:12:30</td>\n",
       "      <td>187.5</td>\n",
       "      <td>0.07</td>\n",
       "      <td>0.03</td>\n",
       "      <td>0.06</td>\n",
       "      <td>0.01</td>\n",
       "      <td>16.666670</td>\n",
       "      <td>40.0</td>\n",
       "      <td>417</td>\n",
       "      <td>0.232430</td>\n",
       "      <td>False</td>\n",
       "      <td>REGULAR</td>\n",
       "      <td>USD</td>\n",
       "    </tr>\n",
       "    <tr>\n",
       "      <th>7</th>\n",
       "      <td>MMM211126C00190000</td>\n",
       "      <td>2021-11-23 18:16:06</td>\n",
       "      <td>190.0</td>\n",
       "      <td>0.03</td>\n",
       "      <td>0.02</td>\n",
       "      <td>0.04</td>\n",
       "      <td>-0.01</td>\n",
       "      <td>-25.000000</td>\n",
       "      <td>7.0</td>\n",
       "      <td>370</td>\n",
       "      <td>0.269539</td>\n",
       "      <td>False</td>\n",
       "      <td>REGULAR</td>\n",
       "      <td>USD</td>\n",
       "    </tr>\n",
       "    <tr>\n",
       "      <th>8</th>\n",
       "      <td>MMM211126C00192500</td>\n",
       "      <td>2021-11-22 15:32:59</td>\n",
       "      <td>192.5</td>\n",
       "      <td>0.03</td>\n",
       "      <td>0.00</td>\n",
       "      <td>0.07</td>\n",
       "      <td>0.00</td>\n",
       "      <td>0.000000</td>\n",
       "      <td>3.0</td>\n",
       "      <td>24</td>\n",
       "      <td>0.349616</td>\n",
       "      <td>False</td>\n",
       "      <td>REGULAR</td>\n",
       "      <td>USD</td>\n",
       "    </tr>\n",
       "    <tr>\n",
       "      <th>9</th>\n",
       "      <td>MMM211126C00195000</td>\n",
       "      <td>2021-11-23 18:32:28</td>\n",
       "      <td>195.0</td>\n",
       "      <td>0.02</td>\n",
       "      <td>0.01</td>\n",
       "      <td>0.04</td>\n",
       "      <td>-0.02</td>\n",
       "      <td>-50.000000</td>\n",
       "      <td>4.0</td>\n",
       "      <td>53</td>\n",
       "      <td>0.371100</td>\n",
       "      <td>False</td>\n",
       "      <td>REGULAR</td>\n",
       "      <td>USD</td>\n",
       "    </tr>\n",
       "    <tr>\n",
       "      <th>10</th>\n",
       "      <td>MMM211126C00197500</td>\n",
       "      <td>2021-11-22 16:00:50</td>\n",
       "      <td>197.5</td>\n",
       "      <td>0.03</td>\n",
       "      <td>0.00</td>\n",
       "      <td>0.17</td>\n",
       "      <td>0.00</td>\n",
       "      <td>0.000000</td>\n",
       "      <td>3.0</td>\n",
       "      <td>5</td>\n",
       "      <td>0.527348</td>\n",
       "      <td>False</td>\n",
       "      <td>REGULAR</td>\n",
       "      <td>USD</td>\n",
       "    </tr>\n",
       "    <tr>\n",
       "      <th>11</th>\n",
       "      <td>MMM211126C00200000</td>\n",
       "      <td>2021-11-22 18:12:43</td>\n",
       "      <td>200.0</td>\n",
       "      <td>0.01</td>\n",
       "      <td>0.00</td>\n",
       "      <td>0.17</td>\n",
       "      <td>0.00</td>\n",
       "      <td>0.000000</td>\n",
       "      <td>2.0</td>\n",
       "      <td>46</td>\n",
       "      <td>0.517583</td>\n",
       "      <td>False</td>\n",
       "      <td>REGULAR</td>\n",
       "      <td>USD</td>\n",
       "    </tr>\n",
       "    <tr>\n",
       "      <th>12</th>\n",
       "      <td>MMM211126C00205000</td>\n",
       "      <td>2021-11-17 14:46:28</td>\n",
       "      <td>205.0</td>\n",
       "      <td>1.13</td>\n",
       "      <td>0.00</td>\n",
       "      <td>0.10</td>\n",
       "      <td>0.00</td>\n",
       "      <td>0.000000</td>\n",
       "      <td>1.0</td>\n",
       "      <td>3</td>\n",
       "      <td>0.570317</td>\n",
       "      <td>False</td>\n",
       "      <td>REGULAR</td>\n",
       "      <td>USD</td>\n",
       "    </tr>\n",
       "    <tr>\n",
       "      <th>13</th>\n",
       "      <td>MMM211126C00210000</td>\n",
       "      <td>2021-11-16 15:14:01</td>\n",
       "      <td>210.0</td>\n",
       "      <td>0.05</td>\n",
       "      <td>0.00</td>\n",
       "      <td>0.11</td>\n",
       "      <td>0.00</td>\n",
       "      <td>0.000000</td>\n",
       "      <td>NaN</td>\n",
       "      <td>2</td>\n",
       "      <td>0.664066</td>\n",
       "      <td>False</td>\n",
       "      <td>REGULAR</td>\n",
       "      <td>USD</td>\n",
       "    </tr>\n",
       "    <tr>\n",
       "      <th>14</th>\n",
       "      <td>MMM211126C00220000</td>\n",
       "      <td>2021-10-27 19:22:49</td>\n",
       "      <td>220.0</td>\n",
       "      <td>0.01</td>\n",
       "      <td>0.00</td>\n",
       "      <td>0.38</td>\n",
       "      <td>0.00</td>\n",
       "      <td>0.000000</td>\n",
       "      <td>1.0</td>\n",
       "      <td>0</td>\n",
       "      <td>0.990234</td>\n",
       "      <td>False</td>\n",
       "      <td>REGULAR</td>\n",
       "      <td>USD</td>\n",
       "    </tr>\n",
       "    <tr>\n",
       "      <th>15</th>\n",
       "      <td>MMM211126C00230000</td>\n",
       "      <td>2021-11-16 14:44:49</td>\n",
       "      <td>230.0</td>\n",
       "      <td>0.01</td>\n",
       "      <td>0.00</td>\n",
       "      <td>0.17</td>\n",
       "      <td>0.00</td>\n",
       "      <td>0.000000</td>\n",
       "      <td>NaN</td>\n",
       "      <td>6</td>\n",
       "      <td>1.039067</td>\n",
       "      <td>False</td>\n",
       "      <td>REGULAR</td>\n",
       "      <td>USD</td>\n",
       "    </tr>\n",
       "  </tbody>\n",
       "</table>\n",
       "</div>"
      ],
      "text/plain": [
       "        contractSymbol       lastTradeDate  strike  lastPrice   bid    ask  \\\n",
       "0   MMM211126C00170000 2021-11-23 15:50:07   170.0      10.15  9.50  10.05   \n",
       "1   MMM211126C00175000 2021-11-22 17:54:25   175.0       6.25  4.80   5.05   \n",
       "2   MMM211126C00177500 2021-11-23 15:44:03   177.5       2.60  2.49   2.85   \n",
       "3   MMM211126C00180000 2021-11-23 19:58:58   180.0       1.22  0.94   1.06   \n",
       "4   MMM211126C00182500 2021-11-23 20:04:26   182.5       0.27  0.24   0.32   \n",
       "5   MMM211126C00185000 2021-11-23 19:49:12   185.0       0.11  0.06   0.10   \n",
       "6   MMM211126C00187500 2021-11-23 18:12:30   187.5       0.07  0.03   0.06   \n",
       "7   MMM211126C00190000 2021-11-23 18:16:06   190.0       0.03  0.02   0.04   \n",
       "8   MMM211126C00192500 2021-11-22 15:32:59   192.5       0.03  0.00   0.07   \n",
       "9   MMM211126C00195000 2021-11-23 18:32:28   195.0       0.02  0.01   0.04   \n",
       "10  MMM211126C00197500 2021-11-22 16:00:50   197.5       0.03  0.00   0.17   \n",
       "11  MMM211126C00200000 2021-11-22 18:12:43   200.0       0.01  0.00   0.17   \n",
       "12  MMM211126C00205000 2021-11-17 14:46:28   205.0       1.13  0.00   0.10   \n",
       "13  MMM211126C00210000 2021-11-16 15:14:01   210.0       0.05  0.00   0.11   \n",
       "14  MMM211126C00220000 2021-10-27 19:22:49   220.0       0.01  0.00   0.38   \n",
       "15  MMM211126C00230000 2021-11-16 14:44:49   230.0       0.01  0.00   0.17   \n",
       "\n",
       "    change  percentChange  volume  openInterest  impliedVolatility  \\\n",
       "0    -1.81     -15.133783     2.0             1           0.489263   \n",
       "1     0.00       0.000000     1.0             1           0.298835   \n",
       "2    -2.00     -43.478260     1.0            27           0.236092   \n",
       "3    -0.04      -3.174600   189.0           421           0.180184   \n",
       "4    -0.13     -32.500000   222.0           381           0.177743   \n",
       "5    -0.06     -35.294117   117.0           763           0.192391   \n",
       "6     0.01      16.666670    40.0           417           0.232430   \n",
       "7    -0.01     -25.000000     7.0           370           0.269539   \n",
       "8     0.00       0.000000     3.0            24           0.349616   \n",
       "9    -0.02     -50.000000     4.0            53           0.371100   \n",
       "10    0.00       0.000000     3.0             5           0.527348   \n",
       "11    0.00       0.000000     2.0            46           0.517583   \n",
       "12    0.00       0.000000     1.0             3           0.570317   \n",
       "13    0.00       0.000000     NaN             2           0.664066   \n",
       "14    0.00       0.000000     1.0             0           0.990234   \n",
       "15    0.00       0.000000     NaN             6           1.039067   \n",
       "\n",
       "    inTheMoney contractSize currency  \n",
       "0         True      REGULAR      USD  \n",
       "1         True      REGULAR      USD  \n",
       "2         True      REGULAR      USD  \n",
       "3        False      REGULAR      USD  \n",
       "4        False      REGULAR      USD  \n",
       "5        False      REGULAR      USD  \n",
       "6        False      REGULAR      USD  \n",
       "7        False      REGULAR      USD  \n",
       "8        False      REGULAR      USD  \n",
       "9        False      REGULAR      USD  \n",
       "10       False      REGULAR      USD  \n",
       "11       False      REGULAR      USD  \n",
       "12       False      REGULAR      USD  \n",
       "13       False      REGULAR      USD  \n",
       "14       False      REGULAR      USD  \n",
       "15       False      REGULAR      USD  "
      ]
     },
     "execution_count": 29,
     "metadata": {},
     "output_type": "execute_result"
    },
    {
     "name": "stdout",
     "output_type": "stream",
     "text": [
      "time: 2.87 s (started: 2021-11-23 12:31:24 -08:00)\n"
     ]
    }
   ],
   "source": [
    "h.options_mrkt('MMM', '2021-11-26', 'calls' )"
   ]
  },
  {
   "cell_type": "markdown",
   "id": "f5c3c0c6-7a33-42a7-91d0-0eab703fc532",
   "metadata": {},
   "source": [
    "## Dividend Tests"
   ]
  },
  {
   "cell_type": "code",
   "execution_count": 30,
   "id": "c7cf7bc9-ba9d-45c6-b253-3e65de1386e7",
   "metadata": {
    "execution": {
     "iopub.execute_input": "2021-11-23T20:34:21.948451Z",
     "iopub.status.busy": "2021-11-23T20:34:21.948059Z",
     "iopub.status.idle": "2021-11-23T20:34:22.011416Z",
     "shell.execute_reply": "2021-11-23T20:34:22.009965Z",
     "shell.execute_reply.started": "2021-11-23T20:34:21.948409Z"
    }
   },
   "outputs": [
    {
     "name": "stdout",
     "output_type": "stream",
     "text": [
      "time: 3.62 ms (started: 2021-11-23 12:34:22 -08:00)\n"
     ]
    }
   ],
   "source": [
    "msft = yf.Ticker('MSFT')"
   ]
  },
  {
   "cell_type": "code",
   "execution_count": 32,
   "id": "f6447e28-8454-40ac-8baa-f6bead606074",
   "metadata": {
    "execution": {
     "iopub.execute_input": "2021-11-23T20:34:41.538286Z",
     "iopub.status.busy": "2021-11-23T20:34:41.537930Z",
     "iopub.status.idle": "2021-11-23T20:34:41.595385Z",
     "shell.execute_reply": "2021-11-23T20:34:41.594722Z",
     "shell.execute_reply.started": "2021-11-23T20:34:41.538244Z"
    },
    "tags": []
   },
   "outputs": [
    {
     "data": {
      "text/plain": [
       "1637107200"
      ]
     },
     "execution_count": 32,
     "metadata": {},
     "output_type": "execute_result"
    },
    {
     "name": "stdout",
     "output_type": "stream",
     "text": [
      "time: 2.03 ms (started: 2021-11-23 12:34:41 -08:00)\n"
     ]
    }
   ],
   "source": [
    "exdiv = msft.info['exDividendDate']\n",
    "exdiv"
   ]
  },
  {
   "cell_type": "code",
   "execution_count": null,
   "id": "5fe1bcfb-f5bc-453d-899d-ceaf91c77e9b",
   "metadata": {},
   "outputs": [],
   "source": []
  }
 ],
 "metadata": {
  "kernelspec": {
   "display_name": "options_apps",
   "language": "python",
   "name": "options_apps"
  },
  "language_info": {
   "codemirror_mode": {
    "name": "ipython",
    "version": 3
   },
   "file_extension": ".py",
   "mimetype": "text/x-python",
   "name": "python",
   "nbconvert_exporter": "python",
   "pygments_lexer": "ipython3",
   "version": "3.9.7"
  }
 },
 "nbformat": 4,
 "nbformat_minor": 5
}
