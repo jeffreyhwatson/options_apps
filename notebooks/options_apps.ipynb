{
 "cells": [
  {
   "cell_type": "code",
   "execution_count": 1,
   "id": "042caaf9-1515-4cd6-8ea5-fc8c1686ca4a",
   "metadata": {
    "execution": {
     "iopub.execute_input": "2021-11-10T21:06:35.558918Z",
     "iopub.status.busy": "2021-11-10T21:06:35.558486Z",
     "iopub.status.idle": "2021-11-10T21:06:35.650287Z",
     "shell.execute_reply": "2021-11-10T21:06:35.649760Z",
     "shell.execute_reply.started": "2021-11-10T21:06:35.558810Z"
    },
    "tags": []
   },
   "outputs": [
    {
     "name": "stdout",
     "output_type": "stream",
     "text": [
      "time: 444 µs (started: 2021-11-10 13:06:35 -08:00)\n"
     ]
    }
   ],
   "source": [
    "%load_ext autoreload\n",
    "%load_ext autotime\n",
    "%autoreload 2"
   ]
  },
  {
   "cell_type": "code",
   "execution_count": 2,
   "id": "87110252-c97b-4947-b2f4-a75ed8c1298b",
   "metadata": {
    "execution": {
     "iopub.execute_input": "2021-11-10T21:06:35.651682Z",
     "iopub.status.busy": "2021-11-10T21:06:35.651490Z",
     "iopub.status.idle": "2021-11-10T21:06:50.747712Z",
     "shell.execute_reply": "2021-11-10T21:06:50.746898Z",
     "shell.execute_reply.started": "2021-11-10T21:06:35.651659Z"
    },
    "tags": []
   },
   "outputs": [
    {
     "name": "stdout",
     "output_type": "stream",
     "text": [
      "time: 15.1 s (started: 2021-11-10 13:06:35 -08:00)\n"
     ]
    }
   ],
   "source": [
    "import sys, os, math\n",
    "import requests\n",
    "from bs4 import BeautifulSoup\n",
    "import spacy\n",
    "from spacy import displacy\n",
    "import yfinance as yf\n",
    "import pandas as pd\n",
    "import numpy as np\n",
    "import seaborn as sns\n",
    "from datetime import datetime\n",
    "import time\n",
    "\n",
    "#  setting path\n",
    "gparent = os.path.join(os.pardir)\n",
    "sys.path.append(gparent)\n",
    "\n",
    "from src import helper_functions as h"
   ]
  },
  {
   "cell_type": "markdown",
   "id": "d2e9c009-c318-40b4-9b1c-6e963146587a",
   "metadata": {},
   "source": [
    "## requests: Grabbing Headlines"
   ]
  },
  {
   "cell_type": "code",
   "execution_count": 3,
   "id": "28eee855-23ef-4248-a7b1-a83a0f897418",
   "metadata": {
    "execution": {
     "iopub.execute_input": "2021-11-10T21:06:50.749233Z",
     "iopub.status.busy": "2021-11-10T21:06:50.748895Z",
     "iopub.status.idle": "2021-11-10T21:06:51.169719Z",
     "shell.execute_reply": "2021-11-10T21:06:51.168530Z",
     "shell.execute_reply.started": "2021-11-10T21:06:50.749210Z"
    },
    "tags": []
   },
   "outputs": [
    {
     "data": {
      "text/plain": [
       "<Response [200]>"
      ]
     },
     "execution_count": 3,
     "metadata": {},
     "output_type": "execute_result"
    },
    {
     "name": "stdout",
     "output_type": "stream",
     "text": [
      "time: 380 ms (started: 2021-11-10 13:06:50 -08:00)\n"
     ]
    }
   ],
   "source": [
    "# grabbing headlines\n",
    "r = requests.get(\"http://feeds.marketwatch.com/marketwatch/topstories/\")\n",
    "r"
   ]
  },
  {
   "cell_type": "markdown",
   "id": "24e85d1d-a838-41c9-91d7-c4570d8240ec",
   "metadata": {
    "execution": {
     "iopub.execute_input": "2021-10-02T04:19:19.925337Z",
     "iopub.status.busy": "2021-10-02T04:19:19.924939Z",
     "iopub.status.idle": "2021-10-02T04:19:19.932717Z",
     "shell.execute_reply": "2021-10-02T04:19:19.930662Z",
     "shell.execute_reply.started": "2021-10-02T04:19:19.925295Z"
    }
   },
   "source": [
    "## bs4: Saving Headlines"
   ]
  },
  {
   "cell_type": "code",
   "execution_count": 4,
   "id": "37fbf4e8-471b-4f06-b7a4-8be588bfa4ce",
   "metadata": {
    "execution": {
     "iopub.execute_input": "2021-11-10T21:06:51.174278Z",
     "iopub.status.busy": "2021-11-10T21:06:51.173889Z",
     "iopub.status.idle": "2021-11-10T21:06:51.246395Z",
     "shell.execute_reply": "2021-11-10T21:06:51.245581Z",
     "shell.execute_reply.started": "2021-11-10T21:06:51.174240Z"
    },
    "tags": []
   },
   "outputs": [
    {
     "name": "stdout",
     "output_type": "stream",
     "text": [
      "<class 'bs4.element.ResultSet'>\n",
      "\n",
      "[<title>MarketWatch.com - Top Stories</title>, <title>MarketWatch.com - Top Stories</title>, <title>The Ratings Game: Poshmark shares plunge as analysts express optimism about resale but call quarterly results ‘disappointing’</title>, <title>: WW banks on new weight loss program after third-quarter slump</title>, <title>Bond Report: Ten-year Treasury yield sees largest one-day rise in a year as U.S. inflation hits a 31-year high</title>, <title>Living With Climate Change: Solar tax credits and heat pump rebates: All the ways Build Back Better would incentivize cleaner energy at home</title>, <title>: SEC blocks inflation-protected crypto token</title>, <title>: ‘Inflation hurts Americans’ pocketbooks’: How to stretch your dollar as CPI hits 31-year high — and how to negotiate lower prices</title>, <title>: Unvaccinated people will hear you out on the COVID-19 shot — as long as you don’t work for the government</title>, <title>: Mastercard delivers ‘strong’ growth goals as it chases $255 trillion opportunity</title>, <title>: Here’s where service members can get deals and discounts on Veterans Day</title>, <title>: All she wants for Christmas is a Big Mac? McDonald’s and Mariah Carey pair up for a holiday menu</title>]\n",
      "time: 5.87 ms (started: 2021-11-10 13:06:51 -08:00)\n"
     ]
    }
   ],
   "source": [
    "# saving headlines to a list\n",
    "soup = BeautifulSoup(r.content, features='lxml')\n",
    "headlines = soup.findAll('title')\n",
    "print(f'{type(headlines)}\\n')\n",
    "print(headlines)"
   ]
  },
  {
   "cell_type": "markdown",
   "id": "ecbc497a-1907-4df3-b811-8d737816f2a9",
   "metadata": {
    "tags": []
   },
   "source": [
    "### Grabbing Headline String\n",
    "Grabbing headline and printing headline and isolated text."
   ]
  },
  {
   "cell_type": "code",
   "execution_count": 5,
   "id": "e4bf1fcd-e4c7-4242-80a4-74fe2a801af1",
   "metadata": {
    "execution": {
     "iopub.execute_input": "2021-11-10T21:06:51.247888Z",
     "iopub.status.busy": "2021-11-10T21:06:51.247649Z",
     "iopub.status.idle": "2021-11-10T21:06:51.289429Z",
     "shell.execute_reply": "2021-11-10T21:06:51.288526Z",
     "shell.execute_reply.started": "2021-11-10T21:06:51.247843Z"
    },
    "tags": []
   },
   "outputs": [
    {
     "name": "stdout",
     "output_type": "stream",
     "text": [
      "<title>The Ratings Game: Poshmark shares plunge as analysts express optimism about resale but call quarterly results ‘disappointing’</title>\n",
      "\n",
      "The Ratings Game: Poshmark shares plunge as analysts express optimism about resale but call quarterly results ‘disappointing’\n",
      "time: 1.05 ms (started: 2021-11-10 13:06:51 -08:00)\n"
     ]
    }
   ],
   "source": [
    "# grabbing test headline\n",
    "test_headline = headlines[2]\n",
    "print(f'{test_headline}\\n')\n",
    "print(test_headline.text)"
   ]
  },
  {
   "cell_type": "markdown",
   "id": "64a103b5-d156-4a63-a420-edf19d1425f4",
   "metadata": {},
   "source": [
    "## spaCy: Tests\n",
    "Testing tokenization and name extraction on a single string."
   ]
  },
  {
   "cell_type": "markdown",
   "id": "8b5e37e8-ad08-43cb-bd0c-316b1ae687ae",
   "metadata": {},
   "source": [
    "### Loading Model"
   ]
  },
  {
   "cell_type": "code",
   "execution_count": 6,
   "id": "40c1bf45-66b6-4e0d-8096-2fa953b31232",
   "metadata": {
    "execution": {
     "iopub.execute_input": "2021-11-10T21:06:51.290829Z",
     "iopub.status.busy": "2021-11-10T21:06:51.290631Z",
     "iopub.status.idle": "2021-11-10T21:06:52.013904Z",
     "shell.execute_reply": "2021-11-10T21:06:52.013236Z",
     "shell.execute_reply.started": "2021-11-10T21:06:51.290807Z"
    },
    "tags": []
   },
   "outputs": [
    {
     "name": "stdout",
     "output_type": "stream",
     "text": [
      "time: 684 ms (started: 2021-11-10 13:06:51 -08:00)\n"
     ]
    }
   ],
   "source": [
    "# loading spacy model\n",
    "nlp = spacy.load('en_core_web_sm')"
   ]
  },
  {
   "cell_type": "markdown",
   "id": "b22eff8c-4013-46ba-9c4c-bdf8f026329d",
   "metadata": {},
   "source": [
    "### Tokenizing String\n",
    "Tokenizing the test headline."
   ]
  },
  {
   "cell_type": "code",
   "execution_count": 7,
   "id": "e3a0b3dd-c716-4edf-a5f0-d77504a32e17",
   "metadata": {
    "execution": {
     "iopub.execute_input": "2021-11-10T21:06:52.015661Z",
     "iopub.status.busy": "2021-11-10T21:06:52.015379Z",
     "iopub.status.idle": "2021-11-10T21:06:52.069903Z",
     "shell.execute_reply": "2021-11-10T21:06:52.069061Z",
     "shell.execute_reply.started": "2021-11-10T21:06:52.015637Z"
    },
    "tags": []
   },
   "outputs": [
    {
     "name": "stdout",
     "output_type": "stream",
     "text": [
      "<title>The Ratings Game: Poshmark shares plunge as analysts express optimism about resale but call quarterly results ‘disappointing’</title>\n",
      "\n",
      "The\n",
      "Ratings\n",
      "Game\n",
      ":\n",
      "Poshmark\n",
      "shares\n",
      "plunge\n",
      "as\n",
      "analysts\n",
      "express\n",
      "optimism\n",
      "about\n",
      "resale\n",
      "but\n",
      "call\n",
      "quarterly\n",
      "results\n",
      "‘\n",
      "disappointing\n",
      "’\n",
      "time: 13.2 ms (started: 2021-11-10 13:06:52 -08:00)\n"
     ]
    }
   ],
   "source": [
    "# checking the test case\n",
    "processed_hline = nlp(test_headline.text)\n",
    "print(f'{test_headline}\\n')\n",
    "for token in processed_hline:\n",
    "  print(token)"
   ]
  },
  {
   "cell_type": "markdown",
   "id": "344b7bb2-4936-4938-8ef5-44a2d8989203",
   "metadata": {},
   "source": [
    "## Saving List of Tokenized Headlines"
   ]
  },
  {
   "cell_type": "code",
   "execution_count": 8,
   "id": "0326da95-c8b5-49e5-9207-93ae94714d1b",
   "metadata": {
    "execution": {
     "iopub.execute_input": "2021-11-07T00:45:16.577907Z",
     "iopub.status.busy": "2021-11-07T00:45:16.577767Z",
     "iopub.status.idle": "2021-11-07T00:45:16.723960Z",
     "shell.execute_reply": "2021-11-07T00:45:16.723224Z",
     "shell.execute_reply.started": "2021-11-07T00:45:16.577889Z"
    },
    "tags": []
   },
   "outputs": [
    {
     "name": "stdout",
     "output_type": "stream",
     "text": [
      "MarketWatch.com - Top Stories\n",
      "MarketWatch.com - Top Stories\n",
      "Where Should I Retire?: I never expected to retire to Panama — but we are living ‘very comfortably’ on $1,200 a month\n",
      "Living With Climate Change: 3 ways to shrink your carbon footprint the next time you’re grocery shopping\n",
      "The Conversation: What the Fed’s taper means for your pocketbook\n",
      "Tax Guy: ‘Don’t give away loser shares’: It’s not too late to reduce your 2021 tax bill. Here’s how.\n",
      "Outside the Box: A growing number of retirees are heading to work — as entrepreneurs\n",
      "Project Syndicate: The policy pendulum has swung wildly from austerity to euphoria and back to austerity again\n",
      ": Mortgage rates fall for the first time in weeks — even as the Fed decides to roll back stimulus\n",
      "NewsWatch: ‘It’s a melt-up’: U.S. stocks are on an unusually strong run heading into the holidays\n",
      "Next Avenue: Many employers are offering new and better benefits—how to choose the right ones for next year\n",
      "Encore: Are teachers overpaid or underpaid?\n",
      "time: 95.5 ms (started: 2021-11-06 17:45:16 -07:00)\n"
     ]
    }
   ],
   "source": [
    "processed_hlines = [nlp(headlines[i].text) for i in range(len(headlines))]\n",
    "for line in processed_hlines:\n",
    "    print(line)"
   ]
  },
  {
   "cell_type": "markdown",
   "id": "fc53aa4f-c5a8-4fa3-9c1b-ea850c32a9db",
   "metadata": {},
   "source": [
    "## Getting Org Names From Headlines\n",
    "Visualizing named entities (real world objects) in the headlines and creating a set of organiziations."
   ]
  },
  {
   "cell_type": "code",
   "execution_count": 8,
   "id": "53e9fd0b-a896-4434-976d-5e98355705f8",
   "metadata": {
    "execution": {
     "iopub.execute_input": "2021-11-10T21:06:52.071739Z",
     "iopub.status.busy": "2021-11-10T21:06:52.071472Z",
     "iopub.status.idle": "2021-11-10T21:06:52.245170Z",
     "shell.execute_reply": "2021-11-10T21:06:52.244593Z",
     "shell.execute_reply.started": "2021-11-10T21:06:52.071703Z"
    },
    "tags": []
   },
   "outputs": [
    {
     "data": {
      "text/html": [
       "<span class=\"tex2jax_ignore\"><div class=\"entities\" style=\"line-height: 2.5; direction: ltr\">\n",
       "<mark class=\"entity\" style=\"background: #aa9cfc; padding: 0.45em 0.6em; margin: 0 0.25em; line-height: 1; border-radius: 0.35em;\">\n",
       "    MarketWatch.com - Top Stories\n",
       "    <span style=\"font-size: 0.8em; font-weight: bold; line-height: 1; border-radius: 0.35em; text-transform: uppercase; vertical-align: middle; margin-left: 0.5rem\">PERSON</span>\n",
       "</mark>\n",
       "</div></span>"
      ],
      "text/plain": [
       "<IPython.core.display.HTML object>"
      ]
     },
     "metadata": {},
     "output_type": "display_data"
    },
    {
     "data": {
      "text/html": [
       "<span class=\"tex2jax_ignore\"><div class=\"entities\" style=\"line-height: 2.5; direction: ltr\">\n",
       "<mark class=\"entity\" style=\"background: #aa9cfc; padding: 0.45em 0.6em; margin: 0 0.25em; line-height: 1; border-radius: 0.35em;\">\n",
       "    MarketWatch.com - Top Stories\n",
       "    <span style=\"font-size: 0.8em; font-weight: bold; line-height: 1; border-radius: 0.35em; text-transform: uppercase; vertical-align: middle; margin-left: 0.5rem\">PERSON</span>\n",
       "</mark>\n",
       "</div></span>"
      ],
      "text/plain": [
       "<IPython.core.display.HTML object>"
      ]
     },
     "metadata": {},
     "output_type": "display_data"
    },
    {
     "data": {
      "text/html": [
       "<span class=\"tex2jax_ignore\"><div class=\"entities\" style=\"line-height: 2.5; direction: ltr\">The Ratings Game: Poshmark shares plunge as analysts express optimism about resale but call \n",
       "<mark class=\"entity\" style=\"background: #bfe1d9; padding: 0.45em 0.6em; margin: 0 0.25em; line-height: 1; border-radius: 0.35em;\">\n",
       "    quarterly\n",
       "    <span style=\"font-size: 0.8em; font-weight: bold; line-height: 1; border-radius: 0.35em; text-transform: uppercase; vertical-align: middle; margin-left: 0.5rem\">DATE</span>\n",
       "</mark>\n",
       " results ‘disappointing’</div></span>"
      ],
      "text/plain": [
       "<IPython.core.display.HTML object>"
      ]
     },
     "metadata": {},
     "output_type": "display_data"
    },
    {
     "data": {
      "text/html": [
       "<span class=\"tex2jax_ignore\"><div class=\"entities\" style=\"line-height: 2.5; direction: ltr\">: WW banks on new weight loss program after \n",
       "<mark class=\"entity\" style=\"background: #bfe1d9; padding: 0.45em 0.6em; margin: 0 0.25em; line-height: 1; border-radius: 0.35em;\">\n",
       "    third-quarter\n",
       "    <span style=\"font-size: 0.8em; font-weight: bold; line-height: 1; border-radius: 0.35em; text-transform: uppercase; vertical-align: middle; margin-left: 0.5rem\">DATE</span>\n",
       "</mark>\n",
       " slump</div></span>"
      ],
      "text/plain": [
       "<IPython.core.display.HTML object>"
      ]
     },
     "metadata": {},
     "output_type": "display_data"
    },
    {
     "data": {
      "text/html": [
       "<span class=\"tex2jax_ignore\"><div class=\"entities\" style=\"line-height: 2.5; direction: ltr\">Bond Report: \n",
       "<mark class=\"entity\" style=\"background: #bfe1d9; padding: 0.45em 0.6em; margin: 0 0.25em; line-height: 1; border-radius: 0.35em;\">\n",
       "    Ten-year\n",
       "    <span style=\"font-size: 0.8em; font-weight: bold; line-height: 1; border-radius: 0.35em; text-transform: uppercase; vertical-align: middle; margin-left: 0.5rem\">DATE</span>\n",
       "</mark>\n",
       " \n",
       "<mark class=\"entity\" style=\"background: #7aecec; padding: 0.45em 0.6em; margin: 0 0.25em; line-height: 1; border-radius: 0.35em;\">\n",
       "    Treasury\n",
       "    <span style=\"font-size: 0.8em; font-weight: bold; line-height: 1; border-radius: 0.35em; text-transform: uppercase; vertical-align: middle; margin-left: 0.5rem\">ORG</span>\n",
       "</mark>\n",
       " yield sees largest \n",
       "<mark class=\"entity\" style=\"background: #bfe1d9; padding: 0.45em 0.6em; margin: 0 0.25em; line-height: 1; border-radius: 0.35em;\">\n",
       "    one-day\n",
       "    <span style=\"font-size: 0.8em; font-weight: bold; line-height: 1; border-radius: 0.35em; text-transform: uppercase; vertical-align: middle; margin-left: 0.5rem\">DATE</span>\n",
       "</mark>\n",
       " rise in \n",
       "<mark class=\"entity\" style=\"background: #bfe1d9; padding: 0.45em 0.6em; margin: 0 0.25em; line-height: 1; border-radius: 0.35em;\">\n",
       "    a year\n",
       "    <span style=\"font-size: 0.8em; font-weight: bold; line-height: 1; border-radius: 0.35em; text-transform: uppercase; vertical-align: middle; margin-left: 0.5rem\">DATE</span>\n",
       "</mark>\n",
       " as \n",
       "<mark class=\"entity\" style=\"background: #feca74; padding: 0.45em 0.6em; margin: 0 0.25em; line-height: 1; border-radius: 0.35em;\">\n",
       "    U.S.\n",
       "    <span style=\"font-size: 0.8em; font-weight: bold; line-height: 1; border-radius: 0.35em; text-transform: uppercase; vertical-align: middle; margin-left: 0.5rem\">GPE</span>\n",
       "</mark>\n",
       " inflation hits a \n",
       "<mark class=\"entity\" style=\"background: #bfe1d9; padding: 0.45em 0.6em; margin: 0 0.25em; line-height: 1; border-radius: 0.35em;\">\n",
       "    31-year\n",
       "    <span style=\"font-size: 0.8em; font-weight: bold; line-height: 1; border-radius: 0.35em; text-transform: uppercase; vertical-align: middle; margin-left: 0.5rem\">DATE</span>\n",
       "</mark>\n",
       " high</div></span>"
      ],
      "text/plain": [
       "<IPython.core.display.HTML object>"
      ]
     },
     "metadata": {},
     "output_type": "display_data"
    },
    {
     "data": {
      "text/html": [
       "<span class=\"tex2jax_ignore\"><div class=\"entities\" style=\"line-height: 2.5; direction: ltr\">: \n",
       "<mark class=\"entity\" style=\"background: #7aecec; padding: 0.45em 0.6em; margin: 0 0.25em; line-height: 1; border-radius: 0.35em;\">\n",
       "    SEC\n",
       "    <span style=\"font-size: 0.8em; font-weight: bold; line-height: 1; border-radius: 0.35em; text-transform: uppercase; vertical-align: middle; margin-left: 0.5rem\">ORG</span>\n",
       "</mark>\n",
       " blocks inflation-protected crypto token</div></span>"
      ],
      "text/plain": [
       "<IPython.core.display.HTML object>"
      ]
     },
     "metadata": {},
     "output_type": "display_data"
    },
    {
     "data": {
      "text/html": [
       "<span class=\"tex2jax_ignore\"><div class=\"entities\" style=\"line-height: 2.5; direction: ltr\">: ‘Inflation hurts \n",
       "<mark class=\"entity\" style=\"background: #c887fb; padding: 0.45em 0.6em; margin: 0 0.25em; line-height: 1; border-radius: 0.35em;\">\n",
       "    Americans\n",
       "    <span style=\"font-size: 0.8em; font-weight: bold; line-height: 1; border-radius: 0.35em; text-transform: uppercase; vertical-align: middle; margin-left: 0.5rem\">NORP</span>\n",
       "</mark>\n",
       "’ pocketbooks’: How to stretch your dollar as CPI hits \n",
       "<mark class=\"entity\" style=\"background: #e4e7d2; padding: 0.45em 0.6em; margin: 0 0.25em; line-height: 1; border-radius: 0.35em;\">\n",
       "    31-year\n",
       "    <span style=\"font-size: 0.8em; font-weight: bold; line-height: 1; border-radius: 0.35em; text-transform: uppercase; vertical-align: middle; margin-left: 0.5rem\">CARDINAL</span>\n",
       "</mark>\n",
       " high — and how to negotiate lower prices</div></span>"
      ],
      "text/plain": [
       "<IPython.core.display.HTML object>"
      ]
     },
     "metadata": {},
     "output_type": "display_data"
    },
    {
     "data": {
      "text/html": [
       "<span class=\"tex2jax_ignore\"><div class=\"entities\" style=\"line-height: 2.5; direction: ltr\">: \n",
       "<mark class=\"entity\" style=\"background: #7aecec; padding: 0.45em 0.6em; margin: 0 0.25em; line-height: 1; border-radius: 0.35em;\">\n",
       "    Mastercard\n",
       "    <span style=\"font-size: 0.8em; font-weight: bold; line-height: 1; border-radius: 0.35em; text-transform: uppercase; vertical-align: middle; margin-left: 0.5rem\">ORG</span>\n",
       "</mark>\n",
       " delivers ‘strong’ growth goals as it chases \n",
       "<mark class=\"entity\" style=\"background: #e4e7d2; padding: 0.45em 0.6em; margin: 0 0.25em; line-height: 1; border-radius: 0.35em;\">\n",
       "    $255 trillion\n",
       "    <span style=\"font-size: 0.8em; font-weight: bold; line-height: 1; border-radius: 0.35em; text-transform: uppercase; vertical-align: middle; margin-left: 0.5rem\">MONEY</span>\n",
       "</mark>\n",
       " opportunity</div></span>"
      ],
      "text/plain": [
       "<IPython.core.display.HTML object>"
      ]
     },
     "metadata": {},
     "output_type": "display_data"
    },
    {
     "data": {
      "text/html": [
       "<span class=\"tex2jax_ignore\"><div class=\"entities\" style=\"line-height: 2.5; direction: ltr\">: Here’s where service members can get deals and discounts on \n",
       "<mark class=\"entity\" style=\"background: #bfe1d9; padding: 0.45em 0.6em; margin: 0 0.25em; line-height: 1; border-radius: 0.35em;\">\n",
       "    Veterans Day\n",
       "    <span style=\"font-size: 0.8em; font-weight: bold; line-height: 1; border-radius: 0.35em; text-transform: uppercase; vertical-align: middle; margin-left: 0.5rem\">DATE</span>\n",
       "</mark>\n",
       "</div></span>"
      ],
      "text/plain": [
       "<IPython.core.display.HTML object>"
      ]
     },
     "metadata": {},
     "output_type": "display_data"
    },
    {
     "data": {
      "text/html": [
       "<span class=\"tex2jax_ignore\"><div class=\"entities\" style=\"line-height: 2.5; direction: ltr\">: All she wants for \n",
       "<mark class=\"entity\" style=\"background: #bfe1d9; padding: 0.45em 0.6em; margin: 0 0.25em; line-height: 1; border-radius: 0.35em;\">\n",
       "    Christmas\n",
       "    <span style=\"font-size: 0.8em; font-weight: bold; line-height: 1; border-radius: 0.35em; text-transform: uppercase; vertical-align: middle; margin-left: 0.5rem\">DATE</span>\n",
       "</mark>\n",
       " is a Big Mac? \n",
       "<mark class=\"entity\" style=\"background: #7aecec; padding: 0.45em 0.6em; margin: 0 0.25em; line-height: 1; border-radius: 0.35em;\">\n",
       "    McDonald\n",
       "    <span style=\"font-size: 0.8em; font-weight: bold; line-height: 1; border-radius: 0.35em; text-transform: uppercase; vertical-align: middle; margin-left: 0.5rem\">ORG</span>\n",
       "</mark>\n",
       "’s and \n",
       "<mark class=\"entity\" style=\"background: #aa9cfc; padding: 0.45em 0.6em; margin: 0 0.25em; line-height: 1; border-radius: 0.35em;\">\n",
       "    Mariah Carey\n",
       "    <span style=\"font-size: 0.8em; font-weight: bold; line-height: 1; border-radius: 0.35em; text-transform: uppercase; vertical-align: middle; margin-left: 0.5rem\">PERSON</span>\n",
       "</mark>\n",
       " pair up for a holiday menu</div></span>"
      ],
      "text/plain": [
       "<IPython.core.display.HTML object>"
      ]
     },
     "metadata": {},
     "output_type": "display_data"
    },
    {
     "name": "stdout",
     "output_type": "stream",
     "text": [
      "{'SEC', 'Mastercard', 'Treasury', 'McDonald'}\n",
      "time: 127 ms (started: 2021-11-10 13:06:52 -08:00)\n"
     ]
    }
   ],
   "source": [
    "# pulling company name tokens from headlines\n",
    "companies = []\n",
    "for title in processed_hlines:\n",
    "    doc = nlp(title.text)\n",
    "    if len(doc.ents) != 0:\n",
    "        displacy.render(doc, style='ent')\n",
    "    else:\n",
    "        pass\n",
    "    for token in doc.ents:\n",
    "        if token.label_ == 'ORG':\n",
    "            companies.append(token.text)\n",
    "        else:\n",
    "            pass\n",
    "companies = set(companies)\n",
    "print(companies)"
   ]
  },
  {
   "cell_type": "markdown",
   "id": "90e46e54-cd0e-4d1b-bfdb-39c3f5b23032",
   "metadata": {},
   "source": [
    "## Scraping S&P 500 Stock Table w/Requests & BeautifulSoup"
   ]
  },
  {
   "cell_type": "code",
   "execution_count": 9,
   "id": "dc3866e6-298d-4e2e-beda-5c4baad44ba8",
   "metadata": {
    "execution": {
     "iopub.execute_input": "2021-11-10T21:06:52.246692Z",
     "iopub.status.busy": "2021-11-10T21:06:52.246497Z",
     "iopub.status.idle": "2021-11-10T21:06:53.183815Z",
     "shell.execute_reply": "2021-11-10T21:06:53.183104Z",
     "shell.execute_reply.started": "2021-11-10T21:06:52.246668Z"
    },
    "tags": []
   },
   "outputs": [
    {
     "name": "stdout",
     "output_type": "stream",
     "text": [
      "[<tr>\n",
      "<td><a class=\"external text\" href=\"https://www.nyse.com/quote/XNYS:MMM\" rel=\"nofollow\">MMM</a>\n",
      "</td>\n",
      "<td><a href=\"/wiki/3M\" title=\"3M\">3M</a></td>\n",
      "<td><a class=\"external text\" href=\"https://www.sec.gov/edgar/browse/?CIK=66740\" rel=\"nofollow\">reports</a></td>\n",
      "<td>Industrials</td>\n",
      "<td>Industrial Conglomerates</td>\n",
      "<td><a href=\"/wiki/Saint_Paul,_Minnesota\" title=\"Saint Paul, Minnesota\">Saint Paul, Minnesota</a></td>\n",
      "<td>1976-08-09</td>\n",
      "<td>0000066740</td>\n",
      "<td>1902\n",
      "</td></tr>]\n",
      "time: 900 ms (started: 2021-11-10 13:06:52 -08:00)\n"
     ]
    }
   ],
   "source": [
    "# scraping S&P wikipedia page\n",
    "r = requests.get('https://en.wikipedia.org/wiki/List_of_S%26P_500_companies')\n",
    "\n",
    "# parsing the html\n",
    "soup = BeautifulSoup(r.text, 'lxml')\n",
    "\n",
    "# extracting the table\n",
    "table = soup.find('table', {'class': 'wikitable sortable'})\n",
    "\n",
    "# printing row with first stock\n",
    "print(table.findAll('tr')[1:2])"
   ]
  },
  {
   "cell_type": "markdown",
   "id": "a95b9b49-5ab4-4bf8-aff7-6b7c3fad5c4d",
   "metadata": {},
   "source": [
    "### Ticker Symbols\n",
    "Grabbing the ticker symbol from the first cell of each row."
   ]
  },
  {
   "cell_type": "code",
   "execution_count": 10,
   "id": "f5f74629-2adb-44dc-93fd-9f50f5fe65ba",
   "metadata": {
    "execution": {
     "iopub.execute_input": "2021-11-10T21:06:53.186994Z",
     "iopub.status.busy": "2021-11-10T21:06:53.186726Z",
     "iopub.status.idle": "2021-11-10T21:06:53.241957Z",
     "shell.execute_reply": "2021-11-10T21:06:53.241479Z",
     "shell.execute_reply.started": "2021-11-10T21:06:53.186970Z"
    },
    "tags": []
   },
   "outputs": [
    {
     "name": "stdout",
     "output_type": "stream",
     "text": [
      "['MMM\\n', 'ABT\\n', 'ABBV\\n', 'ABMD\\n', 'ACN\\n']\n",
      "time: 16.9 ms (started: 2021-11-10 13:06:53 -08:00)\n"
     ]
    }
   ],
   "source": [
    "# making list of symbols\n",
    "symbols = [row.findAll('td')[0].text for row in table.findAll('tr')[1:]]\n",
    "\n",
    "# checking length\n",
    "print(f'List Length: {len(symbols)} \\n')\n",
    "\n",
    "# checking first 5 symbols\n",
    "print(f'First five symbols: {symbols[:5]}')"
   ]
  },
  {
   "cell_type": "code",
   "execution_count": 11,
   "id": "b77d668d-6376-4a48-9545-d8a90258cf0b",
   "metadata": {
    "execution": {
     "iopub.execute_input": "2021-11-10T21:06:53.243697Z",
     "iopub.status.busy": "2021-11-10T21:06:53.243411Z",
     "iopub.status.idle": "2021-11-10T21:06:53.285998Z",
     "shell.execute_reply": "2021-11-10T21:06:53.285273Z",
     "shell.execute_reply.started": "2021-11-10T21:06:53.243673Z"
    },
    "tags": []
   },
   "outputs": [
    {
     "name": "stdout",
     "output_type": "stream",
     "text": [
      "['MMM', 'ABT', 'ABBV', 'ABMD', 'ACN']\n",
      "time: 1.26 ms (started: 2021-11-10 13:06:53 -08:00)\n"
     ]
    }
   ],
   "source": [
    "# stripping new line character from the strings \n",
    "symbols = list(map(lambda s: s.strip(), symbols))\n",
    "\n",
    "# checking first 5 symbols\n",
    "print(symbols[:5])"
   ]
  },
  {
   "cell_type": "markdown",
   "id": "00b559c3-162e-4815-8469-e769568cbbb9",
   "metadata": {},
   "source": [
    "### Names\n",
    "Grabbing the company name from the second cell of each row."
   ]
  },
  {
   "cell_type": "code",
   "execution_count": 12,
   "id": "acea8f4e-07ad-4192-bf5b-058473a22780",
   "metadata": {
    "execution": {
     "iopub.execute_input": "2021-11-10T21:06:53.287016Z",
     "iopub.status.busy": "2021-11-10T21:06:53.286872Z",
     "iopub.status.idle": "2021-11-10T21:06:53.342264Z",
     "shell.execute_reply": "2021-11-10T21:06:53.341659Z",
     "shell.execute_reply.started": "2021-11-10T21:06:53.286998Z"
    },
    "tags": []
   },
   "outputs": [
    {
     "name": "stdout",
     "output_type": "stream",
     "text": [
      "['3M', 'Abbott Laboratories', 'AbbVie', 'Abiomed', 'Accenture']\n",
      "time: 14.5 ms (started: 2021-11-10 13:06:53 -08:00)\n"
     ]
    }
   ],
   "source": [
    "# making list of names\n",
    "names = [row.findAll('td')[1].text for row in table.findAll('tr')[1:]]\n",
    "\n",
    "# checking first five names\n",
    "print(names[:5])"
   ]
  },
  {
   "cell_type": "markdown",
   "id": "ce32f7af-4063-478f-b271-9532bba69c02",
   "metadata": {},
   "source": [
    "### Industries\n",
    "Grabbing the company industry from the fifth cell of each row."
   ]
  },
  {
   "cell_type": "code",
   "execution_count": 13,
   "id": "c631cf95-8d3d-4f6a-bb9e-1774e9256372",
   "metadata": {
    "execution": {
     "iopub.execute_input": "2021-11-10T21:06:53.343402Z",
     "iopub.status.busy": "2021-11-10T21:06:53.343199Z",
     "iopub.status.idle": "2021-11-10T21:06:53.395294Z",
     "shell.execute_reply": "2021-11-10T21:06:53.394561Z",
     "shell.execute_reply.started": "2021-11-10T21:06:53.343382Z"
    },
    "tags": []
   },
   "outputs": [
    {
     "name": "stdout",
     "output_type": "stream",
     "text": [
      "['Industrial Conglomerates', 'Health Care Equipment', 'Pharmaceuticals', 'Health Care Equipment', 'IT Consulting & Other Services']\n",
      "time: 13.5 ms (started: 2021-11-10 13:06:53 -08:00)\n"
     ]
    }
   ],
   "source": [
    "# making list of industries\n",
    "industries = [row.findAll('td')[4].text for row in table.findAll('tr')[1:]]\n",
    "\n",
    "# checking first five names\n",
    "print(industries[:5])"
   ]
  },
  {
   "cell_type": "markdown",
   "id": "6365495f-2364-4b54-85e2-5bbfae172dd0",
   "metadata": {},
   "source": [
    "## S&P 500 Dataframe\n",
    "Creating a data frame of stocks in the S&P 500 index."
   ]
  },
  {
   "cell_type": "code",
   "execution_count": 14,
   "id": "20e47c1d-d75b-424c-9a57-1075d4b5bf12",
   "metadata": {
    "execution": {
     "iopub.execute_input": "2021-11-10T21:06:53.396544Z",
     "iopub.status.busy": "2021-11-10T21:06:53.396370Z",
     "iopub.status.idle": "2021-11-10T21:06:53.452208Z",
     "shell.execute_reply": "2021-11-10T21:06:53.451757Z",
     "shell.execute_reply.started": "2021-11-10T21:06:53.396527Z"
    },
    "tags": []
   },
   "outputs": [
    {
     "name": "stdout",
     "output_type": "stream",
     "text": [
      "(505, 3)\n"
     ]
    },
    {
     "data": {
      "text/html": [
       "<div>\n",
       "<style scoped>\n",
       "    .dataframe tbody tr th:only-of-type {\n",
       "        vertical-align: middle;\n",
       "    }\n",
       "\n",
       "    .dataframe tbody tr th {\n",
       "        vertical-align: top;\n",
       "    }\n",
       "\n",
       "    .dataframe thead th {\n",
       "        text-align: right;\n",
       "    }\n",
       "</style>\n",
       "<table border=\"1\" class=\"dataframe\">\n",
       "  <thead>\n",
       "    <tr style=\"text-align: right;\">\n",
       "      <th></th>\n",
       "      <th>Company Name</th>\n",
       "      <th>Symbol</th>\n",
       "      <th>Industry</th>\n",
       "    </tr>\n",
       "  </thead>\n",
       "  <tbody>\n",
       "    <tr>\n",
       "      <th>0</th>\n",
       "      <td>3M</td>\n",
       "      <td>MMM</td>\n",
       "      <td>Industrial Conglomerates</td>\n",
       "    </tr>\n",
       "    <tr>\n",
       "      <th>1</th>\n",
       "      <td>Abbott Laboratories</td>\n",
       "      <td>ABT</td>\n",
       "      <td>Health Care Equipment</td>\n",
       "    </tr>\n",
       "    <tr>\n",
       "      <th>2</th>\n",
       "      <td>AbbVie</td>\n",
       "      <td>ABBV</td>\n",
       "      <td>Pharmaceuticals</td>\n",
       "    </tr>\n",
       "    <tr>\n",
       "      <th>3</th>\n",
       "      <td>Abiomed</td>\n",
       "      <td>ABMD</td>\n",
       "      <td>Health Care Equipment</td>\n",
       "    </tr>\n",
       "    <tr>\n",
       "      <th>4</th>\n",
       "      <td>Accenture</td>\n",
       "      <td>ACN</td>\n",
       "      <td>IT Consulting &amp; Other Services</td>\n",
       "    </tr>\n",
       "  </tbody>\n",
       "</table>\n",
       "</div>"
      ],
      "text/plain": [
       "          Company Name Symbol                        Industry\n",
       "0                   3M    MMM        Industrial Conglomerates\n",
       "1  Abbott Laboratories    ABT           Health Care Equipment\n",
       "2               AbbVie   ABBV                 Pharmaceuticals\n",
       "3              Abiomed   ABMD           Health Care Equipment\n",
       "4            Accenture    ACN  IT Consulting & Other Services"
      ]
     },
     "execution_count": 14,
     "metadata": {},
     "output_type": "execute_result"
    },
    {
     "name": "stdout",
     "output_type": "stream",
     "text": [
      "time: 17.3 ms (started: 2021-11-10 13:06:53 -08:00)\n"
     ]
    }
   ],
   "source": [
    "# making a data dictionary\n",
    "data = {'Company Name': names, 'Symbol': symbols, 'Industry': industries}\n",
    "\n",
    "# creating data frame from the data\n",
    "stocks_df = pd.DataFrame.from_dict(data)\n",
    "\n",
    "# checking shape and first five rows\n",
    "print(stocks_df.shape)\n",
    "stocks_df.head()"
   ]
  },
  {
   "cell_type": "markdown",
   "id": "7e8eb610-65e8-4f68-9296-e8971071f5dc",
   "metadata": {},
   "source": [
    "### Checking yf Stock Info Dictionary Keys\n",
    "Checking the dictionary keys available for pulling stock information."
   ]
  },
  {
   "cell_type": "code",
   "execution_count": 15,
   "id": "6a0d5f31-6176-4772-973f-d3f8dc331cdf",
   "metadata": {
    "execution": {
     "iopub.execute_input": "2021-11-10T21:06:53.453248Z",
     "iopub.status.busy": "2021-11-10T21:06:53.453104Z",
     "iopub.status.idle": "2021-11-10T21:06:53.496524Z",
     "shell.execute_reply": "2021-11-10T21:06:53.495786Z",
     "shell.execute_reply.started": "2021-11-10T21:06:53.453231Z"
    },
    "tags": []
   },
   "outputs": [
    {
     "name": "stdout",
     "output_type": "stream",
     "text": [
      "time: 2.93 ms (started: 2021-11-10 13:06:53 -08:00)\n"
     ]
    }
   ],
   "source": [
    "# instantiating a ticker object\n",
    "ACN = yf.Ticker('ACN')"
   ]
  },
  {
   "cell_type": "code",
   "execution_count": 16,
   "id": "2a8a9f7b-5358-4cb6-b0d3-4adda8696933",
   "metadata": {
    "execution": {
     "iopub.execute_input": "2021-11-10T21:06:53.498003Z",
     "iopub.status.busy": "2021-11-10T21:06:53.497749Z",
     "iopub.status.idle": "2021-11-10T21:06:57.167370Z",
     "shell.execute_reply": "2021-11-10T21:06:57.166572Z",
     "shell.execute_reply.started": "2021-11-10T21:06:53.497981Z"
    },
    "tags": []
   },
   "outputs": [
    {
     "data": {
      "text/plain": [
       "dict_keys(['zip', 'sector', 'fullTimeEmployees', 'longBusinessSummary', 'city', 'phone', 'country', 'companyOfficers', 'website', 'maxAge', 'address1', 'fax', 'industry', 'address2', 'ebitdaMargins', 'profitMargins', 'grossMargins', 'operatingCashflow', 'revenueGrowth', 'operatingMargins', 'ebitda', 'targetLowPrice', 'recommendationKey', 'grossProfits', 'freeCashflow', 'targetMedianPrice', 'currentPrice', 'earningsGrowth', 'currentRatio', 'returnOnAssets', 'numberOfAnalystOpinions', 'targetMeanPrice', 'debtToEquity', 'returnOnEquity', 'targetHighPrice', 'totalCash', 'totalDebt', 'totalRevenue', 'totalCashPerShare', 'financialCurrency', 'revenuePerShare', 'quickRatio', 'recommendationMean', 'exchange', 'shortName', 'longName', 'exchangeTimezoneName', 'exchangeTimezoneShortName', 'isEsgPopulated', 'gmtOffSetMilliseconds', 'quoteType', 'symbol', 'messageBoardId', 'market', 'annualHoldingsTurnover', 'enterpriseToRevenue', 'beta3Year', 'enterpriseToEbitda', '52WeekChange', 'morningStarRiskRating', 'forwardEps', 'revenueQuarterlyGrowth', 'sharesOutstanding', 'fundInceptionDate', 'annualReportExpenseRatio', 'totalAssets', 'bookValue', 'sharesShort', 'sharesPercentSharesOut', 'fundFamily', 'lastFiscalYearEnd', 'heldPercentInstitutions', 'netIncomeToCommon', 'trailingEps', 'lastDividendValue', 'SandP52WeekChange', 'priceToBook', 'heldPercentInsiders', 'nextFiscalYearEnd', 'yield', 'mostRecentQuarter', 'shortRatio', 'sharesShortPreviousMonthDate', 'floatShares', 'beta', 'enterpriseValue', 'priceHint', 'threeYearAverageReturn', 'lastSplitDate', 'lastSplitFactor', 'legalType', 'lastDividendDate', 'morningStarOverallRating', 'earningsQuarterlyGrowth', 'priceToSalesTrailing12Months', 'dateShortInterest', 'pegRatio', 'ytdReturn', 'forwardPE', 'lastCapGain', 'shortPercentOfFloat', 'sharesShortPriorMonth', 'impliedSharesOutstanding', 'category', 'fiveYearAverageReturn', 'previousClose', 'regularMarketOpen', 'twoHundredDayAverage', 'trailingAnnualDividendYield', 'payoutRatio', 'volume24Hr', 'regularMarketDayHigh', 'navPrice', 'averageDailyVolume10Day', 'regularMarketPreviousClose', 'fiftyDayAverage', 'trailingAnnualDividendRate', 'open', 'toCurrency', 'averageVolume10days', 'expireDate', 'algorithm', 'dividendRate', 'exDividendDate', 'circulatingSupply', 'startDate', 'regularMarketDayLow', 'currency', 'trailingPE', 'regularMarketVolume', 'lastMarket', 'maxSupply', 'openInterest', 'marketCap', 'volumeAllCurrencies', 'strikePrice', 'averageVolume', 'dayLow', 'ask', 'askSize', 'volume', 'fiftyTwoWeekHigh', 'fromCurrency', 'fiveYearAvgDividendYield', 'fiftyTwoWeekLow', 'bid', 'tradeable', 'dividendYield', 'bidSize', 'dayHigh', 'regularMarketPrice', 'logo_url'])"
      ]
     },
     "execution_count": 16,
     "metadata": {},
     "output_type": "execute_result"
    },
    {
     "name": "stdout",
     "output_type": "stream",
     "text": [
      "time: 3.63 s (started: 2021-11-10 13:06:53 -08:00)\n"
     ]
    }
   ],
   "source": [
    "# checking keys\n",
    "ACN.info.keys()"
   ]
  },
  {
   "cell_type": "markdown",
   "id": "f5ac7667-150a-4a9b-a20b-f142e3a84eef",
   "metadata": {},
   "source": [
    "### Data for Stocks in the News\n",
    "Creating a data frame of price and dividend information for S&P 500 stocks in the news in the following steps:\n",
    "\n",
    "- Create a data dictionary from the list of companies in the headlines.\n",
    "\n",
    "- Create a data frame from data dictionary."
   ]
  },
  {
   "cell_type": "code",
   "execution_count": 17,
   "id": "75714472-48d2-4d1a-8839-cb2a373be809",
   "metadata": {
    "execution": {
     "iopub.execute_input": "2021-11-10T21:06:57.168931Z",
     "iopub.status.busy": "2021-11-10T21:06:57.168609Z",
     "iopub.status.idle": "2021-11-10T21:07:03.674480Z",
     "shell.execute_reply": "2021-11-10T21:07:03.673896Z",
     "shell.execute_reply.started": "2021-11-10T21:06:57.168900Z"
    },
    "tags": []
   },
   "outputs": [
    {
     "name": "stdout",
     "output_type": "stream",
     "text": [
      "time: 6.46 s (started: 2021-11-10 13:06:57 -08:00)\n"
     ]
    }
   ],
   "source": [
    "# creating empty stock info dictionary\n",
    "stock_data = {\n",
    "    'Company': [],\n",
    "    'Symbol': [],\n",
    "    'currentPrice': [],\n",
    "    'dayHigh': [],\n",
    "    'dayLow': [],\n",
    "    '52wkHigh': [],\n",
    "    '52wkLow': [],\n",
    "    'dividendRate': []\n",
    "    \n",
    "}\n",
    "\n",
    "# loading stocks from s&p dataframe and appending data from yf\n",
    "for company in companies:\n",
    "\n",
    "    try:\n",
    "        if stocks_df['Company Name'].str.contains(company).sum():\n",
    "            symbol = stocks_df[stocks_df['Company Name'].\\\n",
    "                                str.contains(company)]['Symbol'].values[0]\n",
    "            org_name = stocks_df[stocks_df['Company Name'].\\\n",
    "                                str.contains(company)]['Company Name'].values[0]\n",
    "            stock_data['Company'].append(org_name)\n",
    "            stock_data['Symbol'].append(symbol)\n",
    "            stock_info = yf.Ticker(symbol).info\n",
    "            stock_data['currentPrice'].append(stock_info['currentPrice'])\n",
    "            stock_data['dayHigh'].append(stock_info['dayHigh'])\n",
    "            stock_data['dayLow'].append(stock_info['dayLow'])\n",
    "            stock_data['52wkHigh'].append(stock_info['fiftyTwoWeekHigh'])\n",
    "            stock_data['52wkLow'].append(stock_info['fiftyTwoWeekLow'])            \n",
    "            \n",
    "            # converting dividend None types to floats\n",
    "            dividend = stock_info['dividendRate']\n",
    "            if dividend != None:\n",
    "                dividend = dividend\n",
    "            else:\n",
    "                dividend = 0\n",
    "            stock_data['dividendRate'].append(dividend)\n",
    "        else:\n",
    "            pass\n",
    "    except:\n",
    "        pass"
   ]
  },
  {
   "cell_type": "code",
   "execution_count": 18,
   "id": "5775a08d-a060-4407-ad69-8bc0ba6222ec",
   "metadata": {
    "execution": {
     "iopub.execute_input": "2021-11-10T21:07:03.675707Z",
     "iopub.status.busy": "2021-11-10T21:07:03.675322Z",
     "iopub.status.idle": "2021-11-10T21:07:03.718892Z",
     "shell.execute_reply": "2021-11-10T21:07:03.718431Z",
     "shell.execute_reply.started": "2021-11-10T21:07:03.675684Z"
    },
    "tags": []
   },
   "outputs": [
    {
     "data": {
      "text/plain": [
       "{'Company': ['Mastercard', \"McDonald's\"],\n",
       " 'Symbol': ['MA', 'MCD'],\n",
       " 'currentPrice': [357.7, 253.13],\n",
       " 'dayHigh': [359.6, 253.7],\n",
       " 'dayLow': [349.51, 250.81],\n",
       " '52wkHigh': [401.5, 257.53],\n",
       " '52wkLow': [312.38, 202.73],\n",
       " 'dividendRate': [1.76, 5.52]}"
      ]
     },
     "execution_count": 18,
     "metadata": {},
     "output_type": "execute_result"
    },
    {
     "name": "stdout",
     "output_type": "stream",
     "text": [
      "time: 3.04 ms (started: 2021-11-10 13:07:03 -08:00)\n"
     ]
    }
   ],
   "source": [
    "# checking dict\n",
    "stock_data"
   ]
  },
  {
   "cell_type": "markdown",
   "id": "0405069b-2119-4a58-9abd-367967bf4f31",
   "metadata": {},
   "source": [
    "### Data Frame of S&P 500 Stocks in the News"
   ]
  },
  {
   "cell_type": "code",
   "execution_count": 19,
   "id": "61e25bba-2b56-4eec-9072-12b69b6fd94c",
   "metadata": {
    "execution": {
     "iopub.execute_input": "2021-11-10T21:07:03.719935Z",
     "iopub.status.busy": "2021-11-10T21:07:03.719797Z",
     "iopub.status.idle": "2021-11-10T21:07:03.769387Z",
     "shell.execute_reply": "2021-11-10T21:07:03.768790Z",
     "shell.execute_reply.started": "2021-11-10T21:07:03.719919Z"
    },
    "tags": []
   },
   "outputs": [
    {
     "data": {
      "text/html": [
       "<div>\n",
       "<style scoped>\n",
       "    .dataframe tbody tr th:only-of-type {\n",
       "        vertical-align: middle;\n",
       "    }\n",
       "\n",
       "    .dataframe tbody tr th {\n",
       "        vertical-align: top;\n",
       "    }\n",
       "\n",
       "    .dataframe thead th {\n",
       "        text-align: right;\n",
       "    }\n",
       "</style>\n",
       "<table border=\"1\" class=\"dataframe\">\n",
       "  <thead>\n",
       "    <tr style=\"text-align: right;\">\n",
       "      <th></th>\n",
       "      <th>Company</th>\n",
       "      <th>Symbol</th>\n",
       "      <th>currentPrice</th>\n",
       "      <th>dayHigh</th>\n",
       "      <th>dayLow</th>\n",
       "      <th>52wkHigh</th>\n",
       "      <th>52wkLow</th>\n",
       "      <th>dividendRate</th>\n",
       "    </tr>\n",
       "  </thead>\n",
       "  <tbody>\n",
       "    <tr>\n",
       "      <th>0</th>\n",
       "      <td>Mastercard</td>\n",
       "      <td>MA</td>\n",
       "      <td>357.70</td>\n",
       "      <td>359.6</td>\n",
       "      <td>349.51</td>\n",
       "      <td>401.50</td>\n",
       "      <td>312.38</td>\n",
       "      <td>1.76</td>\n",
       "    </tr>\n",
       "    <tr>\n",
       "      <th>1</th>\n",
       "      <td>McDonald's</td>\n",
       "      <td>MCD</td>\n",
       "      <td>253.13</td>\n",
       "      <td>253.7</td>\n",
       "      <td>250.81</td>\n",
       "      <td>257.53</td>\n",
       "      <td>202.73</td>\n",
       "      <td>5.52</td>\n",
       "    </tr>\n",
       "  </tbody>\n",
       "</table>\n",
       "</div>"
      ],
      "text/plain": [
       "      Company Symbol  currentPrice  dayHigh  dayLow  52wkHigh  52wkLow  \\\n",
       "0  Mastercard     MA        357.70    359.6  349.51    401.50   312.38   \n",
       "1  McDonald's    MCD        253.13    253.7  250.81    257.53   202.73   \n",
       "\n",
       "   dividendRate  \n",
       "0          1.76  \n",
       "1          5.52  "
      ]
     },
     "execution_count": 19,
     "metadata": {},
     "output_type": "execute_result"
    },
    {
     "name": "stdout",
     "output_type": "stream",
     "text": [
      "time: 9.05 ms (started: 2021-11-10 13:07:03 -08:00)\n"
     ]
    }
   ],
   "source": [
    "in_the_news = pd.DataFrame(stock_data)\n",
    "in_the_news.head()"
   ]
  },
  {
   "cell_type": "code",
   "execution_count": 20,
   "id": "84fcb1ec-5d31-43d0-988f-a3eabe80c558",
   "metadata": {
    "execution": {
     "iopub.execute_input": "2021-11-10T21:07:03.770545Z",
     "iopub.status.busy": "2021-11-10T21:07:03.770354Z",
     "iopub.status.idle": "2021-11-10T21:07:03.816032Z",
     "shell.execute_reply": "2021-11-10T21:07:03.815366Z",
     "shell.execute_reply.started": "2021-11-10T21:07:03.770491Z"
    },
    "tags": []
   },
   "outputs": [
    {
     "name": "stdout",
     "output_type": "stream",
     "text": [
      "<class 'pandas.core.frame.DataFrame'>\n",
      "RangeIndex: 2 entries, 0 to 1\n",
      "Data columns (total 8 columns):\n",
      " #   Column        Non-Null Count  Dtype  \n",
      "---  ------        --------------  -----  \n",
      " 0   Company       2 non-null      object \n",
      " 1   Symbol        2 non-null      object \n",
      " 2   currentPrice  2 non-null      float64\n",
      " 3   dayHigh       2 non-null      float64\n",
      " 4   dayLow        2 non-null      float64\n",
      " 5   52wkHigh      2 non-null      float64\n",
      " 6   52wkLow       2 non-null      float64\n",
      " 7   dividendRate  2 non-null      float64\n",
      "dtypes: float64(6), object(2)\n",
      "memory usage: 256.0+ bytes\n",
      "time: 5.92 ms (started: 2021-11-10 13:07:03 -08:00)\n"
     ]
    }
   ],
   "source": [
    "# checking Dtypes\n",
    "in_the_news.info()"
   ]
  },
  {
   "cell_type": "markdown",
   "id": "278593a1-e249-4fbb-ab2b-0c2e2d5e7f5d",
   "metadata": {},
   "source": [
    "## Individual Stock Price Helper Function\n",
    "Checking the helper function."
   ]
  },
  {
   "cell_type": "code",
   "execution_count": 21,
   "id": "d19f4da9-ae51-4818-80d8-692090419d81",
   "metadata": {
    "execution": {
     "iopub.execute_input": "2021-11-10T21:07:03.816935Z",
     "iopub.status.busy": "2021-11-10T21:07:03.816806Z",
     "iopub.status.idle": "2021-11-10T21:07:07.082677Z",
     "shell.execute_reply": "2021-11-10T21:07:07.082047Z",
     "shell.execute_reply.started": "2021-11-10T21:07:03.816919Z"
    },
    "tags": []
   },
   "outputs": [
    {
     "data": {
      "text/html": [
       "<div>\n",
       "<style scoped>\n",
       "    .dataframe tbody tr th:only-of-type {\n",
       "        vertical-align: middle;\n",
       "    }\n",
       "\n",
       "    .dataframe tbody tr th {\n",
       "        vertical-align: top;\n",
       "    }\n",
       "\n",
       "    .dataframe thead th {\n",
       "        text-align: right;\n",
       "    }\n",
       "</style>\n",
       "<table border=\"1\" class=\"dataframe\">\n",
       "  <thead>\n",
       "    <tr style=\"text-align: right;\">\n",
       "      <th></th>\n",
       "      <th>Company</th>\n",
       "      <th>Symbol</th>\n",
       "      <th>Current Price</th>\n",
       "      <th>Intraday High</th>\n",
       "      <th>Intraday Low</th>\n",
       "      <th>52wkHigh</th>\n",
       "      <th>52wkLow</th>\n",
       "      <th>Dividend</th>\n",
       "    </tr>\n",
       "  </thead>\n",
       "  <tbody>\n",
       "    <tr>\n",
       "      <th>0</th>\n",
       "      <td>3M Company</td>\n",
       "      <td>MMM</td>\n",
       "      <td>182.42</td>\n",
       "      <td>182.83</td>\n",
       "      <td>180.71</td>\n",
       "      <td>208.95</td>\n",
       "      <td>163.38</td>\n",
       "      <td>5.92</td>\n",
       "    </tr>\n",
       "  </tbody>\n",
       "</table>\n",
       "</div>"
      ],
      "text/plain": [
       "      Company Symbol  Current Price  Intraday High  Intraday Low  52wkHigh  \\\n",
       "0  3M Company    MMM         182.42         182.83        180.71    208.95   \n",
       "\n",
       "   52wkLow  Dividend  \n",
       "0   163.38      5.92  "
      ]
     },
     "execution_count": 21,
     "metadata": {},
     "output_type": "execute_result"
    },
    {
     "name": "stdout",
     "output_type": "stream",
     "text": [
      "time: 3.23 s (started: 2021-11-10 13:07:03 -08:00)\n"
     ]
    }
   ],
   "source": [
    "h.prices('MMM')"
   ]
  },
  {
   "cell_type": "code",
   "execution_count": 22,
   "id": "49ab1a6c-6d6e-40a7-868a-f364653333e0",
   "metadata": {
    "execution": {
     "iopub.execute_input": "2021-11-10T21:07:07.083735Z",
     "iopub.status.busy": "2021-11-10T21:07:07.083601Z",
     "iopub.status.idle": "2021-11-10T21:07:10.181588Z",
     "shell.execute_reply": "2021-11-10T21:07:10.180844Z",
     "shell.execute_reply.started": "2021-11-10T21:07:07.083718Z"
    }
   },
   "outputs": [
    {
     "data": {
      "text/html": [
       "<div>\n",
       "<style scoped>\n",
       "    .dataframe tbody tr th:only-of-type {\n",
       "        vertical-align: middle;\n",
       "    }\n",
       "\n",
       "    .dataframe tbody tr th {\n",
       "        vertical-align: top;\n",
       "    }\n",
       "\n",
       "    .dataframe thead th {\n",
       "        text-align: right;\n",
       "    }\n",
       "</style>\n",
       "<table border=\"1\" class=\"dataframe\">\n",
       "  <thead>\n",
       "    <tr style=\"text-align: right;\">\n",
       "      <th></th>\n",
       "      <th>Company</th>\n",
       "      <th>Symbol</th>\n",
       "      <th>Current Price</th>\n",
       "      <th>Intraday High</th>\n",
       "      <th>Intraday Low</th>\n",
       "      <th>52wkHigh</th>\n",
       "      <th>52wkLow</th>\n",
       "      <th>Dividend</th>\n",
       "    </tr>\n",
       "  </thead>\n",
       "  <tbody>\n",
       "    <tr>\n",
       "      <th>0</th>\n",
       "      <td>Apple Inc.</td>\n",
       "      <td>AAPL</td>\n",
       "      <td>147.92</td>\n",
       "      <td>150.1297</td>\n",
       "      <td>147.85</td>\n",
       "      <td>157.26</td>\n",
       "      <td>112.59</td>\n",
       "      <td>0.88</td>\n",
       "    </tr>\n",
       "  </tbody>\n",
       "</table>\n",
       "</div>"
      ],
      "text/plain": [
       "      Company Symbol  Current Price  Intraday High  Intraday Low  52wkHigh  \\\n",
       "0  Apple Inc.   AAPL         147.92       150.1297        147.85    157.26   \n",
       "\n",
       "   52wkLow  Dividend  \n",
       "0   112.59      0.88  "
      ]
     },
     "execution_count": 22,
     "metadata": {},
     "output_type": "execute_result"
    },
    {
     "name": "stdout",
     "output_type": "stream",
     "text": [
      "time: 3.06 s (started: 2021-11-10 13:07:07 -08:00)\n"
     ]
    }
   ],
   "source": [
    "h.prices('AAPL')"
   ]
  },
  {
   "cell_type": "code",
   "execution_count": null,
   "id": "b96e79a5-54cd-4bc4-b10d-530e8c73384a",
   "metadata": {},
   "outputs": [],
   "source": []
  }
 ],
 "metadata": {
  "kernelspec": {
   "display_name": "options_apps",
   "language": "python",
   "name": "options_apps"
  },
  "language_info": {
   "codemirror_mode": {
    "name": "ipython",
    "version": 3
   },
   "file_extension": ".py",
   "mimetype": "text/x-python",
   "name": "python",
   "nbconvert_exporter": "python",
   "pygments_lexer": "ipython3",
   "version": "3.9.7"
  }
 },
 "nbformat": 4,
 "nbformat_minor": 5
}
