{
 "cells": [
  {
   "cell_type": "code",
   "execution_count": 1,
   "id": "042caaf9-1515-4cd6-8ea5-fc8c1686ca4a",
   "metadata": {
    "execution": {
     "iopub.execute_input": "2021-11-18T21:10:11.601100Z",
     "iopub.status.busy": "2021-11-18T21:10:11.600584Z",
     "iopub.status.idle": "2021-11-18T21:10:11.664596Z",
     "shell.execute_reply": "2021-11-18T21:10:11.663972Z",
     "shell.execute_reply.started": "2021-11-18T21:10:11.601001Z"
    },
    "tags": []
   },
   "outputs": [
    {
     "name": "stdout",
     "output_type": "stream",
     "text": [
      "time: 594 µs (started: 2021-11-18 13:10:11 -08:00)\n"
     ]
    }
   ],
   "source": [
    "%load_ext autoreload\n",
    "%load_ext autotime\n",
    "%autoreload 2"
   ]
  },
  {
   "cell_type": "markdown",
   "id": "446e454b-cd4a-41e0-8227-2b27ca1dfb4c",
   "metadata": {},
   "source": [
    "# Options Apps Project\n",
    "\n",
    "## Goal\n",
    "Creating a suite of equity option web apps which expands on, and was inspired by, [Harshit Tyagi’s](https://www.linkedin.com/in/tyagiharshit/) [article](https://www.kdnuggets.com/2021/09/-structured-financial-newsfeed-using-python-spacy-and-streamlit.html) on building a financial newsfeed app.\n",
    "\n",
    "## Skills Involved\n",
    "Web scraping, NLP, options price modeling, predictive modeling of volitility, and building apps with Streamlit."
   ]
  },
  {
   "cell_type": "markdown",
   "id": "042a446a-6853-49a6-9f33-b0b6e5303dc3",
   "metadata": {},
   "source": [
    "## Imports"
   ]
  },
  {
   "cell_type": "code",
   "execution_count": 2,
   "id": "87110252-c97b-4947-b2f4-a75ed8c1298b",
   "metadata": {
    "execution": {
     "iopub.execute_input": "2021-11-18T21:10:11.666249Z",
     "iopub.status.busy": "2021-11-18T21:10:11.666051Z",
     "iopub.status.idle": "2021-11-18T21:10:24.924987Z",
     "shell.execute_reply": "2021-11-18T21:10:24.924089Z",
     "shell.execute_reply.started": "2021-11-18T21:10:11.666220Z"
    },
    "tags": []
   },
   "outputs": [
    {
     "name": "stdout",
     "output_type": "stream",
     "text": [
      "time: 13.2 s (started: 2021-11-18 13:10:11 -08:00)\n"
     ]
    }
   ],
   "source": [
    "import sys, os, math\n",
    "import requests\n",
    "from bs4 import BeautifulSoup\n",
    "import spacy\n",
    "from spacy import displacy\n",
    "import yfinance as yf\n",
    "import pandas as pd\n",
    "import numpy as np\n",
    "import seaborn as sns\n",
    "from datetime import datetime\n",
    "import time\n",
    "\n",
    "#  setting path\n",
    "gparent = os.path.join(os.pardir)\n",
    "sys.path.append(gparent)\n",
    "\n",
    "from src import helper_functions as h"
   ]
  },
  {
   "cell_type": "markdown",
   "id": "d2e9c009-c318-40b4-9b1c-6e963146587a",
   "metadata": {},
   "source": [
    "## requests: Grabbing Headlines"
   ]
  },
  {
   "cell_type": "code",
   "execution_count": 3,
   "id": "28eee855-23ef-4248-a7b1-a83a0f897418",
   "metadata": {
    "execution": {
     "iopub.execute_input": "2021-11-18T21:10:24.926734Z",
     "iopub.status.busy": "2021-11-18T21:10:24.926487Z",
     "iopub.status.idle": "2021-11-18T21:10:25.200845Z",
     "shell.execute_reply": "2021-11-18T21:10:25.199918Z",
     "shell.execute_reply.started": "2021-11-18T21:10:24.926715Z"
    },
    "tags": []
   },
   "outputs": [
    {
     "data": {
      "text/plain": [
       "<Response [200]>"
      ]
     },
     "execution_count": 3,
     "metadata": {},
     "output_type": "execute_result"
    },
    {
     "name": "stdout",
     "output_type": "stream",
     "text": [
      "time: 225 ms (started: 2021-11-18 13:10:24 -08:00)\n"
     ]
    }
   ],
   "source": [
    "# grabbing headlines\n",
    "r = requests.get(\"http://feeds.marketwatch.com/marketwatch/topstories/\")\n",
    "r"
   ]
  },
  {
   "cell_type": "markdown",
   "id": "24e85d1d-a838-41c9-91d7-c4570d8240ec",
   "metadata": {
    "execution": {
     "iopub.execute_input": "2021-10-02T04:19:19.925337Z",
     "iopub.status.busy": "2021-10-02T04:19:19.924939Z",
     "iopub.status.idle": "2021-10-02T04:19:19.932717Z",
     "shell.execute_reply": "2021-10-02T04:19:19.930662Z",
     "shell.execute_reply.started": "2021-10-02T04:19:19.925295Z"
    }
   },
   "source": [
    "## bs4: Saving Headlines"
   ]
  },
  {
   "cell_type": "code",
   "execution_count": 4,
   "id": "37fbf4e8-471b-4f06-b7a4-8be588bfa4ce",
   "metadata": {
    "execution": {
     "iopub.execute_input": "2021-11-18T21:10:25.205706Z",
     "iopub.status.busy": "2021-11-18T21:10:25.205330Z",
     "iopub.status.idle": "2021-11-18T21:10:25.279975Z",
     "shell.execute_reply": "2021-11-18T21:10:25.279237Z",
     "shell.execute_reply.started": "2021-11-18T21:10:25.205665Z"
    },
    "tags": []
   },
   "outputs": [
    {
     "name": "stdout",
     "output_type": "stream",
     "text": [
      "<class 'bs4.element.ResultSet'>\n",
      "\n",
      "[<title>MarketWatch.com - Top Stories</title>, <title>MarketWatch.com - Top Stories</title>, <title>: Ford CEO touts auto maker’s EV plans: ‘Whatever it takes, find a way’</title>, <title>Distributed Ledger: Some crypto companies frown on infrastructure law, while some financial advisors cheer for it</title>, <title>The Tell: Should stock-market investors who ‘missed the rally’ buy now? Here’s what UBS says</title>, <title>Bond Report: Treasury yields extend declines, with 10- and 30-year posting biggest two-day drop in over a week</title>, <title>Market Extra: The lower-for-longer camp on U.S. bond yields is standing firmly by its views heading into 2022</title>, <title>The Ratings Game: Activision Blizzard stock downgraded as misconduct charges bring a ‘significant amount of uncertainty’</title>, <title>: A mostly Black Alabama county has no municipal sewer service. Can the 1964 Civil Rights Act be used for environmental justice?</title>, <title>: Lobbyist for truckers on the ‘driver shortage’: ‘If the job that you’re offering sucks,\n",
      "is the solution really go find more suckers, or should you improve the job?’</title>, <title>: Starbucks and Amazon Go collaborate for the launch of a New York City store</title>, <title>The Ratings Game: Victoria’s Secret plans to spend $150 million to manage supply chain problems that could suppress sales growth</title>]\n",
      "time: 5.4 ms (started: 2021-11-18 13:10:25 -08:00)\n"
     ]
    }
   ],
   "source": [
    "# saving headlines to a list\n",
    "soup = BeautifulSoup(r.content, features='lxml')\n",
    "headlines = soup.findAll('title')\n",
    "print(f'{type(headlines)}\\n')\n",
    "print(headlines)"
   ]
  },
  {
   "cell_type": "markdown",
   "id": "ecbc497a-1907-4df3-b811-8d737816f2a9",
   "metadata": {
    "tags": []
   },
   "source": [
    "### Grabbing Headline String\n",
    "Grabbing headline and printing headline and isolated text."
   ]
  },
  {
   "cell_type": "code",
   "execution_count": 5,
   "id": "e4bf1fcd-e4c7-4242-80a4-74fe2a801af1",
   "metadata": {
    "execution": {
     "iopub.execute_input": "2021-11-18T21:10:25.281004Z",
     "iopub.status.busy": "2021-11-18T21:10:25.280874Z",
     "iopub.status.idle": "2021-11-18T21:10:25.333195Z",
     "shell.execute_reply": "2021-11-18T21:10:25.332679Z",
     "shell.execute_reply.started": "2021-11-18T21:10:25.280988Z"
    },
    "tags": []
   },
   "outputs": [
    {
     "name": "stdout",
     "output_type": "stream",
     "text": [
      "<title>: Ford CEO touts auto maker’s EV plans: ‘Whatever it takes, find a way’</title>\n",
      "\n",
      ": Ford CEO touts auto maker’s EV plans: ‘Whatever it takes, find a way’\n",
      "time: 881 µs (started: 2021-11-18 13:10:25 -08:00)\n"
     ]
    }
   ],
   "source": [
    "# grabbing test headline\n",
    "test_headline = headlines[2]\n",
    "print(f'{test_headline}\\n')\n",
    "print(test_headline.text)"
   ]
  },
  {
   "cell_type": "markdown",
   "id": "64a103b5-d156-4a63-a420-edf19d1425f4",
   "metadata": {},
   "source": [
    "## spaCy: Tests\n",
    "Testing tokenization and name extraction on a single string."
   ]
  },
  {
   "cell_type": "markdown",
   "id": "8b5e37e8-ad08-43cb-bd0c-316b1ae687ae",
   "metadata": {},
   "source": [
    "### Loading Model"
   ]
  },
  {
   "cell_type": "code",
   "execution_count": 6,
   "id": "40c1bf45-66b6-4e0d-8096-2fa953b31232",
   "metadata": {
    "execution": {
     "iopub.execute_input": "2021-11-18T21:10:25.334651Z",
     "iopub.status.busy": "2021-11-18T21:10:25.334427Z",
     "iopub.status.idle": "2021-11-18T21:10:26.020091Z",
     "shell.execute_reply": "2021-11-18T21:10:26.019312Z",
     "shell.execute_reply.started": "2021-11-18T21:10:25.334630Z"
    },
    "tags": []
   },
   "outputs": [
    {
     "name": "stdout",
     "output_type": "stream",
     "text": [
      "time: 640 ms (started: 2021-11-18 13:10:25 -08:00)\n"
     ]
    }
   ],
   "source": [
    "# loading spacy model\n",
    "nlp = spacy.load('en_core_web_sm')"
   ]
  },
  {
   "cell_type": "markdown",
   "id": "b22eff8c-4013-46ba-9c4c-bdf8f026329d",
   "metadata": {},
   "source": [
    "### Tokenizing String\n",
    "Tokenizing the test headline."
   ]
  },
  {
   "cell_type": "code",
   "execution_count": 7,
   "id": "e3a0b3dd-c716-4edf-a5f0-d77504a32e17",
   "metadata": {
    "execution": {
     "iopub.execute_input": "2021-11-18T21:10:26.021232Z",
     "iopub.status.busy": "2021-11-18T21:10:26.021082Z",
     "iopub.status.idle": "2021-11-18T21:10:26.082361Z",
     "shell.execute_reply": "2021-11-18T21:10:26.081513Z",
     "shell.execute_reply.started": "2021-11-18T21:10:26.021214Z"
    },
    "tags": []
   },
   "outputs": [
    {
     "name": "stdout",
     "output_type": "stream",
     "text": [
      "<title>: Ford CEO touts auto maker’s EV plans: ‘Whatever it takes, find a way’</title>\n",
      "\n",
      ":\n",
      "Ford\n",
      "CEO\n",
      "touts\n",
      "auto\n",
      "maker\n",
      "’s\n",
      "EV\n",
      "plans\n",
      ":\n",
      "‘\n",
      "Whatever\n",
      "it\n",
      "takes\n",
      ",\n",
      "find\n",
      "a\n",
      "way\n",
      "’\n",
      "time: 11.2 ms (started: 2021-11-18 13:10:26 -08:00)\n"
     ]
    }
   ],
   "source": [
    "# checking the test case\n",
    "processed_hline = nlp(test_headline.text)\n",
    "print(f'{test_headline}\\n')\n",
    "for token in processed_hline:\n",
    "  print(token)"
   ]
  },
  {
   "cell_type": "markdown",
   "id": "344b7bb2-4936-4938-8ef5-44a2d8989203",
   "metadata": {},
   "source": [
    "## Saving List of Tokenized Headlines"
   ]
  },
  {
   "cell_type": "code",
   "execution_count": 8,
   "id": "0326da95-c8b5-49e5-9207-93ae94714d1b",
   "metadata": {
    "execution": {
     "iopub.execute_input": "2021-11-18T21:10:26.084083Z",
     "iopub.status.busy": "2021-11-18T21:10:26.083895Z",
     "iopub.status.idle": "2021-11-18T21:10:26.229614Z",
     "shell.execute_reply": "2021-11-18T21:10:26.228656Z",
     "shell.execute_reply.started": "2021-11-18T21:10:26.084061Z"
    },
    "tags": []
   },
   "outputs": [
    {
     "name": "stdout",
     "output_type": "stream",
     "text": [
      "MarketWatch.com - Top Stories\n",
      "MarketWatch.com - Top Stories\n",
      ": Ford CEO touts auto maker’s EV plans: ‘Whatever it takes, find a way’\n",
      "Distributed Ledger: Some crypto companies frown on infrastructure law, while some financial advisors cheer for it\n",
      "The Tell: Should stock-market investors who ‘missed the rally’ buy now? Here’s what UBS says\n",
      "Bond Report: Treasury yields extend declines, with 10- and 30-year posting biggest two-day drop in over a week\n",
      "Market Extra: The lower-for-longer camp on U.S. bond yields is standing firmly by its views heading into 2022\n",
      "The Ratings Game: Activision Blizzard stock downgraded as misconduct charges bring a ‘significant amount of uncertainty’\n",
      ": A mostly Black Alabama county has no municipal sewer service. Can the 1964 Civil Rights Act be used for environmental justice?\n",
      ": Lobbyist for truckers on the ‘driver shortage’: ‘If the job that you’re offering sucks,\n",
      "is the solution really go find more suckers, or should you improve the job?’\n",
      ": Starbucks and Amazon Go collaborate for the launch of a New York City store\n",
      "The Ratings Game: Victoria’s Secret plans to spend $150 million to manage supply chain problems that could suppress sales growth\n",
      "time: 97.7 ms (started: 2021-11-18 13:10:26 -08:00)\n"
     ]
    }
   ],
   "source": [
    "processed_hlines = [nlp(headlines[i].text) for i in range(len(headlines))]\n",
    "for line in processed_hlines:\n",
    "    print(line)"
   ]
  },
  {
   "cell_type": "markdown",
   "id": "fc53aa4f-c5a8-4fa3-9c1b-ea850c32a9db",
   "metadata": {},
   "source": [
    "## Getting Org Names From Headlines\n",
    "Visualizing named entities (real world objects) in the headlines and creating a set of organiziations."
   ]
  },
  {
   "cell_type": "code",
   "execution_count": 9,
   "id": "53e9fd0b-a896-4434-976d-5e98355705f8",
   "metadata": {
    "execution": {
     "iopub.execute_input": "2021-11-18T21:10:26.230979Z",
     "iopub.status.busy": "2021-11-18T21:10:26.230806Z",
     "iopub.status.idle": "2021-11-18T21:10:26.412964Z",
     "shell.execute_reply": "2021-11-18T21:10:26.412430Z",
     "shell.execute_reply.started": "2021-11-18T21:10:26.230956Z"
    },
    "tags": []
   },
   "outputs": [
    {
     "data": {
      "text/html": [
       "<span class=\"tex2jax_ignore\"><div class=\"entities\" style=\"line-height: 2.5; direction: ltr\">\n",
       "<mark class=\"entity\" style=\"background: #aa9cfc; padding: 0.45em 0.6em; margin: 0 0.25em; line-height: 1; border-radius: 0.35em;\">\n",
       "    MarketWatch.com - Top Stories\n",
       "    <span style=\"font-size: 0.8em; font-weight: bold; line-height: 1; border-radius: 0.35em; text-transform: uppercase; vertical-align: middle; margin-left: 0.5rem\">PERSON</span>\n",
       "</mark>\n",
       "</div></span>"
      ],
      "text/plain": [
       "<IPython.core.display.HTML object>"
      ]
     },
     "metadata": {},
     "output_type": "display_data"
    },
    {
     "data": {
      "text/html": [
       "<span class=\"tex2jax_ignore\"><div class=\"entities\" style=\"line-height: 2.5; direction: ltr\">\n",
       "<mark class=\"entity\" style=\"background: #aa9cfc; padding: 0.45em 0.6em; margin: 0 0.25em; line-height: 1; border-radius: 0.35em;\">\n",
       "    MarketWatch.com - Top Stories\n",
       "    <span style=\"font-size: 0.8em; font-weight: bold; line-height: 1; border-radius: 0.35em; text-transform: uppercase; vertical-align: middle; margin-left: 0.5rem\">PERSON</span>\n",
       "</mark>\n",
       "</div></span>"
      ],
      "text/plain": [
       "<IPython.core.display.HTML object>"
      ]
     },
     "metadata": {},
     "output_type": "display_data"
    },
    {
     "data": {
      "text/html": [
       "<span class=\"tex2jax_ignore\"><div class=\"entities\" style=\"line-height: 2.5; direction: ltr\">: \n",
       "<mark class=\"entity\" style=\"background: #7aecec; padding: 0.45em 0.6em; margin: 0 0.25em; line-height: 1; border-radius: 0.35em;\">\n",
       "    Ford\n",
       "    <span style=\"font-size: 0.8em; font-weight: bold; line-height: 1; border-radius: 0.35em; text-transform: uppercase; vertical-align: middle; margin-left: 0.5rem\">ORG</span>\n",
       "</mark>\n",
       " CEO touts auto maker’s \n",
       "<mark class=\"entity\" style=\"background: #7aecec; padding: 0.45em 0.6em; margin: 0 0.25em; line-height: 1; border-radius: 0.35em;\">\n",
       "    EV\n",
       "    <span style=\"font-size: 0.8em; font-weight: bold; line-height: 1; border-radius: 0.35em; text-transform: uppercase; vertical-align: middle; margin-left: 0.5rem\">ORG</span>\n",
       "</mark>\n",
       " plans: ‘Whatever it takes, find a way’</div></span>"
      ],
      "text/plain": [
       "<IPython.core.display.HTML object>"
      ]
     },
     "metadata": {},
     "output_type": "display_data"
    },
    {
     "data": {
      "text/html": [
       "<span class=\"tex2jax_ignore\"><div class=\"entities\" style=\"line-height: 2.5; direction: ltr\">The Tell: Should stock-market investors who ‘missed the rally’ buy now? Here’s what \n",
       "<mark class=\"entity\" style=\"background: #7aecec; padding: 0.45em 0.6em; margin: 0 0.25em; line-height: 1; border-radius: 0.35em;\">\n",
       "    UBS\n",
       "    <span style=\"font-size: 0.8em; font-weight: bold; line-height: 1; border-radius: 0.35em; text-transform: uppercase; vertical-align: middle; margin-left: 0.5rem\">ORG</span>\n",
       "</mark>\n",
       " says</div></span>"
      ],
      "text/plain": [
       "<IPython.core.display.HTML object>"
      ]
     },
     "metadata": {},
     "output_type": "display_data"
    },
    {
     "data": {
      "text/html": [
       "<span class=\"tex2jax_ignore\"><div class=\"entities\" style=\"line-height: 2.5; direction: ltr\">Bond Report: \n",
       "<mark class=\"entity\" style=\"background: #7aecec; padding: 0.45em 0.6em; margin: 0 0.25em; line-height: 1; border-radius: 0.35em;\">\n",
       "    Treasury\n",
       "    <span style=\"font-size: 0.8em; font-weight: bold; line-height: 1; border-radius: 0.35em; text-transform: uppercase; vertical-align: middle; margin-left: 0.5rem\">ORG</span>\n",
       "</mark>\n",
       " yields extend declines, with 10- and \n",
       "<mark class=\"entity\" style=\"background: #bfe1d9; padding: 0.45em 0.6em; margin: 0 0.25em; line-height: 1; border-radius: 0.35em;\">\n",
       "    30-year\n",
       "    <span style=\"font-size: 0.8em; font-weight: bold; line-height: 1; border-radius: 0.35em; text-transform: uppercase; vertical-align: middle; margin-left: 0.5rem\">DATE</span>\n",
       "</mark>\n",
       " posting biggest \n",
       "<mark class=\"entity\" style=\"background: #bfe1d9; padding: 0.45em 0.6em; margin: 0 0.25em; line-height: 1; border-radius: 0.35em;\">\n",
       "    two-day\n",
       "    <span style=\"font-size: 0.8em; font-weight: bold; line-height: 1; border-radius: 0.35em; text-transform: uppercase; vertical-align: middle; margin-left: 0.5rem\">DATE</span>\n",
       "</mark>\n",
       " drop in \n",
       "<mark class=\"entity\" style=\"background: #bfe1d9; padding: 0.45em 0.6em; margin: 0 0.25em; line-height: 1; border-radius: 0.35em;\">\n",
       "    over a week\n",
       "    <span style=\"font-size: 0.8em; font-weight: bold; line-height: 1; border-radius: 0.35em; text-transform: uppercase; vertical-align: middle; margin-left: 0.5rem\">DATE</span>\n",
       "</mark>\n",
       "</div></span>"
      ],
      "text/plain": [
       "<IPython.core.display.HTML object>"
      ]
     },
     "metadata": {},
     "output_type": "display_data"
    },
    {
     "data": {
      "text/html": [
       "<span class=\"tex2jax_ignore\"><div class=\"entities\" style=\"line-height: 2.5; direction: ltr\">Market Extra: The lower-for-longer camp on \n",
       "<mark class=\"entity\" style=\"background: #feca74; padding: 0.45em 0.6em; margin: 0 0.25em; line-height: 1; border-radius: 0.35em;\">\n",
       "    U.S.\n",
       "    <span style=\"font-size: 0.8em; font-weight: bold; line-height: 1; border-radius: 0.35em; text-transform: uppercase; vertical-align: middle; margin-left: 0.5rem\">GPE</span>\n",
       "</mark>\n",
       " bond yields is standing firmly by its views heading into \n",
       "<mark class=\"entity\" style=\"background: #bfe1d9; padding: 0.45em 0.6em; margin: 0 0.25em; line-height: 1; border-radius: 0.35em;\">\n",
       "    2022\n",
       "    <span style=\"font-size: 0.8em; font-weight: bold; line-height: 1; border-radius: 0.35em; text-transform: uppercase; vertical-align: middle; margin-left: 0.5rem\">DATE</span>\n",
       "</mark>\n",
       "</div></span>"
      ],
      "text/plain": [
       "<IPython.core.display.HTML object>"
      ]
     },
     "metadata": {},
     "output_type": "display_data"
    },
    {
     "data": {
      "text/html": [
       "<span class=\"tex2jax_ignore\"><div class=\"entities\" style=\"line-height: 2.5; direction: ltr\">: A mostly \n",
       "<mark class=\"entity\" style=\"background: #feca74; padding: 0.45em 0.6em; margin: 0 0.25em; line-height: 1; border-radius: 0.35em;\">\n",
       "    Black Alabama county\n",
       "    <span style=\"font-size: 0.8em; font-weight: bold; line-height: 1; border-radius: 0.35em; text-transform: uppercase; vertical-align: middle; margin-left: 0.5rem\">GPE</span>\n",
       "</mark>\n",
       " has no municipal sewer service. Can the \n",
       "<mark class=\"entity\" style=\"background: #bfe1d9; padding: 0.45em 0.6em; margin: 0 0.25em; line-height: 1; border-radius: 0.35em;\">\n",
       "    1964\n",
       "    <span style=\"font-size: 0.8em; font-weight: bold; line-height: 1; border-radius: 0.35em; text-transform: uppercase; vertical-align: middle; margin-left: 0.5rem\">DATE</span>\n",
       "</mark>\n",
       " \n",
       "<mark class=\"entity\" style=\"background: #ff8197; padding: 0.45em 0.6em; margin: 0 0.25em; line-height: 1; border-radius: 0.35em;\">\n",
       "    Civil Rights Act\n",
       "    <span style=\"font-size: 0.8em; font-weight: bold; line-height: 1; border-radius: 0.35em; text-transform: uppercase; vertical-align: middle; margin-left: 0.5rem\">LAW</span>\n",
       "</mark>\n",
       " be used for environmental justice?</div></span>"
      ],
      "text/plain": [
       "<IPython.core.display.HTML object>"
      ]
     },
     "metadata": {},
     "output_type": "display_data"
    },
    {
     "data": {
      "text/html": [
       "<span class=\"tex2jax_ignore\"><div class=\"entities\" style=\"line-height: 2.5; direction: ltr\">: \n",
       "<mark class=\"entity\" style=\"background: #7aecec; padding: 0.45em 0.6em; margin: 0 0.25em; line-height: 1; border-radius: 0.35em;\">\n",
       "    Starbucks\n",
       "    <span style=\"font-size: 0.8em; font-weight: bold; line-height: 1; border-radius: 0.35em; text-transform: uppercase; vertical-align: middle; margin-left: 0.5rem\">ORG</span>\n",
       "</mark>\n",
       " and \n",
       "<mark class=\"entity\" style=\"background: #7aecec; padding: 0.45em 0.6em; margin: 0 0.25em; line-height: 1; border-radius: 0.35em;\">\n",
       "    Amazon\n",
       "    <span style=\"font-size: 0.8em; font-weight: bold; line-height: 1; border-radius: 0.35em; text-transform: uppercase; vertical-align: middle; margin-left: 0.5rem\">ORG</span>\n",
       "</mark>\n",
       " Go collaborate for the launch of a \n",
       "<mark class=\"entity\" style=\"background: #feca74; padding: 0.45em 0.6em; margin: 0 0.25em; line-height: 1; border-radius: 0.35em;\">\n",
       "    New York City\n",
       "    <span style=\"font-size: 0.8em; font-weight: bold; line-height: 1; border-radius: 0.35em; text-transform: uppercase; vertical-align: middle; margin-left: 0.5rem\">GPE</span>\n",
       "</mark>\n",
       " store</div></span>"
      ],
      "text/plain": [
       "<IPython.core.display.HTML object>"
      ]
     },
     "metadata": {},
     "output_type": "display_data"
    },
    {
     "data": {
      "text/html": [
       "<span class=\"tex2jax_ignore\"><div class=\"entities\" style=\"line-height: 2.5; direction: ltr\">The Ratings Game: \n",
       "<mark class=\"entity\" style=\"background: #aa9cfc; padding: 0.45em 0.6em; margin: 0 0.25em; line-height: 1; border-radius: 0.35em;\">\n",
       "    Victoria\n",
       "    <span style=\"font-size: 0.8em; font-weight: bold; line-height: 1; border-radius: 0.35em; text-transform: uppercase; vertical-align: middle; margin-left: 0.5rem\">PERSON</span>\n",
       "</mark>\n",
       "’s Secret plans to spend \n",
       "<mark class=\"entity\" style=\"background: #e4e7d2; padding: 0.45em 0.6em; margin: 0 0.25em; line-height: 1; border-radius: 0.35em;\">\n",
       "    $150 million\n",
       "    <span style=\"font-size: 0.8em; font-weight: bold; line-height: 1; border-radius: 0.35em; text-transform: uppercase; vertical-align: middle; margin-left: 0.5rem\">MONEY</span>\n",
       "</mark>\n",
       " to manage supply chain problems that could suppress sales growth</div></span>"
      ],
      "text/plain": [
       "<IPython.core.display.HTML object>"
      ]
     },
     "metadata": {},
     "output_type": "display_data"
    },
    {
     "name": "stdout",
     "output_type": "stream",
     "text": [
      "{'Starbucks', 'Ford', 'UBS', 'EV', 'Treasury', 'Amazon'}\n",
      "time: 132 ms (started: 2021-11-18 13:10:26 -08:00)\n"
     ]
    }
   ],
   "source": [
    "# pulling company name tokens from headlines\n",
    "companies = []\n",
    "for title in processed_hlines:\n",
    "    doc = nlp(title.text)\n",
    "    if len(doc.ents) != 0:\n",
    "        displacy.render(doc, style='ent')\n",
    "    else:\n",
    "        pass\n",
    "    for token in doc.ents:\n",
    "        if token.label_ == 'ORG':\n",
    "            companies.append(token.text)\n",
    "        else:\n",
    "            pass\n",
    "companies = set(companies)\n",
    "print(companies)"
   ]
  },
  {
   "cell_type": "markdown",
   "id": "90e46e54-cd0e-4d1b-bfdb-39c3f5b23032",
   "metadata": {},
   "source": [
    "## Scraping S&P 500 Stock Table w/Requests & BeautifulSoup"
   ]
  },
  {
   "cell_type": "code",
   "execution_count": 10,
   "id": "dc3866e6-298d-4e2e-beda-5c4baad44ba8",
   "metadata": {
    "execution": {
     "iopub.execute_input": "2021-11-18T21:10:26.417509Z",
     "iopub.status.busy": "2021-11-18T21:10:26.417229Z",
     "iopub.status.idle": "2021-11-18T21:10:27.230529Z",
     "shell.execute_reply": "2021-11-18T21:10:27.229174Z",
     "shell.execute_reply.started": "2021-11-18T21:10:26.417479Z"
    },
    "tags": []
   },
   "outputs": [
    {
     "name": "stdout",
     "output_type": "stream",
     "text": [
      "[<tr>\n",
      "<td><a class=\"external text\" href=\"https://www.nyse.com/quote/XNYS:MMM\" rel=\"nofollow\">MMM</a>\n",
      "</td>\n",
      "<td><a href=\"/wiki/3M\" title=\"3M\">3M</a></td>\n",
      "<td><a class=\"external text\" href=\"https://www.sec.gov/edgar/browse/?CIK=66740\" rel=\"nofollow\">reports</a></td>\n",
      "<td>Industrials</td>\n",
      "<td>Industrial Conglomerates</td>\n",
      "<td><a href=\"/wiki/Saint_Paul,_Minnesota\" title=\"Saint Paul, Minnesota\">Saint Paul, Minnesota</a></td>\n",
      "<td>1976-08-09</td>\n",
      "<td>0000066740</td>\n",
      "<td>1902\n",
      "</td></tr>]\n",
      "time: 756 ms (started: 2021-11-18 13:10:26 -08:00)\n"
     ]
    }
   ],
   "source": [
    "# scraping S&P wikipedia page\n",
    "r = requests.get('https://en.wikipedia.org/wiki/List_of_S%26P_500_companies')\n",
    "\n",
    "# parsing the html\n",
    "soup = BeautifulSoup(r.text, 'lxml')\n",
    "\n",
    "# extracting the table\n",
    "table = soup.find('table', {'class': 'wikitable sortable'})\n",
    "\n",
    "# printing row with first stock\n",
    "print(table.findAll('tr')[1:2])"
   ]
  },
  {
   "cell_type": "markdown",
   "id": "a95b9b49-5ab4-4bf8-aff7-6b7c3fad5c4d",
   "metadata": {},
   "source": [
    "### Ticker Symbols\n",
    "Grabbing the ticker symbol from the first cell of each row."
   ]
  },
  {
   "cell_type": "code",
   "execution_count": 11,
   "id": "f5f74629-2adb-44dc-93fd-9f50f5fe65ba",
   "metadata": {
    "execution": {
     "iopub.execute_input": "2021-11-18T21:10:27.232364Z",
     "iopub.status.busy": "2021-11-18T21:10:27.231923Z",
     "iopub.status.idle": "2021-11-18T21:10:27.296132Z",
     "shell.execute_reply": "2021-11-18T21:10:27.295331Z",
     "shell.execute_reply.started": "2021-11-18T21:10:27.232318Z"
    },
    "tags": []
   },
   "outputs": [
    {
     "name": "stdout",
     "output_type": "stream",
     "text": [
      "List Length: 505 \n",
      "\n",
      "First five symbols: ['MMM\\n', 'ABT\\n', 'ABBV\\n', 'ABMD\\n', 'ACN\\n']\n",
      "time: 16.3 ms (started: 2021-11-18 13:10:27 -08:00)\n"
     ]
    }
   ],
   "source": [
    "# making list of symbols\n",
    "symbols = [row.findAll('td')[0].text for row in table.findAll('tr')[1:]]\n",
    "\n",
    "# checking length\n",
    "print(f'List Length: {len(symbols)} \\n')\n",
    "\n",
    "# checking first 5 symbols\n",
    "print(f'First five symbols: {symbols[:5]}')"
   ]
  },
  {
   "cell_type": "markdown",
   "id": "fa76b04c-b9b9-4232-986d-6ee28b49a6a4",
   "metadata": {},
   "source": [
    "The length of the list looks good, but we have extra characters we need to strip from the symbols."
   ]
  },
  {
   "cell_type": "code",
   "execution_count": 12,
   "id": "b77d668d-6376-4a48-9545-d8a90258cf0b",
   "metadata": {
    "execution": {
     "iopub.execute_input": "2021-11-18T21:10:27.296998Z",
     "iopub.status.busy": "2021-11-18T21:10:27.296853Z",
     "iopub.status.idle": "2021-11-18T21:10:27.341504Z",
     "shell.execute_reply": "2021-11-18T21:10:27.340640Z",
     "shell.execute_reply.started": "2021-11-18T21:10:27.296982Z"
    },
    "tags": []
   },
   "outputs": [
    {
     "name": "stdout",
     "output_type": "stream",
     "text": [
      "['MMM', 'ABT', 'ABBV', 'ABMD', 'ACN']\n",
      "time: 1.47 ms (started: 2021-11-18 13:10:27 -08:00)\n"
     ]
    }
   ],
   "source": [
    "# stripping new line character from the strings \n",
    "symbols = list(map(lambda s: s.strip(), symbols))\n",
    "\n",
    "# checking first 5 symbols\n",
    "print(symbols[:5])"
   ]
  },
  {
   "cell_type": "markdown",
   "id": "20a11a7f-608d-4581-9436-1ec790eceee5",
   "metadata": {},
   "source": [
    "Looks good. We can apply the same technique to the second cell of the row to scrape and save the company name, and to the fifth cell to grab the company industry. "
   ]
  },
  {
   "cell_type": "markdown",
   "id": "00b559c3-162e-4815-8469-e769568cbbb9",
   "metadata": {},
   "source": [
    "### Names\n",
    "Grabbing the company name from the second cell of each row."
   ]
  },
  {
   "cell_type": "code",
   "execution_count": 13,
   "id": "acea8f4e-07ad-4192-bf5b-058473a22780",
   "metadata": {
    "execution": {
     "iopub.execute_input": "2021-11-18T21:10:27.342604Z",
     "iopub.status.busy": "2021-11-18T21:10:27.342431Z",
     "iopub.status.idle": "2021-11-18T21:10:27.399746Z",
     "shell.execute_reply": "2021-11-18T21:10:27.398999Z",
     "shell.execute_reply.started": "2021-11-18T21:10:27.342587Z"
    },
    "tags": []
   },
   "outputs": [
    {
     "name": "stdout",
     "output_type": "stream",
     "text": [
      "['3M', 'Abbott Laboratories', 'AbbVie', 'Abiomed', 'Accenture']\n",
      "time: 15.2 ms (started: 2021-11-18 13:10:27 -08:00)\n"
     ]
    }
   ],
   "source": [
    "# making list of names\n",
    "names = [row.findAll('td')[1].text for row in table.findAll('tr')[1:]]\n",
    "\n",
    "# checking first five names\n",
    "print(names[:5])"
   ]
  },
  {
   "cell_type": "markdown",
   "id": "6365495f-2364-4b54-85e2-5bbfae172dd0",
   "metadata": {},
   "source": [
    "## S&P 500 Dataframe\n",
    "Creating a data frame of stocks in the S&P 500 index."
   ]
  },
  {
   "cell_type": "code",
   "execution_count": 14,
   "id": "20e47c1d-d75b-424c-9a57-1075d4b5bf12",
   "metadata": {
    "execution": {
     "iopub.execute_input": "2021-11-18T21:10:27.400999Z",
     "iopub.status.busy": "2021-11-18T21:10:27.400849Z",
     "iopub.status.idle": "2021-11-18T21:10:27.467632Z",
     "shell.execute_reply": "2021-11-18T21:10:27.467000Z",
     "shell.execute_reply.started": "2021-11-18T21:10:27.400980Z"
    },
    "tags": []
   },
   "outputs": [
    {
     "name": "stdout",
     "output_type": "stream",
     "text": [
      "(505, 2)\n"
     ]
    },
    {
     "data": {
      "text/html": [
       "<div>\n",
       "<style scoped>\n",
       "    .dataframe tbody tr th:only-of-type {\n",
       "        vertical-align: middle;\n",
       "    }\n",
       "\n",
       "    .dataframe tbody tr th {\n",
       "        vertical-align: top;\n",
       "    }\n",
       "\n",
       "    .dataframe thead th {\n",
       "        text-align: right;\n",
       "    }\n",
       "</style>\n",
       "<table border=\"1\" class=\"dataframe\">\n",
       "  <thead>\n",
       "    <tr style=\"text-align: right;\">\n",
       "      <th></th>\n",
       "      <th>Company Name</th>\n",
       "      <th>Symbol</th>\n",
       "    </tr>\n",
       "  </thead>\n",
       "  <tbody>\n",
       "    <tr>\n",
       "      <th>0</th>\n",
       "      <td>3M</td>\n",
       "      <td>MMM</td>\n",
       "    </tr>\n",
       "    <tr>\n",
       "      <th>1</th>\n",
       "      <td>Abbott Laboratories</td>\n",
       "      <td>ABT</td>\n",
       "    </tr>\n",
       "    <tr>\n",
       "      <th>2</th>\n",
       "      <td>AbbVie</td>\n",
       "      <td>ABBV</td>\n",
       "    </tr>\n",
       "    <tr>\n",
       "      <th>3</th>\n",
       "      <td>Abiomed</td>\n",
       "      <td>ABMD</td>\n",
       "    </tr>\n",
       "    <tr>\n",
       "      <th>4</th>\n",
       "      <td>Accenture</td>\n",
       "      <td>ACN</td>\n",
       "    </tr>\n",
       "  </tbody>\n",
       "</table>\n",
       "</div>"
      ],
      "text/plain": [
       "          Company Name Symbol\n",
       "0                   3M    MMM\n",
       "1  Abbott Laboratories    ABT\n",
       "2               AbbVie   ABBV\n",
       "3              Abiomed   ABMD\n",
       "4            Accenture    ACN"
      ]
     },
     "execution_count": 14,
     "metadata": {},
     "output_type": "execute_result"
    },
    {
     "name": "stdout",
     "output_type": "stream",
     "text": [
      "time: 18.7 ms (started: 2021-11-18 13:10:27 -08:00)\n"
     ]
    }
   ],
   "source": [
    "# making a data dictionary\n",
    "data = {'Company Name': names, 'Symbol': symbols}\n",
    "\n",
    "# creating data frame from the data\n",
    "stocks_df = pd.DataFrame.from_dict(data)\n",
    "\n",
    "# checking shape and first five rows\n",
    "print(stocks_df.shape)\n",
    "stocks_df.head()"
   ]
  },
  {
   "cell_type": "markdown",
   "id": "7e8eb610-65e8-4f68-9296-e8971071f5dc",
   "metadata": {},
   "source": [
    "### Checking yf Stock Info Dictionary Keys\n",
    "Checking the dictionary keys available for pulling stock information."
   ]
  },
  {
   "cell_type": "code",
   "execution_count": 15,
   "id": "6a0d5f31-6176-4772-973f-d3f8dc331cdf",
   "metadata": {
    "execution": {
     "iopub.execute_input": "2021-11-18T21:10:27.469668Z",
     "iopub.status.busy": "2021-11-18T21:10:27.469157Z",
     "iopub.status.idle": "2021-11-18T21:10:27.526675Z",
     "shell.execute_reply": "2021-11-18T21:10:27.525429Z",
     "shell.execute_reply.started": "2021-11-18T21:10:27.469623Z"
    },
    "tags": []
   },
   "outputs": [
    {
     "name": "stdout",
     "output_type": "stream",
     "text": [
      "time: 4.16 ms (started: 2021-11-18 13:10:27 -08:00)\n"
     ]
    }
   ],
   "source": [
    "# instantiating a ticker object\n",
    "ACN = yf.Ticker('ACN')"
   ]
  },
  {
   "cell_type": "code",
   "execution_count": 16,
   "id": "2a8a9f7b-5358-4cb6-b0d3-4adda8696933",
   "metadata": {
    "execution": {
     "iopub.execute_input": "2021-11-18T21:10:27.527836Z",
     "iopub.status.busy": "2021-11-18T21:10:27.527618Z",
     "iopub.status.idle": "2021-11-18T21:10:30.323407Z",
     "shell.execute_reply": "2021-11-18T21:10:30.322498Z",
     "shell.execute_reply.started": "2021-11-18T21:10:27.527812Z"
    },
    "tags": []
   },
   "outputs": [
    {
     "data": {
      "text/plain": [
       "dict_keys(['zip', 'sector', 'fullTimeEmployees', 'longBusinessSummary', 'city', 'phone', 'country', 'companyOfficers', 'website', 'maxAge', 'address1', 'fax', 'industry', 'address2', 'ebitdaMargins', 'profitMargins', 'grossMargins', 'operatingCashflow', 'revenueGrowth', 'operatingMargins', 'ebitda', 'targetLowPrice', 'recommendationKey', 'grossProfits', 'freeCashflow', 'targetMedianPrice', 'currentPrice', 'earningsGrowth', 'currentRatio', 'returnOnAssets', 'numberOfAnalystOpinions', 'targetMeanPrice', 'debtToEquity', 'returnOnEquity', 'targetHighPrice', 'totalCash', 'totalDebt', 'totalRevenue', 'totalCashPerShare', 'financialCurrency', 'revenuePerShare', 'quickRatio', 'recommendationMean', 'exchange', 'shortName', 'longName', 'exchangeTimezoneName', 'exchangeTimezoneShortName', 'isEsgPopulated', 'gmtOffSetMilliseconds', 'quoteType', 'symbol', 'messageBoardId', 'market', 'annualHoldingsTurnover', 'enterpriseToRevenue', 'beta3Year', 'enterpriseToEbitda', '52WeekChange', 'morningStarRiskRating', 'forwardEps', 'revenueQuarterlyGrowth', 'sharesOutstanding', 'fundInceptionDate', 'annualReportExpenseRatio', 'totalAssets', 'bookValue', 'sharesShort', 'sharesPercentSharesOut', 'fundFamily', 'lastFiscalYearEnd', 'heldPercentInstitutions', 'netIncomeToCommon', 'trailingEps', 'lastDividendValue', 'SandP52WeekChange', 'priceToBook', 'heldPercentInsiders', 'nextFiscalYearEnd', 'yield', 'mostRecentQuarter', 'shortRatio', 'sharesShortPreviousMonthDate', 'floatShares', 'beta', 'enterpriseValue', 'priceHint', 'threeYearAverageReturn', 'lastSplitDate', 'lastSplitFactor', 'legalType', 'lastDividendDate', 'morningStarOverallRating', 'earningsQuarterlyGrowth', 'priceToSalesTrailing12Months', 'dateShortInterest', 'pegRatio', 'ytdReturn', 'forwardPE', 'lastCapGain', 'shortPercentOfFloat', 'sharesShortPriorMonth', 'impliedSharesOutstanding', 'category', 'fiveYearAverageReturn', 'previousClose', 'regularMarketOpen', 'twoHundredDayAverage', 'trailingAnnualDividendYield', 'payoutRatio', 'volume24Hr', 'regularMarketDayHigh', 'navPrice', 'averageDailyVolume10Day', 'regularMarketPreviousClose', 'fiftyDayAverage', 'trailingAnnualDividendRate', 'open', 'toCurrency', 'averageVolume10days', 'expireDate', 'algorithm', 'dividendRate', 'exDividendDate', 'circulatingSupply', 'startDate', 'regularMarketDayLow', 'currency', 'trailingPE', 'regularMarketVolume', 'lastMarket', 'maxSupply', 'openInterest', 'marketCap', 'volumeAllCurrencies', 'strikePrice', 'averageVolume', 'dayLow', 'ask', 'askSize', 'volume', 'fiftyTwoWeekHigh', 'fromCurrency', 'fiveYearAvgDividendYield', 'fiftyTwoWeekLow', 'bid', 'tradeable', 'dividendYield', 'bidSize', 'dayHigh', 'regularMarketPrice', 'logo_url'])"
      ]
     },
     "execution_count": 16,
     "metadata": {},
     "output_type": "execute_result"
    },
    {
     "name": "stdout",
     "output_type": "stream",
     "text": [
      "time: 2.75 s (started: 2021-11-18 13:10:27 -08:00)\n"
     ]
    }
   ],
   "source": [
    "# checking keys\n",
    "ACN.info.keys()"
   ]
  },
  {
   "cell_type": "markdown",
   "id": "f5ac7667-150a-4a9b-a20b-f142e3a84eef",
   "metadata": {},
   "source": [
    "### Data for Stocks in the News\n",
    "Creating a data frame of price and dividend information for S&P 500 stocks in the news in the following steps:\n",
    "\n",
    "- Create a data dictionary from the list of companies in the headlines.\n",
    "\n",
    "- Create a data frame from data dictionary."
   ]
  },
  {
   "cell_type": "code",
   "execution_count": 17,
   "id": "75714472-48d2-4d1a-8839-cb2a373be809",
   "metadata": {
    "execution": {
     "iopub.execute_input": "2021-11-18T21:10:30.324925Z",
     "iopub.status.busy": "2021-11-18T21:10:30.324666Z",
     "iopub.status.idle": "2021-11-18T21:10:45.037088Z",
     "shell.execute_reply": "2021-11-18T21:10:45.036233Z",
     "shell.execute_reply.started": "2021-11-18T21:10:30.324904Z"
    },
    "tags": []
   },
   "outputs": [
    {
     "name": "stdout",
     "output_type": "stream",
     "text": [
      "time: 14.7 s (started: 2021-11-18 13:10:30 -08:00)\n"
     ]
    }
   ],
   "source": [
    "# creating empty stock info dictionary\n",
    "stock_data = {\n",
    "    'Company': [],\n",
    "    'Symbol': [],\n",
    "    'currentPrice': [],\n",
    "    'dayHigh': [],\n",
    "    'dayLow': [],\n",
    "    '52wkHigh': [],\n",
    "    '52wkLow': [],\n",
    "    'dividendRate': []\n",
    "    \n",
    "}\n",
    "\n",
    "# loading stocks from s&p dataframe and appending data from yf\n",
    "for company in companies:\n",
    "\n",
    "    try:\n",
    "        if stocks_df['Company Name'].str.contains(company).sum():\n",
    "            symbol = stocks_df[stocks_df['Company Name'].\\\n",
    "                                str.contains(company)]['Symbol'].values[0]\n",
    "            org_name = stocks_df[stocks_df['Company Name'].\\\n",
    "                                str.contains(company)]['Company Name'].values[0]\n",
    "            stock_data['Company'].append(org_name)\n",
    "            stock_data['Symbol'].append(symbol)\n",
    "            stock_info = yf.Ticker(symbol).info\n",
    "            stock_data['currentPrice'].append(stock_info['currentPrice'])\n",
    "            stock_data['dayHigh'].append(stock_info['dayHigh'])\n",
    "            stock_data['dayLow'].append(stock_info['dayLow'])\n",
    "            stock_data['52wkHigh'].append(stock_info['fiftyTwoWeekHigh'])\n",
    "            stock_data['52wkLow'].append(stock_info['fiftyTwoWeekLow'])            \n",
    "            \n",
    "            # converting dividend None types to floats\n",
    "            dividend = stock_info['dividendRate']\n",
    "            if dividend != None:\n",
    "                dividend = dividend\n",
    "            else:\n",
    "                dividend = 0\n",
    "            stock_data['dividendRate'].append(dividend)\n",
    "        else:\n",
    "            pass\n",
    "    except:\n",
    "        pass"
   ]
  },
  {
   "cell_type": "code",
   "execution_count": 18,
   "id": "5775a08d-a060-4407-ad69-8bc0ba6222ec",
   "metadata": {
    "execution": {
     "iopub.execute_input": "2021-11-18T21:10:45.038485Z",
     "iopub.status.busy": "2021-11-18T21:10:45.038299Z",
     "iopub.status.idle": "2021-11-18T21:10:45.090970Z",
     "shell.execute_reply": "2021-11-18T21:10:45.090254Z",
     "shell.execute_reply.started": "2021-11-18T21:10:45.038469Z"
    },
    "tags": []
   },
   "outputs": [
    {
     "data": {
      "text/plain": [
       "{'Company': ['Starbucks', 'Ford', 'Amazon'],\n",
       " 'Symbol': ['SBUX', 'F', 'AMZN'],\n",
       " 'currentPrice': [112.9, 19.56, 3696.06],\n",
       " 'dayHigh': [113.2299, 20.26, 3704.2],\n",
       " 'dayLow': [111.34, 19.36, 3561.04],\n",
       " '52wkHigh': [126.32, 20.51, 3773.08],\n",
       " '52wkLow': [95.92, 8.43, 2881],\n",
       " 'dividendRate': [1.96, 0.4, 0]}"
      ]
     },
     "execution_count": 18,
     "metadata": {},
     "output_type": "execute_result"
    },
    {
     "name": "stdout",
     "output_type": "stream",
     "text": [
      "time: 2.55 ms (started: 2021-11-18 13:10:45 -08:00)\n"
     ]
    }
   ],
   "source": [
    "# checking dict\n",
    "stock_data"
   ]
  },
  {
   "cell_type": "markdown",
   "id": "0405069b-2119-4a58-9abd-367967bf4f31",
   "metadata": {},
   "source": [
    "### Data Frame of S&P 500 Stocks in the News"
   ]
  },
  {
   "cell_type": "code",
   "execution_count": 19,
   "id": "61e25bba-2b56-4eec-9072-12b69b6fd94c",
   "metadata": {
    "execution": {
     "iopub.execute_input": "2021-11-18T21:10:45.092231Z",
     "iopub.status.busy": "2021-11-18T21:10:45.092086Z",
     "iopub.status.idle": "2021-11-18T21:10:45.146470Z",
     "shell.execute_reply": "2021-11-18T21:10:45.145657Z",
     "shell.execute_reply.started": "2021-11-18T21:10:45.092214Z"
    },
    "tags": []
   },
   "outputs": [
    {
     "data": {
      "text/html": [
       "<div>\n",
       "<style scoped>\n",
       "    .dataframe tbody tr th:only-of-type {\n",
       "        vertical-align: middle;\n",
       "    }\n",
       "\n",
       "    .dataframe tbody tr th {\n",
       "        vertical-align: top;\n",
       "    }\n",
       "\n",
       "    .dataframe thead th {\n",
       "        text-align: right;\n",
       "    }\n",
       "</style>\n",
       "<table border=\"1\" class=\"dataframe\">\n",
       "  <thead>\n",
       "    <tr style=\"text-align: right;\">\n",
       "      <th></th>\n",
       "      <th>Company</th>\n",
       "      <th>Symbol</th>\n",
       "      <th>currentPrice</th>\n",
       "      <th>dayHigh</th>\n",
       "      <th>dayLow</th>\n",
       "      <th>52wkHigh</th>\n",
       "      <th>52wkLow</th>\n",
       "      <th>dividendRate</th>\n",
       "    </tr>\n",
       "  </thead>\n",
       "  <tbody>\n",
       "    <tr>\n",
       "      <th>0</th>\n",
       "      <td>Starbucks</td>\n",
       "      <td>SBUX</td>\n",
       "      <td>112.90</td>\n",
       "      <td>113.2299</td>\n",
       "      <td>111.34</td>\n",
       "      <td>126.32</td>\n",
       "      <td>95.92</td>\n",
       "      <td>1.96</td>\n",
       "    </tr>\n",
       "    <tr>\n",
       "      <th>1</th>\n",
       "      <td>Ford</td>\n",
       "      <td>F</td>\n",
       "      <td>19.56</td>\n",
       "      <td>20.2600</td>\n",
       "      <td>19.36</td>\n",
       "      <td>20.51</td>\n",
       "      <td>8.43</td>\n",
       "      <td>0.40</td>\n",
       "    </tr>\n",
       "    <tr>\n",
       "      <th>2</th>\n",
       "      <td>Amazon</td>\n",
       "      <td>AMZN</td>\n",
       "      <td>3696.06</td>\n",
       "      <td>3704.2000</td>\n",
       "      <td>3561.04</td>\n",
       "      <td>3773.08</td>\n",
       "      <td>2881.00</td>\n",
       "      <td>0.00</td>\n",
       "    </tr>\n",
       "  </tbody>\n",
       "</table>\n",
       "</div>"
      ],
      "text/plain": [
       "     Company Symbol  currentPrice    dayHigh   dayLow  52wkHigh  52wkLow  \\\n",
       "0  Starbucks   SBUX        112.90   113.2299   111.34    126.32    95.92   \n",
       "1       Ford      F         19.56    20.2600    19.36     20.51     8.43   \n",
       "2     Amazon   AMZN       3696.06  3704.2000  3561.04   3773.08  2881.00   \n",
       "\n",
       "   dividendRate  \n",
       "0          1.96  \n",
       "1          0.40  \n",
       "2          0.00  "
      ]
     },
     "execution_count": 19,
     "metadata": {},
     "output_type": "execute_result"
    },
    {
     "name": "stdout",
     "output_type": "stream",
     "text": [
      "time: 7.33 ms (started: 2021-11-18 13:10:45 -08:00)\n"
     ]
    }
   ],
   "source": [
    "in_the_news = pd.DataFrame(stock_data)\n",
    "in_the_news.head()"
   ]
  },
  {
   "cell_type": "code",
   "execution_count": 20,
   "id": "84fcb1ec-5d31-43d0-988f-a3eabe80c558",
   "metadata": {
    "execution": {
     "iopub.execute_input": "2021-11-18T21:10:45.147627Z",
     "iopub.status.busy": "2021-11-18T21:10:45.147462Z",
     "iopub.status.idle": "2021-11-18T21:10:45.202290Z",
     "shell.execute_reply": "2021-11-18T21:10:45.201411Z",
     "shell.execute_reply.started": "2021-11-18T21:10:45.147607Z"
    },
    "tags": []
   },
   "outputs": [
    {
     "name": "stdout",
     "output_type": "stream",
     "text": [
      "<class 'pandas.core.frame.DataFrame'>\n",
      "RangeIndex: 3 entries, 0 to 2\n",
      "Data columns (total 8 columns):\n",
      " #   Column        Non-Null Count  Dtype  \n",
      "---  ------        --------------  -----  \n",
      " 0   Company       3 non-null      object \n",
      " 1   Symbol        3 non-null      object \n",
      " 2   currentPrice  3 non-null      float64\n",
      " 3   dayHigh       3 non-null      float64\n",
      " 4   dayLow        3 non-null      float64\n",
      " 5   52wkHigh      3 non-null      float64\n",
      " 6   52wkLow       3 non-null      float64\n",
      " 7   dividendRate  3 non-null      float64\n",
      "dtypes: float64(6), object(2)\n",
      "memory usage: 320.0+ bytes\n",
      "time: 6.2 ms (started: 2021-11-18 13:10:45 -08:00)\n"
     ]
    }
   ],
   "source": [
    "# checking Dtypes\n",
    "in_the_news.info()"
   ]
  },
  {
   "cell_type": "markdown",
   "id": "278593a1-e249-4fbb-ab2b-0c2e2d5e7f5d",
   "metadata": {},
   "source": [
    "## Individual Stock Price Helper Function\n",
    "Checking the helper function."
   ]
  },
  {
   "cell_type": "code",
   "execution_count": 21,
   "id": "d19f4da9-ae51-4818-80d8-692090419d81",
   "metadata": {
    "execution": {
     "iopub.execute_input": "2021-11-18T21:10:45.203956Z",
     "iopub.status.busy": "2021-11-18T21:10:45.203754Z",
     "iopub.status.idle": "2021-11-18T21:10:50.101630Z",
     "shell.execute_reply": "2021-11-18T21:10:50.100646Z",
     "shell.execute_reply.started": "2021-11-18T21:10:45.203937Z"
    },
    "tags": []
   },
   "outputs": [
    {
     "data": {
      "text/html": [
       "<div>\n",
       "<style scoped>\n",
       "    .dataframe tbody tr th:only-of-type {\n",
       "        vertical-align: middle;\n",
       "    }\n",
       "\n",
       "    .dataframe tbody tr th {\n",
       "        vertical-align: top;\n",
       "    }\n",
       "\n",
       "    .dataframe thead th {\n",
       "        text-align: right;\n",
       "    }\n",
       "</style>\n",
       "<table border=\"1\" class=\"dataframe\">\n",
       "  <thead>\n",
       "    <tr style=\"text-align: right;\">\n",
       "      <th></th>\n",
       "      <th>Company</th>\n",
       "      <th>Symbol</th>\n",
       "      <th>Current Price</th>\n",
       "      <th>Intraday High</th>\n",
       "      <th>Intraday Low</th>\n",
       "      <th>52wkHigh</th>\n",
       "      <th>52wkLow</th>\n",
       "      <th>Dividend</th>\n",
       "    </tr>\n",
       "  </thead>\n",
       "  <tbody>\n",
       "    <tr>\n",
       "      <th>0</th>\n",
       "      <td>3M Company</td>\n",
       "      <td>MMM</td>\n",
       "      <td>178.75</td>\n",
       "      <td>182.55</td>\n",
       "      <td>178.7</td>\n",
       "      <td>208.95</td>\n",
       "      <td>163.38</td>\n",
       "      <td>5.92</td>\n",
       "    </tr>\n",
       "  </tbody>\n",
       "</table>\n",
       "</div>"
      ],
      "text/plain": [
       "      Company Symbol  Current Price  Intraday High  Intraday Low  52wkHigh  \\\n",
       "0  3M Company    MMM         178.75         182.55         178.7    208.95   \n",
       "\n",
       "   52wkLow  Dividend  \n",
       "0   163.38      5.92  "
      ]
     },
     "execution_count": 21,
     "metadata": {},
     "output_type": "execute_result"
    },
    {
     "name": "stdout",
     "output_type": "stream",
     "text": [
      "time: 4.85 s (started: 2021-11-18 13:10:45 -08:00)\n"
     ]
    }
   ],
   "source": [
    "h.get_prices('MMM')"
   ]
  },
  {
   "cell_type": "code",
   "execution_count": 22,
   "id": "49ab1a6c-6d6e-40a7-868a-f364653333e0",
   "metadata": {
    "execution": {
     "iopub.execute_input": "2021-11-18T21:10:50.102648Z",
     "iopub.status.busy": "2021-11-18T21:10:50.102505Z",
     "iopub.status.idle": "2021-11-18T21:10:52.739756Z",
     "shell.execute_reply": "2021-11-18T21:10:52.738748Z",
     "shell.execute_reply.started": "2021-11-18T21:10:50.102631Z"
    }
   },
   "outputs": [
    {
     "data": {
      "text/html": [
       "<div>\n",
       "<style scoped>\n",
       "    .dataframe tbody tr th:only-of-type {\n",
       "        vertical-align: middle;\n",
       "    }\n",
       "\n",
       "    .dataframe tbody tr th {\n",
       "        vertical-align: top;\n",
       "    }\n",
       "\n",
       "    .dataframe thead th {\n",
       "        text-align: right;\n",
       "    }\n",
       "</style>\n",
       "<table border=\"1\" class=\"dataframe\">\n",
       "  <thead>\n",
       "    <tr style=\"text-align: right;\">\n",
       "      <th></th>\n",
       "      <th>Company</th>\n",
       "      <th>Symbol</th>\n",
       "      <th>Current Price</th>\n",
       "      <th>Intraday High</th>\n",
       "      <th>Intraday Low</th>\n",
       "      <th>52wkHigh</th>\n",
       "      <th>52wkLow</th>\n",
       "      <th>Dividend</th>\n",
       "    </tr>\n",
       "  </thead>\n",
       "  <tbody>\n",
       "    <tr>\n",
       "      <th>0</th>\n",
       "      <td>Apple Inc.</td>\n",
       "      <td>AAPL</td>\n",
       "      <td>157.87</td>\n",
       "      <td>158.67</td>\n",
       "      <td>153.06</td>\n",
       "      <td>158.67</td>\n",
       "      <td>112.59</td>\n",
       "      <td>0.88</td>\n",
       "    </tr>\n",
       "  </tbody>\n",
       "</table>\n",
       "</div>"
      ],
      "text/plain": [
       "      Company Symbol  Current Price  Intraday High  Intraday Low  52wkHigh  \\\n",
       "0  Apple Inc.   AAPL         157.87         158.67        153.06    158.67   \n",
       "\n",
       "   52wkLow  Dividend  \n",
       "0   112.59      0.88  "
      ]
     },
     "execution_count": 22,
     "metadata": {},
     "output_type": "execute_result"
    },
    {
     "name": "stdout",
     "output_type": "stream",
     "text": [
      "time: 2.59 s (started: 2021-11-18 13:10:50 -08:00)\n"
     ]
    }
   ],
   "source": [
    "h.get_prices('AAPL')"
   ]
  },
  {
   "cell_type": "markdown",
   "id": "9dd6617c-a330-44cb-a6aa-41f2993c474e",
   "metadata": {
    "tags": []
   },
   "source": [
    "## Options Markets Tests"
   ]
  },
  {
   "cell_type": "code",
   "execution_count": 23,
   "id": "be332aa0-96c1-4923-81f9-ee12e85aa9ea",
   "metadata": {
    "execution": {
     "iopub.execute_input": "2021-11-18T21:10:52.741274Z",
     "iopub.status.busy": "2021-11-18T21:10:52.740974Z",
     "iopub.status.idle": "2021-11-18T21:10:52.791145Z",
     "shell.execute_reply": "2021-11-18T21:10:52.790477Z",
     "shell.execute_reply.started": "2021-11-18T21:10:52.741238Z"
    }
   },
   "outputs": [
    {
     "name": "stdout",
     "output_type": "stream",
     "text": [
      "time: 569 µs (started: 2021-11-18 13:10:52 -08:00)\n"
     ]
    }
   ],
   "source": [
    "# creating a fuction to display available expirations\n",
    "def get_expirations(symbol : str):\n",
    "    stock = yf.Ticker(symbol)\n",
    "    return stock.options"
   ]
  },
  {
   "cell_type": "code",
   "execution_count": 24,
   "id": "76962ce7-c4f8-4164-bfa3-2cef17dd4371",
   "metadata": {
    "execution": {
     "iopub.execute_input": "2021-11-18T21:10:52.792140Z",
     "iopub.status.busy": "2021-11-18T21:10:52.792000Z",
     "iopub.status.idle": "2021-11-18T21:10:53.025530Z",
     "shell.execute_reply": "2021-11-18T21:10:53.024555Z",
     "shell.execute_reply.started": "2021-11-18T21:10:52.792123Z"
    }
   },
   "outputs": [
    {
     "data": {
      "text/plain": [
       "('2021-11-19',\n",
       " '2021-11-26',\n",
       " '2021-12-03',\n",
       " '2021-12-10',\n",
       " '2021-12-17',\n",
       " '2021-12-23',\n",
       " '2021-12-31',\n",
       " '2022-01-21',\n",
       " '2022-02-18',\n",
       " '2022-03-18',\n",
       " '2022-04-14',\n",
       " '2022-05-20',\n",
       " '2022-06-17',\n",
       " '2022-09-16',\n",
       " '2023-01-20',\n",
       " '2023-03-17',\n",
       " '2023-06-16',\n",
       " '2023-09-15',\n",
       " '2024-01-19')"
      ]
     },
     "execution_count": 24,
     "metadata": {},
     "output_type": "execute_result"
    },
    {
     "name": "stdout",
     "output_type": "stream",
     "text": [
      "time: 188 ms (started: 2021-11-18 13:10:52 -08:00)\n"
     ]
    }
   ],
   "source": [
    "get_expirations('AAPL')"
   ]
  },
  {
   "cell_type": "code",
   "execution_count": 25,
   "id": "39c4c635-7763-4419-bc00-53f1e155a4bd",
   "metadata": {
    "execution": {
     "iopub.execute_input": "2021-11-18T21:10:53.027926Z",
     "iopub.status.busy": "2021-11-18T21:10:53.027606Z",
     "iopub.status.idle": "2021-11-18T21:10:53.247080Z",
     "shell.execute_reply": "2021-11-18T21:10:53.245497Z",
     "shell.execute_reply.started": "2021-11-18T21:10:53.027889Z"
    },
    "tags": []
   },
   "outputs": [
    {
     "data": {
      "text/plain": [
       "('2021-11-19',\n",
       " '2021-11-26',\n",
       " '2021-12-03',\n",
       " '2021-12-10',\n",
       " '2021-12-17',\n",
       " '2021-12-23',\n",
       " '2021-12-31',\n",
       " '2022-01-21',\n",
       " '2022-04-14',\n",
       " '2022-06-17',\n",
       " '2022-07-15',\n",
       " '2023-01-20',\n",
       " '2024-01-19')"
      ]
     },
     "execution_count": 25,
     "metadata": {},
     "output_type": "execute_result"
    },
    {
     "name": "stdout",
     "output_type": "stream",
     "text": [
      "time: 146 ms (started: 2021-11-18 13:10:53 -08:00)\n"
     ]
    }
   ],
   "source": [
    "get_expirations('MMM')"
   ]
  },
  {
   "cell_type": "code",
   "execution_count": 26,
   "id": "bdf74dcf-964b-4e4f-b0f6-5e67b9d4bc38",
   "metadata": {
    "execution": {
     "iopub.execute_input": "2021-11-18T21:10:53.251353Z",
     "iopub.status.busy": "2021-11-18T21:10:53.250385Z",
     "iopub.status.idle": "2021-11-18T21:10:53.324567Z",
     "shell.execute_reply": "2021-11-18T21:10:53.323770Z",
     "shell.execute_reply.started": "2021-11-18T21:10:53.251309Z"
    },
    "tags": []
   },
   "outputs": [
    {
     "name": "stdout",
     "output_type": "stream",
     "text": [
      "time: 1.22 ms (started: 2021-11-18 13:10:53 -08:00)\n"
     ]
    }
   ],
   "source": [
    "def options_mrkt_test(symbol : str, expiration : str, option : str):\n",
    "    stock = yf.Ticker(symbol)\n",
    "    current_price = stock.info['currentPrice']\n",
    "    dividend = stock.info['dividendRate']\n",
    "    url = ('https://www.treasury.gov/resource-center/'\n",
    "    'data-chart-center/interest-rates/Pages/TextView.aspx?data=yield')\n",
    "    rates = pd.read_html(url)\n",
    "    risk_free_rate = rates[1]['3 mo']\n",
    "    print(f\"Current Price: ${current_price}\")\n",
    "    print(f\"Dividend: ${dividend}\")\n",
    "    print(f\"3 Month TBill Rate: {risk_free_rate.to_string().split()[1]}%\")\n",
    "    opt = stock.option_chain(expiration)\n",
    "    if option == 'calls':\n",
    "        return opt.calls.sort_values(by='strike')\n",
    "    elif option == 'puts':\n",
    "        return opt.puts.sort_values(by='strike')"
   ]
  },
  {
   "cell_type": "code",
   "execution_count": 28,
   "id": "c2b137bf-5db1-44f9-a331-862c108e9536",
   "metadata": {
    "execution": {
     "iopub.execute_input": "2021-11-18T21:15:52.925369Z",
     "iopub.status.busy": "2021-11-18T21:15:52.924990Z",
     "iopub.status.idle": "2021-11-18T21:15:56.388760Z",
     "shell.execute_reply": "2021-11-18T21:15:56.387988Z",
     "shell.execute_reply.started": "2021-11-18T21:15:52.925326Z"
    },
    "tags": []
   },
   "outputs": [
    {
     "name": "stdout",
     "output_type": "stream",
     "text": [
      "Current Price: $178.77\n",
      "Dividend: $5.92\n",
      "3 Month TBill Rate: 0.05%\n"
     ]
    },
    {
     "data": {
      "text/html": [
       "<div>\n",
       "<style scoped>\n",
       "    .dataframe tbody tr th:only-of-type {\n",
       "        vertical-align: middle;\n",
       "    }\n",
       "\n",
       "    .dataframe tbody tr th {\n",
       "        vertical-align: top;\n",
       "    }\n",
       "\n",
       "    .dataframe thead th {\n",
       "        text-align: right;\n",
       "    }\n",
       "</style>\n",
       "<table border=\"1\" class=\"dataframe\">\n",
       "  <thead>\n",
       "    <tr style=\"text-align: right;\">\n",
       "      <th></th>\n",
       "      <th>contractSymbol</th>\n",
       "      <th>lastTradeDate</th>\n",
       "      <th>strike</th>\n",
       "      <th>lastPrice</th>\n",
       "      <th>bid</th>\n",
       "      <th>ask</th>\n",
       "      <th>change</th>\n",
       "      <th>percentChange</th>\n",
       "      <th>volume</th>\n",
       "      <th>openInterest</th>\n",
       "      <th>impliedVolatility</th>\n",
       "      <th>inTheMoney</th>\n",
       "      <th>contractSize</th>\n",
       "      <th>currency</th>\n",
       "    </tr>\n",
       "  </thead>\n",
       "  <tbody>\n",
       "    <tr>\n",
       "      <th>0</th>\n",
       "      <td>MMM211119C00100000</td>\n",
       "      <td>2021-11-18 19:20:23</td>\n",
       "      <td>100.0</td>\n",
       "      <td>79.91</td>\n",
       "      <td>78.65</td>\n",
       "      <td>79.35</td>\n",
       "      <td>-0.839996</td>\n",
       "      <td>-1.040243</td>\n",
       "      <td>3.0</td>\n",
       "      <td>1</td>\n",
       "      <td>3.718751</td>\n",
       "      <td>True</td>\n",
       "      <td>REGULAR</td>\n",
       "      <td>USD</td>\n",
       "    </tr>\n",
       "    <tr>\n",
       "      <th>1</th>\n",
       "      <td>MMM211119C00110000</td>\n",
       "      <td>2021-11-17 20:15:45</td>\n",
       "      <td>110.0</td>\n",
       "      <td>73.58</td>\n",
       "      <td>68.40</td>\n",
       "      <td>69.95</td>\n",
       "      <td>0.000000</td>\n",
       "      <td>0.000000</td>\n",
       "      <td>6.0</td>\n",
       "      <td>0</td>\n",
       "      <td>3.468751</td>\n",
       "      <td>True</td>\n",
       "      <td>REGULAR</td>\n",
       "      <td>USD</td>\n",
       "    </tr>\n",
       "    <tr>\n",
       "      <th>2</th>\n",
       "      <td>MMM211119C00115000</td>\n",
       "      <td>2021-11-17 20:36:45</td>\n",
       "      <td>115.0</td>\n",
       "      <td>68.95</td>\n",
       "      <td>63.00</td>\n",
       "      <td>65.40</td>\n",
       "      <td>0.000000</td>\n",
       "      <td>0.000000</td>\n",
       "      <td>50.0</td>\n",
       "      <td>0</td>\n",
       "      <td>3.224611</td>\n",
       "      <td>True</td>\n",
       "      <td>REGULAR</td>\n",
       "      <td>USD</td>\n",
       "    </tr>\n",
       "    <tr>\n",
       "      <th>3</th>\n",
       "      <td>MMM211119C00120000</td>\n",
       "      <td>2021-11-17 20:36:45</td>\n",
       "      <td>120.0</td>\n",
       "      <td>63.70</td>\n",
       "      <td>57.70</td>\n",
       "      <td>60.90</td>\n",
       "      <td>0.000000</td>\n",
       "      <td>0.000000</td>\n",
       "      <td>55.0</td>\n",
       "      <td>0</td>\n",
       "      <td>3.070315</td>\n",
       "      <td>True</td>\n",
       "      <td>REGULAR</td>\n",
       "      <td>USD</td>\n",
       "    </tr>\n",
       "    <tr>\n",
       "      <th>4</th>\n",
       "      <td>MMM211119C00125000</td>\n",
       "      <td>2021-11-17 20:15:47</td>\n",
       "      <td>125.0</td>\n",
       "      <td>58.58</td>\n",
       "      <td>53.60</td>\n",
       "      <td>55.15</td>\n",
       "      <td>0.000000</td>\n",
       "      <td>0.000000</td>\n",
       "      <td>4.0</td>\n",
       "      <td>0</td>\n",
       "      <td>2.873050</td>\n",
       "      <td>True</td>\n",
       "      <td>REGULAR</td>\n",
       "      <td>USD</td>\n",
       "    </tr>\n",
       "    <tr>\n",
       "      <th>5</th>\n",
       "      <td>MMM211119C00140000</td>\n",
       "      <td>2021-11-17 20:15:49</td>\n",
       "      <td>140.0</td>\n",
       "      <td>43.59</td>\n",
       "      <td>38.45</td>\n",
       "      <td>39.85</td>\n",
       "      <td>0.000000</td>\n",
       "      <td>0.000000</td>\n",
       "      <td>4.0</td>\n",
       "      <td>0</td>\n",
       "      <td>1.910157</td>\n",
       "      <td>True</td>\n",
       "      <td>REGULAR</td>\n",
       "      <td>USD</td>\n",
       "    </tr>\n",
       "    <tr>\n",
       "      <th>6</th>\n",
       "      <td>MMM211119C00150000</td>\n",
       "      <td>2021-11-17 20:16:11</td>\n",
       "      <td>150.0</td>\n",
       "      <td>33.60</td>\n",
       "      <td>27.10</td>\n",
       "      <td>30.90</td>\n",
       "      <td>0.000000</td>\n",
       "      <td>0.000000</td>\n",
       "      <td>8.0</td>\n",
       "      <td>0</td>\n",
       "      <td>1.318363</td>\n",
       "      <td>True</td>\n",
       "      <td>REGULAR</td>\n",
       "      <td>USD</td>\n",
       "    </tr>\n",
       "    <tr>\n",
       "      <th>7</th>\n",
       "      <td>MMM211119C00155000</td>\n",
       "      <td>2021-11-17 19:53:16</td>\n",
       "      <td>155.0</td>\n",
       "      <td>28.00</td>\n",
       "      <td>23.80</td>\n",
       "      <td>24.55</td>\n",
       "      <td>0.000000</td>\n",
       "      <td>0.000000</td>\n",
       "      <td>60.0</td>\n",
       "      <td>1</td>\n",
       "      <td>1.247074</td>\n",
       "      <td>True</td>\n",
       "      <td>REGULAR</td>\n",
       "      <td>USD</td>\n",
       "    </tr>\n",
       "    <tr>\n",
       "      <th>8</th>\n",
       "      <td>MMM211119C00160000</td>\n",
       "      <td>2021-11-17 20:16:12</td>\n",
       "      <td>160.0</td>\n",
       "      <td>23.60</td>\n",
       "      <td>17.90</td>\n",
       "      <td>20.30</td>\n",
       "      <td>0.000000</td>\n",
       "      <td>0.000000</td>\n",
       "      <td>5.0</td>\n",
       "      <td>1</td>\n",
       "      <td>0.976563</td>\n",
       "      <td>True</td>\n",
       "      <td>REGULAR</td>\n",
       "      <td>USD</td>\n",
       "    </tr>\n",
       "    <tr>\n",
       "      <th>9</th>\n",
       "      <td>MMM211119C00162500</td>\n",
       "      <td>2021-11-10 14:30:12</td>\n",
       "      <td>162.5</td>\n",
       "      <td>19.05</td>\n",
       "      <td>14.50</td>\n",
       "      <td>18.30</td>\n",
       "      <td>0.000000</td>\n",
       "      <td>0.000000</td>\n",
       "      <td>1.0</td>\n",
       "      <td>0</td>\n",
       "      <td>0.716800</td>\n",
       "      <td>True</td>\n",
       "      <td>REGULAR</td>\n",
       "      <td>USD</td>\n",
       "    </tr>\n",
       "    <tr>\n",
       "      <th>10</th>\n",
       "      <td>MMM211119C00165000</td>\n",
       "      <td>2021-11-17 20:03:28</td>\n",
       "      <td>165.0</td>\n",
       "      <td>18.70</td>\n",
       "      <td>13.75</td>\n",
       "      <td>14.65</td>\n",
       "      <td>0.000000</td>\n",
       "      <td>0.000000</td>\n",
       "      <td>810.0</td>\n",
       "      <td>0</td>\n",
       "      <td>0.808596</td>\n",
       "      <td>True</td>\n",
       "      <td>REGULAR</td>\n",
       "      <td>USD</td>\n",
       "    </tr>\n",
       "    <tr>\n",
       "      <th>11</th>\n",
       "      <td>MMM211119C00167500</td>\n",
       "      <td>2021-10-27 16:34:41</td>\n",
       "      <td>167.5</td>\n",
       "      <td>12.75</td>\n",
       "      <td>9.80</td>\n",
       "      <td>11.90</td>\n",
       "      <td>0.000000</td>\n",
       "      <td>0.000000</td>\n",
       "      <td>NaN</td>\n",
       "      <td>0</td>\n",
       "      <td>0.772951</td>\n",
       "      <td>True</td>\n",
       "      <td>REGULAR</td>\n",
       "      <td>USD</td>\n",
       "    </tr>\n",
       "    <tr>\n",
       "      <th>12</th>\n",
       "      <td>MMM211119C00170000</td>\n",
       "      <td>2021-11-17 20:03:28</td>\n",
       "      <td>170.0</td>\n",
       "      <td>13.35</td>\n",
       "      <td>8.05</td>\n",
       "      <td>9.40</td>\n",
       "      <td>0.000000</td>\n",
       "      <td>0.000000</td>\n",
       "      <td>810.0</td>\n",
       "      <td>3</td>\n",
       "      <td>0.646488</td>\n",
       "      <td>True</td>\n",
       "      <td>REGULAR</td>\n",
       "      <td>USD</td>\n",
       "    </tr>\n",
       "    <tr>\n",
       "      <th>13</th>\n",
       "      <td>MMM211119C00172500</td>\n",
       "      <td>2021-11-17 20:16:36</td>\n",
       "      <td>172.5</td>\n",
       "      <td>11.13</td>\n",
       "      <td>4.95</td>\n",
       "      <td>6.95</td>\n",
       "      <td>0.000000</td>\n",
       "      <td>0.000000</td>\n",
       "      <td>5.0</td>\n",
       "      <td>0</td>\n",
       "      <td>0.530278</td>\n",
       "      <td>True</td>\n",
       "      <td>REGULAR</td>\n",
       "      <td>USD</td>\n",
       "    </tr>\n",
       "    <tr>\n",
       "      <th>14</th>\n",
       "      <td>MMM211119C00175000</td>\n",
       "      <td>2021-11-17 20:48:48</td>\n",
       "      <td>175.0</td>\n",
       "      <td>8.60</td>\n",
       "      <td>3.45</td>\n",
       "      <td>4.45</td>\n",
       "      <td>0.000000</td>\n",
       "      <td>0.000000</td>\n",
       "      <td>1354.0</td>\n",
       "      <td>1</td>\n",
       "      <td>0.389166</td>\n",
       "      <td>True</td>\n",
       "      <td>REGULAR</td>\n",
       "      <td>USD</td>\n",
       "    </tr>\n",
       "    <tr>\n",
       "      <th>15</th>\n",
       "      <td>MMM211119C00177500</td>\n",
       "      <td>2021-11-18 20:58:11</td>\n",
       "      <td>177.5</td>\n",
       "      <td>1.90</td>\n",
       "      <td>1.43</td>\n",
       "      <td>1.85</td>\n",
       "      <td>-4.250000</td>\n",
       "      <td>-69.105690</td>\n",
       "      <td>15.0</td>\n",
       "      <td>0</td>\n",
       "      <td>0.208992</td>\n",
       "      <td>True</td>\n",
       "      <td>REGULAR</td>\n",
       "      <td>USD</td>\n",
       "    </tr>\n",
       "    <tr>\n",
       "      <th>16</th>\n",
       "      <td>MMM211119C00180000</td>\n",
       "      <td>2021-11-18 20:55:01</td>\n",
       "      <td>180.0</td>\n",
       "      <td>0.45</td>\n",
       "      <td>0.30</td>\n",
       "      <td>0.40</td>\n",
       "      <td>-2.750000</td>\n",
       "      <td>-85.937500</td>\n",
       "      <td>353.0</td>\n",
       "      <td>35</td>\n",
       "      <td>0.166512</td>\n",
       "      <td>False</td>\n",
       "      <td>REGULAR</td>\n",
       "      <td>USD</td>\n",
       "    </tr>\n",
       "    <tr>\n",
       "      <th>17</th>\n",
       "      <td>MMM211119C00182500</td>\n",
       "      <td>2021-11-18 20:59:05</td>\n",
       "      <td>182.5</td>\n",
       "      <td>0.10</td>\n",
       "      <td>0.06</td>\n",
       "      <td>0.10</td>\n",
       "      <td>-0.880000</td>\n",
       "      <td>-89.795910</td>\n",
       "      <td>419.0</td>\n",
       "      <td>592</td>\n",
       "      <td>0.200203</td>\n",
       "      <td>False</td>\n",
       "      <td>REGULAR</td>\n",
       "      <td>USD</td>\n",
       "    </tr>\n",
       "    <tr>\n",
       "      <th>18</th>\n",
       "      <td>MMM211119C00185000</td>\n",
       "      <td>2021-11-18 20:56:46</td>\n",
       "      <td>185.0</td>\n",
       "      <td>0.04</td>\n",
       "      <td>0.03</td>\n",
       "      <td>0.04</td>\n",
       "      <td>-0.170000</td>\n",
       "      <td>-80.952380</td>\n",
       "      <td>432.0</td>\n",
       "      <td>2756</td>\n",
       "      <td>0.248054</td>\n",
       "      <td>False</td>\n",
       "      <td>REGULAR</td>\n",
       "      <td>USD</td>\n",
       "    </tr>\n",
       "    <tr>\n",
       "      <th>19</th>\n",
       "      <td>MMM211119C00187500</td>\n",
       "      <td>2021-11-18 20:58:10</td>\n",
       "      <td>187.5</td>\n",
       "      <td>0.01</td>\n",
       "      <td>0.00</td>\n",
       "      <td>0.01</td>\n",
       "      <td>-0.080000</td>\n",
       "      <td>-88.888890</td>\n",
       "      <td>896.0</td>\n",
       "      <td>2137</td>\n",
       "      <td>0.265632</td>\n",
       "      <td>False</td>\n",
       "      <td>REGULAR</td>\n",
       "      <td>USD</td>\n",
       "    </tr>\n",
       "    <tr>\n",
       "      <th>20</th>\n",
       "      <td>MMM211119C00190000</td>\n",
       "      <td>2021-11-18 20:52:18</td>\n",
       "      <td>190.0</td>\n",
       "      <td>0.02</td>\n",
       "      <td>0.00</td>\n",
       "      <td>0.03</td>\n",
       "      <td>-0.020000</td>\n",
       "      <td>-50.000000</td>\n",
       "      <td>416.0</td>\n",
       "      <td>3417</td>\n",
       "      <td>0.382819</td>\n",
       "      <td>False</td>\n",
       "      <td>REGULAR</td>\n",
       "      <td>USD</td>\n",
       "    </tr>\n",
       "    <tr>\n",
       "      <th>21</th>\n",
       "      <td>MMM211119C00192500</td>\n",
       "      <td>2021-11-18 20:03:06</td>\n",
       "      <td>192.5</td>\n",
       "      <td>0.01</td>\n",
       "      <td>0.00</td>\n",
       "      <td>0.10</td>\n",
       "      <td>-0.010000</td>\n",
       "      <td>-50.000000</td>\n",
       "      <td>7.0</td>\n",
       "      <td>411</td>\n",
       "      <td>0.546880</td>\n",
       "      <td>False</td>\n",
       "      <td>REGULAR</td>\n",
       "      <td>USD</td>\n",
       "    </tr>\n",
       "    <tr>\n",
       "      <th>22</th>\n",
       "      <td>MMM211119C00195000</td>\n",
       "      <td>2021-11-18 18:40:09</td>\n",
       "      <td>195.0</td>\n",
       "      <td>0.01</td>\n",
       "      <td>0.00</td>\n",
       "      <td>0.04</td>\n",
       "      <td>-0.030000</td>\n",
       "      <td>-75.000000</td>\n",
       "      <td>7.0</td>\n",
       "      <td>1293</td>\n",
       "      <td>0.542973</td>\n",
       "      <td>False</td>\n",
       "      <td>REGULAR</td>\n",
       "      <td>USD</td>\n",
       "    </tr>\n",
       "    <tr>\n",
       "      <th>23</th>\n",
       "      <td>MMM211119C00197500</td>\n",
       "      <td>2021-11-16 15:06:55</td>\n",
       "      <td>197.5</td>\n",
       "      <td>0.01</td>\n",
       "      <td>0.00</td>\n",
       "      <td>0.01</td>\n",
       "      <td>0.000000</td>\n",
       "      <td>0.000000</td>\n",
       "      <td>1.0</td>\n",
       "      <td>69</td>\n",
       "      <td>0.515630</td>\n",
       "      <td>False</td>\n",
       "      <td>REGULAR</td>\n",
       "      <td>USD</td>\n",
       "    </tr>\n",
       "    <tr>\n",
       "      <th>24</th>\n",
       "      <td>MMM211119C00200000</td>\n",
       "      <td>2021-11-18 19:42:28</td>\n",
       "      <td>200.0</td>\n",
       "      <td>0.01</td>\n",
       "      <td>0.00</td>\n",
       "      <td>0.05</td>\n",
       "      <td>0.000000</td>\n",
       "      <td>0.000000</td>\n",
       "      <td>7.0</td>\n",
       "      <td>634</td>\n",
       "      <td>0.632816</td>\n",
       "      <td>False</td>\n",
       "      <td>REGULAR</td>\n",
       "      <td>USD</td>\n",
       "    </tr>\n",
       "    <tr>\n",
       "      <th>25</th>\n",
       "      <td>MMM211119C00202500</td>\n",
       "      <td>2021-11-18 19:53:10</td>\n",
       "      <td>202.5</td>\n",
       "      <td>0.01</td>\n",
       "      <td>0.00</td>\n",
       "      <td>2.13</td>\n",
       "      <td>-0.040000</td>\n",
       "      <td>-80.000010</td>\n",
       "      <td>6.0</td>\n",
       "      <td>14</td>\n",
       "      <td>1.387698</td>\n",
       "      <td>False</td>\n",
       "      <td>REGULAR</td>\n",
       "      <td>USD</td>\n",
       "    </tr>\n",
       "    <tr>\n",
       "      <th>26</th>\n",
       "      <td>MMM211119C00205000</td>\n",
       "      <td>2021-11-15 14:50:46</td>\n",
       "      <td>205.0</td>\n",
       "      <td>0.02</td>\n",
       "      <td>0.00</td>\n",
       "      <td>2.13</td>\n",
       "      <td>0.000000</td>\n",
       "      <td>0.000000</td>\n",
       "      <td>2.0</td>\n",
       "      <td>12</td>\n",
       "      <td>1.481448</td>\n",
       "      <td>False</td>\n",
       "      <td>REGULAR</td>\n",
       "      <td>USD</td>\n",
       "    </tr>\n",
       "    <tr>\n",
       "      <th>27</th>\n",
       "      <td>MMM211119C00210000</td>\n",
       "      <td>2021-11-18 17:02:26</td>\n",
       "      <td>210.0</td>\n",
       "      <td>0.01</td>\n",
       "      <td>0.00</td>\n",
       "      <td>0.34</td>\n",
       "      <td>-0.010000</td>\n",
       "      <td>-50.000000</td>\n",
       "      <td>2.0</td>\n",
       "      <td>160</td>\n",
       "      <td>1.132817</td>\n",
       "      <td>False</td>\n",
       "      <td>REGULAR</td>\n",
       "      <td>USD</td>\n",
       "    </tr>\n",
       "    <tr>\n",
       "      <th>28</th>\n",
       "      <td>MMM211119C00215000</td>\n",
       "      <td>2021-11-04 13:49:52</td>\n",
       "      <td>215.0</td>\n",
       "      <td>0.08</td>\n",
       "      <td>0.00</td>\n",
       "      <td>2.12</td>\n",
       "      <td>0.000000</td>\n",
       "      <td>0.000000</td>\n",
       "      <td>21.0</td>\n",
       "      <td>1</td>\n",
       "      <td>1.832032</td>\n",
       "      <td>False</td>\n",
       "      <td>REGULAR</td>\n",
       "      <td>USD</td>\n",
       "    </tr>\n",
       "    <tr>\n",
       "      <th>29</th>\n",
       "      <td>MMM211119C00220000</td>\n",
       "      <td>2021-11-18 15:07:32</td>\n",
       "      <td>220.0</td>\n",
       "      <td>0.01</td>\n",
       "      <td>0.00</td>\n",
       "      <td>0.10</td>\n",
       "      <td>0.000000</td>\n",
       "      <td>0.000000</td>\n",
       "      <td>1.0</td>\n",
       "      <td>317</td>\n",
       "      <td>1.179692</td>\n",
       "      <td>False</td>\n",
       "      <td>REGULAR</td>\n",
       "      <td>USD</td>\n",
       "    </tr>\n",
       "    <tr>\n",
       "      <th>30</th>\n",
       "      <td>MMM211119C00230000</td>\n",
       "      <td>2021-10-11 14:11:02</td>\n",
       "      <td>230.0</td>\n",
       "      <td>0.07</td>\n",
       "      <td>0.00</td>\n",
       "      <td>1.38</td>\n",
       "      <td>0.000000</td>\n",
       "      <td>0.000000</td>\n",
       "      <td>4.0</td>\n",
       "      <td>149</td>\n",
       "      <td>2.096684</td>\n",
       "      <td>False</td>\n",
       "      <td>REGULAR</td>\n",
       "      <td>USD</td>\n",
       "    </tr>\n",
       "    <tr>\n",
       "      <th>31</th>\n",
       "      <td>MMM211119C00235000</td>\n",
       "      <td>2021-11-12 15:14:02</td>\n",
       "      <td>235.0</td>\n",
       "      <td>0.03</td>\n",
       "      <td>0.00</td>\n",
       "      <td>0.10</td>\n",
       "      <td>0.000000</td>\n",
       "      <td>0.000000</td>\n",
       "      <td>27.0</td>\n",
       "      <td>25</td>\n",
       "      <td>1.496096</td>\n",
       "      <td>False</td>\n",
       "      <td>REGULAR</td>\n",
       "      <td>USD</td>\n",
       "    </tr>\n",
       "    <tr>\n",
       "      <th>32</th>\n",
       "      <td>MMM211119C00240000</td>\n",
       "      <td>2021-10-15 15:50:04</td>\n",
       "      <td>240.0</td>\n",
       "      <td>0.04</td>\n",
       "      <td>0.00</td>\n",
       "      <td>1.31</td>\n",
       "      <td>0.000000</td>\n",
       "      <td>0.000000</td>\n",
       "      <td>1.0</td>\n",
       "      <td>220</td>\n",
       "      <td>2.340824</td>\n",
       "      <td>False</td>\n",
       "      <td>REGULAR</td>\n",
       "      <td>USD</td>\n",
       "    </tr>\n",
       "    <tr>\n",
       "      <th>33</th>\n",
       "      <td>MMM211119C00270000</td>\n",
       "      <td>2021-10-01 17:38:16</td>\n",
       "      <td>270.0</td>\n",
       "      <td>0.01</td>\n",
       "      <td>0.00</td>\n",
       "      <td>0.28</td>\n",
       "      <td>0.000000</td>\n",
       "      <td>0.000000</td>\n",
       "      <td>1.0</td>\n",
       "      <td>0</td>\n",
       "      <td>2.414066</td>\n",
       "      <td>False</td>\n",
       "      <td>REGULAR</td>\n",
       "      <td>USD</td>\n",
       "    </tr>\n",
       "  </tbody>\n",
       "</table>\n",
       "</div>"
      ],
      "text/plain": [
       "        contractSymbol       lastTradeDate  strike  lastPrice    bid    ask  \\\n",
       "0   MMM211119C00100000 2021-11-18 19:20:23   100.0      79.91  78.65  79.35   \n",
       "1   MMM211119C00110000 2021-11-17 20:15:45   110.0      73.58  68.40  69.95   \n",
       "2   MMM211119C00115000 2021-11-17 20:36:45   115.0      68.95  63.00  65.40   \n",
       "3   MMM211119C00120000 2021-11-17 20:36:45   120.0      63.70  57.70  60.90   \n",
       "4   MMM211119C00125000 2021-11-17 20:15:47   125.0      58.58  53.60  55.15   \n",
       "5   MMM211119C00140000 2021-11-17 20:15:49   140.0      43.59  38.45  39.85   \n",
       "6   MMM211119C00150000 2021-11-17 20:16:11   150.0      33.60  27.10  30.90   \n",
       "7   MMM211119C00155000 2021-11-17 19:53:16   155.0      28.00  23.80  24.55   \n",
       "8   MMM211119C00160000 2021-11-17 20:16:12   160.0      23.60  17.90  20.30   \n",
       "9   MMM211119C00162500 2021-11-10 14:30:12   162.5      19.05  14.50  18.30   \n",
       "10  MMM211119C00165000 2021-11-17 20:03:28   165.0      18.70  13.75  14.65   \n",
       "11  MMM211119C00167500 2021-10-27 16:34:41   167.5      12.75   9.80  11.90   \n",
       "12  MMM211119C00170000 2021-11-17 20:03:28   170.0      13.35   8.05   9.40   \n",
       "13  MMM211119C00172500 2021-11-17 20:16:36   172.5      11.13   4.95   6.95   \n",
       "14  MMM211119C00175000 2021-11-17 20:48:48   175.0       8.60   3.45   4.45   \n",
       "15  MMM211119C00177500 2021-11-18 20:58:11   177.5       1.90   1.43   1.85   \n",
       "16  MMM211119C00180000 2021-11-18 20:55:01   180.0       0.45   0.30   0.40   \n",
       "17  MMM211119C00182500 2021-11-18 20:59:05   182.5       0.10   0.06   0.10   \n",
       "18  MMM211119C00185000 2021-11-18 20:56:46   185.0       0.04   0.03   0.04   \n",
       "19  MMM211119C00187500 2021-11-18 20:58:10   187.5       0.01   0.00   0.01   \n",
       "20  MMM211119C00190000 2021-11-18 20:52:18   190.0       0.02   0.00   0.03   \n",
       "21  MMM211119C00192500 2021-11-18 20:03:06   192.5       0.01   0.00   0.10   \n",
       "22  MMM211119C00195000 2021-11-18 18:40:09   195.0       0.01   0.00   0.04   \n",
       "23  MMM211119C00197500 2021-11-16 15:06:55   197.5       0.01   0.00   0.01   \n",
       "24  MMM211119C00200000 2021-11-18 19:42:28   200.0       0.01   0.00   0.05   \n",
       "25  MMM211119C00202500 2021-11-18 19:53:10   202.5       0.01   0.00   2.13   \n",
       "26  MMM211119C00205000 2021-11-15 14:50:46   205.0       0.02   0.00   2.13   \n",
       "27  MMM211119C00210000 2021-11-18 17:02:26   210.0       0.01   0.00   0.34   \n",
       "28  MMM211119C00215000 2021-11-04 13:49:52   215.0       0.08   0.00   2.12   \n",
       "29  MMM211119C00220000 2021-11-18 15:07:32   220.0       0.01   0.00   0.10   \n",
       "30  MMM211119C00230000 2021-10-11 14:11:02   230.0       0.07   0.00   1.38   \n",
       "31  MMM211119C00235000 2021-11-12 15:14:02   235.0       0.03   0.00   0.10   \n",
       "32  MMM211119C00240000 2021-10-15 15:50:04   240.0       0.04   0.00   1.31   \n",
       "33  MMM211119C00270000 2021-10-01 17:38:16   270.0       0.01   0.00   0.28   \n",
       "\n",
       "      change  percentChange  volume  openInterest  impliedVolatility  \\\n",
       "0  -0.839996      -1.040243     3.0             1           3.718751   \n",
       "1   0.000000       0.000000     6.0             0           3.468751   \n",
       "2   0.000000       0.000000    50.0             0           3.224611   \n",
       "3   0.000000       0.000000    55.0             0           3.070315   \n",
       "4   0.000000       0.000000     4.0             0           2.873050   \n",
       "5   0.000000       0.000000     4.0             0           1.910157   \n",
       "6   0.000000       0.000000     8.0             0           1.318363   \n",
       "7   0.000000       0.000000    60.0             1           1.247074   \n",
       "8   0.000000       0.000000     5.0             1           0.976563   \n",
       "9   0.000000       0.000000     1.0             0           0.716800   \n",
       "10  0.000000       0.000000   810.0             0           0.808596   \n",
       "11  0.000000       0.000000     NaN             0           0.772951   \n",
       "12  0.000000       0.000000   810.0             3           0.646488   \n",
       "13  0.000000       0.000000     5.0             0           0.530278   \n",
       "14  0.000000       0.000000  1354.0             1           0.389166   \n",
       "15 -4.250000     -69.105690    15.0             0           0.208992   \n",
       "16 -2.750000     -85.937500   353.0            35           0.166512   \n",
       "17 -0.880000     -89.795910   419.0           592           0.200203   \n",
       "18 -0.170000     -80.952380   432.0          2756           0.248054   \n",
       "19 -0.080000     -88.888890   896.0          2137           0.265632   \n",
       "20 -0.020000     -50.000000   416.0          3417           0.382819   \n",
       "21 -0.010000     -50.000000     7.0           411           0.546880   \n",
       "22 -0.030000     -75.000000     7.0          1293           0.542973   \n",
       "23  0.000000       0.000000     1.0            69           0.515630   \n",
       "24  0.000000       0.000000     7.0           634           0.632816   \n",
       "25 -0.040000     -80.000010     6.0            14           1.387698   \n",
       "26  0.000000       0.000000     2.0            12           1.481448   \n",
       "27 -0.010000     -50.000000     2.0           160           1.132817   \n",
       "28  0.000000       0.000000    21.0             1           1.832032   \n",
       "29  0.000000       0.000000     1.0           317           1.179692   \n",
       "30  0.000000       0.000000     4.0           149           2.096684   \n",
       "31  0.000000       0.000000    27.0            25           1.496096   \n",
       "32  0.000000       0.000000     1.0           220           2.340824   \n",
       "33  0.000000       0.000000     1.0             0           2.414066   \n",
       "\n",
       "    inTheMoney contractSize currency  \n",
       "0         True      REGULAR      USD  \n",
       "1         True      REGULAR      USD  \n",
       "2         True      REGULAR      USD  \n",
       "3         True      REGULAR      USD  \n",
       "4         True      REGULAR      USD  \n",
       "5         True      REGULAR      USD  \n",
       "6         True      REGULAR      USD  \n",
       "7         True      REGULAR      USD  \n",
       "8         True      REGULAR      USD  \n",
       "9         True      REGULAR      USD  \n",
       "10        True      REGULAR      USD  \n",
       "11        True      REGULAR      USD  \n",
       "12        True      REGULAR      USD  \n",
       "13        True      REGULAR      USD  \n",
       "14        True      REGULAR      USD  \n",
       "15        True      REGULAR      USD  \n",
       "16       False      REGULAR      USD  \n",
       "17       False      REGULAR      USD  \n",
       "18       False      REGULAR      USD  \n",
       "19       False      REGULAR      USD  \n",
       "20       False      REGULAR      USD  \n",
       "21       False      REGULAR      USD  \n",
       "22       False      REGULAR      USD  \n",
       "23       False      REGULAR      USD  \n",
       "24       False      REGULAR      USD  \n",
       "25       False      REGULAR      USD  \n",
       "26       False      REGULAR      USD  \n",
       "27       False      REGULAR      USD  \n",
       "28       False      REGULAR      USD  \n",
       "29       False      REGULAR      USD  \n",
       "30       False      REGULAR      USD  \n",
       "31       False      REGULAR      USD  \n",
       "32       False      REGULAR      USD  \n",
       "33       False      REGULAR      USD  "
      ]
     },
     "execution_count": 28,
     "metadata": {},
     "output_type": "execute_result"
    },
    {
     "name": "stdout",
     "output_type": "stream",
     "text": [
      "time: 3.41 s (started: 2021-11-18 13:15:52 -08:00)\n"
     ]
    }
   ],
   "source": [
    "options_mrkt_test('MMM', '2021-11-19', 'calls' )"
   ]
  },
  {
   "cell_type": "code",
   "execution_count": null,
   "id": "3cb8bb87-8faa-4ff8-8c68-c7a88b36ac25",
   "metadata": {},
   "outputs": [],
   "source": []
  }
 ],
 "metadata": {
  "kernelspec": {
   "display_name": "options_apps",
   "language": "python",
   "name": "options_apps"
  },
  "language_info": {
   "codemirror_mode": {
    "name": "ipython",
    "version": 3
   },
   "file_extension": ".py",
   "mimetype": "text/x-python",
   "name": "python",
   "nbconvert_exporter": "python",
   "pygments_lexer": "ipython3",
   "version": "3.9.7"
  }
 },
 "nbformat": 4,
 "nbformat_minor": 5
}
