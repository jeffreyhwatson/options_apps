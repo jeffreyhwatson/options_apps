{
 "cells": [
  {
   "cell_type": "code",
   "execution_count": 1,
   "id": "042caaf9-1515-4cd6-8ea5-fc8c1686ca4a",
   "metadata": {
    "execution": {
     "iopub.execute_input": "2021-11-02T21:27:04.654704Z",
     "iopub.status.busy": "2021-11-02T21:27:04.654106Z",
     "iopub.status.idle": "2021-11-02T21:27:04.727418Z",
     "shell.execute_reply": "2021-11-02T21:27:04.726818Z",
     "shell.execute_reply.started": "2021-11-02T21:27:04.654539Z"
    },
    "tags": []
   },
   "outputs": [
    {
     "name": "stdout",
     "output_type": "stream",
     "text": [
      "time: 491 µs (started: 2021-11-02 14:27:04 -07:00)\n"
     ]
    }
   ],
   "source": [
    "%load_ext autoreload\n",
    "%load_ext autotime\n",
    "%autoreload 2"
   ]
  },
  {
   "cell_type": "code",
   "execution_count": 2,
   "id": "87110252-c97b-4947-b2f4-a75ed8c1298b",
   "metadata": {
    "execution": {
     "iopub.execute_input": "2021-11-02T21:27:04.728454Z",
     "iopub.status.busy": "2021-11-02T21:27:04.728304Z",
     "iopub.status.idle": "2021-11-02T21:27:06.599983Z",
     "shell.execute_reply": "2021-11-02T21:27:06.599162Z",
     "shell.execute_reply.started": "2021-11-02T21:27:04.728437Z"
    }
   },
   "outputs": [
    {
     "name": "stdout",
     "output_type": "stream",
     "text": [
      "time: 1.85 s (started: 2021-11-02 14:27:04 -07:00)\n"
     ]
    }
   ],
   "source": [
    "import requests, math\n",
    "from bs4 import BeautifulSoup\n",
    "import spacy\n",
    "import yfinance as yf\n",
    "import pandas as pd\n",
    "import numpy as np\n",
    "import seaborn as sns\n",
    "from datetime import datetime\n",
    "import time"
   ]
  },
  {
   "cell_type": "markdown",
   "id": "d2e9c009-c318-40b4-9b1c-6e963146587a",
   "metadata": {},
   "source": [
    "## requests: Grabbing Headlines"
   ]
  },
  {
   "cell_type": "code",
   "execution_count": 3,
   "id": "28eee855-23ef-4248-a7b1-a83a0f897418",
   "metadata": {
    "execution": {
     "iopub.execute_input": "2021-11-02T21:27:06.602583Z",
     "iopub.status.busy": "2021-11-02T21:27:06.602092Z",
     "iopub.status.idle": "2021-11-02T21:27:07.068030Z",
     "shell.execute_reply": "2021-11-02T21:27:07.066646Z",
     "shell.execute_reply.started": "2021-11-02T21:27:06.602561Z"
    },
    "tags": []
   },
   "outputs": [
    {
     "data": {
      "text/plain": [
       "<Response [200]>"
      ]
     },
     "execution_count": 3,
     "metadata": {},
     "output_type": "execute_result"
    },
    {
     "name": "stdout",
     "output_type": "stream",
     "text": [
      "time: 426 ms (started: 2021-11-02 14:27:06 -07:00)\n"
     ]
    }
   ],
   "source": [
    "# grabbing headlines\n",
    "resp = requests.get(\"http://feeds.marketwatch.com/marketwatch/topstories/\")\n",
    "resp"
   ]
  },
  {
   "cell_type": "markdown",
   "id": "24e85d1d-a838-41c9-91d7-c4570d8240ec",
   "metadata": {
    "execution": {
     "iopub.execute_input": "2021-10-02T04:19:19.925337Z",
     "iopub.status.busy": "2021-10-02T04:19:19.924939Z",
     "iopub.status.idle": "2021-10-02T04:19:19.932717Z",
     "shell.execute_reply": "2021-10-02T04:19:19.930662Z",
     "shell.execute_reply.started": "2021-10-02T04:19:19.925295Z"
    }
   },
   "source": [
    "## bs4: Saving Headlines to a List"
   ]
  },
  {
   "cell_type": "code",
   "execution_count": 4,
   "id": "37fbf4e8-471b-4f06-b7a4-8be588bfa4ce",
   "metadata": {
    "execution": {
     "iopub.execute_input": "2021-11-02T21:27:07.070805Z",
     "iopub.status.busy": "2021-11-02T21:27:07.070132Z",
     "iopub.status.idle": "2021-11-02T21:27:07.146153Z",
     "shell.execute_reply": "2021-11-02T21:27:07.145482Z",
     "shell.execute_reply.started": "2021-11-02T21:27:07.070760Z"
    },
    "tags": []
   },
   "outputs": [
    {
     "data": {
      "text/plain": [
       "[<title>MarketWatch.com - Top Stories</title>,\n",
       " <title>MarketWatch.com - Top Stories</title>,\n",
       " <title>Washington Watch: ‘Big mistake’ for China to skip COP26 in-person climate summit, Biden says</title>,\n",
       " <title>Key Words: BlackRock’s Larry Fink warns that oil assets will shift to private hands to avoid scrutiny — and that’s ‘greenwashing’</title>,\n",
       " <title>: Bed Bath &amp; Beyond stock jumps 80% after online, in-store retail partnership with Kroger</title>,\n",
       " <title>NewsWatch: Zillow to stop flipping homes for good as it stands to lose more than $550 million, will lay off a quarter of staff</title>,\n",
       " <title>Earnings Results: Zillow to stop flipping homes for good as it stands to lose more than $550 million, will lay off a quarter of staff</title>,\n",
       " <title>Crypto: Can you buy Shiba Inu on Robinhood?</title>,\n",
       " <title>Earnings Results: T-Mobile tops earnings expectations but misses on revenue</title>,\n",
       " <title>: Biden promises decision ‘fairly quickly’ on Powell renomination, more Fed picks</title>,\n",
       " <title>Earnings Results: Activision Blizzard stock slides despite earnings beat, safe-workplace commitments</title>,\n",
       " <title>Market Extra: The Dow just closed above the 36,000 milestone for the first time</title>]"
      ]
     },
     "execution_count": 4,
     "metadata": {},
     "output_type": "execute_result"
    },
    {
     "name": "stdout",
     "output_type": "stream",
     "text": [
      "time: 7.4 ms (started: 2021-11-02 14:27:07 -07:00)\n"
     ]
    }
   ],
   "source": [
    "# saving headlines to a list\n",
    "soup = BeautifulSoup(resp.content, features='lxml')\n",
    "headlines = soup.findAll('title')\n",
    "headlines"
   ]
  },
  {
   "cell_type": "markdown",
   "id": "64a103b5-d156-4a63-a420-edf19d1425f4",
   "metadata": {},
   "source": [
    "## spaCy: Tests\n",
    "Testing things on a single string."
   ]
  },
  {
   "cell_type": "markdown",
   "id": "8b5e37e8-ad08-43cb-bd0c-316b1ae687ae",
   "metadata": {},
   "source": [
    "### Loading Model"
   ]
  },
  {
   "cell_type": "code",
   "execution_count": 5,
   "id": "40c1bf45-66b6-4e0d-8096-2fa953b31232",
   "metadata": {
    "execution": {
     "iopub.execute_input": "2021-11-02T21:27:07.147395Z",
     "iopub.status.busy": "2021-11-02T21:27:07.147166Z",
     "iopub.status.idle": "2021-11-02T21:27:07.685579Z",
     "shell.execute_reply": "2021-11-02T21:27:07.684525Z",
     "shell.execute_reply.started": "2021-11-02T21:27:07.147363Z"
    },
    "tags": []
   },
   "outputs": [
    {
     "name": "stdout",
     "output_type": "stream",
     "text": [
      "time: 498 ms (started: 2021-11-02 14:27:07 -07:00)\n"
     ]
    }
   ],
   "source": [
    "# loading spacy model\n",
    "nlp = spacy.load('en_core_web_sm')"
   ]
  },
  {
   "cell_type": "markdown",
   "id": "ecbc497a-1907-4df3-b811-8d737816f2a9",
   "metadata": {},
   "source": [
    "### Saving Headline String"
   ]
  },
  {
   "cell_type": "code",
   "execution_count": 6,
   "id": "e4bf1fcd-e4c7-4242-80a4-74fe2a801af1",
   "metadata": {
    "execution": {
     "iopub.execute_input": "2021-11-02T21:27:07.686965Z",
     "iopub.status.busy": "2021-11-02T21:27:07.686804Z",
     "iopub.status.idle": "2021-11-02T21:27:07.737215Z",
     "shell.execute_reply": "2021-11-02T21:27:07.736730Z",
     "shell.execute_reply.started": "2021-11-02T21:27:07.686947Z"
    },
    "tags": []
   },
   "outputs": [
    {
     "data": {
      "text/plain": [
       "Washington Watch: ‘Big mistake’ for China to skip COP26 in-person climate summit, Biden says"
      ]
     },
     "execution_count": 6,
     "metadata": {},
     "output_type": "execute_result"
    },
    {
     "name": "stdout",
     "output_type": "stream",
     "text": [
      "time: 12.2 ms (started: 2021-11-02 14:27:07 -07:00)\n"
     ]
    }
   ],
   "source": [
    "# grabbing headline string\n",
    "processed_hline = nlp(headlines[2].text)\n",
    "processed_hline"
   ]
  },
  {
   "cell_type": "markdown",
   "id": "b22eff8c-4013-46ba-9c4c-bdf8f026329d",
   "metadata": {},
   "source": [
    "### Tokenizing String"
   ]
  },
  {
   "cell_type": "code",
   "execution_count": 7,
   "id": "e3a0b3dd-c716-4edf-a5f0-d77504a32e17",
   "metadata": {
    "execution": {
     "iopub.execute_input": "2021-11-02T21:27:07.738360Z",
     "iopub.status.busy": "2021-11-02T21:27:07.738198Z",
     "iopub.status.idle": "2021-11-02T21:27:07.787797Z",
     "shell.execute_reply": "2021-11-02T21:27:07.787179Z",
     "shell.execute_reply.started": "2021-11-02T21:27:07.738342Z"
    },
    "tags": []
   },
   "outputs": [
    {
     "name": "stdout",
     "output_type": "stream",
     "text": [
      "<title>Washington Watch: ‘Big mistake’ for China to skip COP26 in-person climate summit, Biden says</title>\n",
      "Washington\n",
      "Watch\n",
      ":\n",
      "‘\n",
      "Big\n",
      "mistake\n",
      "’\n",
      "for\n",
      "China\n",
      "to\n",
      "skip\n",
      "COP26\n",
      "in\n",
      "-\n",
      "person\n",
      "climate\n",
      "summit\n",
      ",\n",
      "Biden\n",
      "says\n",
      "time: 10.1 ms (started: 2021-11-02 14:27:07 -07:00)\n"
     ]
    }
   ],
   "source": [
    "# checking a test case\n",
    "processed_hline = nlp(headlines[2].text)\n",
    "print(headlines[2])\n",
    "for token in processed_hline:\n",
    "  print(token)"
   ]
  },
  {
   "cell_type": "markdown",
   "id": "fc53aa4f-c5a8-4fa3-9c1b-ea850c32a9db",
   "metadata": {},
   "source": [
    "## Getting Org Names From Headlines"
   ]
  },
  {
   "cell_type": "code",
   "execution_count": 8,
   "id": "53e9fd0b-a896-4434-976d-5e98355705f8",
   "metadata": {
    "execution": {
     "iopub.execute_input": "2021-11-02T21:27:07.788866Z",
     "iopub.status.busy": "2021-11-02T21:27:07.788722Z",
     "iopub.status.idle": "2021-11-02T21:27:07.922136Z",
     "shell.execute_reply": "2021-11-02T21:27:07.921375Z",
     "shell.execute_reply.started": "2021-11-02T21:27:07.788848Z"
    },
    "tags": []
   },
   "outputs": [
    {
     "data": {
      "text/plain": [
       "{'Bath & Beyond', 'Biden', 'Fed', 'Kroger', 'Washington Watch'}"
      ]
     },
     "execution_count": 8,
     "metadata": {},
     "output_type": "execute_result"
    },
    {
     "name": "stdout",
     "output_type": "stream",
     "text": [
      "time: 91.5 ms (started: 2021-11-02 14:27:07 -07:00)\n"
     ]
    }
   ],
   "source": [
    "companies = []\n",
    "for title in headlines:\n",
    "    doc = nlp(title.text)\n",
    "    for token in doc.ents:\n",
    "        if token.label_ == 'ORG':\n",
    "            companies.append(token.text)\n",
    "        else:\n",
    "            pass\n",
    "companies = set(companies)\n",
    "companies"
   ]
  },
  {
   "cell_type": "markdown",
   "id": "90e46e54-cd0e-4d1b-bfdb-39c3f5b23032",
   "metadata": {},
   "source": [
    "## Scraping S&P 500 w/BeautifulSoup"
   ]
  },
  {
   "cell_type": "code",
   "execution_count": 9,
   "id": "dc3866e6-298d-4e2e-beda-5c4baad44ba8",
   "metadata": {
    "execution": {
     "iopub.execute_input": "2021-11-02T21:27:07.923259Z",
     "iopub.status.busy": "2021-11-02T21:27:07.923119Z",
     "iopub.status.idle": "2021-11-02T21:27:08.631371Z",
     "shell.execute_reply": "2021-11-02T21:27:08.630269Z",
     "shell.execute_reply.started": "2021-11-02T21:27:07.923241Z"
    },
    "tags": []
   },
   "outputs": [
    {
     "name": "stdout",
     "output_type": "stream",
     "text": [
      "[<tr>\n",
      "<td><a class=\"external text\" href=\"https://www.nyse.com/quote/XNYS:MMM\" rel=\"nofollow\">MMM</a>\n",
      "</td>\n",
      "<td><a href=\"/wiki/3M\" title=\"3M\">3M</a></td>\n",
      "<td><a class=\"external text\" href=\"https://www.sec.gov/cgi-bin/browse-edgar?CIK=MMM&amp;action=getcompany\" rel=\"nofollow\">reports</a></td>\n",
      "<td>Industrials</td>\n",
      "<td>Industrial Conglomerates</td>\n",
      "<td><a href=\"/wiki/Saint_Paul,_Minnesota\" title=\"Saint Paul, Minnesota\">Saint Paul, Minnesota</a></td>\n",
      "<td>1976-08-09</td>\n",
      "<td>0000066740</td>\n",
      "<td>1902\n",
      "</td></tr>]\n",
      "time: 670 ms (started: 2021-11-02 14:27:07 -07:00)\n"
     ]
    }
   ],
   "source": [
    "resp = requests.get('https://en.wikipedia.org/wiki/List_of_S%26P_500_companies')\n",
    "soup = BeautifulSoup(resp.text, 'lxml')\n",
    "table = soup.find('table', {'class': 'wikitable sortable'})\n",
    "# checking first stock\n",
    "print(table.findAll('tr')[1:2])"
   ]
  },
  {
   "cell_type": "markdown",
   "id": "a95b9b49-5ab4-4bf8-aff7-6b7c3fad5c4d",
   "metadata": {},
   "source": [
    "### Ticker Symbols"
   ]
  },
  {
   "cell_type": "code",
   "execution_count": 10,
   "id": "aa3c8e31-90ca-479f-aac4-6adac2fcc35f",
   "metadata": {
    "execution": {
     "iopub.execute_input": "2021-11-02T21:27:08.632870Z",
     "iopub.status.busy": "2021-11-02T21:27:08.632730Z",
     "iopub.status.idle": "2021-11-02T21:27:08.692781Z",
     "shell.execute_reply": "2021-11-02T21:27:08.692139Z",
     "shell.execute_reply.started": "2021-11-02T21:27:08.632853Z"
    },
    "tags": []
   },
   "outputs": [
    {
     "data": {
      "text/plain": [
       "['MMM', 'ABT', 'ABBV', 'ABMD', 'ACN']"
      ]
     },
     "execution_count": 10,
     "metadata": {},
     "output_type": "execute_result"
    },
    {
     "name": "stdout",
     "output_type": "stream",
     "text": [
      "time: 16.5 ms (started: 2021-11-02 14:27:08 -07:00)\n"
     ]
    }
   ],
   "source": [
    "symbols = [row.findAll('td')[0].text for row in table.findAll('tr')[1:]]\n",
    "symbols = list(map(lambda s: s.strip(), symbols))\n",
    "symbols[:5]"
   ]
  },
  {
   "cell_type": "markdown",
   "id": "00b559c3-162e-4815-8469-e769568cbbb9",
   "metadata": {},
   "source": [
    "### Names"
   ]
  },
  {
   "cell_type": "code",
   "execution_count": 11,
   "id": "35af31fa-c9c7-464a-abb3-452a0a8614d9",
   "metadata": {
    "execution": {
     "iopub.execute_input": "2021-11-02T21:27:08.694107Z",
     "iopub.status.busy": "2021-11-02T21:27:08.693866Z",
     "iopub.status.idle": "2021-11-02T21:27:08.752842Z",
     "shell.execute_reply": "2021-11-02T21:27:08.752311Z",
     "shell.execute_reply.started": "2021-11-02T21:27:08.694081Z"
    },
    "tags": []
   },
   "outputs": [
    {
     "data": {
      "text/plain": [
       "['3M', 'Abbott Laboratories', 'AbbVie', 'Abiomed', 'Accenture']"
      ]
     },
     "execution_count": 11,
     "metadata": {},
     "output_type": "execute_result"
    },
    {
     "name": "stdout",
     "output_type": "stream",
     "text": [
      "time: 16 ms (started: 2021-11-02 14:27:08 -07:00)\n"
     ]
    }
   ],
   "source": [
    "names = [row.findAll('td')[1].text for row in table.findAll('tr')[1:]]\n",
    "names = list(map(lambda n: n.strip(), names))\n",
    "names[:5]"
   ]
  },
  {
   "cell_type": "code",
   "execution_count": null,
   "id": "dbee6a8d-56ec-45c1-8574-34735a6d7167",
   "metadata": {},
   "outputs": [],
   "source": []
  }
 ],
 "metadata": {
  "kernelspec": {
   "display_name": "options_apps",
   "language": "python",
   "name": "options_apps"
  },
  "language_info": {
   "codemirror_mode": {
    "name": "ipython",
    "version": 3
   },
   "file_extension": ".py",
   "mimetype": "text/x-python",
   "name": "python",
   "nbconvert_exporter": "python",
   "pygments_lexer": "ipython3",
   "version": "3.9.7"
  }
 },
 "nbformat": 4,
 "nbformat_minor": 5
}
