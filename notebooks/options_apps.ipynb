{
 "cells": [
  {
   "cell_type": "code",
   "execution_count": 1,
   "id": "042caaf9-1515-4cd6-8ea5-fc8c1686ca4a",
   "metadata": {
    "execution": {
     "iopub.execute_input": "2021-11-03T21:42:56.182921Z",
     "iopub.status.busy": "2021-11-03T21:42:56.182575Z",
     "iopub.status.idle": "2021-11-03T21:42:56.234615Z",
     "shell.execute_reply": "2021-11-03T21:42:56.233881Z",
     "shell.execute_reply.started": "2021-11-03T21:42:56.182836Z"
    },
    "tags": []
   },
   "outputs": [
    {
     "name": "stdout",
     "output_type": "stream",
     "text": [
      "time: 619 µs (started: 2021-11-03 14:42:56 -07:00)\n"
     ]
    }
   ],
   "source": [
    "%load_ext autoreload\n",
    "%load_ext autotime\n",
    "%autoreload 2"
   ]
  },
  {
   "cell_type": "code",
   "execution_count": 2,
   "id": "87110252-c97b-4947-b2f4-a75ed8c1298b",
   "metadata": {
    "execution": {
     "iopub.execute_input": "2021-11-03T21:42:56.235966Z",
     "iopub.status.busy": "2021-11-03T21:42:56.235779Z",
     "iopub.status.idle": "2021-11-03T21:42:58.801212Z",
     "shell.execute_reply": "2021-11-03T21:42:58.800596Z",
     "shell.execute_reply.started": "2021-11-03T21:42:56.235948Z"
    },
    "tags": []
   },
   "outputs": [
    {
     "name": "stdout",
     "output_type": "stream",
     "text": [
      "time: 2.54 s (started: 2021-11-03 14:42:56 -07:00)\n"
     ]
    }
   ],
   "source": [
    "import requests, math, sys, os\n",
    "\n",
    "#  setting path\n",
    "\n",
    "gparent = os.path.join(os.pardir)\n",
    "sys.path.append(gparent)\n",
    "\n",
    "from bs4 import BeautifulSoup\n",
    "import spacy\n",
    "import yfinance as yf\n",
    "import pandas as pd\n",
    "import numpy as np\n",
    "import seaborn as sns\n",
    "from datetime import datetime\n",
    "import time\n",
    "\n",
    "from src import helper_functions as h"
   ]
  },
  {
   "cell_type": "markdown",
   "id": "d2e9c009-c318-40b4-9b1c-6e963146587a",
   "metadata": {},
   "source": [
    "## requests: Grabbing Headlines"
   ]
  },
  {
   "cell_type": "code",
   "execution_count": 3,
   "id": "28eee855-23ef-4248-a7b1-a83a0f897418",
   "metadata": {
    "execution": {
     "iopub.execute_input": "2021-11-03T21:42:58.804508Z",
     "iopub.status.busy": "2021-11-03T21:42:58.804049Z",
     "iopub.status.idle": "2021-11-03T21:42:59.235185Z",
     "shell.execute_reply": "2021-11-03T21:42:59.233871Z",
     "shell.execute_reply.started": "2021-11-03T21:42:58.804483Z"
    },
    "tags": []
   },
   "outputs": [
    {
     "data": {
      "text/plain": [
       "<Response [200]>"
      ]
     },
     "execution_count": 3,
     "metadata": {},
     "output_type": "execute_result"
    },
    {
     "name": "stdout",
     "output_type": "stream",
     "text": [
      "time: 392 ms (started: 2021-11-03 14:42:58 -07:00)\n"
     ]
    }
   ],
   "source": [
    "# grabbing headlines\n",
    "resp = requests.get(\"http://feeds.marketwatch.com/marketwatch/topstories/\")\n",
    "resp"
   ]
  },
  {
   "cell_type": "markdown",
   "id": "24e85d1d-a838-41c9-91d7-c4570d8240ec",
   "metadata": {
    "execution": {
     "iopub.execute_input": "2021-10-02T04:19:19.925337Z",
     "iopub.status.busy": "2021-10-02T04:19:19.924939Z",
     "iopub.status.idle": "2021-10-02T04:19:19.932717Z",
     "shell.execute_reply": "2021-10-02T04:19:19.930662Z",
     "shell.execute_reply.started": "2021-10-02T04:19:19.925295Z"
    }
   },
   "source": [
    "## bs4: Saving Headlines to a List"
   ]
  },
  {
   "cell_type": "code",
   "execution_count": 4,
   "id": "37fbf4e8-471b-4f06-b7a4-8be588bfa4ce",
   "metadata": {
    "execution": {
     "iopub.execute_input": "2021-11-03T21:42:59.237936Z",
     "iopub.status.busy": "2021-11-03T21:42:59.237409Z",
     "iopub.status.idle": "2021-11-03T21:42:59.306987Z",
     "shell.execute_reply": "2021-11-03T21:42:59.306248Z",
     "shell.execute_reply.started": "2021-11-03T21:42:59.237895Z"
    },
    "tags": []
   },
   "outputs": [
    {
     "data": {
      "text/plain": [
       "[<title>MarketWatch.com - Top Stories</title>,\n",
       " <title>MarketWatch.com - Top Stories</title>,\n",
       " <title>Dow Jones Newswires: Hyatt Hotels Q3 revenue more than doubles</title>,\n",
       " <title>The Moneyist: ‘I just feel like I’m behind’: I’m 29 years old. I have $4,000 in the bank and a $20,000 emergency fund. Am I doing OK financially?</title>,\n",
       " <title>Earnings Results: Qorvo stock rocked by weak holiday forecast due to semiconductor shortage</title>,\n",
       " <title>The Moneyist: ‘I believe my ex-husband influenced my father to write me out of his will. He’s a narcissist and has turned everyone against me. Should I contest it?’</title>,\n",
       " <title>The Moneyist: I rented a 3-bedroom apartment for $1,500 and charged my roommates $800 per room. I got a $100 cut each month. Was I wrong?</title>,\n",
       " <title>Earnings Results: Take-Two stock ticks higher after bookings forecast gets a boost</title>,\n",
       " <title>NewsWatch: Why the Fed’s long-awaited taper announcement isn’t rattling the stock market</title>,\n",
       " <title>Earnings Results: Roku stock falls after earnings as supply-chain issues weigh on holiday forecast</title>,\n",
       " <title>Earnings Results: Fisker’s Q3 loss widens; sourcing secured for upcoming Ocean SUV</title>,\n",
       " <title>Market Extra: Why the Fed’s long-awaited taper announcement isn’t rattling the stock market</title>]"
      ]
     },
     "execution_count": 4,
     "metadata": {},
     "output_type": "execute_result"
    },
    {
     "name": "stdout",
     "output_type": "stream",
     "text": [
      "time: 7.48 ms (started: 2021-11-03 14:42:59 -07:00)\n"
     ]
    }
   ],
   "source": [
    "# saving headlines to a list\n",
    "soup = BeautifulSoup(resp.content, features='lxml')\n",
    "headlines = soup.findAll('title')\n",
    "headlines"
   ]
  },
  {
   "cell_type": "markdown",
   "id": "64a103b5-d156-4a63-a420-edf19d1425f4",
   "metadata": {},
   "source": [
    "## spaCy: Tests\n",
    "Testing things on a single string."
   ]
  },
  {
   "cell_type": "markdown",
   "id": "8b5e37e8-ad08-43cb-bd0c-316b1ae687ae",
   "metadata": {},
   "source": [
    "### Loading Model"
   ]
  },
  {
   "cell_type": "code",
   "execution_count": 5,
   "id": "40c1bf45-66b6-4e0d-8096-2fa953b31232",
   "metadata": {
    "execution": {
     "iopub.execute_input": "2021-11-03T21:42:59.308392Z",
     "iopub.status.busy": "2021-11-03T21:42:59.308215Z",
     "iopub.status.idle": "2021-11-03T21:42:59.839045Z",
     "shell.execute_reply": "2021-11-03T21:42:59.838157Z",
     "shell.execute_reply.started": "2021-11-03T21:42:59.308371Z"
    },
    "tags": []
   },
   "outputs": [
    {
     "name": "stdout",
     "output_type": "stream",
     "text": [
      "time: 495 ms (started: 2021-11-03 14:42:59 -07:00)\n"
     ]
    }
   ],
   "source": [
    "# loading spacy model\n",
    "nlp = spacy.load('en_core_web_sm')"
   ]
  },
  {
   "cell_type": "markdown",
   "id": "ecbc497a-1907-4df3-b811-8d737816f2a9",
   "metadata": {},
   "source": [
    "### Saving Headline String"
   ]
  },
  {
   "cell_type": "code",
   "execution_count": 6,
   "id": "e4bf1fcd-e4c7-4242-80a4-74fe2a801af1",
   "metadata": {
    "execution": {
     "iopub.execute_input": "2021-11-03T21:42:59.840480Z",
     "iopub.status.busy": "2021-11-03T21:42:59.840294Z",
     "iopub.status.idle": "2021-11-03T21:42:59.889119Z",
     "shell.execute_reply": "2021-11-03T21:42:59.888441Z",
     "shell.execute_reply.started": "2021-11-03T21:42:59.840447Z"
    },
    "tags": []
   },
   "outputs": [
    {
     "data": {
      "text/plain": [
       "Dow Jones Newswires: Hyatt Hotels Q3 revenue more than doubles"
      ]
     },
     "execution_count": 6,
     "metadata": {},
     "output_type": "execute_result"
    },
    {
     "name": "stdout",
     "output_type": "stream",
     "text": [
      "time: 10.8 ms (started: 2021-11-03 14:42:59 -07:00)\n"
     ]
    }
   ],
   "source": [
    "# grabbing test headline string\n",
    "processed_hline = nlp(headlines[2].text)\n",
    "processed_hline"
   ]
  },
  {
   "cell_type": "markdown",
   "id": "b22eff8c-4013-46ba-9c4c-bdf8f026329d",
   "metadata": {},
   "source": [
    "### Tokenizing String"
   ]
  },
  {
   "cell_type": "code",
   "execution_count": 7,
   "id": "e3a0b3dd-c716-4edf-a5f0-d77504a32e17",
   "metadata": {
    "execution": {
     "iopub.execute_input": "2021-11-03T21:42:59.890803Z",
     "iopub.status.busy": "2021-11-03T21:42:59.890636Z",
     "iopub.status.idle": "2021-11-03T21:42:59.933297Z",
     "shell.execute_reply": "2021-11-03T21:42:59.932875Z",
     "shell.execute_reply.started": "2021-11-03T21:42:59.890785Z"
    },
    "tags": []
   },
   "outputs": [
    {
     "name": "stdout",
     "output_type": "stream",
     "text": [
      "<title>Dow Jones Newswires: Hyatt Hotels Q3 revenue more than doubles</title>\n",
      "Dow\n",
      "Jones\n",
      "Newswires\n",
      ":\n",
      "Hyatt\n",
      "Hotels\n",
      "Q3\n",
      "revenue\n",
      "more\n",
      "than\n",
      "doubles\n",
      "time: 7.79 ms (started: 2021-11-03 14:42:59 -07:00)\n"
     ]
    }
   ],
   "source": [
    "# checking the test case\n",
    "processed_hline = nlp(headlines[2].text)\n",
    "print(headlines[2])\n",
    "for token in processed_hline:\n",
    "  print(token)"
   ]
  },
  {
   "cell_type": "markdown",
   "id": "fc53aa4f-c5a8-4fa3-9c1b-ea850c32a9db",
   "metadata": {},
   "source": [
    "## Getting Org Names From Headlines"
   ]
  },
  {
   "cell_type": "code",
   "execution_count": 8,
   "id": "53e9fd0b-a896-4434-976d-5e98355705f8",
   "metadata": {
    "execution": {
     "iopub.execute_input": "2021-11-03T21:42:59.934802Z",
     "iopub.status.busy": "2021-11-03T21:42:59.934586Z",
     "iopub.status.idle": "2021-11-03T21:43:00.067557Z",
     "shell.execute_reply": "2021-11-03T21:43:00.066772Z",
     "shell.execute_reply.started": "2021-11-03T21:42:59.934784Z"
    },
    "tags": []
   },
   "outputs": [
    {
     "data": {
      "text/plain": [
       "{'Fed', 'Fisker'}"
      ]
     },
     "execution_count": 8,
     "metadata": {},
     "output_type": "execute_result"
    },
    {
     "name": "stdout",
     "output_type": "stream",
     "text": [
      "time: 94.7 ms (started: 2021-11-03 14:42:59 -07:00)\n"
     ]
    }
   ],
   "source": [
    "# pulling company name tokens from headlines\n",
    "companies = []\n",
    "for title in headlines:\n",
    "    doc = nlp(title.text)\n",
    "    for token in doc.ents:\n",
    "        if token.label_ == 'ORG':\n",
    "            companies.append(token.text)\n",
    "        else:\n",
    "            pass\n",
    "companies = set(companies)\n",
    "companies"
   ]
  },
  {
   "cell_type": "markdown",
   "id": "90e46e54-cd0e-4d1b-bfdb-39c3f5b23032",
   "metadata": {},
   "source": [
    "## Scraping S&P 500 w/BeautifulSoup"
   ]
  },
  {
   "cell_type": "code",
   "execution_count": 9,
   "id": "dc3866e6-298d-4e2e-beda-5c4baad44ba8",
   "metadata": {
    "execution": {
     "iopub.execute_input": "2021-11-03T21:43:00.068547Z",
     "iopub.status.busy": "2021-11-03T21:43:00.068411Z",
     "iopub.status.idle": "2021-11-03T21:43:00.725227Z",
     "shell.execute_reply": "2021-11-03T21:43:00.724352Z",
     "shell.execute_reply.started": "2021-11-03T21:43:00.068530Z"
    },
    "tags": []
   },
   "outputs": [
    {
     "name": "stdout",
     "output_type": "stream",
     "text": [
      "[<tr>\n",
      "<td><a class=\"external text\" href=\"https://www.nyse.com/quote/XNYS:MMM\" rel=\"nofollow\">MMM</a>\n",
      "</td>\n",
      "<td><a href=\"/wiki/3M\" title=\"3M\">3M</a></td>\n",
      "<td><a class=\"external text\" href=\"https://www.sec.gov/cgi-bin/browse-edgar?CIK=MMM&amp;action=getcompany\" rel=\"nofollow\">reports</a></td>\n",
      "<td>Industrials</td>\n",
      "<td>Industrial Conglomerates</td>\n",
      "<td><a href=\"/wiki/Saint_Paul,_Minnesota\" title=\"Saint Paul, Minnesota\">Saint Paul, Minnesota</a></td>\n",
      "<td>1976-08-09</td>\n",
      "<td>0000066740</td>\n",
      "<td>1902\n",
      "</td></tr>]\n",
      "time: 618 ms (started: 2021-11-03 14:43:00 -07:00)\n"
     ]
    }
   ],
   "source": [
    "# scraping S&P wikipedia page\n",
    "resp = requests.get('https://en.wikipedia.org/wiki/List_of_S%26P_500_companies')\n",
    "\n",
    "# parsing the html\n",
    "soup = BeautifulSoup(resp.text, 'lxml')\n",
    "\n",
    "# extracting the table\n",
    "table = soup.find('table', {'class': 'wikitable sortable'})\n",
    "\n",
    "# checking row with first stock\n",
    "print(table.findAll('tr')[1:2])"
   ]
  },
  {
   "cell_type": "markdown",
   "id": "a95b9b49-5ab4-4bf8-aff7-6b7c3fad5c4d",
   "metadata": {},
   "source": [
    "### Ticker Symbols"
   ]
  },
  {
   "cell_type": "code",
   "execution_count": 10,
   "id": "aa3c8e31-90ca-479f-aac4-6adac2fcc35f",
   "metadata": {
    "execution": {
     "iopub.execute_input": "2021-11-03T21:43:00.726734Z",
     "iopub.status.busy": "2021-11-03T21:43:00.726578Z",
     "iopub.status.idle": "2021-11-03T21:43:00.783429Z",
     "shell.execute_reply": "2021-11-03T21:43:00.782907Z",
     "shell.execute_reply.started": "2021-11-03T21:43:00.726717Z"
    },
    "tags": []
   },
   "outputs": [
    {
     "data": {
      "text/plain": [
       "['MMM', 'ABT', 'ABBV', 'ABMD', 'ACN']"
      ]
     },
     "execution_count": 10,
     "metadata": {},
     "output_type": "execute_result"
    },
    {
     "name": "stdout",
     "output_type": "stream",
     "text": [
      "time: 17.1 ms (started: 2021-11-03 14:43:00 -07:00)\n"
     ]
    }
   ],
   "source": [
    "# making list of symbols\n",
    "symbols = [row.findAll('td')[0].text for row in table.findAll('tr')[1:]]\n",
    "\n",
    "# stripping whitespace\n",
    "symbols = list(map(lambda s: s.strip(), symbols))\n",
    "\n",
    "# checking first 5 symbols\n",
    "symbols[:5]"
   ]
  },
  {
   "cell_type": "markdown",
   "id": "00b559c3-162e-4815-8469-e769568cbbb9",
   "metadata": {},
   "source": [
    "### Names"
   ]
  },
  {
   "cell_type": "code",
   "execution_count": 11,
   "id": "35af31fa-c9c7-464a-abb3-452a0a8614d9",
   "metadata": {
    "execution": {
     "iopub.execute_input": "2021-11-03T21:43:00.784657Z",
     "iopub.status.busy": "2021-11-03T21:43:00.784461Z",
     "iopub.status.idle": "2021-11-03T21:43:00.838670Z",
     "shell.execute_reply": "2021-11-03T21:43:00.837865Z",
     "shell.execute_reply.started": "2021-11-03T21:43:00.784636Z"
    },
    "tags": []
   },
   "outputs": [
    {
     "data": {
      "text/plain": [
       "['3M', 'Abbott Laboratories', 'AbbVie', 'Abiomed', 'Accenture']"
      ]
     },
     "execution_count": 11,
     "metadata": {},
     "output_type": "execute_result"
    },
    {
     "name": "stdout",
     "output_type": "stream",
     "text": [
      "time: 15.8 ms (started: 2021-11-03 14:43:00 -07:00)\n"
     ]
    }
   ],
   "source": [
    "# making list of names\n",
    "names = [row.findAll('td')[1].text for row in table.findAll('tr')[1:]]\n",
    "\n",
    "# stripping whitespace\n",
    "names = list(map(lambda n: n.strip(), names))\n",
    "\n",
    "# checking first five names\n",
    "names[:5]"
   ]
  },
  {
   "cell_type": "markdown",
   "id": "ce32f7af-4063-478f-b271-9532bba69c02",
   "metadata": {},
   "source": [
    "### Industries"
   ]
  },
  {
   "cell_type": "code",
   "execution_count": 12,
   "id": "5177490e-2e51-474a-84f2-93cf1ff5bdac",
   "metadata": {
    "execution": {
     "iopub.execute_input": "2021-11-03T21:43:00.843442Z",
     "iopub.status.busy": "2021-11-03T21:43:00.843169Z",
     "iopub.status.idle": "2021-11-03T21:43:00.898123Z",
     "shell.execute_reply": "2021-11-03T21:43:00.897510Z",
     "shell.execute_reply.started": "2021-11-03T21:43:00.843418Z"
    },
    "tags": []
   },
   "outputs": [
    {
     "data": {
      "text/plain": [
       "['Industrial Conglomerates',\n",
       " 'Health Care Equipment',\n",
       " 'Pharmaceuticals',\n",
       " 'Health Care Equipment',\n",
       " 'IT Consulting & Other Services']"
      ]
     },
     "execution_count": 12,
     "metadata": {},
     "output_type": "execute_result"
    },
    {
     "name": "stdout",
     "output_type": "stream",
     "text": [
      "time: 16.3 ms (started: 2021-11-03 14:43:00 -07:00)\n"
     ]
    }
   ],
   "source": [
    "# making list of industries\n",
    "\n",
    "industries = [row.findAll('td')[4].text for row in table.findAll('tr')[1:]]\n",
    "\n",
    "# stripping whitespace\n",
    "industries = list(map(lambda i: i.strip(), industries))\n",
    "\n",
    "# checking first five industries\n",
    "industries[:5]"
   ]
  },
  {
   "cell_type": "markdown",
   "id": "6365495f-2364-4b54-85e2-5bbfae172dd0",
   "metadata": {},
   "source": [
    "## S&P 500 Dataframe"
   ]
  },
  {
   "cell_type": "code",
   "execution_count": 13,
   "id": "20e47c1d-d75b-424c-9a57-1075d4b5bf12",
   "metadata": {
    "execution": {
     "iopub.execute_input": "2021-11-03T21:43:00.899424Z",
     "iopub.status.busy": "2021-11-03T21:43:00.899267Z",
     "iopub.status.idle": "2021-11-03T21:43:00.947887Z",
     "shell.execute_reply": "2021-11-03T21:43:00.947096Z",
     "shell.execute_reply.started": "2021-11-03T21:43:00.899406Z"
    },
    "tags": []
   },
   "outputs": [
    {
     "name": "stdout",
     "output_type": "stream",
     "text": [
      "(505, 3)\n"
     ]
    },
    {
     "data": {
      "text/html": [
       "<div>\n",
       "<style scoped>\n",
       "    .dataframe tbody tr th:only-of-type {\n",
       "        vertical-align: middle;\n",
       "    }\n",
       "\n",
       "    .dataframe tbody tr th {\n",
       "        vertical-align: top;\n",
       "    }\n",
       "\n",
       "    .dataframe thead th {\n",
       "        text-align: right;\n",
       "    }\n",
       "</style>\n",
       "<table border=\"1\" class=\"dataframe\">\n",
       "  <thead>\n",
       "    <tr style=\"text-align: right;\">\n",
       "      <th></th>\n",
       "      <th>Company Name</th>\n",
       "      <th>Symbol</th>\n",
       "      <th>Industry</th>\n",
       "    </tr>\n",
       "  </thead>\n",
       "  <tbody>\n",
       "    <tr>\n",
       "      <th>0</th>\n",
       "      <td>3M</td>\n",
       "      <td>MMM</td>\n",
       "      <td>Industrial Conglomerates</td>\n",
       "    </tr>\n",
       "    <tr>\n",
       "      <th>1</th>\n",
       "      <td>Abbott Laboratories</td>\n",
       "      <td>ABT</td>\n",
       "      <td>Health Care Equipment</td>\n",
       "    </tr>\n",
       "    <tr>\n",
       "      <th>2</th>\n",
       "      <td>AbbVie</td>\n",
       "      <td>ABBV</td>\n",
       "      <td>Pharmaceuticals</td>\n",
       "    </tr>\n",
       "    <tr>\n",
       "      <th>3</th>\n",
       "      <td>Abiomed</td>\n",
       "      <td>ABMD</td>\n",
       "      <td>Health Care Equipment</td>\n",
       "    </tr>\n",
       "    <tr>\n",
       "      <th>4</th>\n",
       "      <td>Accenture</td>\n",
       "      <td>ACN</td>\n",
       "      <td>IT Consulting &amp; Other Services</td>\n",
       "    </tr>\n",
       "  </tbody>\n",
       "</table>\n",
       "</div>"
      ],
      "text/plain": [
       "          Company Name Symbol                        Industry\n",
       "0                   3M    MMM        Industrial Conglomerates\n",
       "1  Abbott Laboratories    ABT           Health Care Equipment\n",
       "2               AbbVie   ABBV                 Pharmaceuticals\n",
       "3              Abiomed   ABMD           Health Care Equipment\n",
       "4            Accenture    ACN  IT Consulting & Other Services"
      ]
     },
     "execution_count": 13,
     "metadata": {},
     "output_type": "execute_result"
    },
    {
     "name": "stdout",
     "output_type": "stream",
     "text": [
      "time: 9.8 ms (started: 2021-11-03 14:43:00 -07:00)\n"
     ]
    }
   ],
   "source": [
    "# making data dictionary\n",
    "data = {'Company Name': names, 'Symbol': symbols, 'Industry': industries}\n",
    "\n",
    "# creating data frame\n",
    "stocks_df = pd.DataFrame.from_dict(data)\n",
    "\n",
    "# checking shape and first five rows\n",
    "print(stocks_df.shape)\n",
    "stocks_df.head()"
   ]
  },
  {
   "cell_type": "markdown",
   "id": "7e8eb610-65e8-4f68-9296-e8971071f5dc",
   "metadata": {},
   "source": [
    "## Checking yf Stock Info Dictionary Keys"
   ]
  },
  {
   "cell_type": "code",
   "execution_count": 14,
   "id": "440dd891-eb51-4e59-b87f-b9d2efdfe42c",
   "metadata": {
    "execution": {
     "iopub.execute_input": "2021-11-03T21:43:00.949750Z",
     "iopub.status.busy": "2021-11-03T21:43:00.949548Z",
     "iopub.status.idle": "2021-11-03T21:43:00.993109Z",
     "shell.execute_reply": "2021-11-03T21:43:00.992515Z",
     "shell.execute_reply.started": "2021-11-03T21:43:00.949730Z"
    },
    "tags": []
   },
   "outputs": [
    {
     "name": "stdout",
     "output_type": "stream",
     "text": [
      "time: 3.6 ms (started: 2021-11-03 14:43:00 -07:00)\n"
     ]
    }
   ],
   "source": [
    "# instantiating a ticker object\n",
    "ACN = h.get_info('ACN')"
   ]
  },
  {
   "cell_type": "code",
   "execution_count": 15,
   "id": "2a8a9f7b-5358-4cb6-b0d3-4adda8696933",
   "metadata": {
    "execution": {
     "iopub.execute_input": "2021-11-03T21:43:00.994563Z",
     "iopub.status.busy": "2021-11-03T21:43:00.994368Z",
     "iopub.status.idle": "2021-11-03T21:43:04.099046Z",
     "shell.execute_reply": "2021-11-03T21:43:04.098274Z",
     "shell.execute_reply.started": "2021-11-03T21:43:00.994542Z"
    },
    "tags": []
   },
   "outputs": [
    {
     "data": {
      "text/plain": [
       "dict_keys(['zip', 'sector', 'fullTimeEmployees', 'longBusinessSummary', 'city', 'phone', 'country', 'companyOfficers', 'website', 'maxAge', 'address1', 'fax', 'industry', 'address2', 'ebitdaMargins', 'profitMargins', 'grossMargins', 'operatingCashflow', 'revenueGrowth', 'operatingMargins', 'ebitda', 'targetLowPrice', 'recommendationKey', 'grossProfits', 'freeCashflow', 'targetMedianPrice', 'currentPrice', 'earningsGrowth', 'currentRatio', 'returnOnAssets', 'numberOfAnalystOpinions', 'targetMeanPrice', 'debtToEquity', 'returnOnEquity', 'targetHighPrice', 'totalCash', 'totalDebt', 'totalRevenue', 'totalCashPerShare', 'financialCurrency', 'revenuePerShare', 'quickRatio', 'recommendationMean', 'exchange', 'shortName', 'longName', 'exchangeTimezoneName', 'exchangeTimezoneShortName', 'isEsgPopulated', 'gmtOffSetMilliseconds', 'quoteType', 'symbol', 'messageBoardId', 'market', 'annualHoldingsTurnover', 'enterpriseToRevenue', 'beta3Year', 'enterpriseToEbitda', '52WeekChange', 'morningStarRiskRating', 'forwardEps', 'revenueQuarterlyGrowth', 'sharesOutstanding', 'fundInceptionDate', 'annualReportExpenseRatio', 'totalAssets', 'bookValue', 'sharesShort', 'sharesPercentSharesOut', 'fundFamily', 'lastFiscalYearEnd', 'heldPercentInstitutions', 'netIncomeToCommon', 'trailingEps', 'lastDividendValue', 'SandP52WeekChange', 'priceToBook', 'heldPercentInsiders', 'nextFiscalYearEnd', 'yield', 'mostRecentQuarter', 'shortRatio', 'sharesShortPreviousMonthDate', 'floatShares', 'beta', 'enterpriseValue', 'priceHint', 'threeYearAverageReturn', 'lastSplitDate', 'lastSplitFactor', 'legalType', 'lastDividendDate', 'morningStarOverallRating', 'earningsQuarterlyGrowth', 'priceToSalesTrailing12Months', 'dateShortInterest', 'pegRatio', 'ytdReturn', 'forwardPE', 'lastCapGain', 'shortPercentOfFloat', 'sharesShortPriorMonth', 'impliedSharesOutstanding', 'category', 'fiveYearAverageReturn', 'previousClose', 'regularMarketOpen', 'twoHundredDayAverage', 'trailingAnnualDividendYield', 'payoutRatio', 'volume24Hr', 'regularMarketDayHigh', 'navPrice', 'averageDailyVolume10Day', 'regularMarketPreviousClose', 'fiftyDayAverage', 'trailingAnnualDividendRate', 'open', 'toCurrency', 'averageVolume10days', 'expireDate', 'algorithm', 'dividendRate', 'exDividendDate', 'circulatingSupply', 'startDate', 'regularMarketDayLow', 'currency', 'trailingPE', 'regularMarketVolume', 'lastMarket', 'maxSupply', 'openInterest', 'marketCap', 'volumeAllCurrencies', 'strikePrice', 'averageVolume', 'dayLow', 'ask', 'askSize', 'volume', 'fiftyTwoWeekHigh', 'fromCurrency', 'fiveYearAvgDividendYield', 'fiftyTwoWeekLow', 'bid', 'tradeable', 'dividendYield', 'bidSize', 'dayHigh', 'regularMarketPrice', 'logo_url'])"
      ]
     },
     "execution_count": 15,
     "metadata": {},
     "output_type": "execute_result"
    },
    {
     "name": "stdout",
     "output_type": "stream",
     "text": [
      "time: 3.07 s (started: 2021-11-03 14:43:01 -07:00)\n"
     ]
    }
   ],
   "source": [
    "# checking keys\n",
    "ACN.info.keys()"
   ]
  },
  {
   "cell_type": "markdown",
   "id": "f5ac7667-150a-4a9b-a20b-f142e3a84eef",
   "metadata": {},
   "source": [
    "### Data for Stocks in the News"
   ]
  },
  {
   "cell_type": "code",
   "execution_count": 16,
   "id": "75714472-48d2-4d1a-8839-cb2a373be809",
   "metadata": {
    "execution": {
     "iopub.execute_input": "2021-11-03T21:43:04.100774Z",
     "iopub.status.busy": "2021-11-03T21:43:04.100477Z",
     "iopub.status.idle": "2021-11-03T21:43:07.098850Z",
     "shell.execute_reply": "2021-11-03T21:43:07.098158Z",
     "shell.execute_reply.started": "2021-11-03T21:43:04.100750Z"
    },
    "tags": []
   },
   "outputs": [
    {
     "name": "stdout",
     "output_type": "stream",
     "text": [
      "time: 2.95 s (started: 2021-11-03 14:43:04 -07:00)\n"
     ]
    }
   ],
   "source": [
    "# creating empty stock info dictionary\n",
    "stock_data = {\n",
    "    'Org': [],\n",
    "    'Symbol': [],\n",
    "    'currentPrice': [],\n",
    "    'dayHigh': [],\n",
    "    'dayLow': [],\n",
    "    '52wkHigh': [],\n",
    "    '52wkLow': [],\n",
    "    'dividendRate': []\n",
    "    \n",
    "}\n",
    "\n",
    "\n",
    "# loading stocks from s&p dataframe and appending data from yf\n",
    "for company in companies:\n",
    "\n",
    "    try:\n",
    "        if stocks_df['Company Name'].str.contains(company).sum():\n",
    "            symbol = stocks_df[stocks_df['Company Name'].\\\n",
    "                                str.contains(company)]['Symbol'].values[0]\n",
    "            org_name = stocks_df[stocks_df['Company Name'].\\\n",
    "                                str.contains(company)]['Company Name'].values[0]\n",
    "            stock_data['Org'].append(org_name)\n",
    "            stock_data['Symbol'].append(symbol)\n",
    "            stock_info = yf.Ticker(symbol).info\n",
    "            stock_data['currentPrice'].append(stock_info['currentPrice'])\n",
    "            stock_data['dayHigh'].append(stock_info['dayHigh'])\n",
    "            stock_data['dayLow'].append(stock_info['dayLow'])\n",
    "            stock_data['52wkHigh'].append(stock_info['fiftyTwoWeekHigh'])\n",
    "            stock_data['52wkLow'].append(stock_info['fiftyTwoWeekLow'])            \n",
    "            \n",
    "            # converting dividend None types to floats\n",
    "            dividend = stock_info['dividendRate']\n",
    "            if dividend != None:\n",
    "                dividend = dividend\n",
    "            else:\n",
    "                dividend = 0\n",
    "            stock_data['dividendRate'].append(dividend)\n",
    "        else:\n",
    "            pass\n",
    "    except:\n",
    "        pass"
   ]
  },
  {
   "cell_type": "code",
   "execution_count": 17,
   "id": "5775a08d-a060-4407-ad69-8bc0ba6222ec",
   "metadata": {
    "execution": {
     "iopub.execute_input": "2021-11-03T21:43:07.100257Z",
     "iopub.status.busy": "2021-11-03T21:43:07.100037Z",
     "iopub.status.idle": "2021-11-03T21:43:07.142394Z",
     "shell.execute_reply": "2021-11-03T21:43:07.141809Z",
     "shell.execute_reply.started": "2021-11-03T21:43:07.100237Z"
    },
    "tags": []
   },
   "outputs": [
    {
     "data": {
      "text/plain": [
       "{'Org': ['Federal Realty Investment Trust'],\n",
       " 'Symbol': ['FRT'],\n",
       " 'currentPrice': [128.46],\n",
       " 'dayHigh': [128.86],\n",
       " 'dayLow': [124.58],\n",
       " '52wkHigh': [128.86],\n",
       " '52wkLow': [67.9],\n",
       " 'dividendRate': [4.28]}"
      ]
     },
     "execution_count": 17,
     "metadata": {},
     "output_type": "execute_result"
    },
    {
     "name": "stdout",
     "output_type": "stream",
     "text": [
      "time: 1.98 ms (started: 2021-11-03 14:43:07 -07:00)\n"
     ]
    }
   ],
   "source": [
    "# checking dict\n",
    "stock_data"
   ]
  },
  {
   "cell_type": "markdown",
   "id": "0405069b-2119-4a58-9abd-367967bf4f31",
   "metadata": {},
   "source": [
    "### Data Frame of S&P 500 Stocks in the News"
   ]
  },
  {
   "cell_type": "code",
   "execution_count": 18,
   "id": "61e25bba-2b56-4eec-9072-12b69b6fd94c",
   "metadata": {
    "execution": {
     "iopub.execute_input": "2021-11-03T21:43:07.144083Z",
     "iopub.status.busy": "2021-11-03T21:43:07.143501Z",
     "iopub.status.idle": "2021-11-03T21:43:07.188079Z",
     "shell.execute_reply": "2021-11-03T21:43:07.187157Z",
     "shell.execute_reply.started": "2021-11-03T21:43:07.144048Z"
    },
    "tags": []
   },
   "outputs": [
    {
     "data": {
      "text/html": [
       "<div>\n",
       "<style scoped>\n",
       "    .dataframe tbody tr th:only-of-type {\n",
       "        vertical-align: middle;\n",
       "    }\n",
       "\n",
       "    .dataframe tbody tr th {\n",
       "        vertical-align: top;\n",
       "    }\n",
       "\n",
       "    .dataframe thead th {\n",
       "        text-align: right;\n",
       "    }\n",
       "</style>\n",
       "<table border=\"1\" class=\"dataframe\">\n",
       "  <thead>\n",
       "    <tr style=\"text-align: right;\">\n",
       "      <th></th>\n",
       "      <th>Org</th>\n",
       "      <th>Symbol</th>\n",
       "      <th>currentPrice</th>\n",
       "      <th>dayHigh</th>\n",
       "      <th>dayLow</th>\n",
       "      <th>52wkHigh</th>\n",
       "      <th>52wkLow</th>\n",
       "      <th>dividendRate</th>\n",
       "    </tr>\n",
       "  </thead>\n",
       "  <tbody>\n",
       "    <tr>\n",
       "      <th>0</th>\n",
       "      <td>Federal Realty Investment Trust</td>\n",
       "      <td>FRT</td>\n",
       "      <td>128.46</td>\n",
       "      <td>128.86</td>\n",
       "      <td>124.58</td>\n",
       "      <td>128.86</td>\n",
       "      <td>67.9</td>\n",
       "      <td>4.28</td>\n",
       "    </tr>\n",
       "  </tbody>\n",
       "</table>\n",
       "</div>"
      ],
      "text/plain": [
       "                               Org Symbol  currentPrice  dayHigh  dayLow  \\\n",
       "0  Federal Realty Investment Trust    FRT        128.46   128.86  124.58   \n",
       "\n",
       "   52wkHigh  52wkLow  dividendRate  \n",
       "0    128.86     67.9          4.28  "
      ]
     },
     "execution_count": 18,
     "metadata": {},
     "output_type": "execute_result"
    },
    {
     "name": "stdout",
     "output_type": "stream",
     "text": [
      "time: 7.34 ms (started: 2021-11-03 14:43:07 -07:00)\n"
     ]
    }
   ],
   "source": [
    "in_the_news = pd.DataFrame(stock_data)\n",
    "in_the_news.head()"
   ]
  },
  {
   "cell_type": "code",
   "execution_count": 19,
   "id": "84fcb1ec-5d31-43d0-988f-a3eabe80c558",
   "metadata": {
    "execution": {
     "iopub.execute_input": "2021-11-03T21:43:07.189860Z",
     "iopub.status.busy": "2021-11-03T21:43:07.189678Z",
     "iopub.status.idle": "2021-11-03T21:43:07.231403Z",
     "shell.execute_reply": "2021-11-03T21:43:07.230511Z",
     "shell.execute_reply.started": "2021-11-03T21:43:07.189841Z"
    },
    "tags": []
   },
   "outputs": [
    {
     "name": "stdout",
     "output_type": "stream",
     "text": [
      "<class 'pandas.core.frame.DataFrame'>\n",
      "RangeIndex: 1 entries, 0 to 0\n",
      "Data columns (total 8 columns):\n",
      " #   Column        Non-Null Count  Dtype  \n",
      "---  ------        --------------  -----  \n",
      " 0   Org           1 non-null      object \n",
      " 1   Symbol        1 non-null      object \n",
      " 2   currentPrice  1 non-null      float64\n",
      " 3   dayHigh       1 non-null      float64\n",
      " 4   dayLow        1 non-null      float64\n",
      " 5   52wkHigh      1 non-null      float64\n",
      " 6   52wkLow       1 non-null      float64\n",
      " 7   dividendRate  1 non-null      float64\n",
      "dtypes: float64(6), object(2)\n",
      "memory usage: 192.0+ bytes\n",
      "time: 6.42 ms (started: 2021-11-03 14:43:07 -07:00)\n"
     ]
    }
   ],
   "source": [
    "# checking Dtypes\n",
    "in_the_news.info()"
   ]
  },
  {
   "cell_type": "code",
   "execution_count": null,
   "id": "d777b127-5699-4b42-957a-72a917678ebc",
   "metadata": {},
   "outputs": [],
   "source": []
  }
 ],
 "metadata": {
  "kernelspec": {
   "display_name": "options_apps",
   "language": "python",
   "name": "options_apps"
  },
  "language_info": {
   "codemirror_mode": {
    "name": "ipython",
    "version": 3
   },
   "file_extension": ".py",
   "mimetype": "text/x-python",
   "name": "python",
   "nbconvert_exporter": "python",
   "pygments_lexer": "ipython3",
   "version": "3.9.7"
  }
 },
 "nbformat": 4,
 "nbformat_minor": 5
}
