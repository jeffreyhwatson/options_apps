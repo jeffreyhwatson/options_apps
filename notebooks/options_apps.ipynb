{
 "cells": [
  {
   "cell_type": "code",
   "execution_count": 1,
   "id": "042caaf9-1515-4cd6-8ea5-fc8c1686ca4a",
   "metadata": {
    "execution": {
     "iopub.execute_input": "2021-11-17T22:39:19.715522Z",
     "iopub.status.busy": "2021-11-17T22:39:19.715231Z",
     "iopub.status.idle": "2021-11-17T22:39:19.782914Z",
     "shell.execute_reply": "2021-11-17T22:39:19.781834Z",
     "shell.execute_reply.started": "2021-11-17T22:39:19.715420Z"
    },
    "tags": []
   },
   "outputs": [
    {
     "name": "stdout",
     "output_type": "stream",
     "text": [
      "time: 496 µs (started: 2021-11-17 14:39:19 -08:00)\n"
     ]
    }
   ],
   "source": [
    "%load_ext autoreload\n",
    "%load_ext autotime\n",
    "%autoreload 2"
   ]
  },
  {
   "cell_type": "markdown",
   "id": "446e454b-cd4a-41e0-8227-2b27ca1dfb4c",
   "metadata": {},
   "source": [
    "# Options Apps Project\n",
    "\n",
    "## Goal\n",
    "Creating a suite of equity option web apps which expands on, and was inspired by, [Harshit Tyagi’s](https://www.linkedin.com/in/tyagiharshit/) [article](https://www.kdnuggets.com/2021/09/-structured-financial-newsfeed-using-python-spacy-and-streamlit.html) on building a financial newsfeed app.\n",
    "\n",
    "## Skills Involved\n",
    "Web scraping, NLP, options price modeling, predictive modeling of volitility, and building apps with Streamlit."
   ]
  },
  {
   "cell_type": "markdown",
   "id": "042a446a-6853-49a6-9f33-b0b6e5303dc3",
   "metadata": {},
   "source": [
    "## Imports"
   ]
  },
  {
   "cell_type": "code",
   "execution_count": 2,
   "id": "87110252-c97b-4947-b2f4-a75ed8c1298b",
   "metadata": {
    "execution": {
     "iopub.execute_input": "2021-11-17T22:39:19.785171Z",
     "iopub.status.busy": "2021-11-17T22:39:19.784698Z",
     "iopub.status.idle": "2021-11-17T22:39:42.295815Z",
     "shell.execute_reply": "2021-11-17T22:39:42.294627Z",
     "shell.execute_reply.started": "2021-11-17T22:39:19.785139Z"
    },
    "tags": []
   },
   "outputs": [
    {
     "name": "stdout",
     "output_type": "stream",
     "text": [
      "time: 22.5 s (started: 2021-11-17 14:39:19 -08:00)\n"
     ]
    }
   ],
   "source": [
    "import sys, os, math\n",
    "import requests\n",
    "from bs4 import BeautifulSoup\n",
    "import spacy\n",
    "from spacy import displacy\n",
    "import yfinance as yf\n",
    "import pandas as pd\n",
    "import numpy as np\n",
    "import seaborn as sns\n",
    "from datetime import datetime\n",
    "import time\n",
    "\n",
    "#  setting path\n",
    "gparent = os.path.join(os.pardir)\n",
    "sys.path.append(gparent)\n",
    "\n",
    "from src import helper_functions as h"
   ]
  },
  {
   "cell_type": "markdown",
   "id": "d2e9c009-c318-40b4-9b1c-6e963146587a",
   "metadata": {},
   "source": [
    "## requests: Grabbing Headlines"
   ]
  },
  {
   "cell_type": "code",
   "execution_count": 3,
   "id": "28eee855-23ef-4248-a7b1-a83a0f897418",
   "metadata": {
    "execution": {
     "iopub.execute_input": "2021-11-17T22:39:42.301017Z",
     "iopub.status.busy": "2021-11-17T22:39:42.300520Z",
     "iopub.status.idle": "2021-11-17T22:39:42.551329Z",
     "shell.execute_reply": "2021-11-17T22:39:42.550219Z",
     "shell.execute_reply.started": "2021-11-17T22:39:42.300971Z"
    },
    "tags": []
   },
   "outputs": [
    {
     "data": {
      "text/plain": [
       "<Response [200]>"
      ]
     },
     "execution_count": 3,
     "metadata": {},
     "output_type": "execute_result"
    },
    {
     "name": "stdout",
     "output_type": "stream",
     "text": [
      "time: 205 ms (started: 2021-11-17 14:39:42 -08:00)\n"
     ]
    }
   ],
   "source": [
    "# grabbing headlines\n",
    "r = requests.get(\"http://feeds.marketwatch.com/marketwatch/topstories/\")\n",
    "r"
   ]
  },
  {
   "cell_type": "markdown",
   "id": "24e85d1d-a838-41c9-91d7-c4570d8240ec",
   "metadata": {
    "execution": {
     "iopub.execute_input": "2021-10-02T04:19:19.925337Z",
     "iopub.status.busy": "2021-10-02T04:19:19.924939Z",
     "iopub.status.idle": "2021-10-02T04:19:19.932717Z",
     "shell.execute_reply": "2021-10-02T04:19:19.930662Z",
     "shell.execute_reply.started": "2021-10-02T04:19:19.925295Z"
    }
   },
   "source": [
    "## bs4: Saving Headlines"
   ]
  },
  {
   "cell_type": "code",
   "execution_count": 4,
   "id": "37fbf4e8-471b-4f06-b7a4-8be588bfa4ce",
   "metadata": {
    "execution": {
     "iopub.execute_input": "2021-11-17T22:39:42.552828Z",
     "iopub.status.busy": "2021-11-17T22:39:42.552509Z",
     "iopub.status.idle": "2021-11-17T22:39:42.602834Z",
     "shell.execute_reply": "2021-11-17T22:39:42.601731Z",
     "shell.execute_reply.started": "2021-11-17T22:39:42.552746Z"
    },
    "tags": []
   },
   "outputs": [
    {
     "name": "stdout",
     "output_type": "stream",
     "text": [
      "<class 'bs4.element.ResultSet'>\n",
      "\n",
      "[<title>MarketWatch.com - Top Stories</title>, <title>MarketWatch.com - Top Stories</title>, <title>What's Worth Streaming: Here’s everything new coming to Hulu in December 2021</title>, <title>Market Extra: Inflation in ‘process of peaking,’ but still poses threat to investor portfolios, says Wells Fargo</title>, <title>Earnings Results: Victoria’s Secret stock soars 12% on profit beat</title>, <title>The Conversation: High-speed internet is as essential as water or electricity, infrastructure bill proclaims</title>, <title>NewsWatch: Nvidia reports record sales and beats on earnings again, sending stock higher</title>, <title>Earnings Results: Nvidia reports record sales and beats on earnings again, sending stock higher</title>, <title>: Cisco stock drops nearly 7% after earnings guidance disappoints</title>, <title>: Rivian stock falls by as much as 18% to mark first stumble since its IPO</title>, <title>Washington Watch: 40% of America’s trucking capacity is left on the table every day, MIT expert tells Congress</title>, <title>Key Words: Why is there no EV love for Ford and GM? Cathie Wood says ‘they don’t have the DNA for this brave new world’ of electric cars</title>]\n",
      "time: 5.36 ms (started: 2021-11-17 14:39:42 -08:00)\n"
     ]
    }
   ],
   "source": [
    "# saving headlines to a list\n",
    "soup = BeautifulSoup(r.content, features='lxml')\n",
    "headlines = soup.findAll('title')\n",
    "print(f'{type(headlines)}\\n')\n",
    "print(headlines)"
   ]
  },
  {
   "cell_type": "markdown",
   "id": "ecbc497a-1907-4df3-b811-8d737816f2a9",
   "metadata": {
    "tags": []
   },
   "source": [
    "### Grabbing Headline String\n",
    "Grabbing headline and printing headline and isolated text."
   ]
  },
  {
   "cell_type": "code",
   "execution_count": 5,
   "id": "e4bf1fcd-e4c7-4242-80a4-74fe2a801af1",
   "metadata": {
    "execution": {
     "iopub.execute_input": "2021-11-17T22:39:42.604774Z",
     "iopub.status.busy": "2021-11-17T22:39:42.604490Z",
     "iopub.status.idle": "2021-11-17T22:39:42.652011Z",
     "shell.execute_reply": "2021-11-17T22:39:42.650991Z",
     "shell.execute_reply.started": "2021-11-17T22:39:42.604750Z"
    },
    "tags": []
   },
   "outputs": [
    {
     "name": "stdout",
     "output_type": "stream",
     "text": [
      "<title>What's Worth Streaming: Here’s everything new coming to Hulu in December 2021</title>\n",
      "\n",
      "What's Worth Streaming: Here’s everything new coming to Hulu in December 2021\n",
      "time: 1.26 ms (started: 2021-11-17 14:39:42 -08:00)\n"
     ]
    }
   ],
   "source": [
    "# grabbing test headline\n",
    "test_headline = headlines[2]\n",
    "print(f'{test_headline}\\n')\n",
    "print(test_headline.text)"
   ]
  },
  {
   "cell_type": "markdown",
   "id": "64a103b5-d156-4a63-a420-edf19d1425f4",
   "metadata": {},
   "source": [
    "## spaCy: Tests\n",
    "Testing tokenization and name extraction on a single string."
   ]
  },
  {
   "cell_type": "markdown",
   "id": "8b5e37e8-ad08-43cb-bd0c-316b1ae687ae",
   "metadata": {},
   "source": [
    "### Loading Model"
   ]
  },
  {
   "cell_type": "code",
   "execution_count": 6,
   "id": "40c1bf45-66b6-4e0d-8096-2fa953b31232",
   "metadata": {
    "execution": {
     "iopub.execute_input": "2021-11-17T22:39:42.653519Z",
     "iopub.status.busy": "2021-11-17T22:39:42.653350Z",
     "iopub.status.idle": "2021-11-17T22:39:43.423247Z",
     "shell.execute_reply": "2021-11-17T22:39:43.422249Z",
     "shell.execute_reply.started": "2021-11-17T22:39:42.653496Z"
    },
    "tags": []
   },
   "outputs": [
    {
     "name": "stdout",
     "output_type": "stream",
     "text": [
      "time: 730 ms (started: 2021-11-17 14:39:42 -08:00)\n"
     ]
    }
   ],
   "source": [
    "# loading spacy model\n",
    "nlp = spacy.load('en_core_web_sm')"
   ]
  },
  {
   "cell_type": "markdown",
   "id": "b22eff8c-4013-46ba-9c4c-bdf8f026329d",
   "metadata": {},
   "source": [
    "### Tokenizing String\n",
    "Tokenizing the test headline."
   ]
  },
  {
   "cell_type": "code",
   "execution_count": 7,
   "id": "e3a0b3dd-c716-4edf-a5f0-d77504a32e17",
   "metadata": {
    "execution": {
     "iopub.execute_input": "2021-11-17T22:39:43.425073Z",
     "iopub.status.busy": "2021-11-17T22:39:43.424708Z",
     "iopub.status.idle": "2021-11-17T22:39:43.490478Z",
     "shell.execute_reply": "2021-11-17T22:39:43.489761Z",
     "shell.execute_reply.started": "2021-11-17T22:39:43.425033Z"
    },
    "tags": []
   },
   "outputs": [
    {
     "name": "stdout",
     "output_type": "stream",
     "text": [
      "<title>What's Worth Streaming: Here’s everything new coming to Hulu in December 2021</title>\n",
      "\n",
      "What\n",
      "'s\n",
      "Worth\n",
      "Streaming\n",
      ":\n",
      "Here\n",
      "’s\n",
      "everything\n",
      "new\n",
      "coming\n",
      "to\n",
      "Hulu\n",
      "in\n",
      "December\n",
      "2021\n",
      "time: 10.9 ms (started: 2021-11-17 14:39:43 -08:00)\n"
     ]
    }
   ],
   "source": [
    "# checking the test case\n",
    "processed_hline = nlp(test_headline.text)\n",
    "print(f'{test_headline}\\n')\n",
    "for token in processed_hline:\n",
    "  print(token)"
   ]
  },
  {
   "cell_type": "markdown",
   "id": "344b7bb2-4936-4938-8ef5-44a2d8989203",
   "metadata": {},
   "source": [
    "## Saving List of Tokenized Headlines"
   ]
  },
  {
   "cell_type": "code",
   "execution_count": 8,
   "id": "0326da95-c8b5-49e5-9207-93ae94714d1b",
   "metadata": {
    "execution": {
     "iopub.execute_input": "2021-11-17T22:39:43.491584Z",
     "iopub.status.busy": "2021-11-17T22:39:43.491418Z",
     "iopub.status.idle": "2021-11-17T22:39:43.626016Z",
     "shell.execute_reply": "2021-11-17T22:39:43.625233Z",
     "shell.execute_reply.started": "2021-11-17T22:39:43.491563Z"
    },
    "tags": []
   },
   "outputs": [
    {
     "name": "stdout",
     "output_type": "stream",
     "text": [
      "MarketWatch.com - Top Stories\n",
      "MarketWatch.com - Top Stories\n",
      "What's Worth Streaming: Here’s everything new coming to Hulu in December 2021\n",
      "Market Extra: Inflation in ‘process of peaking,’ but still poses threat to investor portfolios, says Wells Fargo\n",
      "Earnings Results: Victoria’s Secret stock soars 12% on profit beat\n",
      "The Conversation: High-speed internet is as essential as water or electricity, infrastructure bill proclaims\n",
      "NewsWatch: Nvidia reports record sales and beats on earnings again, sending stock higher\n",
      "Earnings Results: Nvidia reports record sales and beats on earnings again, sending stock higher\n",
      ": Cisco stock drops nearly 7% after earnings guidance disappoints\n",
      ": Rivian stock falls by as much as 18% to mark first stumble since its IPO\n",
      "Washington Watch: 40% of America’s trucking capacity is left on the table every day, MIT expert tells Congress\n",
      "Key Words: Why is there no EV love for Ford and GM? Cathie Wood says ‘they don’t have the DNA for this brave new world’ of electric cars\n",
      "time: 88.9 ms (started: 2021-11-17 14:39:43 -08:00)\n"
     ]
    }
   ],
   "source": [
    "processed_hlines = [nlp(headlines[i].text) for i in range(len(headlines))]\n",
    "for line in processed_hlines:\n",
    "    print(line)"
   ]
  },
  {
   "cell_type": "markdown",
   "id": "fc53aa4f-c5a8-4fa3-9c1b-ea850c32a9db",
   "metadata": {},
   "source": [
    "## Getting Org Names From Headlines\n",
    "Visualizing named entities (real world objects) in the headlines and creating a set of organiziations."
   ]
  },
  {
   "cell_type": "code",
   "execution_count": 9,
   "id": "53e9fd0b-a896-4434-976d-5e98355705f8",
   "metadata": {
    "execution": {
     "iopub.execute_input": "2021-11-17T22:39:43.627091Z",
     "iopub.status.busy": "2021-11-17T22:39:43.626914Z",
     "iopub.status.idle": "2021-11-17T22:39:43.773362Z",
     "shell.execute_reply": "2021-11-17T22:39:43.772939Z",
     "shell.execute_reply.started": "2021-11-17T22:39:43.627067Z"
    },
    "tags": []
   },
   "outputs": [
    {
     "data": {
      "text/html": [
       "<span class=\"tex2jax_ignore\"><div class=\"entities\" style=\"line-height: 2.5; direction: ltr\">\n",
       "<mark class=\"entity\" style=\"background: #aa9cfc; padding: 0.45em 0.6em; margin: 0 0.25em; line-height: 1; border-radius: 0.35em;\">\n",
       "    MarketWatch.com - Top Stories\n",
       "    <span style=\"font-size: 0.8em; font-weight: bold; line-height: 1; border-radius: 0.35em; text-transform: uppercase; vertical-align: middle; margin-left: 0.5rem\">PERSON</span>\n",
       "</mark>\n",
       "</div></span>"
      ],
      "text/plain": [
       "<IPython.core.display.HTML object>"
      ]
     },
     "metadata": {},
     "output_type": "display_data"
    },
    {
     "data": {
      "text/html": [
       "<span class=\"tex2jax_ignore\"><div class=\"entities\" style=\"line-height: 2.5; direction: ltr\">\n",
       "<mark class=\"entity\" style=\"background: #aa9cfc; padding: 0.45em 0.6em; margin: 0 0.25em; line-height: 1; border-radius: 0.35em;\">\n",
       "    MarketWatch.com - Top Stories\n",
       "    <span style=\"font-size: 0.8em; font-weight: bold; line-height: 1; border-radius: 0.35em; text-transform: uppercase; vertical-align: middle; margin-left: 0.5rem\">PERSON</span>\n",
       "</mark>\n",
       "</div></span>"
      ],
      "text/plain": [
       "<IPython.core.display.HTML object>"
      ]
     },
     "metadata": {},
     "output_type": "display_data"
    },
    {
     "data": {
      "text/html": [
       "<span class=\"tex2jax_ignore\"><div class=\"entities\" style=\"line-height: 2.5; direction: ltr\">What's Worth Streaming: Here’s everything new coming to Hulu in \n",
       "<mark class=\"entity\" style=\"background: #bfe1d9; padding: 0.45em 0.6em; margin: 0 0.25em; line-height: 1; border-radius: 0.35em;\">\n",
       "    December 2021\n",
       "    <span style=\"font-size: 0.8em; font-weight: bold; line-height: 1; border-radius: 0.35em; text-transform: uppercase; vertical-align: middle; margin-left: 0.5rem\">DATE</span>\n",
       "</mark>\n",
       "</div></span>"
      ],
      "text/plain": [
       "<IPython.core.display.HTML object>"
      ]
     },
     "metadata": {},
     "output_type": "display_data"
    },
    {
     "data": {
      "text/html": [
       "<span class=\"tex2jax_ignore\"><div class=\"entities\" style=\"line-height: 2.5; direction: ltr\">Market Extra: Inflation in ‘process of peaking,’ but still poses threat to investor portfolios, says \n",
       "<mark class=\"entity\" style=\"background: #7aecec; padding: 0.45em 0.6em; margin: 0 0.25em; line-height: 1; border-radius: 0.35em;\">\n",
       "    Wells Fargo\n",
       "    <span style=\"font-size: 0.8em; font-weight: bold; line-height: 1; border-radius: 0.35em; text-transform: uppercase; vertical-align: middle; margin-left: 0.5rem\">ORG</span>\n",
       "</mark>\n",
       "</div></span>"
      ],
      "text/plain": [
       "<IPython.core.display.HTML object>"
      ]
     },
     "metadata": {},
     "output_type": "display_data"
    },
    {
     "data": {
      "text/html": [
       "<span class=\"tex2jax_ignore\"><div class=\"entities\" style=\"line-height: 2.5; direction: ltr\">Earnings Results: \n",
       "<mark class=\"entity\" style=\"background: #aa9cfc; padding: 0.45em 0.6em; margin: 0 0.25em; line-height: 1; border-radius: 0.35em;\">\n",
       "    Victoria\n",
       "    <span style=\"font-size: 0.8em; font-weight: bold; line-height: 1; border-radius: 0.35em; text-transform: uppercase; vertical-align: middle; margin-left: 0.5rem\">PERSON</span>\n",
       "</mark>\n",
       "’s Secret stock soars \n",
       "<mark class=\"entity\" style=\"background: #e4e7d2; padding: 0.45em 0.6em; margin: 0 0.25em; line-height: 1; border-radius: 0.35em;\">\n",
       "    12%\n",
       "    <span style=\"font-size: 0.8em; font-weight: bold; line-height: 1; border-radius: 0.35em; text-transform: uppercase; vertical-align: middle; margin-left: 0.5rem\">PERCENT</span>\n",
       "</mark>\n",
       " on profit beat</div></span>"
      ],
      "text/plain": [
       "<IPython.core.display.HTML object>"
      ]
     },
     "metadata": {},
     "output_type": "display_data"
    },
    {
     "data": {
      "text/html": [
       "<span class=\"tex2jax_ignore\"><div class=\"entities\" style=\"line-height: 2.5; direction: ltr\">NewsWatch: \n",
       "<mark class=\"entity\" style=\"background: #7aecec; padding: 0.45em 0.6em; margin: 0 0.25em; line-height: 1; border-radius: 0.35em;\">\n",
       "    Nvidia\n",
       "    <span style=\"font-size: 0.8em; font-weight: bold; line-height: 1; border-radius: 0.35em; text-transform: uppercase; vertical-align: middle; margin-left: 0.5rem\">ORG</span>\n",
       "</mark>\n",
       " reports record sales and beats on earnings again, sending stock higher</div></span>"
      ],
      "text/plain": [
       "<IPython.core.display.HTML object>"
      ]
     },
     "metadata": {},
     "output_type": "display_data"
    },
    {
     "data": {
      "text/html": [
       "<span class=\"tex2jax_ignore\"><div class=\"entities\" style=\"line-height: 2.5; direction: ltr\">Earnings Results: \n",
       "<mark class=\"entity\" style=\"background: #7aecec; padding: 0.45em 0.6em; margin: 0 0.25em; line-height: 1; border-radius: 0.35em;\">\n",
       "    Nvidia\n",
       "    <span style=\"font-size: 0.8em; font-weight: bold; line-height: 1; border-radius: 0.35em; text-transform: uppercase; vertical-align: middle; margin-left: 0.5rem\">ORG</span>\n",
       "</mark>\n",
       " reports record sales and beats on earnings again, sending stock higher</div></span>"
      ],
      "text/plain": [
       "<IPython.core.display.HTML object>"
      ]
     },
     "metadata": {},
     "output_type": "display_data"
    },
    {
     "data": {
      "text/html": [
       "<span class=\"tex2jax_ignore\"><div class=\"entities\" style=\"line-height: 2.5; direction: ltr\">: \n",
       "<mark class=\"entity\" style=\"background: #feca74; padding: 0.45em 0.6em; margin: 0 0.25em; line-height: 1; border-radius: 0.35em;\">\n",
       "    Cisco\n",
       "    <span style=\"font-size: 0.8em; font-weight: bold; line-height: 1; border-radius: 0.35em; text-transform: uppercase; vertical-align: middle; margin-left: 0.5rem\">GPE</span>\n",
       "</mark>\n",
       " stock drops \n",
       "<mark class=\"entity\" style=\"background: #e4e7d2; padding: 0.45em 0.6em; margin: 0 0.25em; line-height: 1; border-radius: 0.35em;\">\n",
       "    nearly 7%\n",
       "    <span style=\"font-size: 0.8em; font-weight: bold; line-height: 1; border-radius: 0.35em; text-transform: uppercase; vertical-align: middle; margin-left: 0.5rem\">PERCENT</span>\n",
       "</mark>\n",
       " after earnings guidance disappoints</div></span>"
      ],
      "text/plain": [
       "<IPython.core.display.HTML object>"
      ]
     },
     "metadata": {},
     "output_type": "display_data"
    },
    {
     "data": {
      "text/html": [
       "<span class=\"tex2jax_ignore\"><div class=\"entities\" style=\"line-height: 2.5; direction: ltr\">: \n",
       "<mark class=\"entity\" style=\"background: #c887fb; padding: 0.45em 0.6em; margin: 0 0.25em; line-height: 1; border-radius: 0.35em;\">\n",
       "    Rivian\n",
       "    <span style=\"font-size: 0.8em; font-weight: bold; line-height: 1; border-radius: 0.35em; text-transform: uppercase; vertical-align: middle; margin-left: 0.5rem\">NORP</span>\n",
       "</mark>\n",
       " stock falls by \n",
       "<mark class=\"entity\" style=\"background: #e4e7d2; padding: 0.45em 0.6em; margin: 0 0.25em; line-height: 1; border-radius: 0.35em;\">\n",
       "    as much as 18%\n",
       "    <span style=\"font-size: 0.8em; font-weight: bold; line-height: 1; border-radius: 0.35em; text-transform: uppercase; vertical-align: middle; margin-left: 0.5rem\">PERCENT</span>\n",
       "</mark>\n",
       " to mark \n",
       "<mark class=\"entity\" style=\"background: #e4e7d2; padding: 0.45em 0.6em; margin: 0 0.25em; line-height: 1; border-radius: 0.35em;\">\n",
       "    first\n",
       "    <span style=\"font-size: 0.8em; font-weight: bold; line-height: 1; border-radius: 0.35em; text-transform: uppercase; vertical-align: middle; margin-left: 0.5rem\">ORDINAL</span>\n",
       "</mark>\n",
       " stumble since its IPO</div></span>"
      ],
      "text/plain": [
       "<IPython.core.display.HTML object>"
      ]
     },
     "metadata": {},
     "output_type": "display_data"
    },
    {
     "data": {
      "text/html": [
       "<span class=\"tex2jax_ignore\"><div class=\"entities\" style=\"line-height: 2.5; direction: ltr\">\n",
       "<mark class=\"entity\" style=\"background: #7aecec; padding: 0.45em 0.6em; margin: 0 0.25em; line-height: 1; border-radius: 0.35em;\">\n",
       "    Washington Watch\n",
       "    <span style=\"font-size: 0.8em; font-weight: bold; line-height: 1; border-radius: 0.35em; text-transform: uppercase; vertical-align: middle; margin-left: 0.5rem\">ORG</span>\n",
       "</mark>\n",
       ": \n",
       "<mark class=\"entity\" style=\"background: #e4e7d2; padding: 0.45em 0.6em; margin: 0 0.25em; line-height: 1; border-radius: 0.35em;\">\n",
       "    40%\n",
       "    <span style=\"font-size: 0.8em; font-weight: bold; line-height: 1; border-radius: 0.35em; text-transform: uppercase; vertical-align: middle; margin-left: 0.5rem\">PERCENT</span>\n",
       "</mark>\n",
       " of \n",
       "<mark class=\"entity\" style=\"background: #feca74; padding: 0.45em 0.6em; margin: 0 0.25em; line-height: 1; border-radius: 0.35em;\">\n",
       "    America\n",
       "    <span style=\"font-size: 0.8em; font-weight: bold; line-height: 1; border-radius: 0.35em; text-transform: uppercase; vertical-align: middle; margin-left: 0.5rem\">GPE</span>\n",
       "</mark>\n",
       "’s trucking capacity is left on the table every day, \n",
       "<mark class=\"entity\" style=\"background: #7aecec; padding: 0.45em 0.6em; margin: 0 0.25em; line-height: 1; border-radius: 0.35em;\">\n",
       "    MIT\n",
       "    <span style=\"font-size: 0.8em; font-weight: bold; line-height: 1; border-radius: 0.35em; text-transform: uppercase; vertical-align: middle; margin-left: 0.5rem\">ORG</span>\n",
       "</mark>\n",
       " expert tells \n",
       "<mark class=\"entity\" style=\"background: #7aecec; padding: 0.45em 0.6em; margin: 0 0.25em; line-height: 1; border-radius: 0.35em;\">\n",
       "    Congress\n",
       "    <span style=\"font-size: 0.8em; font-weight: bold; line-height: 1; border-radius: 0.35em; text-transform: uppercase; vertical-align: middle; margin-left: 0.5rem\">ORG</span>\n",
       "</mark>\n",
       "</div></span>"
      ],
      "text/plain": [
       "<IPython.core.display.HTML object>"
      ]
     },
     "metadata": {},
     "output_type": "display_data"
    },
    {
     "data": {
      "text/html": [
       "<span class=\"tex2jax_ignore\"><div class=\"entities\" style=\"line-height: 2.5; direction: ltr\">Key Words: Why is there no \n",
       "<mark class=\"entity\" style=\"background: #7aecec; padding: 0.45em 0.6em; margin: 0 0.25em; line-height: 1; border-radius: 0.35em;\">\n",
       "    EV\n",
       "    <span style=\"font-size: 0.8em; font-weight: bold; line-height: 1; border-radius: 0.35em; text-transform: uppercase; vertical-align: middle; margin-left: 0.5rem\">ORG</span>\n",
       "</mark>\n",
       " love for \n",
       "<mark class=\"entity\" style=\"background: #7aecec; padding: 0.45em 0.6em; margin: 0 0.25em; line-height: 1; border-radius: 0.35em;\">\n",
       "    Ford\n",
       "    <span style=\"font-size: 0.8em; font-weight: bold; line-height: 1; border-radius: 0.35em; text-transform: uppercase; vertical-align: middle; margin-left: 0.5rem\">ORG</span>\n",
       "</mark>\n",
       " and \n",
       "<mark class=\"entity\" style=\"background: #7aecec; padding: 0.45em 0.6em; margin: 0 0.25em; line-height: 1; border-radius: 0.35em;\">\n",
       "    GM\n",
       "    <span style=\"font-size: 0.8em; font-weight: bold; line-height: 1; border-radius: 0.35em; text-transform: uppercase; vertical-align: middle; margin-left: 0.5rem\">ORG</span>\n",
       "</mark>\n",
       "? \n",
       "<mark class=\"entity\" style=\"background: #aa9cfc; padding: 0.45em 0.6em; margin: 0 0.25em; line-height: 1; border-radius: 0.35em;\">\n",
       "    Cathie Wood\n",
       "    <span style=\"font-size: 0.8em; font-weight: bold; line-height: 1; border-radius: 0.35em; text-transform: uppercase; vertical-align: middle; margin-left: 0.5rem\">PERSON</span>\n",
       "</mark>\n",
       " says ‘they don’t have the DNA for this brave new world’ of electric cars</div></span>"
      ],
      "text/plain": [
       "<IPython.core.display.HTML object>"
      ]
     },
     "metadata": {},
     "output_type": "display_data"
    },
    {
     "name": "stdout",
     "output_type": "stream",
     "text": [
      "{'Nvidia', 'EV', 'GM', 'MIT', 'Congress', 'Ford', 'Washington Watch', 'Wells Fargo'}\n",
      "time: 100 ms (started: 2021-11-17 14:39:43 -08:00)\n"
     ]
    }
   ],
   "source": [
    "# pulling company name tokens from headlines\n",
    "companies = []\n",
    "for title in processed_hlines:\n",
    "    doc = nlp(title.text)\n",
    "    if len(doc.ents) != 0:\n",
    "        displacy.render(doc, style='ent')\n",
    "    else:\n",
    "        pass\n",
    "    for token in doc.ents:\n",
    "        if token.label_ == 'ORG':\n",
    "            companies.append(token.text)\n",
    "        else:\n",
    "            pass\n",
    "companies = set(companies)\n",
    "print(companies)"
   ]
  },
  {
   "cell_type": "markdown",
   "id": "90e46e54-cd0e-4d1b-bfdb-39c3f5b23032",
   "metadata": {},
   "source": [
    "## Scraping S&P 500 Stock Table w/Requests & BeautifulSoup"
   ]
  },
  {
   "cell_type": "code",
   "execution_count": 10,
   "id": "dc3866e6-298d-4e2e-beda-5c4baad44ba8",
   "metadata": {
    "execution": {
     "iopub.execute_input": "2021-11-17T22:39:43.774460Z",
     "iopub.status.busy": "2021-11-17T22:39:43.774324Z",
     "iopub.status.idle": "2021-11-17T22:39:44.458248Z",
     "shell.execute_reply": "2021-11-17T22:39:44.457417Z",
     "shell.execute_reply.started": "2021-11-17T22:39:43.774446Z"
    },
    "tags": []
   },
   "outputs": [
    {
     "name": "stdout",
     "output_type": "stream",
     "text": [
      "[<tr>\n",
      "<td><a class=\"external text\" href=\"https://www.nyse.com/quote/XNYS:MMM\" rel=\"nofollow\">MMM</a>\n",
      "</td>\n",
      "<td><a href=\"/wiki/3M\" title=\"3M\">3M</a></td>\n",
      "<td><a class=\"external text\" href=\"https://www.sec.gov/edgar/browse/?CIK=66740\" rel=\"nofollow\">reports</a></td>\n",
      "<td>Industrials</td>\n",
      "<td>Industrial Conglomerates</td>\n",
      "<td><a href=\"/wiki/Saint_Paul,_Minnesota\" title=\"Saint Paul, Minnesota\">Saint Paul, Minnesota</a></td>\n",
      "<td>1976-08-09</td>\n",
      "<td>0000066740</td>\n",
      "<td>1902\n",
      "</td></tr>]\n",
      "time: 648 ms (started: 2021-11-17 14:39:43 -08:00)\n"
     ]
    }
   ],
   "source": [
    "# scraping S&P wikipedia page\n",
    "r = requests.get('https://en.wikipedia.org/wiki/List_of_S%26P_500_companies')\n",
    "\n",
    "# parsing the html\n",
    "soup = BeautifulSoup(r.text, 'lxml')\n",
    "\n",
    "# extracting the table\n",
    "table = soup.find('table', {'class': 'wikitable sortable'})\n",
    "\n",
    "# printing row with first stock\n",
    "print(table.findAll('tr')[1:2])"
   ]
  },
  {
   "cell_type": "markdown",
   "id": "a95b9b49-5ab4-4bf8-aff7-6b7c3fad5c4d",
   "metadata": {},
   "source": [
    "### Ticker Symbols\n",
    "Grabbing the ticker symbol from the first cell of each row."
   ]
  },
  {
   "cell_type": "code",
   "execution_count": 11,
   "id": "f5f74629-2adb-44dc-93fd-9f50f5fe65ba",
   "metadata": {
    "execution": {
     "iopub.execute_input": "2021-11-17T22:39:44.459644Z",
     "iopub.status.busy": "2021-11-17T22:39:44.459461Z",
     "iopub.status.idle": "2021-11-17T22:39:44.515125Z",
     "shell.execute_reply": "2021-11-17T22:39:44.514623Z",
     "shell.execute_reply.started": "2021-11-17T22:39:44.459626Z"
    },
    "tags": []
   },
   "outputs": [
    {
     "name": "stdout",
     "output_type": "stream",
     "text": [
      "List Length: 505 \n",
      "\n",
      "First five symbols: ['MMM\\n', 'ABT\\n', 'ABBV\\n', 'ABMD\\n', 'ACN\\n']\n",
      "time: 15.7 ms (started: 2021-11-17 14:39:44 -08:00)\n"
     ]
    }
   ],
   "source": [
    "# making list of symbols\n",
    "symbols = [row.findAll('td')[0].text for row in table.findAll('tr')[1:]]\n",
    "\n",
    "# checking length\n",
    "print(f'List Length: {len(symbols)} \\n')\n",
    "\n",
    "# checking first 5 symbols\n",
    "print(f'First five symbols: {symbols[:5]}')"
   ]
  },
  {
   "cell_type": "markdown",
   "id": "fa76b04c-b9b9-4232-986d-6ee28b49a6a4",
   "metadata": {},
   "source": [
    "The length of the list looks good, but we have extra characters we need to strip from the symbols."
   ]
  },
  {
   "cell_type": "code",
   "execution_count": 12,
   "id": "b77d668d-6376-4a48-9545-d8a90258cf0b",
   "metadata": {
    "execution": {
     "iopub.execute_input": "2021-11-17T22:39:44.520579Z",
     "iopub.status.busy": "2021-11-17T22:39:44.520374Z",
     "iopub.status.idle": "2021-11-17T22:39:44.559790Z",
     "shell.execute_reply": "2021-11-17T22:39:44.559102Z",
     "shell.execute_reply.started": "2021-11-17T22:39:44.520561Z"
    },
    "tags": []
   },
   "outputs": [
    {
     "name": "stdout",
     "output_type": "stream",
     "text": [
      "['MMM', 'ABT', 'ABBV', 'ABMD', 'ACN']\n",
      "time: 1.15 ms (started: 2021-11-17 14:39:44 -08:00)\n"
     ]
    }
   ],
   "source": [
    "# stripping new line character from the strings \n",
    "symbols = list(map(lambda s: s.strip(), symbols))\n",
    "\n",
    "# checking first 5 symbols\n",
    "print(symbols[:5])"
   ]
  },
  {
   "cell_type": "markdown",
   "id": "20a11a7f-608d-4581-9436-1ec790eceee5",
   "metadata": {},
   "source": [
    "Looks good. We can apply the same technique to the second cell of the row to scrape and save the company name, and to the fifth cell to grab the company industry. "
   ]
  },
  {
   "cell_type": "markdown",
   "id": "00b559c3-162e-4815-8469-e769568cbbb9",
   "metadata": {},
   "source": [
    "### Names\n",
    "Grabbing the company name from the second cell of each row."
   ]
  },
  {
   "cell_type": "code",
   "execution_count": 13,
   "id": "acea8f4e-07ad-4192-bf5b-058473a22780",
   "metadata": {
    "execution": {
     "iopub.execute_input": "2021-11-17T22:39:44.561053Z",
     "iopub.status.busy": "2021-11-17T22:39:44.560890Z",
     "iopub.status.idle": "2021-11-17T22:39:44.613806Z",
     "shell.execute_reply": "2021-11-17T22:39:44.613104Z",
     "shell.execute_reply.started": "2021-11-17T22:39:44.561037Z"
    },
    "tags": []
   },
   "outputs": [
    {
     "name": "stdout",
     "output_type": "stream",
     "text": [
      "['3M', 'Abbott Laboratories', 'AbbVie', 'Abiomed', 'Accenture']\n",
      "time: 14.2 ms (started: 2021-11-17 14:39:44 -08:00)\n"
     ]
    }
   ],
   "source": [
    "# making list of names\n",
    "names = [row.findAll('td')[1].text for row in table.findAll('tr')[1:]]\n",
    "\n",
    "# checking first five names\n",
    "print(names[:5])"
   ]
  },
  {
   "cell_type": "markdown",
   "id": "6365495f-2364-4b54-85e2-5bbfae172dd0",
   "metadata": {},
   "source": [
    "## S&P 500 Dataframe\n",
    "Creating a data frame of stocks in the S&P 500 index."
   ]
  },
  {
   "cell_type": "code",
   "execution_count": 14,
   "id": "20e47c1d-d75b-424c-9a57-1075d4b5bf12",
   "metadata": {
    "execution": {
     "iopub.execute_input": "2021-11-17T22:39:44.615182Z",
     "iopub.status.busy": "2021-11-17T22:39:44.615028Z",
     "iopub.status.idle": "2021-11-17T22:39:44.671097Z",
     "shell.execute_reply": "2021-11-17T22:39:44.670619Z",
     "shell.execute_reply.started": "2021-11-17T22:39:44.615163Z"
    },
    "tags": []
   },
   "outputs": [
    {
     "name": "stdout",
     "output_type": "stream",
     "text": [
      "(505, 2)\n"
     ]
    },
    {
     "data": {
      "text/html": [
       "<div>\n",
       "<style scoped>\n",
       "    .dataframe tbody tr th:only-of-type {\n",
       "        vertical-align: middle;\n",
       "    }\n",
       "\n",
       "    .dataframe tbody tr th {\n",
       "        vertical-align: top;\n",
       "    }\n",
       "\n",
       "    .dataframe thead th {\n",
       "        text-align: right;\n",
       "    }\n",
       "</style>\n",
       "<table border=\"1\" class=\"dataframe\">\n",
       "  <thead>\n",
       "    <tr style=\"text-align: right;\">\n",
       "      <th></th>\n",
       "      <th>Company Name</th>\n",
       "      <th>Symbol</th>\n",
       "    </tr>\n",
       "  </thead>\n",
       "  <tbody>\n",
       "    <tr>\n",
       "      <th>0</th>\n",
       "      <td>3M</td>\n",
       "      <td>MMM</td>\n",
       "    </tr>\n",
       "    <tr>\n",
       "      <th>1</th>\n",
       "      <td>Abbott Laboratories</td>\n",
       "      <td>ABT</td>\n",
       "    </tr>\n",
       "    <tr>\n",
       "      <th>2</th>\n",
       "      <td>AbbVie</td>\n",
       "      <td>ABBV</td>\n",
       "    </tr>\n",
       "    <tr>\n",
       "      <th>3</th>\n",
       "      <td>Abiomed</td>\n",
       "      <td>ABMD</td>\n",
       "    </tr>\n",
       "    <tr>\n",
       "      <th>4</th>\n",
       "      <td>Accenture</td>\n",
       "      <td>ACN</td>\n",
       "    </tr>\n",
       "  </tbody>\n",
       "</table>\n",
       "</div>"
      ],
      "text/plain": [
       "          Company Name Symbol\n",
       "0                   3M    MMM\n",
       "1  Abbott Laboratories    ABT\n",
       "2               AbbVie   ABBV\n",
       "3              Abiomed   ABMD\n",
       "4            Accenture    ACN"
      ]
     },
     "execution_count": 14,
     "metadata": {},
     "output_type": "execute_result"
    },
    {
     "name": "stdout",
     "output_type": "stream",
     "text": [
      "time: 18.4 ms (started: 2021-11-17 14:39:44 -08:00)\n"
     ]
    }
   ],
   "source": [
    "# making a data dictionary\n",
    "data = {'Company Name': names, 'Symbol': symbols}\n",
    "\n",
    "# creating data frame from the data\n",
    "stocks_df = pd.DataFrame.from_dict(data)\n",
    "\n",
    "# checking shape and first five rows\n",
    "print(stocks_df.shape)\n",
    "stocks_df.head()"
   ]
  },
  {
   "cell_type": "markdown",
   "id": "7e8eb610-65e8-4f68-9296-e8971071f5dc",
   "metadata": {},
   "source": [
    "### Checking yf Stock Info Dictionary Keys\n",
    "Checking the dictionary keys available for pulling stock information."
   ]
  },
  {
   "cell_type": "code",
   "execution_count": 15,
   "id": "6a0d5f31-6176-4772-973f-d3f8dc331cdf",
   "metadata": {
    "execution": {
     "iopub.execute_input": "2021-11-17T22:39:44.672138Z",
     "iopub.status.busy": "2021-11-17T22:39:44.671988Z",
     "iopub.status.idle": "2021-11-17T22:39:44.712987Z",
     "shell.execute_reply": "2021-11-17T22:39:44.712380Z",
     "shell.execute_reply.started": "2021-11-17T22:39:44.672122Z"
    },
    "tags": []
   },
   "outputs": [
    {
     "name": "stdout",
     "output_type": "stream",
     "text": [
      "time: 3.2 ms (started: 2021-11-17 14:39:44 -08:00)\n"
     ]
    }
   ],
   "source": [
    "# instantiating a ticker object\n",
    "ACN = yf.Ticker('ACN')"
   ]
  },
  {
   "cell_type": "code",
   "execution_count": 16,
   "id": "2a8a9f7b-5358-4cb6-b0d3-4adda8696933",
   "metadata": {
    "execution": {
     "iopub.execute_input": "2021-11-17T22:39:44.714630Z",
     "iopub.status.busy": "2021-11-17T22:39:44.714256Z",
     "iopub.status.idle": "2021-11-17T22:39:47.317313Z",
     "shell.execute_reply": "2021-11-17T22:39:47.316565Z",
     "shell.execute_reply.started": "2021-11-17T22:39:44.714605Z"
    },
    "tags": []
   },
   "outputs": [
    {
     "data": {
      "text/plain": [
       "dict_keys(['zip', 'sector', 'fullTimeEmployees', 'longBusinessSummary', 'city', 'phone', 'country', 'companyOfficers', 'website', 'maxAge', 'address1', 'fax', 'industry', 'address2', 'ebitdaMargins', 'profitMargins', 'grossMargins', 'operatingCashflow', 'revenueGrowth', 'operatingMargins', 'ebitda', 'targetLowPrice', 'recommendationKey', 'grossProfits', 'freeCashflow', 'targetMedianPrice', 'currentPrice', 'earningsGrowth', 'currentRatio', 'returnOnAssets', 'numberOfAnalystOpinions', 'targetMeanPrice', 'debtToEquity', 'returnOnEquity', 'targetHighPrice', 'totalCash', 'totalDebt', 'totalRevenue', 'totalCashPerShare', 'financialCurrency', 'revenuePerShare', 'quickRatio', 'recommendationMean', 'exchange', 'shortName', 'longName', 'exchangeTimezoneName', 'exchangeTimezoneShortName', 'isEsgPopulated', 'gmtOffSetMilliseconds', 'quoteType', 'symbol', 'messageBoardId', 'market', 'annualHoldingsTurnover', 'enterpriseToRevenue', 'beta3Year', 'enterpriseToEbitda', '52WeekChange', 'morningStarRiskRating', 'forwardEps', 'revenueQuarterlyGrowth', 'sharesOutstanding', 'fundInceptionDate', 'annualReportExpenseRatio', 'totalAssets', 'bookValue', 'sharesShort', 'sharesPercentSharesOut', 'fundFamily', 'lastFiscalYearEnd', 'heldPercentInstitutions', 'netIncomeToCommon', 'trailingEps', 'lastDividendValue', 'SandP52WeekChange', 'priceToBook', 'heldPercentInsiders', 'nextFiscalYearEnd', 'yield', 'mostRecentQuarter', 'shortRatio', 'sharesShortPreviousMonthDate', 'floatShares', 'beta', 'enterpriseValue', 'priceHint', 'threeYearAverageReturn', 'lastSplitDate', 'lastSplitFactor', 'legalType', 'lastDividendDate', 'morningStarOverallRating', 'earningsQuarterlyGrowth', 'priceToSalesTrailing12Months', 'dateShortInterest', 'pegRatio', 'ytdReturn', 'forwardPE', 'lastCapGain', 'shortPercentOfFloat', 'sharesShortPriorMonth', 'impliedSharesOutstanding', 'category', 'fiveYearAverageReturn', 'previousClose', 'regularMarketOpen', 'twoHundredDayAverage', 'trailingAnnualDividendYield', 'payoutRatio', 'volume24Hr', 'regularMarketDayHigh', 'navPrice', 'averageDailyVolume10Day', 'regularMarketPreviousClose', 'fiftyDayAverage', 'trailingAnnualDividendRate', 'open', 'toCurrency', 'averageVolume10days', 'expireDate', 'algorithm', 'dividendRate', 'exDividendDate', 'circulatingSupply', 'startDate', 'regularMarketDayLow', 'currency', 'trailingPE', 'regularMarketVolume', 'lastMarket', 'maxSupply', 'openInterest', 'marketCap', 'volumeAllCurrencies', 'strikePrice', 'averageVolume', 'dayLow', 'ask', 'askSize', 'volume', 'fiftyTwoWeekHigh', 'fromCurrency', 'fiveYearAvgDividendYield', 'fiftyTwoWeekLow', 'bid', 'tradeable', 'dividendYield', 'bidSize', 'dayHigh', 'regularMarketPrice', 'logo_url'])"
      ]
     },
     "execution_count": 16,
     "metadata": {},
     "output_type": "execute_result"
    },
    {
     "name": "stdout",
     "output_type": "stream",
     "text": [
      "time: 2.57 s (started: 2021-11-17 14:39:44 -08:00)\n"
     ]
    }
   ],
   "source": [
    "# checking keys\n",
    "ACN.info.keys()"
   ]
  },
  {
   "cell_type": "markdown",
   "id": "f5ac7667-150a-4a9b-a20b-f142e3a84eef",
   "metadata": {},
   "source": [
    "### Data for Stocks in the News\n",
    "Creating a data frame of price and dividend information for S&P 500 stocks in the news in the following steps:\n",
    "\n",
    "- Create a data dictionary from the list of companies in the headlines.\n",
    "\n",
    "- Create a data frame from data dictionary."
   ]
  },
  {
   "cell_type": "code",
   "execution_count": 17,
   "id": "75714472-48d2-4d1a-8839-cb2a373be809",
   "metadata": {
    "execution": {
     "iopub.execute_input": "2021-11-17T22:39:47.318501Z",
     "iopub.status.busy": "2021-11-17T22:39:47.318324Z",
     "iopub.status.idle": "2021-11-17T22:39:57.762535Z",
     "shell.execute_reply": "2021-11-17T22:39:57.762034Z",
     "shell.execute_reply.started": "2021-11-17T22:39:47.318484Z"
    },
    "tags": []
   },
   "outputs": [
    {
     "name": "stdout",
     "output_type": "stream",
     "text": [
      "time: 10.4 s (started: 2021-11-17 14:39:47 -08:00)\n"
     ]
    }
   ],
   "source": [
    "# creating empty stock info dictionary\n",
    "stock_data = {\n",
    "    'Company': [],\n",
    "    'Symbol': [],\n",
    "    'currentPrice': [],\n",
    "    'dayHigh': [],\n",
    "    'dayLow': [],\n",
    "    '52wkHigh': [],\n",
    "    '52wkLow': [],\n",
    "    'dividendRate': []\n",
    "    \n",
    "}\n",
    "\n",
    "# loading stocks from s&p dataframe and appending data from yf\n",
    "for company in companies:\n",
    "\n",
    "    try:\n",
    "        if stocks_df['Company Name'].str.contains(company).sum():\n",
    "            symbol = stocks_df[stocks_df['Company Name'].\\\n",
    "                                str.contains(company)]['Symbol'].values[0]\n",
    "            org_name = stocks_df[stocks_df['Company Name'].\\\n",
    "                                str.contains(company)]['Company Name'].values[0]\n",
    "            stock_data['Company'].append(org_name)\n",
    "            stock_data['Symbol'].append(symbol)\n",
    "            stock_info = yf.Ticker(symbol).info\n",
    "            stock_data['currentPrice'].append(stock_info['currentPrice'])\n",
    "            stock_data['dayHigh'].append(stock_info['dayHigh'])\n",
    "            stock_data['dayLow'].append(stock_info['dayLow'])\n",
    "            stock_data['52wkHigh'].append(stock_info['fiftyTwoWeekHigh'])\n",
    "            stock_data['52wkLow'].append(stock_info['fiftyTwoWeekLow'])            \n",
    "            \n",
    "            # converting dividend None types to floats\n",
    "            dividend = stock_info['dividendRate']\n",
    "            if dividend != None:\n",
    "                dividend = dividend\n",
    "            else:\n",
    "                dividend = 0\n",
    "            stock_data['dividendRate'].append(dividend)\n",
    "        else:\n",
    "            pass\n",
    "    except:\n",
    "        pass"
   ]
  },
  {
   "cell_type": "code",
   "execution_count": 18,
   "id": "5775a08d-a060-4407-ad69-8bc0ba6222ec",
   "metadata": {
    "execution": {
     "iopub.execute_input": "2021-11-17T22:39:57.763839Z",
     "iopub.status.busy": "2021-11-17T22:39:57.763597Z",
     "iopub.status.idle": "2021-11-17T22:39:57.808049Z",
     "shell.execute_reply": "2021-11-17T22:39:57.806979Z",
     "shell.execute_reply.started": "2021-11-17T22:39:57.763815Z"
    },
    "tags": []
   },
   "outputs": [
    {
     "data": {
      "text/plain": [
       "{'Company': ['Nvidia', 'MGM Resorts International', 'Ford', 'Wells Fargo'],\n",
       " 'Symbol': ['NVDA', 'MGM', 'F', 'WFC'],\n",
       " 'currentPrice': [292.61, 45.51, 19.96, 49.84],\n",
       " 'dayHigh': [305.09, 46.2, 20.01, 50.69],\n",
       " 'dayLow': [288, 45.24, 19.44, 49.53],\n",
       " '52wkHigh': [323.1, 51.17, 20.51, 52.57],\n",
       " '52wkLow': [115.665, 25.79, 8.43, 24.97],\n",
       " 'dividendRate': [0.16, 0.01, 0.4, 0.8]}"
      ]
     },
     "execution_count": 18,
     "metadata": {},
     "output_type": "execute_result"
    },
    {
     "name": "stdout",
     "output_type": "stream",
     "text": [
      "time: 2.38 ms (started: 2021-11-17 14:39:57 -08:00)\n"
     ]
    }
   ],
   "source": [
    "# checking dict\n",
    "stock_data"
   ]
  },
  {
   "cell_type": "markdown",
   "id": "0405069b-2119-4a58-9abd-367967bf4f31",
   "metadata": {},
   "source": [
    "### Data Frame of S&P 500 Stocks in the News"
   ]
  },
  {
   "cell_type": "code",
   "execution_count": 19,
   "id": "61e25bba-2b56-4eec-9072-12b69b6fd94c",
   "metadata": {
    "execution": {
     "iopub.execute_input": "2021-11-17T22:39:57.809378Z",
     "iopub.status.busy": "2021-11-17T22:39:57.809113Z",
     "iopub.status.idle": "2021-11-17T22:39:57.858204Z",
     "shell.execute_reply": "2021-11-17T22:39:57.857409Z",
     "shell.execute_reply.started": "2021-11-17T22:39:57.809355Z"
    },
    "tags": []
   },
   "outputs": [
    {
     "data": {
      "text/html": [
       "<div>\n",
       "<style scoped>\n",
       "    .dataframe tbody tr th:only-of-type {\n",
       "        vertical-align: middle;\n",
       "    }\n",
       "\n",
       "    .dataframe tbody tr th {\n",
       "        vertical-align: top;\n",
       "    }\n",
       "\n",
       "    .dataframe thead th {\n",
       "        text-align: right;\n",
       "    }\n",
       "</style>\n",
       "<table border=\"1\" class=\"dataframe\">\n",
       "  <thead>\n",
       "    <tr style=\"text-align: right;\">\n",
       "      <th></th>\n",
       "      <th>Company</th>\n",
       "      <th>Symbol</th>\n",
       "      <th>currentPrice</th>\n",
       "      <th>dayHigh</th>\n",
       "      <th>dayLow</th>\n",
       "      <th>52wkHigh</th>\n",
       "      <th>52wkLow</th>\n",
       "      <th>dividendRate</th>\n",
       "    </tr>\n",
       "  </thead>\n",
       "  <tbody>\n",
       "    <tr>\n",
       "      <th>0</th>\n",
       "      <td>Nvidia</td>\n",
       "      <td>NVDA</td>\n",
       "      <td>292.61</td>\n",
       "      <td>305.09</td>\n",
       "      <td>288.00</td>\n",
       "      <td>323.10</td>\n",
       "      <td>115.665</td>\n",
       "      <td>0.16</td>\n",
       "    </tr>\n",
       "    <tr>\n",
       "      <th>1</th>\n",
       "      <td>MGM Resorts International</td>\n",
       "      <td>MGM</td>\n",
       "      <td>45.51</td>\n",
       "      <td>46.20</td>\n",
       "      <td>45.24</td>\n",
       "      <td>51.17</td>\n",
       "      <td>25.790</td>\n",
       "      <td>0.01</td>\n",
       "    </tr>\n",
       "    <tr>\n",
       "      <th>2</th>\n",
       "      <td>Ford</td>\n",
       "      <td>F</td>\n",
       "      <td>19.96</td>\n",
       "      <td>20.01</td>\n",
       "      <td>19.44</td>\n",
       "      <td>20.51</td>\n",
       "      <td>8.430</td>\n",
       "      <td>0.40</td>\n",
       "    </tr>\n",
       "    <tr>\n",
       "      <th>3</th>\n",
       "      <td>Wells Fargo</td>\n",
       "      <td>WFC</td>\n",
       "      <td>49.84</td>\n",
       "      <td>50.69</td>\n",
       "      <td>49.53</td>\n",
       "      <td>52.57</td>\n",
       "      <td>24.970</td>\n",
       "      <td>0.80</td>\n",
       "    </tr>\n",
       "  </tbody>\n",
       "</table>\n",
       "</div>"
      ],
      "text/plain": [
       "                     Company Symbol  currentPrice  dayHigh  dayLow  52wkHigh  \\\n",
       "0                     Nvidia   NVDA        292.61   305.09  288.00    323.10   \n",
       "1  MGM Resorts International    MGM         45.51    46.20   45.24     51.17   \n",
       "2                       Ford      F         19.96    20.01   19.44     20.51   \n",
       "3                Wells Fargo    WFC         49.84    50.69   49.53     52.57   \n",
       "\n",
       "   52wkLow  dividendRate  \n",
       "0  115.665          0.16  \n",
       "1   25.790          0.01  \n",
       "2    8.430          0.40  \n",
       "3   24.970          0.80  "
      ]
     },
     "execution_count": 19,
     "metadata": {},
     "output_type": "execute_result"
    },
    {
     "name": "stdout",
     "output_type": "stream",
     "text": [
      "time: 8.65 ms (started: 2021-11-17 14:39:57 -08:00)\n"
     ]
    }
   ],
   "source": [
    "in_the_news = pd.DataFrame(stock_data)\n",
    "in_the_news.head()"
   ]
  },
  {
   "cell_type": "code",
   "execution_count": 20,
   "id": "84fcb1ec-5d31-43d0-988f-a3eabe80c558",
   "metadata": {
    "execution": {
     "iopub.execute_input": "2021-11-17T22:39:57.859921Z",
     "iopub.status.busy": "2021-11-17T22:39:57.859591Z",
     "iopub.status.idle": "2021-11-17T22:39:57.904316Z",
     "shell.execute_reply": "2021-11-17T22:39:57.903459Z",
     "shell.execute_reply.started": "2021-11-17T22:39:57.859812Z"
    },
    "tags": []
   },
   "outputs": [
    {
     "name": "stdout",
     "output_type": "stream",
     "text": [
      "<class 'pandas.core.frame.DataFrame'>\n",
      "RangeIndex: 4 entries, 0 to 3\n",
      "Data columns (total 8 columns):\n",
      " #   Column        Non-Null Count  Dtype  \n",
      "---  ------        --------------  -----  \n",
      " 0   Company       4 non-null      object \n",
      " 1   Symbol        4 non-null      object \n",
      " 2   currentPrice  4 non-null      float64\n",
      " 3   dayHigh       4 non-null      float64\n",
      " 4   dayLow        4 non-null      float64\n",
      " 5   52wkHigh      4 non-null      float64\n",
      " 6   52wkLow       4 non-null      float64\n",
      " 7   dividendRate  4 non-null      float64\n",
      "dtypes: float64(6), object(2)\n",
      "memory usage: 384.0+ bytes\n",
      "time: 5.58 ms (started: 2021-11-17 14:39:57 -08:00)\n"
     ]
    }
   ],
   "source": [
    "# checking Dtypes\n",
    "in_the_news.info()"
   ]
  },
  {
   "cell_type": "markdown",
   "id": "278593a1-e249-4fbb-ab2b-0c2e2d5e7f5d",
   "metadata": {},
   "source": [
    "## Individual Stock Price Helper Function\n",
    "Checking the helper function."
   ]
  },
  {
   "cell_type": "code",
   "execution_count": 21,
   "id": "d19f4da9-ae51-4818-80d8-692090419d81",
   "metadata": {
    "execution": {
     "iopub.execute_input": "2021-11-17T22:39:57.905486Z",
     "iopub.status.busy": "2021-11-17T22:39:57.905346Z",
     "iopub.status.idle": "2021-11-17T22:40:00.321898Z",
     "shell.execute_reply": "2021-11-17T22:40:00.321169Z",
     "shell.execute_reply.started": "2021-11-17T22:39:57.905469Z"
    },
    "tags": []
   },
   "outputs": [
    {
     "data": {
      "text/html": [
       "<div>\n",
       "<style scoped>\n",
       "    .dataframe tbody tr th:only-of-type {\n",
       "        vertical-align: middle;\n",
       "    }\n",
       "\n",
       "    .dataframe tbody tr th {\n",
       "        vertical-align: top;\n",
       "    }\n",
       "\n",
       "    .dataframe thead th {\n",
       "        text-align: right;\n",
       "    }\n",
       "</style>\n",
       "<table border=\"1\" class=\"dataframe\">\n",
       "  <thead>\n",
       "    <tr style=\"text-align: right;\">\n",
       "      <th></th>\n",
       "      <th>Company</th>\n",
       "      <th>Symbol</th>\n",
       "      <th>Current Price</th>\n",
       "      <th>Intraday High</th>\n",
       "      <th>Intraday Low</th>\n",
       "      <th>52wkHigh</th>\n",
       "      <th>52wkLow</th>\n",
       "      <th>Dividend</th>\n",
       "    </tr>\n",
       "  </thead>\n",
       "  <tbody>\n",
       "    <tr>\n",
       "      <th>0</th>\n",
       "      <td>3M Company</td>\n",
       "      <td>MMM</td>\n",
       "      <td>183.34</td>\n",
       "      <td>183.87</td>\n",
       "      <td>181.63</td>\n",
       "      <td>208.95</td>\n",
       "      <td>163.38</td>\n",
       "      <td>5.92</td>\n",
       "    </tr>\n",
       "  </tbody>\n",
       "</table>\n",
       "</div>"
      ],
      "text/plain": [
       "      Company Symbol  Current Price  Intraday High  Intraday Low  52wkHigh  \\\n",
       "0  3M Company    MMM         183.34         183.87        181.63    208.95   \n",
       "\n",
       "   52wkLow  Dividend  \n",
       "0   163.38      5.92  "
      ]
     },
     "execution_count": 21,
     "metadata": {},
     "output_type": "execute_result"
    },
    {
     "name": "stdout",
     "output_type": "stream",
     "text": [
      "time: 2.38 s (started: 2021-11-17 14:39:57 -08:00)\n"
     ]
    }
   ],
   "source": [
    "h.get_prices('MMM')"
   ]
  },
  {
   "cell_type": "code",
   "execution_count": 22,
   "id": "49ab1a6c-6d6e-40a7-868a-f364653333e0",
   "metadata": {
    "execution": {
     "iopub.execute_input": "2021-11-17T22:40:00.323176Z",
     "iopub.status.busy": "2021-11-17T22:40:00.323023Z",
     "iopub.status.idle": "2021-11-17T22:40:02.683583Z",
     "shell.execute_reply": "2021-11-17T22:40:02.682681Z",
     "shell.execute_reply.started": "2021-11-17T22:40:00.323159Z"
    }
   },
   "outputs": [
    {
     "data": {
      "text/html": [
       "<div>\n",
       "<style scoped>\n",
       "    .dataframe tbody tr th:only-of-type {\n",
       "        vertical-align: middle;\n",
       "    }\n",
       "\n",
       "    .dataframe tbody tr th {\n",
       "        vertical-align: top;\n",
       "    }\n",
       "\n",
       "    .dataframe thead th {\n",
       "        text-align: right;\n",
       "    }\n",
       "</style>\n",
       "<table border=\"1\" class=\"dataframe\">\n",
       "  <thead>\n",
       "    <tr style=\"text-align: right;\">\n",
       "      <th></th>\n",
       "      <th>Company</th>\n",
       "      <th>Symbol</th>\n",
       "      <th>Current Price</th>\n",
       "      <th>Intraday High</th>\n",
       "      <th>Intraday Low</th>\n",
       "      <th>52wkHigh</th>\n",
       "      <th>52wkLow</th>\n",
       "      <th>Dividend</th>\n",
       "    </tr>\n",
       "  </thead>\n",
       "  <tbody>\n",
       "    <tr>\n",
       "      <th>0</th>\n",
       "      <td>Apple Inc.</td>\n",
       "      <td>AAPL</td>\n",
       "      <td>153.49</td>\n",
       "      <td>155</td>\n",
       "      <td>150.995</td>\n",
       "      <td>157.26</td>\n",
       "      <td>112.59</td>\n",
       "      <td>0.88</td>\n",
       "    </tr>\n",
       "  </tbody>\n",
       "</table>\n",
       "</div>"
      ],
      "text/plain": [
       "      Company Symbol  Current Price  Intraday High  Intraday Low  52wkHigh  \\\n",
       "0  Apple Inc.   AAPL         153.49            155       150.995    157.26   \n",
       "\n",
       "   52wkLow  Dividend  \n",
       "0   112.59      0.88  "
      ]
     },
     "execution_count": 22,
     "metadata": {},
     "output_type": "execute_result"
    },
    {
     "name": "stdout",
     "output_type": "stream",
     "text": [
      "time: 2.32 s (started: 2021-11-17 14:40:00 -08:00)\n"
     ]
    }
   ],
   "source": [
    "h.get_prices('AAPL')"
   ]
  },
  {
   "cell_type": "markdown",
   "id": "9dd6617c-a330-44cb-a6aa-41f2993c474e",
   "metadata": {
    "tags": []
   },
   "source": [
    "## Options Markets Tests"
   ]
  },
  {
   "cell_type": "code",
   "execution_count": 23,
   "id": "be332aa0-96c1-4923-81f9-ee12e85aa9ea",
   "metadata": {
    "execution": {
     "iopub.execute_input": "2021-11-17T22:40:02.685151Z",
     "iopub.status.busy": "2021-11-17T22:40:02.684869Z",
     "iopub.status.idle": "2021-11-17T22:40:02.732352Z",
     "shell.execute_reply": "2021-11-17T22:40:02.731627Z",
     "shell.execute_reply.started": "2021-11-17T22:40:02.685102Z"
    }
   },
   "outputs": [
    {
     "name": "stdout",
     "output_type": "stream",
     "text": [
      "time: 590 µs (started: 2021-11-17 14:40:02 -08:00)\n"
     ]
    }
   ],
   "source": [
    "# creating a fuction to display available expirations\n",
    "def get_expirations(symbol : str):\n",
    "    stock = yf.Ticker(symbol)\n",
    "    return stock.options"
   ]
  },
  {
   "cell_type": "code",
   "execution_count": 24,
   "id": "76962ce7-c4f8-4164-bfa3-2cef17dd4371",
   "metadata": {
    "execution": {
     "iopub.execute_input": "2021-11-17T22:40:02.733862Z",
     "iopub.status.busy": "2021-11-17T22:40:02.733488Z",
     "iopub.status.idle": "2021-11-17T22:40:03.018151Z",
     "shell.execute_reply": "2021-11-17T22:40:03.016520Z",
     "shell.execute_reply.started": "2021-11-17T22:40:02.733830Z"
    }
   },
   "outputs": [
    {
     "data": {
      "text/plain": [
       "('2021-11-19',\n",
       " '2021-11-26',\n",
       " '2021-12-03',\n",
       " '2021-12-10',\n",
       " '2021-12-17',\n",
       " '2021-12-23',\n",
       " '2021-12-31',\n",
       " '2022-01-21',\n",
       " '2022-02-18',\n",
       " '2022-03-18',\n",
       " '2022-04-14',\n",
       " '2022-05-20',\n",
       " '2022-06-17',\n",
       " '2022-09-16',\n",
       " '2023-01-20',\n",
       " '2023-03-17',\n",
       " '2023-06-16',\n",
       " '2023-09-15',\n",
       " '2024-01-19')"
      ]
     },
     "execution_count": 24,
     "metadata": {},
     "output_type": "execute_result"
    },
    {
     "name": "stdout",
     "output_type": "stream",
     "text": [
      "time: 221 ms (started: 2021-11-17 14:40:02 -08:00)\n"
     ]
    }
   ],
   "source": [
    "get_expirations('AAPL')"
   ]
  },
  {
   "cell_type": "code",
   "execution_count": 25,
   "id": "39c4c635-7763-4419-bc00-53f1e155a4bd",
   "metadata": {
    "execution": {
     "iopub.execute_input": "2021-11-17T22:40:03.019664Z",
     "iopub.status.busy": "2021-11-17T22:40:03.019458Z",
     "iopub.status.idle": "2021-11-17T22:40:03.198087Z",
     "shell.execute_reply": "2021-11-17T22:40:03.196860Z",
     "shell.execute_reply.started": "2021-11-17T22:40:03.019640Z"
    },
    "tags": []
   },
   "outputs": [
    {
     "data": {
      "text/plain": [
       "('2021-11-19',\n",
       " '2021-11-26',\n",
       " '2021-12-03',\n",
       " '2021-12-10',\n",
       " '2021-12-17',\n",
       " '2021-12-23',\n",
       " '2021-12-31',\n",
       " '2022-01-21',\n",
       " '2022-04-14',\n",
       " '2022-06-17',\n",
       " '2022-07-15',\n",
       " '2023-01-20',\n",
       " '2024-01-19')"
      ]
     },
     "execution_count": 25,
     "metadata": {},
     "output_type": "execute_result"
    },
    {
     "name": "stdout",
     "output_type": "stream",
     "text": [
      "time: 131 ms (started: 2021-11-17 14:40:03 -08:00)\n"
     ]
    }
   ],
   "source": [
    "get_expirations('MMM')"
   ]
  }
 ],
 "metadata": {
  "kernelspec": {
   "display_name": "options_apps",
   "language": "python",
   "name": "options_apps"
  },
  "language_info": {
   "codemirror_mode": {
    "name": "ipython",
    "version": 3
   },
   "file_extension": ".py",
   "mimetype": "text/x-python",
   "name": "python",
   "nbconvert_exporter": "python",
   "pygments_lexer": "ipython3",
   "version": "3.9.7"
  }
 },
 "nbformat": 4,
 "nbformat_minor": 5
}
